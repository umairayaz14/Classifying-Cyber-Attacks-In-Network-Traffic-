{
  "nbformat": 4,
  "nbformat_minor": 0,
  "metadata": {
    "colab": {
      "name": "AI_Lab_Project_(2018484_2018132).ipynb",
      "provenance": [],
      "collapsed_sections": []
    },
    "kernelspec": {
      "display_name": "Python 3",
      "name": "python3"
    },
    "language_info": {
      "name": "python"
    }
  },
  "cells": [
    {
      "cell_type": "code",
      "metadata": {
        "id": "88HHZDzMMdSW"
      },
      "source": [
        "#Part a and b - Preprocessing, Feature Engineering, creating ANNs and RF models, Ensemble Learning through Max Voting\n",
        "\n",
        "import matplotlib.pyplot as plt\n",
        "from sklearn import preprocessing\n",
        "import numpy as np\n",
        "import pandas as pd"
      ],
      "execution_count": null,
      "outputs": []
    },
    {
      "cell_type": "code",
      "metadata": {
        "colab": {
          "base_uri": "https://localhost:8080/"
        },
        "id": "eMS8BJnTMqjh",
        "outputId": "edc806a5-014a-4742-87b8-e31f21b0d0b7"
      },
      "source": [
        "from google.colab import files           #It is used incase pd.read_csv() gives an error\n",
        "uploaded = files.upload()\n",
        "\n",
        "ds = pd.read_csv(\"Dataset.txt\")\n",
        "dss = np.array(ds)\n",
        "print(dss)\n",
        "print(dss.shape)"
      ],
      "execution_count": null,
      "outputs": [
        {
          "output_type": "stream",
          "text": [
            "[[0 'tcp' 'ftp_data' ... 0.0 'normal' 20]\n",
            " [0 'udp' 'other' ... 0.0 'normal' 15]\n",
            " [0 'tcp' 'private' ... 0.0 'neptune' 19]\n",
            " ...\n",
            " [0 'tcp' 'smtp' ... 0.0 'normal' 18]\n",
            " [0 'tcp' 'klogin' ... 0.0 'neptune' 20]\n",
            " [0 'tcp' 'ftp_data' ... 0.0 'normal' 21]]\n",
            "(125973, 43)\n"
          ],
          "name": "stdout"
        }
      ]
    },
    {
      "cell_type": "code",
      "metadata": {
        "colab": {
          "base_uri": "https://localhost:8080/"
        },
        "id": "lhEFoZt1SATI",
        "outputId": "53627bde-2ce3-4170-9f66-7aef1a9ef111"
      },
      "source": [
        "from google.colab import files        #It is used incase pd.read_csv() gives an error\n",
        "uploaded = files.upload()\n",
        "\n",
        "at = pd.read_csv(\"Attack_types.txt\", sep=\" \")      #columns are separated based on spaces instead of commas  \n",
        "att = np.array(at)\n",
        "print(att)\n",
        "print(att.shape)"
      ],
      "execution_count": null,
      "outputs": [
        {
          "output_type": "stream",
          "text": [
            "[['apache2' 'dos']\n",
            " ['back' 'dos']\n",
            " ['mailbomb' 'dos']\n",
            " ['processtable' 'dos']\n",
            " ['snmpgetattack' 'dos']\n",
            " ['teardrop' 'dos']\n",
            " ['smurf' 'dos']\n",
            " ['land' 'dos']\n",
            " ['neptune' 'dos']\n",
            " ['pod' 'dos']\n",
            " ['udpstorm' 'dos']\n",
            " ['ps' 'u2r']\n",
            " ['buffer_overflow' 'u2r']\n",
            " ['perl' 'u2r']\n",
            " ['rootkit' 'u2r']\n",
            " ['loadmodule' 'u2r']\n",
            " ['xterm' 'u2r']\n",
            " ['sqlattack' 'u2r']\n",
            " ['httptunnel' 'u2r']\n",
            " ['ftp_write' 'r2l']\n",
            " ['guess_passwd' 'r2l']\n",
            " ['snmpguess' 'r2l']\n",
            " ['imap' 'r2l']\n",
            " ['spy' 'r2l']\n",
            " ['warezclient' 'r2l']\n",
            " ['warezmaster' 'r2l']\n",
            " ['multihop' 'r2l']\n",
            " ['phf' 'r2l']\n",
            " ['imap' 'r2l']\n",
            " ['named' 'r2l']\n",
            " ['sendmail' 'r2l']\n",
            " ['xlock' 'r2l']\n",
            " ['xsnoop' 'r2l']\n",
            " ['worm' 'r2l']\n",
            " ['nmap' 'probe']\n",
            " ['ipsweep' 'probe']\n",
            " ['portsweep' 'probe']\n",
            " ['satan' 'probe']\n",
            " ['mscan' 'probe']\n",
            " ['saint' 'probe']\n",
            " ['worm' 'probe']]\n",
            "(41, 2)\n"
          ],
          "name": "stdout"
        }
      ]
    },
    {
      "cell_type": "code",
      "metadata": {
        "colab": {
          "base_uri": "https://localhost:8080/"
        },
        "id": "3UUK6uOPrc6z",
        "outputId": "9986169d-6ab0-43bb-9f65-bfb02b263db0"
      },
      "source": [
        "for i in range(125972):                       #Pre-processing: attack_category for each record has been replaced with corresponding attack_type in Dataset.txt\n",
        "  for z in range(41):\n",
        "    if (dss[ i, 41] == att[ z, 0]):\n",
        "        dss[ i, 41] = att[ z, 1]\n",
        "\n",
        "print(dss[:1000,41])"
      ],
      "execution_count": null,
      "outputs": [
        {
          "output_type": "stream",
          "text": [
            "['normal' 'normal' 'dos' 'normal' 'normal' 'dos' 'dos' 'dos' 'dos' 'dos'\n",
            " 'dos' 'dos' 'normal' 'r2l' 'dos' 'dos' 'normal' 'probe' 'normal' 'normal'\n",
            " 'dos' 'dos' 'normal' 'normal' 'dos' 'normal' 'dos' 'normal' 'normal'\n",
            " 'normal' 'probe' 'dos' 'normal' 'probe' 'normal' 'normal' 'normal' 'dos'\n",
            " 'normal' 'dos' 'dos' 'dos' 'normal' 'normal' 'normal' 'dos' 'dos'\n",
            " 'normal' 'r2l' 'dos' 'normal' 'dos' 'dos' 'normal' 'normal' 'normal'\n",
            " 'probe' 'dos' 'dos' 'normal' 'normal' 'dos' 'probe' 'normal' 'dos'\n",
            " 'normal' 'probe' 'dos' 'dos' 'dos' 'normal' 'dos' 'normal' 'normal' 'dos'\n",
            " 'normal' 'dos' 'normal' 'normal' 'dos' 'normal' 'dos' 'dos' 'probe'\n",
            " 'normal' 'dos' 'normal' 'dos' 'dos' 'normal' 'normal' 'normal' 'normal'\n",
            " 'dos' 'dos' 'normal' 'normal' 'normal' 'normal' 'dos' 'normal' 'normal'\n",
            " 'normal' 'normal' 'dos' 'normal' 'normal' 'normal' 'normal' 'normal'\n",
            " 'normal' 'normal' 'normal' 'normal' 'normal' 'probe' 'dos' 'normal'\n",
            " 'normal' 'normal' 'dos' 'dos' 'dos' 'normal' 'dos' 'normal' 'normal'\n",
            " 'normal' 'normal' 'normal' 'dos' 'dos' 'normal' 'normal' 'dos' 'dos'\n",
            " 'normal' 'normal' 'dos' 'dos' 'normal' 'dos' 'dos' 'normal' 'normal'\n",
            " 'normal' 'probe' 'normal' 'r2l' 'dos' 'dos' 'normal' 'dos' 'dos' 'dos'\n",
            " 'normal' 'normal' 'dos' 'probe' 'dos' 'normal' 'normal' 'normal' 'normal'\n",
            " 'dos' 'probe' 'normal' 'normal' 'normal' 'normal' 'dos' 'normal' 'dos'\n",
            " 'dos' 'dos' 'dos' 'normal' 'probe' 'probe' 'dos' 'normal' 'normal'\n",
            " 'normal' 'normal' 'dos' 'dos' 'dos' 'dos' 'normal' 'normal' 'r2l'\n",
            " 'normal' 'dos' 'dos' 'normal' 'normal' 'normal' 'normal' 'probe' 'normal'\n",
            " 'normal' 'dos' 'normal' 'normal' 'normal' 'normal' 'dos' 'normal'\n",
            " 'normal' 'dos' 'probe' 'dos' 'dos' 'normal' 'dos' 'dos' 'normal' 'normal'\n",
            " 'normal' 'normal' 'normal' 'dos' 'r2l' 'dos' 'probe' 'normal' 'normal'\n",
            " 'dos' 'normal' 'normal' 'normal' 'normal' 'normal' 'dos' 'normal' 'dos'\n",
            " 'dos' 'dos' 'normal' 'normal' 'normal' 'probe' 'dos' 'dos' 'dos' 'normal'\n",
            " 'dos' 'probe' 'dos' 'normal' 'probe' 'normal' 'normal' 'probe' 'probe'\n",
            " 'dos' 'normal' 'normal' 'probe' 'normal' 'dos' 'normal' 'normal' 'dos'\n",
            " 'normal' 'normal' 'normal' 'normal' 'probe' 'dos' 'normal' 'dos' 'normal'\n",
            " 'normal' 'normal' 'normal' 'dos' 'dos' 'normal' 'normal' 'normal' 'dos'\n",
            " 'normal' 'normal' 'dos' 'normal' 'dos' 'dos' 'normal' 'probe' 'normal'\n",
            " 'dos' 'dos' 'normal' 'normal' 'normal' 'normal' 'probe' 'normal' 'dos'\n",
            " 'normal' 'dos' 'dos' 'r2l' 'normal' 'probe' 'normal' 'normal' 'probe'\n",
            " 'normal' 'dos' 'normal' 'dos' 'dos' 'normal' 'dos' 'probe' 'probe'\n",
            " 'normal' 'dos' 'normal' 'dos' 'dos' 'dos' 'normal' 'dos' 'normal'\n",
            " 'normal' 'normal' 'normal' 'probe' 'probe' 'normal' 'normal' 'dos'\n",
            " 'normal' 'normal' 'normal' 'dos' 'dos' 'normal' 'dos' 'normal' 'normal'\n",
            " 'dos' 'normal' 'dos' 'normal' 'dos' 'probe' 'probe' 'normal' 'dos'\n",
            " 'normal' 'probe' 'normal' 'dos' 'normal' 'dos' 'normal' 'normal' 'normal'\n",
            " 'dos' 'normal' 'normal' 'probe' 'dos' 'normal' 'dos' 'dos' 'normal'\n",
            " 'normal' 'normal' 'dos' 'normal' 'dos' 'normal' 'normal' 'normal' 'dos'\n",
            " 'normal' 'dos' 'normal' 'dos' 'dos' 'normal' 'dos' 'normal' 'normal'\n",
            " 'normal' 'normal' 'normal' 'dos' 'dos' 'dos' 'dos' 'probe' 'dos' 'probe'\n",
            " 'normal' 'normal' 'dos' 'normal' 'normal' 'probe' 'normal' 'normal'\n",
            " 'normal' 'dos' 'dos' 'normal' 'dos' 'normal' 'normal' 'dos' 'normal'\n",
            " 'normal' 'dos' 'dos' 'dos' 'normal' 'dos' 'dos' 'probe' 'dos' 'normal'\n",
            " 'dos' 'normal' 'normal' 'probe' 'normal' 'dos' 'dos' 'normal' 'normal'\n",
            " 'normal' 'normal' 'normal' 'normal' 'normal' 'dos' 'normal' 'dos' 'dos'\n",
            " 'normal' 'normal' 'dos' 'dos' 'dos' 'normal' 'normal' 'normal' 'dos'\n",
            " 'dos' 'dos' 'normal' 'dos' 'normal' 'dos' 'dos' 'normal' 'normal' 'dos'\n",
            " 'normal' 'normal' 'dos' 'dos' 'dos' 'normal' 'normal' 'dos' 'normal'\n",
            " 'dos' 'normal' 'dos' 'normal' 'normal' 'dos' 'probe' 'normal' 'dos' 'dos'\n",
            " 'dos' 'normal' 'probe' 'normal' 'normal' 'probe' 'dos' 'normal' 'dos'\n",
            " 'normal' 'normal' 'normal' 'normal' 'dos' 'normal' 'normal' 'normal'\n",
            " 'normal' 'normal' 'normal' 'dos' 'normal' 'normal' 'normal' 'r2l' 'probe'\n",
            " 'normal' 'probe' 'normal' 'normal' 'normal' 'normal' 'normal' 'normal'\n",
            " 'dos' 'dos' 'normal' 'normal' 'dos' 'normal' 'dos' 'normal' 'normal'\n",
            " 'normal' 'dos' 'normal' 'probe' 'dos' 'probe' 'dos' 'dos' 'normal' 'dos'\n",
            " 'normal' 'dos' 'normal' 'dos' 'normal' 'dos' 'dos' 'normal' 'normal'\n",
            " 'normal' 'normal' 'normal' 'dos' 'normal' 'dos' 'r2l' 'probe' 'normal'\n",
            " 'dos' 'normal' 'normal' 'probe' 'dos' 'dos' 'dos' 'normal' 'dos' 'normal'\n",
            " 'normal' 'dos' 'dos' 'normal' 'dos' 'dos' 'normal' 'probe' 'dos' 'dos'\n",
            " 'dos' 'normal' 'normal' 'normal' 'dos' 'normal' 'normal' 'normal' 'r2l'\n",
            " 'dos' 'normal' 'normal' 'normal' 'probe' 'normal' 'normal' 'dos' 'normal'\n",
            " 'probe' 'dos' 'normal' 'normal' 'dos' 'normal' 'dos' 'normal' 'dos' 'dos'\n",
            " 'normal' 'dos' 'probe' 'normal' 'probe' 'dos' 'dos' 'normal' 'dos'\n",
            " 'normal' 'dos' 'normal' 'normal' 'normal' 'dos' 'probe' 'normal' 'normal'\n",
            " 'dos' 'normal' 'probe' 'probe' 'normal' 'dos' 'dos' 'dos' 'dos' 'normal'\n",
            " 'dos' 'normal' 'probe' 'normal' 'normal' 'dos' 'normal' 'normal' 'normal'\n",
            " 'dos' 'normal' 'dos' 'normal' 'normal' 'probe' 'normal' 'dos' 'dos' 'dos'\n",
            " 'dos' 'normal' 'probe' 'normal' 'probe' 'normal' 'normal' 'normal'\n",
            " 'normal' 'normal' 'normal' 'dos' 'normal' 'probe' 'probe' 'normal'\n",
            " 'normal' 'dos' 'dos' 'dos' 'normal' 'normal' 'normal' 'dos' 'normal'\n",
            " 'dos' 'dos' 'normal' 'normal' 'normal' 'dos' 'dos' 'normal' 'normal'\n",
            " 'normal' 'normal' 'normal' 'normal' 'normal' 'dos' 'dos' 'r2l' 'normal'\n",
            " 'normal' 'normal' 'dos' 'normal' 'probe' 'dos' 'normal' 'normal' 'normal'\n",
            " 'normal' 'normal' 'normal' 'dos' 'normal' 'dos' 'dos' 'normal' 'dos'\n",
            " 'probe' 'dos' 'normal' 'dos' 'dos' 'normal' 'dos' 'normal' 'r2l' 'dos'\n",
            " 'normal' 'normal' 'normal' 'normal' 'normal' 'dos' 'dos' 'normal'\n",
            " 'normal' 'normal' 'normal' 'normal' 'normal' 'dos' 'dos' 'normal'\n",
            " 'normal' 'normal' 'dos' 'dos' 'normal' 'dos' 'dos' 'dos' 'normal' 'dos'\n",
            " 'normal' 'normal' 'normal' 'dos' 'normal' 'dos' 'dos' 'normal' 'dos'\n",
            " 'dos' 'dos' 'probe' 'dos' 'dos' 'probe' 'dos' 'dos' 'normal' 'dos'\n",
            " 'normal' 'dos' 'dos' 'normal' 'r2l' 'dos' 'dos' 'dos' 'normal' 'normal'\n",
            " 'normal' 'dos' 'probe' 'r2l' 'probe' 'normal' 'dos' 'probe' 'normal'\n",
            " 'normal' 'normal' 'probe' 'normal' 'dos' 'dos' 'normal' 'dos' 'normal'\n",
            " 'dos' 'dos' 'dos' 'dos' 'dos' 'normal' 'dos' 'normal' 'normal' 'normal'\n",
            " 'normal' 'normal' 'normal' 'normal' 'dos' 'probe' 'dos' 'normal' 'dos'\n",
            " 'normal' 'dos' 'normal' 'normal' 'dos' 'normal' 'normal' 'normal' 'dos'\n",
            " 'normal' 'normal' 'normal' 'probe' 'dos' 'normal' 'dos' 'normal' 'normal'\n",
            " 'probe' 'normal' 'normal' 'probe' 'normal' 'dos' 'normal' 'dos' 'normal'\n",
            " 'dos' 'normal' 'normal' 'normal' 'probe' 'normal' 'dos' 'normal' 'dos'\n",
            " 'dos' 'normal' 'dos' 'normal' 'probe' 'dos' 'dos' 'normal' 'dos' 'dos'\n",
            " 'normal' 'dos' 'dos' 'dos' 'normal' 'normal' 'dos' 'dos' 'normal'\n",
            " 'normal' 'normal' 'normal' 'normal' 'dos' 'dos' 'normal' 'dos' 'probe'\n",
            " 'dos' 'dos' 'dos' 'dos' 'normal' 'normal' 'dos' 'dos' 'dos' 'probe'\n",
            " 'normal' 'normal' 'probe' 'normal' 'normal' 'normal' 'probe' 'normal'\n",
            " 'dos' 'dos' 'normal' 'dos' 'probe' 'probe' 'dos' 'probe' 'normal' 'probe'\n",
            " 'normal' 'normal' 'dos' 'normal' 'dos' 'normal' 'probe' 'dos' 'dos' 'dos'\n",
            " 'dos' 'probe' 'dos' 'dos' 'dos' 'normal' 'dos' 'probe' 'normal' 'normal'\n",
            " 'dos' 'normal' 'dos' 'normal' 'dos' 'dos' 'dos' 'dos' 'dos' 'normal'\n",
            " 'normal' 'dos' 'normal' 'normal' 'normal' 'normal' 'normal' 'dos' 'dos'\n",
            " 'normal' 'normal' 'normal' 'normal' 'dos' 'dos' 'dos' 'dos' 'normal'\n",
            " 'dos' 'normal' 'normal' 'normal' 'normal' 'dos' 'normal' 'dos' 'dos'\n",
            " 'normal' 'normal' 'normal' 'probe' 'normal' 'dos' 'dos' 'dos' 'normal'\n",
            " 'normal' 'normal' 'normal' 'normal' 'dos' 'normal' 'dos' 'normal'\n",
            " 'normal' 'normal' 'normal' 'normal' 'normal' 'normal' 'normal' 'dos'\n",
            " 'normal' 'dos' 'normal' 'probe' 'dos' 'normal' 'dos' 'probe' 'dos' 'dos'\n",
            " 'normal' 'normal' 'dos' 'dos' 'normal']\n"
          ],
          "name": "stdout"
        }
      ]
    },
    {
      "cell_type": "code",
      "metadata": {
        "colab": {
          "base_uri": "https://localhost:8080/"
        },
        "id": "LSHPMXh_ycAP",
        "outputId": "8aa577c7-c7d7-47d1-d880-a0ee294b0ca8"
      },
      "source": [
        "labels = dss[:,41]\n",
        "print(labels.shape)\n",
        "print(labels)"
      ],
      "execution_count": null,
      "outputs": [
        {
          "output_type": "stream",
          "text": [
            "(125973,)\n",
            "['normal' 'normal' 'dos' ... 'normal' 'dos' 'normal']\n"
          ],
          "name": "stdout"
        }
      ]
    },
    {
      "cell_type": "code",
      "metadata": {
        "colab": {
          "base_uri": "https://localhost:8080/"
        },
        "id": "aC0k2_gtMz2Q",
        "outputId": "15deea1f-8634-4824-8364-4d1d9b858a92"
      },
      "source": [
        "from sklearn.preprocessing import LabelEncoder\n",
        "label_encoder = LabelEncoder()\n",
        "lab = label_encoder.fit_transform(labels)\n",
        "#labels = to_categorical(labels, num_classes=5, dtype=\"float32\")\n",
        "print(lab)\n",
        "print(lab.shape)"
      ],
      "execution_count": null,
      "outputs": [
        {
          "output_type": "stream",
          "text": [
            "[1 1 0 ... 1 0 1]\n",
            "(125973,)\n"
          ],
          "name": "stdout"
        }
      ]
    },
    {
      "cell_type": "code",
      "metadata": {
        "id": "ohIfNhKDSAfx"
      },
      "source": [
        "from keras.utils import to_categorical\n",
        "\n",
        "lab = to_categorical(lab)"
      ],
      "execution_count": null,
      "outputs": []
    },
    {
      "cell_type": "code",
      "metadata": {
        "colab": {
          "base_uri": "https://localhost:8080/"
        },
        "id": "q9GWZB2eS6bd",
        "outputId": "6e160329-a6a0-4a04-b4cb-c452d0e22580"
      },
      "source": [
        "print(lab.shape)\n",
        "print(lab)\n"
      ],
      "execution_count": null,
      "outputs": [
        {
          "output_type": "stream",
          "text": [
            "(125973, 5)\n",
            "[[0. 1. 0. 0. 0.]\n",
            " [0. 1. 0. 0. 0.]\n",
            " [1. 0. 0. 0. 0.]\n",
            " ...\n",
            " [0. 1. 0. 0. 0.]\n",
            " [1. 0. 0. 0. 0.]\n",
            " [0. 1. 0. 0. 0.]]\n"
          ],
          "name": "stdout"
        }
      ]
    },
    {
      "cell_type": "code",
      "metadata": {
        "colab": {
          "base_uri": "https://localhost:8080/"
        },
        "id": "ejTjZjg47Dx7",
        "outputId": "dfc6b29e-fc78-485e-db30-6905cb5376b9"
      },
      "source": [
        "dss = np.delete(dss, 41, 1)\n",
        "print(dss.shape)"
      ],
      "execution_count": null,
      "outputs": [
        {
          "output_type": "stream",
          "text": [
            "(125973, 42)\n"
          ],
          "name": "stdout"
        }
      ]
    },
    {
      "cell_type": "code",
      "metadata": {
        "colab": {
          "base_uri": "https://localhost:8080/"
        },
        "id": "13qHCHQ54_uj",
        "outputId": "72d2eba4-4c25-4917-dd29-daa95239868d"
      },
      "source": [
        "dss"
      ],
      "execution_count": null,
      "outputs": [
        {
          "output_type": "execute_result",
          "data": {
            "text/plain": [
              "array([[0, 'tcp', 'ftp_data', ..., 0.05, 0.0, 20],\n",
              "       [0, 'udp', 'other', ..., 0.0, 0.0, 15],\n",
              "       [0, 'tcp', 'private', ..., 0.0, 0.0, 19],\n",
              "       ...,\n",
              "       [0, 'tcp', 'smtp', ..., 0.01, 0.0, 18],\n",
              "       [0, 'tcp', 'klogin', ..., 0.0, 0.0, 20],\n",
              "       [0, 'tcp', 'ftp_data', ..., 0.0, 0.0, 21]], dtype=object)"
            ]
          },
          "metadata": {
            "tags": []
          },
          "execution_count": 714
        }
      ]
    },
    {
      "cell_type": "code",
      "metadata": {
        "id": "g5qmozVs7qHU"
      },
      "source": [
        "dss[:,1] = label_encoder.fit_transform(dss[:,1])\n",
        "dss[:,2] = label_encoder.fit_transform(dss[:,2])\n",
        "dss[:,3] = label_encoder.fit_transform(dss[:,3])"
      ],
      "execution_count": null,
      "outputs": []
    },
    {
      "cell_type": "code",
      "metadata": {
        "colab": {
          "base_uri": "https://localhost:8080/"
        },
        "id": "7Emd0PF0ThCd",
        "outputId": "6b59e592-755d-4a4f-f96b-a0d7651713bc"
      },
      "source": [
        "print(dss[:,1])\n",
        "print(dss[:,2])\n",
        "print(dss[:,3])"
      ],
      "execution_count": null,
      "outputs": [
        {
          "output_type": "stream",
          "text": [
            "[1 2 1 ... 1 1 1]\n",
            "[20 44 49 ... 54 30 20]\n",
            "[9 9 5 ... 9 5 9]\n"
          ],
          "name": "stdout"
        }
      ]
    },
    {
      "cell_type": "code",
      "metadata": {
        "colab": {
          "base_uri": "https://localhost:8080/"
        },
        "id": "9L1zwpDAY7LW",
        "outputId": "294506dd-fc08-47ff-ce39-0315ea942c14"
      },
      "source": [
        "print(dss)"
      ],
      "execution_count": null,
      "outputs": [
        {
          "output_type": "stream",
          "text": [
            "[[0 1 20 ... 0.05 0.0 20]\n",
            " [0 2 44 ... 0.0 0.0 15]\n",
            " [0 1 49 ... 0.0 0.0 19]\n",
            " ...\n",
            " [0 1 54 ... 0.01 0.0 18]\n",
            " [0 1 30 ... 0.0 0.0 20]\n",
            " [0 1 20 ... 0.0 0.0 21]]\n"
          ],
          "name": "stdout"
        }
      ]
    },
    {
      "cell_type": "code",
      "metadata": {
        "colab": {
          "base_uri": "https://localhost:8080/"
        },
        "id": "nIyQh4XgUoVQ",
        "outputId": "6b9adbe3-1c63-4cc3-ab9c-480091c0cc13"
      },
      "source": [
        "dss = preprocessing.normalize(dss)                   \n",
        "print(dss)"
      ],
      "execution_count": null,
      "outputs": [
        {
          "output_type": "stream",
          "text": [
            "[[0.00000000e+00 1.94221607e-03 3.88443214e-02 ... 9.71108035e-05\n",
            "  0.00000000e+00 3.88443214e-02]\n",
            " [0.00000000e+00 6.71310432e-03 1.47688295e-01 ... 0.00000000e+00\n",
            "  0.00000000e+00 5.03482824e-02]\n",
            " [0.00000000e+00 3.45737279e-03 1.69411267e-01 ... 0.00000000e+00\n",
            "  0.00000000e+00 6.56900830e-02]\n",
            " ...\n",
            " [0.00000000e+00 4.38779331e-04 2.36940839e-02 ... 4.38779331e-06\n",
            "  0.00000000e+00 7.89802797e-03]\n",
            " [0.00000000e+00 3.38605825e-03 1.01581747e-01 ... 0.00000000e+00\n",
            "  0.00000000e+00 6.77211650e-02]\n",
            " [0.00000000e+00 3.24986914e-03 6.49973827e-02 ... 0.00000000e+00\n",
            "  0.00000000e+00 6.82472519e-02]]\n"
          ],
          "name": "stdout"
        }
      ]
    },
    {
      "cell_type": "code",
      "metadata": {
        "id": "iOnTS3G7aHOH"
      },
      "source": [
        "from tensorflow.keras.layers import Dense\n",
        "from tensorflow.keras.models import Sequential\n",
        "from tensorflow.keras.layers import Flatten\n",
        "from tensorflow.keras.optimizers import Adam\n",
        "from keras.callbacks import EarlyStopping\n",
        "from keras.callbacks import ModelCheckpoint\n",
        "from sklearn.model_selection import train_test_split\n",
        "\n",
        "train_x, test_x, train_y, test_y = train_test_split(dss, lab, test_size=0.20)\n"
      ],
      "execution_count": null,
      "outputs": []
    },
    {
      "cell_type": "code",
      "metadata": {
        "id": "k06k2vuSi4l2"
      },
      "source": [
        "train_x=np.asarray(train_x).astype(np.float32)\n",
        "\n",
        "train_y=np.asarray(train_y).astype(np.float32)\n",
        "\n",
        "test_x=np.asarray(test_x).astype(np.float32)\n",
        "\n",
        "test_y=np.asarray(test_y).astype(np.float32)"
      ],
      "execution_count": null,
      "outputs": []
    },
    {
      "cell_type": "code",
      "metadata": {
        "colab": {
          "base_uri": "https://localhost:8080/"
        },
        "id": "nx9c2oUIcXT1",
        "outputId": "2d1cda1d-b6da-4dc2-93b0-515f58eeff03"
      },
      "source": [
        "print(train_x.shape)\n",
        "print(train_x)\n"
      ],
      "execution_count": null,
      "outputs": [
        {
          "output_type": "stream",
          "text": [
            "(100778, 42)\n",
            "[[0.0000000e+00 4.7472604e-03 2.8483562e-02 ... 0.0000000e+00\n",
            "  0.0000000e+00 4.2725343e-02]\n",
            " [0.0000000e+00 9.5042977e-03 5.7025790e-02 ... 0.0000000e+00\n",
            "  0.0000000e+00 9.9795133e-02]\n",
            " [0.0000000e+00 0.0000000e+00 1.1260610e-01 ... 0.0000000e+00\n",
            "  0.0000000e+00 1.2064939e-01]\n",
            " ...\n",
            " [2.4226535e-02 1.2113268e-03 2.3015209e-02 ... 1.2113268e-05\n",
            "  7.2679606e-05 2.1803882e-02]\n",
            " [1.0875464e-04 1.8125775e-05 4.3501856e-04 ... 7.6128249e-06\n",
            "  7.6128249e-06 2.1750928e-04]\n",
            " [0.0000000e+00 2.7828929e-03 2.7828930e-02 ... 0.0000000e+00\n",
            "  0.0000000e+00 5.2874967e-02]]\n"
          ],
          "name": "stdout"
        }
      ]
    },
    {
      "cell_type": "code",
      "metadata": {
        "colab": {
          "base_uri": "https://localhost:8080/"
        },
        "id": "EmQKsUzeclEz",
        "outputId": "81976e49-743e-4a45-8183-fc29dcef2dd9"
      },
      "source": [
        "print(train_y.shape)\n",
        "print(train_y)"
      ],
      "execution_count": null,
      "outputs": [
        {
          "output_type": "stream",
          "text": [
            "(100778, 5)\n",
            "[[0. 1. 0. 0. 0.]\n",
            " [0. 1. 0. 0. 0.]\n",
            " [0. 0. 1. 0. 0.]\n",
            " ...\n",
            " [0. 1. 0. 0. 0.]\n",
            " [1. 0. 0. 0. 0.]\n",
            " [1. 0. 0. 0. 0.]]\n"
          ],
          "name": "stdout"
        }
      ]
    },
    {
      "cell_type": "code",
      "metadata": {
        "colab": {
          "base_uri": "https://localhost:8080/"
        },
        "id": "tSA0nK8leebR",
        "outputId": "ca11d0cc-7164-4dd2-b485-37bacaec7bcc"
      },
      "source": [
        "model = Sequential()\n",
        "model.add(Dense(33, input_dim=42, activation='relu'))\n",
        "model.add(Dense(34, activation='relu'))\n",
        "model.add(Dense(35, activation='relu'))\n",
        "model.add(Dense(5,activation='softmax'))\n",
        "\n",
        "model.compile(Adam(lr=0.01), loss = \"categorical_crossentropy\", metrics = ['accuracy'])\n",
        "\n",
        "print(model.summary())"
      ],
      "execution_count": null,
      "outputs": [
        {
          "output_type": "stream",
          "text": [
            "Model: \"sequential_53\"\n",
            "_________________________________________________________________\n",
            "Layer (type)                 Output Shape              Param #   \n",
            "=================================================================\n",
            "dense_212 (Dense)            (None, 33)                1419      \n",
            "_________________________________________________________________\n",
            "dense_213 (Dense)            (None, 34)                1156      \n",
            "_________________________________________________________________\n",
            "dense_214 (Dense)            (None, 35)                1225      \n",
            "_________________________________________________________________\n",
            "dense_215 (Dense)            (None, 5)                 180       \n",
            "=================================================================\n",
            "Total params: 3,980\n",
            "Trainable params: 3,980\n",
            "Non-trainable params: 0\n",
            "_________________________________________________________________\n",
            "None\n"
          ],
          "name": "stdout"
        }
      ]
    },
    {
      "cell_type": "code",
      "metadata": {
        "colab": {
          "base_uri": "https://localhost:8080/"
        },
        "id": "bCHFL8jCc2od",
        "outputId": "d6add3b3-d577-44e7-a0de-5c099a2fdc55"
      },
      "source": [
        "checkpoint = ModelCheckpoint(\"best_model1.hdf5\", monitor='loss', verbose=1, save_best_only=True, mode='auto', period=1)\n",
        "earlystopping = EarlyStopping(monitor = 'val_loss', patience = 3, mode = 'auto')\n",
        "\n",
        "history = model.fit(train_x, train_y, validation_split= 0.20, epochs = 5, verbose = 1, batch_size= 64, callbacks=[checkpoint, earlystopping])"
      ],
      "execution_count": null,
      "outputs": [
        {
          "output_type": "stream",
          "text": [
            "WARNING:tensorflow:`period` argument is deprecated. Please use `save_freq` to specify the frequency in number of batches seen.\n",
            "Epoch 1/5\n",
            "1260/1260 [==============================] - 3s 2ms/step - loss: 0.2477 - accuracy: 0.9249 - val_loss: 0.0625 - val_accuracy: 0.9839\n",
            "\n",
            "Epoch 00001: loss improved from inf to 0.14621, saving model to best_model1.hdf5\n",
            "Epoch 2/5\n",
            "1260/1260 [==============================] - 2s 2ms/step - loss: 0.0613 - accuracy: 0.9825 - val_loss: 0.0442 - val_accuracy: 0.9886\n",
            "\n",
            "Epoch 00002: loss improved from 0.14621 to 0.05647, saving model to best_model1.hdf5\n",
            "Epoch 3/5\n",
            "1260/1260 [==============================] - 2s 2ms/step - loss: 0.0464 - accuracy: 0.9878 - val_loss: 0.0418 - val_accuracy: 0.9888\n",
            "\n",
            "Epoch 00003: loss improved from 0.05647 to 0.04763, saving model to best_model1.hdf5\n",
            "Epoch 4/5\n",
            "1260/1260 [==============================] - 2s 2ms/step - loss: 0.0407 - accuracy: 0.9886 - val_loss: 0.0352 - val_accuracy: 0.9911\n",
            "\n",
            "Epoch 00004: loss improved from 0.04763 to 0.04096, saving model to best_model1.hdf5\n",
            "Epoch 5/5\n",
            "1260/1260 [==============================] - 2s 2ms/step - loss: 0.0355 - accuracy: 0.9911 - val_loss: 0.0423 - val_accuracy: 0.9884\n",
            "\n",
            "Epoch 00005: loss improved from 0.04096 to 0.03633, saving model to best_model1.hdf5\n"
          ],
          "name": "stdout"
        }
      ]
    },
    {
      "cell_type": "code",
      "metadata": {
        "colab": {
          "base_uri": "https://localhost:8080/"
        },
        "id": "6E67iJpMlrKi",
        "outputId": "9d295c53-7f82-473d-a077-fdd9975a15b9"
      },
      "source": [
        "score = model.evaluate(test_x, test_y, verbose=0)\n",
        "print('Test loss:', score[0])\n",
        "print('Test accuracy:', score[1])"
      ],
      "execution_count": null,
      "outputs": [
        {
          "output_type": "stream",
          "text": [
            "Test loss: 0.04208092391490936\n",
            "Test accuracy: 0.9875769019126892\n"
          ],
          "name": "stdout"
        }
      ]
    },
    {
      "cell_type": "code",
      "metadata": {
        "colab": {
          "base_uri": "https://localhost:8080/"
        },
        "id": "e-7SYdi04KII",
        "outputId": "caf3db67-ade8-4c5e-c320-abdc357360e9"
      },
      "source": [
        "pred = model.predict(test_x)\n",
        "print(pred)\n",
        "prediction = np.argmax(pred, axis = 1)\n",
        "label = np.argmax(test_y,axis = 1)\n"
      ],
      "execution_count": null,
      "outputs": [
        {
          "output_type": "stream",
          "text": [
            "[[8.1373308e-10 9.9998021e-01 1.0524496e-07 1.1754995e-05 7.8520443e-06]\n",
            " [3.9034293e-03 9.8899835e-01 4.7863365e-04 6.1686612e-03 4.5081761e-04]\n",
            " [9.9753773e-01 3.2595322e-05 2.4296555e-03 3.0512570e-08 2.3162231e-08]\n",
            " ...\n",
            " [3.6760075e-06 2.0612248e-05 9.9997520e-01 4.4497577e-07 1.9206322e-08]\n",
            " [4.8754719e-05 5.7420507e-04 9.9935979e-01 1.5610043e-05 1.6496102e-06]\n",
            " [4.2877016e-07 9.9985802e-01 2.0204600e-06 4.8866328e-05 9.0617126e-05]]\n"
          ],
          "name": "stdout"
        }
      ]
    },
    {
      "cell_type": "code",
      "metadata": {
        "colab": {
          "base_uri": "https://localhost:8080/"
        },
        "id": "DMy5Rx_h4o15",
        "outputId": "cba2ae10-1672-4e88-a63b-b50809d532ee"
      },
      "source": [
        "print(label[:1000])\n",
        "print(prediction[:1000])"
      ],
      "execution_count": null,
      "outputs": [
        {
          "output_type": "stream",
          "text": [
            "[1 1 0 1 0 0 1 0 0 1 1 0 0 0 1 1 2 1 1 0 1 1 1 1 0 0 1 1 0 1 1 0 1 0 1 0 1\n",
            " 3 0 0 1 1 1 0 1 1 0 1 0 1 1 0 1 0 1 1 1 1 1 1 0 1 2 2 0 1 1 0 2 2 1 1 1 1\n",
            " 0 1 1 1 0 1 1 1 1 1 0 1 1 1 0 1 2 1 0 1 2 1 0 1 0 1 1 1 0 0 0 1 0 2 1 1 1\n",
            " 0 1 0 1 1 0 1 1 1 1 0 1 1 1 0 1 0 1 1 1 1 2 1 2 1 0 1 1 1 2 1 1 1 2 0 2 0\n",
            " 1 0 2 1 0 0 1 1 0 0 1 0 0 0 1 0 1 0 1 1 1 1 1 0 0 0 1 1 1 0 1 1 1 0 2 1 1\n",
            " 0 1 1 0 1 1 1 3 1 1 1 1 1 0 1 0 0 1 0 2 1 1 2 1 1 1 1 0 1 1 1 1 0 2 1 1 1\n",
            " 1 1 2 1 1 0 1 1 0 1 0 1 1 1 1 1 1 1 1 0 2 2 1 0 0 0 0 0 0 1 0 1 1 1 0 0 2\n",
            " 1 0 0 1 1 2 1 0 0 1 1 1 2 1 1 1 0 1 0 1 2 0 2 2 0 1 2 2 1 0 1 0 0 0 1 1 0\n",
            " 1 1 1 0 1 1 1 1 1 1 2 2 0 1 1 1 1 1 1 1 0 2 2 1 1 0 0 1 1 1 1 0 1 0 2 0 1\n",
            " 0 1 1 1 0 1 0 1 1 0 1 1 0 0 1 1 1 2 0 1 1 2 0 3 2 1 1 1 1 1 1 1 2 0 1 1 1\n",
            " 1 1 1 1 1 0 1 1 1 1 1 1 1 2 1 0 1 1 0 1 2 1 1 0 2 0 1 1 0 1 0 1 1 1 1 1 1\n",
            " 1 0 1 1 0 0 1 1 1 0 1 1 1 0 1 1 0 1 1 0 0 1 1 1 0 1 1 0 1 0 2 1 0 0 1 0 1\n",
            " 1 1 1 1 2 0 2 3 0 1 0 1 1 1 1 0 0 1 1 1 0 0 1 1 1 1 0 2 1 1 0 0 0 0 0 0 1\n",
            " 1 1 1 2 1 2 2 2 1 1 1 0 1 1 1 1 1 1 1 1 2 2 1 0 0 1 1 0 1 1 1 2 0 0 2 1 1\n",
            " 1 0 1 0 1 1 0 1 0 0 1 2 1 0 1 1 0 1 2 0 0 1 1 1 2 1 0 1 0 1 1 0 0 1 1 1 1\n",
            " 0 1 1 1 0 1 2 0 1 1 2 0 1 0 1 0 1 0 0 0 1 1 0 1 0 0 1 1 2 1 1 1 3 1 2 1 1\n",
            " 0 1 1 0 2 0 0 1 1 0 2 1 0 0 1 1 1 2 0 0 0 0 1 1 0 1 1 1 2 0 1 0 1 0 2 1 1\n",
            " 2 1 0 0 1 2 1 0 0 1 0 1 1 1 1 2 1 0 1 0 1 0 1 2 1 1 1 1 1 0 0 0 1 0 1 0 2\n",
            " 2 1 0 2 2 0 1 1 1 1 1 0 1 1 1 1 0 0 0 0 1 1 0 0 2 0 0 1 0 1 1 1 1 0 1 1 1\n",
            " 1 1 1 2 1 1 1 1 1 0 1 0 0 1 2 1 1 2 0 0 0 2 0 0 1 0 1 1 1 0 0 1 0 0 1 0 1\n",
            " 0 1 1 0 1 1 0 1 0 1 0 1 1 0 1 1 1 2 0 0 1 1 0 2 1 1 0 0 0 1 1 1 2 0 1 2 0\n",
            " 0 1 1 1 0 1 0 1 0 0 1 1 1 0 1 2 1 0 1 0 0 0 0 1 1 1 0 2 0 1 1 2 1 2 1 1 2\n",
            " 1 1 1 0 0 0 1 1 0 1 1 1 1 3 0 0 2 0 1 1 1 0 1 2 2 0 2 1 1 1 0 1 1 2 1 0 1\n",
            " 0 1 1 1 1 0 1 1 0 1 2 0 0 0 1 1 0 1 3 1 1 0 0 0 0 0 1 1 1 1 1 0 0 1 0 0 0\n",
            " 1 0 1 1 1 0 2 2 0 1 0 1 0 1 0 0 1 0 0 0 0 1 0 0 1 0 1 0 0 1 2 0 0 1 0 1 0\n",
            " 1 1 1 1 1 1 2 0 0 1 1 1 0 1 1 0 1 0 0 0 0 0 1 2 2 0 2 0 1 2 2 1 1 0 1 1 1\n",
            " 1 1 1 0 1 1 1 0 1 0 1 0 1 0 2 2 2 1 0 0 0 0 0 0 1 0 1 0 0 0 1 1 1 0 1 1 1\n",
            " 0]\n",
            "[1 1 0 1 0 0 1 0 0 1 1 0 0 0 1 1 2 1 1 0 1 1 1 1 0 0 1 1 0 1 1 0 1 0 1 0 1\n",
            " 3 0 0 1 1 1 0 1 1 0 1 0 1 1 0 1 0 1 1 1 1 1 1 0 1 2 2 0 1 1 0 2 2 1 1 1 1\n",
            " 0 1 1 1 0 1 1 1 1 1 0 1 1 1 0 1 2 1 0 1 2 1 0 1 0 1 1 1 0 0 0 1 0 2 1 1 1\n",
            " 0 1 0 1 1 0 1 1 1 1 0 1 1 1 0 1 0 1 1 1 1 2 1 2 1 0 1 1 1 2 1 1 1 2 0 2 0\n",
            " 1 0 2 1 0 0 1 1 0 0 1 0 0 0 1 0 1 0 1 1 1 1 1 0 0 0 1 1 1 0 1 1 1 0 2 1 1\n",
            " 0 1 1 0 1 1 1 3 1 1 1 1 1 0 1 0 0 1 0 2 1 1 2 1 1 1 1 0 1 1 1 1 0 2 1 1 1\n",
            " 1 1 2 1 1 0 1 1 0 1 0 1 1 1 1 1 1 1 1 0 2 2 1 0 0 0 0 0 0 1 0 1 1 1 0 0 2\n",
            " 1 0 0 1 1 2 1 0 0 1 1 1 2 1 1 1 0 1 0 1 2 0 2 2 0 1 2 2 1 0 1 0 0 0 1 1 0\n",
            " 1 1 1 0 1 1 1 1 1 1 2 2 0 1 1 1 1 1 1 1 0 2 2 1 1 0 0 1 1 1 3 0 1 0 2 0 1\n",
            " 0 1 1 1 0 1 0 1 1 0 1 1 0 0 1 1 1 2 0 1 1 2 0 3 2 1 1 1 1 1 1 1 2 0 1 1 1\n",
            " 1 1 1 2 1 0 1 1 1 1 1 1 1 2 1 0 1 1 0 1 2 1 1 0 2 0 1 1 0 1 0 1 1 1 1 1 1\n",
            " 1 0 1 1 0 0 1 1 1 0 1 1 1 0 1 1 0 1 1 0 0 1 1 1 0 1 1 0 1 0 2 1 0 0 1 0 1\n",
            " 1 1 1 1 2 0 2 3 0 1 0 1 1 1 1 0 0 1 1 1 0 0 1 1 1 1 0 2 1 1 0 0 0 0 0 0 1\n",
            " 1 1 1 2 1 2 2 2 1 1 1 0 1 1 1 1 1 1 1 1 2 2 1 0 0 1 1 0 1 1 1 2 0 0 2 1 1\n",
            " 1 0 1 0 1 1 0 1 0 0 1 2 1 0 1 1 0 1 2 0 0 1 1 1 2 1 0 1 0 1 1 0 0 1 1 1 1\n",
            " 0 1 1 1 0 1 2 0 1 1 2 0 1 0 1 0 1 0 0 0 1 1 0 1 0 0 1 1 2 0 1 1 3 1 2 1 1\n",
            " 0 1 1 0 2 0 0 1 1 0 2 1 0 0 1 1 1 2 0 0 0 0 1 1 0 0 1 1 2 0 1 0 1 0 2 1 1\n",
            " 2 1 0 0 1 2 1 0 0 1 0 1 1 1 1 2 1 0 1 0 1 0 1 2 1 1 1 1 1 0 0 0 1 0 1 0 2\n",
            " 2 1 0 2 2 0 1 1 1 1 1 0 1 1 1 1 0 0 0 0 1 1 0 0 2 0 0 1 0 1 1 1 1 0 1 1 1\n",
            " 1 1 1 2 1 1 1 1 1 0 1 0 0 1 2 1 1 2 0 0 0 2 0 0 1 0 1 1 1 0 0 1 0 0 1 0 1\n",
            " 0 1 1 0 1 1 0 1 0 1 0 1 1 0 1 1 1 2 0 0 1 3 0 2 1 1 0 0 0 1 1 1 2 0 1 1 0\n",
            " 0 1 1 1 0 1 0 1 0 0 1 1 1 0 1 2 1 0 1 0 0 0 0 1 1 1 0 2 0 1 1 2 1 2 1 1 2\n",
            " 1 1 1 0 0 0 1 1 1 1 1 1 1 3 0 0 2 0 1 1 1 0 1 2 2 0 2 1 1 1 0 1 1 2 1 0 1\n",
            " 0 1 1 1 1 0 1 1 0 1 2 0 0 0 1 1 0 1 1 1 1 0 0 0 0 0 1 1 1 1 1 0 0 1 0 0 0\n",
            " 1 0 1 1 1 0 2 2 0 1 0 1 0 1 0 0 1 0 0 0 0 1 0 0 1 0 1 0 0 1 2 0 0 1 0 1 0\n",
            " 1 1 1 1 1 1 2 0 0 1 1 1 0 1 1 0 1 0 0 0 0 0 1 2 2 0 2 0 1 2 2 1 1 0 1 1 1\n",
            " 1 1 1 0 1 1 1 0 1 0 1 0 1 0 2 2 2 1 0 0 0 0 0 0 1 0 1 0 0 0 1 1 1 0 1 1 1\n",
            " 0]\n"
          ],
          "name": "stdout"
        }
      ]
    },
    {
      "cell_type": "code",
      "metadata": {
        "colab": {
          "base_uri": "https://localhost:8080/"
        },
        "id": "bPCT3aM-kQZC",
        "outputId": "e799758c-d66f-414a-f064-401d4b90337a"
      },
      "source": [
        "model2 = Sequential()\n",
        "model2.add(Dense(31, input_dim=42, activation='sigmoid'))\n",
        "model2.add(Dense(36, activation='sigmoid'))\n",
        "model2.add(Dense(41, activation='relu'))\n",
        "model2.add(Dense(5,activation='softmax'))\n",
        "\n",
        "model2.compile(Adam(lr=0.01), loss = \"categorical_crossentropy\", metrics = ['accuracy'])\n",
        "\n",
        "print(model2.summary())"
      ],
      "execution_count": null,
      "outputs": [
        {
          "output_type": "stream",
          "text": [
            "Model: \"sequential_54\"\n",
            "_________________________________________________________________\n",
            "Layer (type)                 Output Shape              Param #   \n",
            "=================================================================\n",
            "dense_216 (Dense)            (None, 31)                1333      \n",
            "_________________________________________________________________\n",
            "dense_217 (Dense)            (None, 36)                1152      \n",
            "_________________________________________________________________\n",
            "dense_218 (Dense)            (None, 41)                1517      \n",
            "_________________________________________________________________\n",
            "dense_219 (Dense)            (None, 5)                 210       \n",
            "=================================================================\n",
            "Total params: 4,212\n",
            "Trainable params: 4,212\n",
            "Non-trainable params: 0\n",
            "_________________________________________________________________\n",
            "None\n"
          ],
          "name": "stdout"
        }
      ]
    },
    {
      "cell_type": "code",
      "metadata": {
        "colab": {
          "base_uri": "https://localhost:8080/"
        },
        "id": "qENVqIvglYd7",
        "outputId": "93192589-0c83-4b0f-ffac-0d425a37c456"
      },
      "source": [
        "checkpoint2 = ModelCheckpoint(\"best_model2.hdf5\", monitor='loss', verbose=1, save_best_only=True, mode='auto', period=1)\n",
        "earlystopping2 = EarlyStopping(monitor = 'val_loss', patience = 3, mode = 'auto')\n",
        "\n",
        "history2 = model2.fit(train_x, train_y, validation_split= 0.20, epochs = 10, verbose = 1, batch_size= 32, callbacks=[checkpoint2, earlystopping2])"
      ],
      "execution_count": null,
      "outputs": [
        {
          "output_type": "stream",
          "text": [
            "WARNING:tensorflow:`period` argument is deprecated. Please use `save_freq` to specify the frequency in number of batches seen.\n",
            "Epoch 1/10\n",
            "2520/2520 [==============================] - 6s 2ms/step - loss: 0.4032 - accuracy: 0.8625 - val_loss: 0.1566 - val_accuracy: 0.9590\n",
            "\n",
            "Epoch 00001: loss improved from inf to 0.27980, saving model to best_model2.hdf5\n",
            "Epoch 2/10\n",
            "2520/2520 [==============================] - 5s 2ms/step - loss: 0.1285 - accuracy: 0.9611 - val_loss: 0.0960 - val_accuracy: 0.9687\n",
            "\n",
            "Epoch 00002: loss improved from 0.27980 to 0.11631, saving model to best_model2.hdf5\n",
            "Epoch 3/10\n",
            "2520/2520 [==============================] - 5s 2ms/step - loss: 0.0945 - accuracy: 0.9700 - val_loss: 0.0801 - val_accuracy: 0.9829\n",
            "\n",
            "Epoch 00003: loss improved from 0.11631 to 0.09060, saving model to best_model2.hdf5\n",
            "Epoch 4/10\n",
            "2520/2520 [==============================] - 5s 2ms/step - loss: 0.0799 - accuracy: 0.9740 - val_loss: 0.1033 - val_accuracy: 0.9593\n",
            "\n",
            "Epoch 00004: loss improved from 0.09060 to 0.07780, saving model to best_model2.hdf5\n",
            "Epoch 5/10\n",
            "2520/2520 [==============================] - 5s 2ms/step - loss: 0.0719 - accuracy: 0.9760 - val_loss: 0.0699 - val_accuracy: 0.9773\n",
            "\n",
            "Epoch 00005: loss improved from 0.07780 to 0.06784, saving model to best_model2.hdf5\n",
            "Epoch 6/10\n",
            "2520/2520 [==============================] - 5s 2ms/step - loss: 0.0610 - accuracy: 0.9817 - val_loss: 0.0434 - val_accuracy: 0.9877\n",
            "\n",
            "Epoch 00006: loss improved from 0.06784 to 0.05699, saving model to best_model2.hdf5\n",
            "Epoch 7/10\n",
            "2520/2520 [==============================] - 5s 2ms/step - loss: 0.0491 - accuracy: 0.9857 - val_loss: 0.0446 - val_accuracy: 0.9875\n",
            "\n",
            "Epoch 00007: loss improved from 0.05699 to 0.04747, saving model to best_model2.hdf5\n",
            "Epoch 8/10\n",
            "2520/2520 [==============================] - 5s 2ms/step - loss: 0.0465 - accuracy: 0.9868 - val_loss: 0.0382 - val_accuracy: 0.9899\n",
            "\n",
            "Epoch 00008: loss improved from 0.04747 to 0.04298, saving model to best_model2.hdf5\n",
            "Epoch 9/10\n",
            "2520/2520 [==============================] - 5s 2ms/step - loss: 0.0401 - accuracy: 0.9886 - val_loss: 0.0314 - val_accuracy: 0.9913\n",
            "\n",
            "Epoch 00009: loss improved from 0.04298 to 0.03995, saving model to best_model2.hdf5\n",
            "Epoch 10/10\n",
            "2520/2520 [==============================] - 5s 2ms/step - loss: 0.0386 - accuracy: 0.9891 - val_loss: 0.0346 - val_accuracy: 0.9900\n",
            "\n",
            "Epoch 00010: loss improved from 0.03995 to 0.03796, saving model to best_model2.hdf5\n"
          ],
          "name": "stdout"
        }
      ]
    },
    {
      "cell_type": "code",
      "metadata": {
        "colab": {
          "base_uri": "https://localhost:8080/"
        },
        "id": "kxWMtCwHllKy",
        "outputId": "eb5b14b1-b182-41fc-b7bf-b7467b172ac0"
      },
      "source": [
        "score2 = model2.evaluate(test_x, test_y, verbose=0)\n",
        "print('Test loss:', score2[0])\n",
        "print('Test accuracy:', score2[1])"
      ],
      "execution_count": null,
      "outputs": [
        {
          "output_type": "stream",
          "text": [
            "Test loss: 0.032669901847839355\n",
            "Test accuracy: 0.9898392558097839\n"
          ],
          "name": "stdout"
        }
      ]
    },
    {
      "cell_type": "code",
      "metadata": {
        "colab": {
          "base_uri": "https://localhost:8080/"
        },
        "id": "z0pXLuaZlpsI",
        "outputId": "f23dd437-8ca4-4377-9c58-2326994a614e"
      },
      "source": [
        "pred2 = model2.predict(test_x)\n",
        "print(pred2)\n",
        "prediction2 = np.argmax(pred2, axis = 1)\n",
        "label2 = np.argmax(test_y,axis = 1)"
      ],
      "execution_count": null,
      "outputs": [
        {
          "output_type": "stream",
          "text": [
            "[[1.8722305e-12 9.9979430e-01 2.0576989e-04 1.9477495e-10 2.9345912e-09]\n",
            " [1.8060006e-02 9.7056985e-01 3.2476410e-03 8.1042657e-03 1.8232082e-05]\n",
            " [9.9990118e-01 2.5462981e-07 9.8566627e-05 1.4308502e-12 3.9961023e-22]\n",
            " ...\n",
            " [1.2460746e-21 5.6092013e-13 1.0000000e+00 5.0818561e-20 0.0000000e+00]\n",
            " [1.6369326e-16 2.0895680e-08 1.0000000e+00 7.1397601e-15 5.7398872e-24]\n",
            " [1.0985900e-11 9.9982148e-01 1.7849939e-04 5.1659291e-11 1.0011680e-09]]\n"
          ],
          "name": "stdout"
        }
      ]
    },
    {
      "cell_type": "code",
      "metadata": {
        "colab": {
          "base_uri": "https://localhost:8080/"
        },
        "id": "1TLS8f_klxnB",
        "outputId": "205c7b59-a589-435d-bd5b-ddd45e52efd7"
      },
      "source": [
        "print(label2[:1000])\n",
        "print(prediction2[:1000])"
      ],
      "execution_count": null,
      "outputs": [
        {
          "output_type": "stream",
          "text": [
            "[1 1 0 1 0 0 1 0 0 1 1 0 0 0 1 1 2 1 1 0 1 1 1 1 0 0 1 1 0 1 1 0 1 0 1 0 1\n",
            " 3 0 0 1 1 1 0 1 1 0 1 0 1 1 0 1 0 1 1 1 1 1 1 0 1 2 2 0 1 1 0 2 2 1 1 1 1\n",
            " 0 1 1 1 0 1 1 1 1 1 0 1 1 1 0 1 2 1 0 1 2 1 0 1 0 1 1 1 0 0 0 1 0 2 1 1 1\n",
            " 0 1 0 1 1 0 1 1 1 1 0 1 1 1 0 1 0 1 1 1 1 2 1 2 1 0 1 1 1 2 1 1 1 2 0 2 0\n",
            " 1 0 2 1 0 0 1 1 0 0 1 0 0 0 1 0 1 0 1 1 1 1 1 0 0 0 1 1 1 0 1 1 1 0 2 1 1\n",
            " 0 1 1 0 1 1 1 3 1 1 1 1 1 0 1 0 0 1 0 2 1 1 2 1 1 1 1 0 1 1 1 1 0 2 1 1 1\n",
            " 1 1 2 1 1 0 1 1 0 1 0 1 1 1 1 1 1 1 1 0 2 2 1 0 0 0 0 0 0 1 0 1 1 1 0 0 2\n",
            " 1 0 0 1 1 2 1 0 0 1 1 1 2 1 1 1 0 1 0 1 2 0 2 2 0 1 2 2 1 0 1 0 0 0 1 1 0\n",
            " 1 1 1 0 1 1 1 1 1 1 2 2 0 1 1 1 1 1 1 1 0 2 2 1 1 0 0 1 1 1 1 0 1 0 2 0 1\n",
            " 0 1 1 1 0 1 0 1 1 0 1 1 0 0 1 1 1 2 0 1 1 2 0 3 2 1 1 1 1 1 1 1 2 0 1 1 1\n",
            " 1 1 1 1 1 0 1 1 1 1 1 1 1 2 1 0 1 1 0 1 2 1 1 0 2 0 1 1 0 1 0 1 1 1 1 1 1\n",
            " 1 0 1 1 0 0 1 1 1 0 1 1 1 0 1 1 0 1 1 0 0 1 1 1 0 1 1 0 1 0 2 1 0 0 1 0 1\n",
            " 1 1 1 1 2 0 2 3 0 1 0 1 1 1 1 0 0 1 1 1 0 0 1 1 1 1 0 2 1 1 0 0 0 0 0 0 1\n",
            " 1 1 1 2 1 2 2 2 1 1 1 0 1 1 1 1 1 1 1 1 2 2 1 0 0 1 1 0 1 1 1 2 0 0 2 1 1\n",
            " 1 0 1 0 1 1 0 1 0 0 1 2 1 0 1 1 0 1 2 0 0 1 1 1 2 1 0 1 0 1 1 0 0 1 1 1 1\n",
            " 0 1 1 1 0 1 2 0 1 1 2 0 1 0 1 0 1 0 0 0 1 1 0 1 0 0 1 1 2 1 1 1 3 1 2 1 1\n",
            " 0 1 1 0 2 0 0 1 1 0 2 1 0 0 1 1 1 2 0 0 0 0 1 1 0 1 1 1 2 0 1 0 1 0 2 1 1\n",
            " 2 1 0 0 1 2 1 0 0 1 0 1 1 1 1 2 1 0 1 0 1 0 1 2 1 1 1 1 1 0 0 0 1 0 1 0 2\n",
            " 2 1 0 2 2 0 1 1 1 1 1 0 1 1 1 1 0 0 0 0 1 1 0 0 2 0 0 1 0 1 1 1 1 0 1 1 1\n",
            " 1 1 1 2 1 1 1 1 1 0 1 0 0 1 2 1 1 2 0 0 0 2 0 0 1 0 1 1 1 0 0 1 0 0 1 0 1\n",
            " 0 1 1 0 1 1 0 1 0 1 0 1 1 0 1 1 1 2 0 0 1 1 0 2 1 1 0 0 0 1 1 1 2 0 1 2 0\n",
            " 0 1 1 1 0 1 0 1 0 0 1 1 1 0 1 2 1 0 1 0 0 0 0 1 1 1 0 2 0 1 1 2 1 2 1 1 2\n",
            " 1 1 1 0 0 0 1 1 0 1 1 1 1 3 0 0 2 0 1 1 1 0 1 2 2 0 2 1 1 1 0 1 1 2 1 0 1\n",
            " 0 1 1 1 1 0 1 1 0 1 2 0 0 0 1 1 0 1 3 1 1 0 0 0 0 0 1 1 1 1 1 0 0 1 0 0 0\n",
            " 1 0 1 1 1 0 2 2 0 1 0 1 0 1 0 0 1 0 0 0 0 1 0 0 1 0 1 0 0 1 2 0 0 1 0 1 0\n",
            " 1 1 1 1 1 1 2 0 0 1 1 1 0 1 1 0 1 0 0 0 0 0 1 2 2 0 2 0 1 2 2 1 1 0 1 1 1\n",
            " 1 1 1 0 1 1 1 0 1 0 1 0 1 0 2 2 2 1 0 0 0 0 0 0 1 0 1 0 0 0 1 1 1 0 1 1 1\n",
            " 0]\n",
            "[1 1 0 1 0 0 1 0 0 1 1 0 0 0 1 1 2 1 1 0 1 1 1 1 0 0 1 1 0 1 1 0 1 0 1 0 1\n",
            " 2 0 0 1 1 1 0 1 1 0 1 0 1 1 0 1 0 1 1 1 1 1 1 0 1 2 2 0 1 1 0 2 2 1 1 1 1\n",
            " 0 1 1 1 0 1 1 1 1 1 0 1 1 1 0 1 2 1 0 1 2 1 0 1 0 1 1 1 0 0 0 1 0 2 1 1 1\n",
            " 0 1 0 1 1 0 1 1 1 1 0 1 1 1 0 1 0 1 1 1 1 2 1 2 1 0 1 1 1 2 1 1 1 2 0 2 0\n",
            " 1 0 2 1 0 0 1 1 0 0 1 0 0 0 1 0 1 0 1 1 1 1 1 0 0 0 1 1 1 0 1 1 1 0 2 1 1\n",
            " 0 1 1 0 1 1 1 3 1 1 1 1 1 0 1 0 0 1 0 2 1 1 2 1 1 1 1 0 1 1 1 1 0 2 1 1 1\n",
            " 1 1 2 1 1 0 1 1 0 1 0 1 1 1 1 1 1 1 1 0 2 2 1 0 0 0 0 0 0 1 0 1 1 1 0 0 2\n",
            " 1 0 0 1 1 2 1 0 0 1 1 1 2 1 1 1 0 1 0 1 2 0 2 2 0 1 2 2 1 0 1 0 0 0 1 1 0\n",
            " 1 1 1 0 1 1 1 1 1 1 2 2 0 1 1 1 1 1 1 1 0 2 2 1 1 0 0 1 1 1 1 0 1 0 2 0 1\n",
            " 0 1 1 1 0 1 0 1 1 0 1 1 0 0 1 3 1 2 0 1 1 1 0 1 2 1 1 1 1 1 1 1 2 0 1 1 1\n",
            " 1 1 1 2 1 0 1 1 1 1 1 1 1 2 1 0 1 1 0 1 2 1 1 0 2 0 1 1 0 1 0 1 1 1 1 1 1\n",
            " 1 0 1 1 0 0 1 1 1 0 1 1 1 0 1 1 0 1 1 0 0 1 1 1 0 1 1 0 1 0 2 1 0 0 1 0 1\n",
            " 1 1 1 1 2 0 2 3 0 1 0 1 1 1 1 0 0 1 1 1 0 0 1 1 1 1 0 2 1 1 0 0 0 0 0 0 1\n",
            " 1 1 1 2 1 2 2 2 1 1 1 0 1 1 1 1 1 1 1 1 2 2 1 0 0 1 1 0 1 1 1 2 0 0 2 1 1\n",
            " 1 0 1 0 1 1 0 1 0 0 1 2 1 0 1 1 0 1 2 0 0 1 1 1 2 1 0 1 0 1 1 0 0 1 1 1 1\n",
            " 0 1 1 1 0 1 2 0 1 1 2 0 1 0 1 0 1 0 0 0 1 1 0 1 0 0 1 1 2 1 1 1 3 1 2 1 1\n",
            " 0 1 1 0 2 0 0 1 1 0 2 1 0 0 1 1 1 2 0 0 0 0 1 1 0 1 1 1 2 0 1 0 1 0 2 1 1\n",
            " 2 1 0 0 1 2 1 0 0 1 0 1 1 1 1 2 1 0 1 0 1 0 1 2 1 1 1 1 1 0 0 0 1 0 1 0 2\n",
            " 2 1 0 2 2 0 1 1 1 1 1 0 1 1 1 1 0 0 0 0 1 1 0 0 2 0 0 1 0 1 1 1 1 0 1 1 1\n",
            " 1 1 1 2 1 1 1 1 1 0 1 0 0 1 2 1 1 2 0 0 0 2 0 0 3 0 1 1 1 0 0 1 0 0 1 0 1\n",
            " 0 1 1 0 1 1 0 1 0 1 0 1 1 0 1 1 1 2 0 0 1 1 0 2 1 1 0 0 0 1 1 1 2 0 1 1 0\n",
            " 0 1 1 1 0 1 0 1 0 0 1 1 1 0 1 2 1 0 1 0 0 0 0 1 1 1 0 2 0 1 1 2 1 2 1 1 2\n",
            " 1 1 1 0 0 0 1 1 0 1 1 1 1 1 0 0 2 0 1 1 1 0 1 2 2 0 2 1 1 1 0 1 1 1 1 0 1\n",
            " 0 1 1 1 1 0 1 1 0 1 2 0 0 0 1 1 0 1 1 1 1 0 0 0 0 0 1 1 1 1 1 0 0 1 0 0 0\n",
            " 1 0 1 1 1 0 2 2 0 1 0 1 0 1 0 0 1 0 0 0 0 1 0 0 1 0 1 0 0 1 2 0 0 1 0 1 0\n",
            " 1 1 1 1 1 1 2 0 0 1 1 1 0 1 1 0 1 0 0 0 0 0 1 2 2 0 2 0 1 2 2 1 1 0 1 1 1\n",
            " 1 1 1 0 1 1 1 0 1 0 1 0 1 0 2 2 2 1 0 0 0 0 0 0 1 0 1 0 0 0 1 1 1 0 1 1 1\n",
            " 0]\n"
          ],
          "name": "stdout"
        }
      ]
    },
    {
      "cell_type": "code",
      "metadata": {
        "colab": {
          "base_uri": "https://localhost:8080/"
        },
        "id": "cg7HfDaaDWu3",
        "outputId": "4ffd6286-a3fd-47bd-c92d-4b7c9468d75c"
      },
      "source": [
        "from keras.layers import LeakyReLU\n",
        "model3 = Sequential()\n",
        "model3.add(Dense(20, input_dim=42, activation='relu'))\n",
        "model3.add(LeakyReLU(alpha=0.05))\n",
        "model3.add(Dense(30, activation='relu'))\n",
        "model3.add(LeakyReLU(alpha=0.05))\n",
        "model3.add(Dense(40, activation='relu'))\n",
        "model3.add(Dense(5,activation='softmax'))\n",
        "\n",
        "model3.compile(Adam(lr=0.01), loss = \"categorical_crossentropy\", metrics = ['accuracy'])\n",
        "\n",
        "print(model3.summary())"
      ],
      "execution_count": null,
      "outputs": [
        {
          "output_type": "stream",
          "text": [
            "Model: \"sequential_55\"\n",
            "_________________________________________________________________\n",
            "Layer (type)                 Output Shape              Param #   \n",
            "=================================================================\n",
            "dense_220 (Dense)            (None, 20)                860       \n",
            "_________________________________________________________________\n",
            "leaky_re_lu_26 (LeakyReLU)   (None, 20)                0         \n",
            "_________________________________________________________________\n",
            "dense_221 (Dense)            (None, 30)                630       \n",
            "_________________________________________________________________\n",
            "leaky_re_lu_27 (LeakyReLU)   (None, 30)                0         \n",
            "_________________________________________________________________\n",
            "dense_222 (Dense)            (None, 40)                1240      \n",
            "_________________________________________________________________\n",
            "dense_223 (Dense)            (None, 5)                 205       \n",
            "=================================================================\n",
            "Total params: 2,935\n",
            "Trainable params: 2,935\n",
            "Non-trainable params: 0\n",
            "_________________________________________________________________\n",
            "None\n"
          ],
          "name": "stdout"
        }
      ]
    },
    {
      "cell_type": "code",
      "metadata": {
        "colab": {
          "base_uri": "https://localhost:8080/"
        },
        "id": "TxvAFo-8IkQp",
        "outputId": "91845aac-eb00-4952-b794-4c660aaf3096"
      },
      "source": [
        "checkpoint3 = ModelCheckpoint(\"best_model3.hdf5\", monitor='loss', verbose=1, save_best_only=True, mode='auto', period=1)\n",
        "earlystopping3 = EarlyStopping(monitor = 'val_loss', patience = 3, mode = 'auto')\n",
        "\n",
        "history3 = model3.fit(train_x, train_y, validation_split= 0.20, epochs = 20, verbose = 1, batch_size= 32, callbacks=[checkpoint3, earlystopping3])"
      ],
      "execution_count": null,
      "outputs": [
        {
          "output_type": "stream",
          "text": [
            "WARNING:tensorflow:`period` argument is deprecated. Please use `save_freq` to specify the frequency in number of batches seen.\n",
            "Epoch 1/20\n",
            "2520/2520 [==============================] - 5s 2ms/step - loss: 0.2340 - accuracy: 0.9231 - val_loss: 0.0540 - val_accuracy: 0.9854\n",
            "\n",
            "Epoch 00001: loss improved from inf to 0.13644, saving model to best_model3.hdf5\n",
            "Epoch 2/20\n",
            "2520/2520 [==============================] - 5s 2ms/step - loss: 0.0690 - accuracy: 0.9811 - val_loss: 0.0965 - val_accuracy: 0.9763\n",
            "\n",
            "Epoch 00002: loss improved from 0.13644 to 0.06142, saving model to best_model3.hdf5\n",
            "Epoch 3/20\n",
            "2520/2520 [==============================] - 5s 2ms/step - loss: 0.0505 - accuracy: 0.9863 - val_loss: 0.0383 - val_accuracy: 0.9908\n",
            "\n",
            "Epoch 00003: loss improved from 0.06142 to 0.05015, saving model to best_model3.hdf5\n",
            "Epoch 4/20\n",
            "2520/2520 [==============================] - 5s 2ms/step - loss: 0.0424 - accuracy: 0.9885 - val_loss: 0.0315 - val_accuracy: 0.9917\n",
            "\n",
            "Epoch 00004: loss improved from 0.05015 to 0.04289, saving model to best_model3.hdf5\n",
            "Epoch 5/20\n",
            "2520/2520 [==============================] - 5s 2ms/step - loss: 0.0400 - accuracy: 0.9892 - val_loss: 0.0548 - val_accuracy: 0.9842\n",
            "\n",
            "Epoch 00005: loss improved from 0.04289 to 0.04169, saving model to best_model3.hdf5\n",
            "Epoch 6/20\n",
            "2520/2520 [==============================] - 5s 2ms/step - loss: 0.0390 - accuracy: 0.9892 - val_loss: 0.0379 - val_accuracy: 0.9904\n",
            "\n",
            "Epoch 00006: loss improved from 0.04169 to 0.03779, saving model to best_model3.hdf5\n",
            "Epoch 7/20\n",
            "2520/2520 [==============================] - 5s 2ms/step - loss: 0.0352 - accuracy: 0.9901 - val_loss: 0.0302 - val_accuracy: 0.9926\n",
            "\n",
            "Epoch 00007: loss improved from 0.03779 to 0.03555, saving model to best_model3.hdf5\n",
            "Epoch 8/20\n",
            "2520/2520 [==============================] - 5s 2ms/step - loss: 0.0356 - accuracy: 0.9907 - val_loss: 0.0368 - val_accuracy: 0.9895\n",
            "\n",
            "Epoch 00008: loss did not improve from 0.03555\n",
            "Epoch 9/20\n",
            "2520/2520 [==============================] - 5s 2ms/step - loss: 0.0347 - accuracy: 0.9912 - val_loss: 0.0332 - val_accuracy: 0.9925\n",
            "\n",
            "Epoch 00009: loss improved from 0.03555 to 0.03408, saving model to best_model3.hdf5\n",
            "Epoch 10/20\n",
            "2520/2520 [==============================] - 5s 2ms/step - loss: 0.0328 - accuracy: 0.9913 - val_loss: 0.0355 - val_accuracy: 0.9911\n",
            "\n",
            "Epoch 00010: loss improved from 0.03408 to 0.03257, saving model to best_model3.hdf5\n"
          ],
          "name": "stdout"
        }
      ]
    },
    {
      "cell_type": "code",
      "metadata": {
        "colab": {
          "base_uri": "https://localhost:8080/"
        },
        "id": "tR3NR4G6ItqM",
        "outputId": "5ee978fd-f3f9-4187-89d6-2db47de05032"
      },
      "source": [
        "score3 = model3.evaluate(test_x, test_y, verbose=0)\n",
        "print('Test loss:', score3[0])\n",
        "print('Test accuracy:', score3[1])"
      ],
      "execution_count": null,
      "outputs": [
        {
          "output_type": "stream",
          "text": [
            "Test loss: 0.034841034561395645\n",
            "Test accuracy: 0.9901964664459229\n"
          ],
          "name": "stdout"
        }
      ]
    },
    {
      "cell_type": "code",
      "metadata": {
        "colab": {
          "base_uri": "https://localhost:8080/"
        },
        "id": "IPnhvSKSI6WI",
        "outputId": "e00b692a-b08b-4fc6-9a1c-62cbd52a6a58"
      },
      "source": [
        "pred3 = model3.predict(test_x)\n",
        "print(pred3)\n",
        "prediction3 = np.argmax(pred3, axis = 1)\n",
        "label3 = np.argmax(test_y,axis = 1)"
      ],
      "execution_count": null,
      "outputs": [
        {
          "output_type": "stream",
          "text": [
            "[[1.9851769e-09 9.9999976e-01 2.1027903e-07 3.9137844e-09 2.3634876e-14]\n",
            " [3.1549804e-02 9.6245879e-01 3.8812137e-03 2.1101732e-03 6.5864436e-10]\n",
            " [9.9999988e-01 1.3254788e-07 2.4209550e-09 9.1800029e-19 0.0000000e+00]\n",
            " ...\n",
            " [3.5855399e-11 3.2781273e-09 1.0000000e+00 1.0479756e-14 7.6586072e-33]\n",
            " [5.1397787e-08 2.5799181e-07 9.9999964e-01 1.0160672e-11 1.0860932e-24]\n",
            " [4.7979070e-06 9.9704689e-01 2.8748047e-03 7.3205163e-05 3.8253614e-07]]\n"
          ],
          "name": "stdout"
        }
      ]
    },
    {
      "cell_type": "code",
      "metadata": {
        "colab": {
          "base_uri": "https://localhost:8080/"
        },
        "id": "6-n3gUB4I-9j",
        "outputId": "5f6ce0ac-d72f-404a-cd5c-5a22145e01ef"
      },
      "source": [
        "print(label3[:1000])\n",
        "print(prediction3[:1000])"
      ],
      "execution_count": null,
      "outputs": [
        {
          "output_type": "stream",
          "text": [
            "[1 1 0 1 0 0 1 0 0 1 1 0 0 0 1 1 2 1 1 0 1 1 1 1 0 0 1 1 0 1 1 0 1 0 1 0 1\n",
            " 3 0 0 1 1 1 0 1 1 0 1 0 1 1 0 1 0 1 1 1 1 1 1 0 1 2 2 0 1 1 0 2 2 1 1 1 1\n",
            " 0 1 1 1 0 1 1 1 1 1 0 1 1 1 0 1 2 1 0 1 2 1 0 1 0 1 1 1 0 0 0 1 0 2 1 1 1\n",
            " 0 1 0 1 1 0 1 1 1 1 0 1 1 1 0 1 0 1 1 1 1 2 1 2 1 0 1 1 1 2 1 1 1 2 0 2 0\n",
            " 1 0 2 1 0 0 1 1 0 0 1 0 0 0 1 0 1 0 1 1 1 1 1 0 0 0 1 1 1 0 1 1 1 0 2 1 1\n",
            " 0 1 1 0 1 1 1 3 1 1 1 1 1 0 1 0 0 1 0 2 1 1 2 1 1 1 1 0 1 1 1 1 0 2 1 1 1\n",
            " 1 1 2 1 1 0 1 1 0 1 0 1 1 1 1 1 1 1 1 0 2 2 1 0 0 0 0 0 0 1 0 1 1 1 0 0 2\n",
            " 1 0 0 1 1 2 1 0 0 1 1 1 2 1 1 1 0 1 0 1 2 0 2 2 0 1 2 2 1 0 1 0 0 0 1 1 0\n",
            " 1 1 1 0 1 1 1 1 1 1 2 2 0 1 1 1 1 1 1 1 0 2 2 1 1 0 0 1 1 1 1 0 1 0 2 0 1\n",
            " 0 1 1 1 0 1 0 1 1 0 1 1 0 0 1 1 1 2 0 1 1 2 0 3 2 1 1 1 1 1 1 1 2 0 1 1 1\n",
            " 1 1 1 1 1 0 1 1 1 1 1 1 1 2 1 0 1 1 0 1 2 1 1 0 2 0 1 1 0 1 0 1 1 1 1 1 1\n",
            " 1 0 1 1 0 0 1 1 1 0 1 1 1 0 1 1 0 1 1 0 0 1 1 1 0 1 1 0 1 0 2 1 0 0 1 0 1\n",
            " 1 1 1 1 2 0 2 3 0 1 0 1 1 1 1 0 0 1 1 1 0 0 1 1 1 1 0 2 1 1 0 0 0 0 0 0 1\n",
            " 1 1 1 2 1 2 2 2 1 1 1 0 1 1 1 1 1 1 1 1 2 2 1 0 0 1 1 0 1 1 1 2 0 0 2 1 1\n",
            " 1 0 1 0 1 1 0 1 0 0 1 2 1 0 1 1 0 1 2 0 0 1 1 1 2 1 0 1 0 1 1 0 0 1 1 1 1\n",
            " 0 1 1 1 0 1 2 0 1 1 2 0 1 0 1 0 1 0 0 0 1 1 0 1 0 0 1 1 2 1 1 1 3 1 2 1 1\n",
            " 0 1 1 0 2 0 0 1 1 0 2 1 0 0 1 1 1 2 0 0 0 0 1 1 0 1 1 1 2 0 1 0 1 0 2 1 1\n",
            " 2 1 0 0 1 2 1 0 0 1 0 1 1 1 1 2 1 0 1 0 1 0 1 2 1 1 1 1 1 0 0 0 1 0 1 0 2\n",
            " 2 1 0 2 2 0 1 1 1 1 1 0 1 1 1 1 0 0 0 0 1 1 0 0 2 0 0 1 0 1 1 1 1 0 1 1 1\n",
            " 1 1 1 2 1 1 1 1 1 0 1 0 0 1 2 1 1 2 0 0 0 2 0 0 1 0 1 1 1 0 0 1 0 0 1 0 1\n",
            " 0 1 1 0 1 1 0 1 0 1 0 1 1 0 1 1 1 2 0 0 1 1 0 2 1 1 0 0 0 1 1 1 2 0 1 2 0\n",
            " 0 1 1 1 0 1 0 1 0 0 1 1 1 0 1 2 1 0 1 0 0 0 0 1 1 1 0 2 0 1 1 2 1 2 1 1 2\n",
            " 1 1 1 0 0 0 1 1 0 1 1 1 1 3 0 0 2 0 1 1 1 0 1 2 2 0 2 1 1 1 0 1 1 2 1 0 1\n",
            " 0 1 1 1 1 0 1 1 0 1 2 0 0 0 1 1 0 1 3 1 1 0 0 0 0 0 1 1 1 1 1 0 0 1 0 0 0\n",
            " 1 0 1 1 1 0 2 2 0 1 0 1 0 1 0 0 1 0 0 0 0 1 0 0 1 0 1 0 0 1 2 0 0 1 0 1 0\n",
            " 1 1 1 1 1 1 2 0 0 1 1 1 0 1 1 0 1 0 0 0 0 0 1 2 2 0 2 0 1 2 2 1 1 0 1 1 1\n",
            " 1 1 1 0 1 1 1 0 1 0 1 0 1 0 2 2 2 1 0 0 0 0 0 0 1 0 1 0 0 0 1 1 1 0 1 1 1\n",
            " 0]\n",
            "[1 1 0 1 0 0 1 0 0 1 1 0 0 0 1 1 2 1 1 0 1 1 1 1 0 0 1 1 0 1 1 0 1 0 1 0 1\n",
            " 3 0 0 1 1 1 0 1 1 0 1 0 1 1 0 1 0 1 1 1 1 1 1 0 1 2 2 0 1 1 0 2 2 1 1 1 1\n",
            " 0 1 1 1 0 1 1 1 1 1 0 1 1 1 0 1 2 1 0 1 2 1 0 1 0 1 1 1 0 0 0 1 0 2 1 1 1\n",
            " 0 1 0 1 1 0 1 1 1 1 0 1 1 1 0 1 0 1 1 1 1 2 1 2 1 0 1 1 1 2 1 1 1 2 0 2 0\n",
            " 1 0 2 1 0 0 1 1 0 0 1 0 0 0 1 0 1 0 1 1 1 1 1 0 0 0 1 1 1 0 1 1 1 0 2 1 1\n",
            " 0 1 1 0 1 1 1 1 1 1 1 1 1 0 1 0 0 1 0 2 1 1 2 1 1 1 1 0 1 1 1 1 0 2 1 1 1\n",
            " 1 1 2 1 1 0 1 1 0 1 0 1 1 1 1 1 1 1 1 0 2 2 1 0 0 0 0 0 0 1 0 1 1 1 0 0 2\n",
            " 1 0 0 1 1 2 1 0 0 1 1 1 2 1 1 1 0 1 0 1 2 0 2 2 0 1 2 2 1 0 1 0 0 0 1 1 0\n",
            " 1 1 1 0 1 1 1 1 1 1 2 2 0 1 1 1 1 1 1 1 0 2 2 1 1 0 0 1 1 1 3 0 1 0 2 0 1\n",
            " 0 1 1 1 0 1 0 1 1 0 1 1 0 0 1 1 1 2 0 1 1 2 0 3 2 1 1 1 1 1 1 1 2 0 1 1 1\n",
            " 1 1 1 1 1 0 1 1 1 1 1 1 1 2 1 0 1 1 0 1 2 1 1 0 2 0 1 1 0 1 0 1 1 1 1 1 1\n",
            " 1 0 1 1 0 0 1 1 1 0 1 1 1 0 1 1 0 1 1 0 0 1 1 1 0 1 1 0 1 0 2 1 0 0 1 0 1\n",
            " 1 1 1 1 2 0 1 3 0 1 0 1 1 1 1 0 0 1 1 1 0 0 1 1 1 1 0 2 1 1 0 0 0 0 0 0 1\n",
            " 1 1 1 2 1 2 2 2 1 1 1 0 1 1 1 1 1 1 1 1 2 2 1 0 0 1 1 0 1 1 1 2 0 0 2 1 1\n",
            " 1 0 1 0 1 1 0 1 0 0 1 2 1 0 1 1 0 1 2 0 0 1 1 1 2 1 0 1 0 1 1 0 0 1 1 1 1\n",
            " 0 1 1 1 0 1 2 0 1 1 2 0 1 0 1 0 1 0 0 0 1 1 0 1 0 0 1 1 2 1 1 1 3 1 2 1 1\n",
            " 0 1 1 0 2 0 0 1 1 0 2 1 0 0 1 1 1 2 0 0 0 0 1 1 0 1 1 1 2 0 1 0 1 0 2 1 1\n",
            " 2 1 0 0 1 2 1 0 0 1 0 1 1 1 1 2 1 0 1 0 1 0 1 2 1 1 1 1 1 0 0 0 1 0 1 0 2\n",
            " 2 1 0 2 2 0 1 1 1 1 1 0 1 1 1 1 0 0 0 0 1 1 0 0 2 0 0 1 0 1 1 1 1 0 1 1 1\n",
            " 1 1 1 2 1 1 1 1 1 0 1 0 0 1 2 1 1 2 0 0 0 2 0 0 1 0 1 1 1 0 0 1 0 0 1 0 1\n",
            " 0 1 1 0 1 1 0 1 0 1 0 1 1 0 1 1 1 2 0 0 1 1 0 2 1 1 0 0 0 1 1 1 2 0 1 1 0\n",
            " 0 1 1 1 0 1 0 1 0 0 1 1 1 0 1 2 1 0 1 0 0 0 0 1 1 1 0 2 0 1 1 2 1 2 1 1 2\n",
            " 1 1 1 0 0 0 1 1 0 1 1 1 1 3 0 0 2 0 1 1 1 0 1 2 2 0 2 1 1 1 0 1 1 1 1 0 1\n",
            " 0 1 1 1 1 0 1 1 0 1 2 0 0 0 1 1 0 1 1 1 1 0 0 0 0 0 1 1 1 1 1 0 0 1 0 0 0\n",
            " 1 0 1 1 1 0 2 2 0 1 0 1 0 1 0 0 1 0 0 0 0 1 0 0 1 0 1 0 0 1 2 0 0 1 0 1 0\n",
            " 1 1 1 1 1 1 2 0 0 1 1 1 0 1 1 0 1 0 0 0 0 0 1 2 2 0 2 0 1 2 2 1 1 0 1 1 1\n",
            " 1 1 1 0 1 1 1 0 1 0 1 0 1 0 2 2 2 1 0 0 0 0 0 0 1 0 1 0 0 0 1 1 1 0 1 1 1\n",
            " 0]\n"
          ],
          "name": "stdout"
        }
      ]
    },
    {
      "cell_type": "code",
      "metadata": {
        "colab": {
          "base_uri": "https://localhost:8080/"
        },
        "id": "AOZ2iSvVAFf-",
        "outputId": "823bc809-8dc3-4321-8cd7-db2a6d290271"
      },
      "source": [
        "from sklearn.ensemble import RandomForestClassifier    #Bonus done using RandomForest\n",
        "clf=RandomForestClassifier(n_estimators=100)\n",
        "clf.fit(train_x,train_y)\n",
        "pred4 = clf.predict(test_x)\n",
        "\n",
        "from sklearn import metrics\n",
        "score4 = metrics.accuracy_score(test_y, pred4)\n",
        "print(\"Accuracy:\", score4)"
      ],
      "execution_count": null,
      "outputs": [
        {
          "output_type": "stream",
          "text": [
            "Accuracy: 0.998809287557055\n"
          ],
          "name": "stdout"
        }
      ]
    },
    {
      "cell_type": "code",
      "metadata": {
        "colab": {
          "base_uri": "https://localhost:8080/"
        },
        "id": "D6ZL6oZ7AcT3",
        "outputId": "254f269e-0101-4337-d683-8343cb1ea570"
      },
      "source": [
        "print(pred4)\n",
        "prediction4 = np.argmax(pred4, axis = 1)\n",
        "label4 = np.argmax(test_y,axis = 1)"
      ],
      "execution_count": null,
      "outputs": [
        {
          "output_type": "stream",
          "text": [
            "[[0. 1. 0. 0. 0.]\n",
            " [0. 1. 0. 0. 0.]\n",
            " [1. 0. 0. 0. 0.]\n",
            " ...\n",
            " [0. 0. 1. 0. 0.]\n",
            " [0. 0. 1. 0. 0.]\n",
            " [0. 1. 0. 0. 0.]]\n"
          ],
          "name": "stdout"
        }
      ]
    },
    {
      "cell_type": "code",
      "metadata": {
        "colab": {
          "base_uri": "https://localhost:8080/"
        },
        "id": "JFYwVos5A_43",
        "outputId": "b3cc7d39-78b4-4574-b358-ce1e7f79009e"
      },
      "source": [
        "print(label4[:1000])\n",
        "print(prediction4[:1000])"
      ],
      "execution_count": null,
      "outputs": [
        {
          "output_type": "stream",
          "text": [
            "[1 1 0 1 0 0 1 0 0 1 1 0 0 0 1 1 2 1 1 0 1 1 1 1 0 0 1 1 0 1 1 0 1 0 1 0 1\n",
            " 3 0 0 1 1 1 0 1 1 0 1 0 1 1 0 1 0 1 1 1 1 1 1 0 1 2 2 0 1 1 0 2 2 1 1 1 1\n",
            " 0 1 1 1 0 1 1 1 1 1 0 1 1 1 0 1 2 1 0 1 2 1 0 1 0 1 1 1 0 0 0 1 0 2 1 1 1\n",
            " 0 1 0 1 1 0 1 1 1 1 0 1 1 1 0 1 0 1 1 1 1 2 1 2 1 0 1 1 1 2 1 1 1 2 0 2 0\n",
            " 1 0 2 1 0 0 1 1 0 0 1 0 0 0 1 0 1 0 1 1 1 1 1 0 0 0 1 1 1 0 1 1 1 0 2 1 1\n",
            " 0 1 1 0 1 1 1 3 1 1 1 1 1 0 1 0 0 1 0 2 1 1 2 1 1 1 1 0 1 1 1 1 0 2 1 1 1\n",
            " 1 1 2 1 1 0 1 1 0 1 0 1 1 1 1 1 1 1 1 0 2 2 1 0 0 0 0 0 0 1 0 1 1 1 0 0 2\n",
            " 1 0 0 1 1 2 1 0 0 1 1 1 2 1 1 1 0 1 0 1 2 0 2 2 0 1 2 2 1 0 1 0 0 0 1 1 0\n",
            " 1 1 1 0 1 1 1 1 1 1 2 2 0 1 1 1 1 1 1 1 0 2 2 1 1 0 0 1 1 1 1 0 1 0 2 0 1\n",
            " 0 1 1 1 0 1 0 1 1 0 1 1 0 0 1 1 1 2 0 1 1 2 0 3 2 1 1 1 1 1 1 1 2 0 1 1 1\n",
            " 1 1 1 1 1 0 1 1 1 1 1 1 1 2 1 0 1 1 0 1 2 1 1 0 2 0 1 1 0 1 0 1 1 1 1 1 1\n",
            " 1 0 1 1 0 0 1 1 1 0 1 1 1 0 1 1 0 1 1 0 0 1 1 1 0 1 1 0 1 0 2 1 0 0 1 0 1\n",
            " 1 1 1 1 2 0 2 3 0 1 0 1 1 1 1 0 0 1 1 1 0 0 1 1 1 1 0 2 1 1 0 0 0 0 0 0 1\n",
            " 1 1 1 2 1 2 2 2 1 1 1 0 1 1 1 1 1 1 1 1 2 2 1 0 0 1 1 0 1 1 1 2 0 0 2 1 1\n",
            " 1 0 1 0 1 1 0 1 0 0 1 2 1 0 1 1 0 1 2 0 0 1 1 1 2 1 0 1 0 1 1 0 0 1 1 1 1\n",
            " 0 1 1 1 0 1 2 0 1 1 2 0 1 0 1 0 1 0 0 0 1 1 0 1 0 0 1 1 2 1 1 1 3 1 2 1 1\n",
            " 0 1 1 0 2 0 0 1 1 0 2 1 0 0 1 1 1 2 0 0 0 0 1 1 0 1 1 1 2 0 1 0 1 0 2 1 1\n",
            " 2 1 0 0 1 2 1 0 0 1 0 1 1 1 1 2 1 0 1 0 1 0 1 2 1 1 1 1 1 0 0 0 1 0 1 0 2\n",
            " 2 1 0 2 2 0 1 1 1 1 1 0 1 1 1 1 0 0 0 0 1 1 0 0 2 0 0 1 0 1 1 1 1 0 1 1 1\n",
            " 1 1 1 2 1 1 1 1 1 0 1 0 0 1 2 1 1 2 0 0 0 2 0 0 1 0 1 1 1 0 0 1 0 0 1 0 1\n",
            " 0 1 1 0 1 1 0 1 0 1 0 1 1 0 1 1 1 2 0 0 1 1 0 2 1 1 0 0 0 1 1 1 2 0 1 2 0\n",
            " 0 1 1 1 0 1 0 1 0 0 1 1 1 0 1 2 1 0 1 0 0 0 0 1 1 1 0 2 0 1 1 2 1 2 1 1 2\n",
            " 1 1 1 0 0 0 1 1 0 1 1 1 1 3 0 0 2 0 1 1 1 0 1 2 2 0 2 1 1 1 0 1 1 2 1 0 1\n",
            " 0 1 1 1 1 0 1 1 0 1 2 0 0 0 1 1 0 1 3 1 1 0 0 0 0 0 1 1 1 1 1 0 0 1 0 0 0\n",
            " 1 0 1 1 1 0 2 2 0 1 0 1 0 1 0 0 1 0 0 0 0 1 0 0 1 0 1 0 0 1 2 0 0 1 0 1 0\n",
            " 1 1 1 1 1 1 2 0 0 1 1 1 0 1 1 0 1 0 0 0 0 0 1 2 2 0 2 0 1 2 2 1 1 0 1 1 1\n",
            " 1 1 1 0 1 1 1 0 1 0 1 0 1 0 2 2 2 1 0 0 0 0 0 0 1 0 1 0 0 0 1 1 1 0 1 1 1\n",
            " 0]\n",
            "[1 1 0 1 0 0 1 0 0 1 1 0 0 0 1 1 2 1 1 0 1 1 1 1 0 0 1 1 0 1 1 0 1 0 1 0 1\n",
            " 3 0 0 1 1 1 0 1 1 0 1 0 1 1 0 1 0 1 1 1 1 1 1 0 1 2 2 0 1 1 0 2 2 1 1 1 1\n",
            " 0 1 1 1 0 1 1 1 1 1 0 1 1 1 0 1 2 1 0 1 2 1 0 1 0 1 1 1 0 0 0 1 0 2 1 1 1\n",
            " 0 1 0 1 1 0 1 1 1 1 0 1 1 1 0 1 0 1 1 1 1 2 1 2 1 0 1 1 1 2 1 1 1 2 0 2 0\n",
            " 1 0 2 1 0 0 1 1 0 0 1 0 0 0 1 0 1 0 1 1 1 1 1 0 0 0 1 1 1 0 1 1 1 0 2 1 1\n",
            " 0 1 1 0 1 1 1 3 1 1 1 1 1 0 1 0 0 1 0 2 1 1 2 1 1 1 1 0 1 1 1 1 0 2 1 1 1\n",
            " 1 1 2 1 1 0 1 1 0 1 0 1 1 1 1 1 1 1 1 0 2 2 1 0 0 0 0 0 0 1 0 1 1 1 0 0 2\n",
            " 1 0 0 1 1 2 1 0 0 1 1 1 2 1 1 1 0 1 0 1 2 0 2 2 0 1 2 2 1 0 1 0 0 0 1 1 0\n",
            " 1 1 1 0 1 1 1 1 1 1 2 2 0 1 1 1 1 1 1 1 0 2 2 1 1 0 0 1 1 1 1 0 1 0 2 0 1\n",
            " 0 1 1 1 0 1 0 1 1 0 1 1 0 0 1 1 1 2 0 1 1 2 0 3 2 1 1 1 1 1 1 1 2 0 1 1 1\n",
            " 1 1 1 1 1 0 1 1 1 1 1 1 1 2 1 0 1 1 0 1 2 1 1 0 2 0 1 1 0 1 0 1 1 1 1 1 1\n",
            " 1 0 1 1 0 0 1 1 1 0 1 1 1 0 1 1 0 1 1 0 0 1 1 1 0 1 1 0 1 0 2 1 0 0 1 0 1\n",
            " 1 1 1 1 2 0 2 3 0 1 0 1 1 1 1 0 0 1 1 1 0 0 1 1 1 1 0 2 1 1 0 0 0 0 0 0 1\n",
            " 1 1 1 2 1 2 2 2 1 1 1 0 1 1 1 1 1 1 1 1 2 2 1 0 0 1 1 0 1 1 1 2 0 0 2 1 1\n",
            " 1 0 1 0 1 1 0 1 0 0 1 2 1 0 1 1 0 1 2 0 0 1 1 1 2 1 0 1 0 1 1 0 0 1 1 1 1\n",
            " 0 1 1 1 0 1 2 0 1 1 2 0 1 0 1 0 1 0 0 0 1 1 0 1 0 0 1 1 2 1 1 1 3 1 2 1 1\n",
            " 0 1 1 0 2 0 0 1 1 0 2 1 0 0 1 1 1 2 0 0 0 0 1 1 0 1 1 1 2 0 1 0 1 0 2 1 1\n",
            " 2 1 0 0 1 2 1 0 0 1 0 1 1 1 1 2 1 0 1 0 1 0 1 2 1 1 1 1 1 0 0 0 1 0 1 0 2\n",
            " 2 1 0 2 2 0 1 1 1 1 1 0 1 1 1 1 0 0 0 0 1 1 0 0 2 0 0 1 0 1 1 1 1 0 1 1 1\n",
            " 1 1 1 2 1 1 1 1 1 0 1 0 0 1 2 1 1 2 0 0 0 2 0 0 1 0 1 1 1 0 0 1 0 0 1 0 1\n",
            " 0 1 1 0 1 1 0 1 0 1 0 1 1 0 1 1 1 2 0 0 1 1 0 2 1 1 0 0 0 1 1 1 2 0 1 1 0\n",
            " 0 1 1 1 0 1 0 1 0 0 1 1 1 0 1 2 1 0 1 0 0 0 0 1 1 1 0 2 0 1 1 2 1 2 1 1 2\n",
            " 1 1 1 0 0 0 1 1 0 1 1 1 1 3 0 0 2 0 1 1 1 0 1 2 2 0 2 1 1 1 0 1 1 2 1 0 1\n",
            " 0 1 1 1 1 0 1 1 0 1 2 0 0 0 1 1 0 1 3 1 1 0 0 0 0 0 1 1 1 1 1 0 0 1 0 0 0\n",
            " 1 0 1 1 1 0 2 2 0 1 0 1 0 1 0 0 1 0 0 0 0 1 0 0 1 0 1 0 0 1 2 0 0 1 0 1 0\n",
            " 1 1 1 1 1 1 2 0 0 1 1 1 0 1 1 0 1 0 0 0 0 0 1 2 2 0 2 0 1 2 2 1 1 0 1 1 1\n",
            " 1 1 1 0 1 1 1 0 1 0 1 0 1 0 2 2 2 1 0 0 0 0 0 0 1 0 1 0 0 0 1 1 1 0 1 1 1\n",
            " 0]\n"
          ],
          "name": "stdout"
        }
      ]
    },
    {
      "cell_type": "code",
      "metadata": {
        "colab": {
          "base_uri": "https://localhost:8080/"
        },
        "id": "9aqWfPLHmSq8",
        "outputId": "0d9719e8-de08-4817-c22b-c0b00d4fdaf7"
      },
      "source": [
        "print(prediction[0])\n",
        "print(prediction2[0])\n",
        "print(prediction3[0])\n",
        "print(prediction4[0])"
      ],
      "execution_count": null,
      "outputs": [
        {
          "output_type": "stream",
          "text": [
            "1\n",
            "1\n",
            "1\n",
            "1\n"
          ],
          "name": "stdout"
        }
      ]
    },
    {
      "cell_type": "code",
      "metadata": {
        "colab": {
          "base_uri": "https://localhost:8080/"
        },
        "id": "eappKjOoRfjG",
        "outputId": "88984f77-c519-468f-ce1c-3a11f152d061"
      },
      "source": [
        "print(test_y.shape)                            #Ensembling through voting\n",
        "result = [0] * test_y.shape[0]\n",
        "for i in range(test_y.shape[0]):\n",
        "   \n",
        "   for x in range(5):\n",
        "       arr = [0] * 5\n",
        "       arr[prediction[i]]+=1\n",
        "       arr[prediction2[i]]+=1\n",
        "       arr[prediction3[i]]+=1\n",
        "       arr[prediction4[i]]+=1\n",
        "\n",
        "       result[i]  = np.argmax(arr)\n",
        "     \n",
        "   #print(arr)\n",
        "   \n",
        "   #print(result)\n",
        "\n",
        "print(result)\n",
        "data_t =np.argmax(test_y,axis = 1)\n",
        "print(data_t)"
      ],
      "execution_count": null,
      "outputs": [
        {
          "output_type": "stream",
          "text": [
            "(25195, 5)\n",
            "[1, 1, 0, 1, 0, 0, 1, 0, 0, 1, 1, 0, 0, 0, 1, 1, 2, 1, 1, 0, 1, 1, 1, 1, 0, 0, 1, 1, 0, 1, 1, 0, 1, 0, 1, 0, 1, 3, 0, 0, 1, 1, 1, 0, 1, 1, 0, 1, 0, 1, 1, 0, 1, 0, 1, 1, 1, 1, 1, 1, 0, 1, 2, 2, 0, 1, 1, 0, 2, 2, 1, 1, 1, 1, 0, 1, 1, 1, 0, 1, 1, 1, 1, 1, 0, 1, 1, 1, 0, 1, 2, 1, 0, 1, 2, 1, 0, 1, 0, 1, 1, 1, 0, 0, 0, 1, 0, 2, 1, 1, 1, 0, 1, 0, 1, 1, 0, 1, 1, 1, 1, 0, 1, 1, 1, 0, 1, 0, 1, 1, 1, 1, 2, 1, 2, 1, 0, 1, 1, 1, 2, 1, 1, 1, 2, 0, 2, 0, 1, 0, 2, 1, 0, 0, 1, 1, 0, 0, 1, 0, 0, 0, 1, 0, 1, 0, 1, 1, 1, 1, 1, 0, 0, 0, 1, 1, 1, 0, 1, 1, 1, 0, 2, 1, 1, 0, 1, 1, 0, 1, 1, 1, 3, 1, 1, 1, 1, 1, 0, 1, 0, 0, 1, 0, 2, 1, 1, 2, 1, 1, 1, 1, 0, 1, 1, 1, 1, 0, 2, 1, 1, 1, 1, 1, 2, 1, 1, 0, 1, 1, 0, 1, 0, 1, 1, 1, 1, 1, 1, 1, 1, 0, 2, 2, 1, 0, 0, 0, 0, 0, 0, 1, 0, 1, 1, 1, 0, 0, 2, 1, 0, 0, 1, 1, 2, 1, 0, 0, 1, 1, 1, 2, 1, 1, 1, 0, 1, 0, 1, 2, 0, 2, 2, 0, 1, 2, 2, 1, 0, 1, 0, 0, 0, 1, 1, 0, 1, 1, 1, 0, 1, 1, 1, 1, 1, 1, 2, 2, 0, 1, 1, 1, 1, 1, 1, 1, 0, 2, 2, 1, 1, 0, 0, 1, 1, 1, 1, 0, 1, 0, 2, 0, 1, 0, 1, 1, 1, 0, 1, 0, 1, 1, 0, 1, 1, 0, 0, 1, 1, 1, 2, 0, 1, 1, 2, 0, 3, 2, 1, 1, 1, 1, 1, 1, 1, 2, 0, 1, 1, 1, 1, 1, 1, 1, 1, 0, 1, 1, 1, 1, 1, 1, 1, 2, 1, 0, 1, 1, 0, 1, 2, 1, 1, 0, 2, 0, 1, 1, 0, 1, 0, 1, 1, 1, 1, 1, 1, 1, 0, 1, 1, 0, 0, 1, 1, 1, 0, 1, 1, 1, 0, 1, 1, 0, 1, 1, 0, 0, 1, 1, 1, 0, 1, 1, 0, 1, 0, 2, 1, 0, 0, 1, 0, 1, 1, 1, 1, 1, 2, 0, 2, 3, 0, 1, 0, 1, 1, 1, 1, 0, 0, 1, 1, 1, 0, 0, 1, 1, 1, 1, 0, 2, 1, 1, 0, 0, 0, 0, 0, 0, 1, 1, 1, 1, 2, 1, 2, 2, 2, 1, 1, 1, 0, 1, 1, 1, 1, 1, 1, 1, 1, 2, 2, 1, 0, 0, 1, 1, 0, 1, 1, 1, 2, 0, 0, 2, 1, 1, 1, 0, 1, 0, 1, 1, 0, 1, 0, 0, 1, 2, 1, 0, 1, 1, 0, 1, 2, 0, 0, 1, 1, 1, 2, 1, 0, 1, 0, 1, 1, 0, 0, 1, 1, 1, 1, 0, 1, 1, 1, 0, 1, 2, 0, 1, 1, 2, 0, 1, 0, 1, 0, 1, 0, 0, 0, 1, 1, 0, 1, 0, 0, 1, 1, 2, 1, 1, 1, 3, 1, 2, 1, 1, 0, 1, 1, 0, 2, 0, 0, 1, 1, 0, 2, 1, 0, 0, 1, 1, 1, 2, 0, 0, 0, 0, 1, 1, 0, 1, 1, 1, 2, 0, 1, 0, 1, 0, 2, 1, 1, 2, 1, 0, 0, 1, 2, 1, 0, 0, 1, 0, 1, 1, 1, 1, 2, 1, 0, 1, 0, 1, 0, 1, 2, 1, 1, 1, 1, 1, 0, 0, 0, 1, 0, 1, 0, 2, 2, 1, 0, 2, 2, 0, 1, 1, 1, 1, 1, 0, 1, 1, 1, 1, 0, 0, 0, 0, 1, 1, 0, 0, 2, 0, 0, 1, 0, 1, 1, 1, 1, 0, 1, 1, 1, 1, 1, 1, 2, 1, 1, 1, 1, 1, 0, 1, 0, 0, 1, 2, 1, 1, 2, 0, 0, 0, 2, 0, 0, 1, 0, 1, 1, 1, 0, 0, 1, 0, 0, 1, 0, 1, 0, 1, 1, 0, 1, 1, 0, 1, 0, 1, 0, 1, 1, 0, 1, 1, 1, 2, 0, 0, 1, 1, 0, 2, 1, 1, 0, 0, 0, 1, 1, 1, 2, 0, 1, 1, 0, 0, 1, 1, 1, 0, 1, 0, 1, 0, 0, 1, 1, 1, 0, 1, 2, 1, 0, 1, 0, 0, 0, 0, 1, 1, 1, 0, 2, 0, 1, 1, 2, 1, 2, 1, 1, 2, 1, 1, 1, 0, 0, 0, 1, 1, 0, 1, 1, 1, 1, 3, 0, 0, 2, 0, 1, 1, 1, 0, 1, 2, 2, 0, 2, 1, 1, 1, 0, 1, 1, 1, 1, 0, 1, 0, 1, 1, 1, 1, 0, 1, 1, 0, 1, 2, 0, 0, 0, 1, 1, 0, 1, 1, 1, 1, 0, 0, 0, 0, 0, 1, 1, 1, 1, 1, 0, 0, 1, 0, 0, 0, 1, 0, 1, 1, 1, 0, 2, 2, 0, 1, 0, 1, 0, 1, 0, 0, 1, 0, 0, 0, 0, 1, 0, 0, 1, 0, 1, 0, 0, 1, 2, 0, 0, 1, 0, 1, 0, 1, 1, 1, 1, 1, 1, 2, 0, 0, 1, 1, 1, 0, 1, 1, 0, 1, 0, 0, 0, 0, 0, 1, 2, 2, 0, 2, 0, 1, 2, 2, 1, 1, 0, 1, 1, 1, 1, 1, 1, 0, 1, 1, 1, 0, 1, 0, 1, 0, 1, 0, 2, 2, 2, 1, 0, 0, 0, 0, 0, 0, 1, 0, 1, 0, 0, 0, 1, 1, 1, 0, 1, 1, 1, 0, 0, 1, 0, 1, 0, 1, 0, 1, 1, 0, 2, 1, 1, 1, 1, 2, 0, 1, 1, 0, 1, 1, 2, 0, 1, 0, 1, 0, 2, 1, 1, 2, 1, 0, 0, 1, 1, 1, 2, 1, 1, 1, 1, 0, 1, 1, 1, 1, 0, 0, 1, 1, 1, 0, 1, 1, 1, 0, 1, 1, 0, 1, 1, 0, 0, 1, 1, 1, 2, 1, 1, 2, 0, 0, 0, 0, 1, 1, 0, 0, 0, 1, 1, 0, 0, 0, 1, 1, 1, 1, 2, 0, 0, 1, 2, 1, 1, 1, 1, 1, 0, 0, 0, 2, 0, 1, 2, 2, 0, 0, 0, 1, 1, 0, 1, 2, 1, 0, 1, 1, 0, 2, 1, 1, 0, 1, 1, 0, 1, 1, 0, 1, 0, 1, 1, 1, 0, 0, 2, 0, 0, 1, 1, 1, 0, 0, 1, 1, 0, 1, 1, 1, 1, 0, 0, 1, 1, 0, 0, 1, 1, 0, 0, 1, 1, 1, 1, 1, 1, 1, 1, 0, 0, 2, 0, 1, 0, 0, 1, 1, 0, 2, 1, 1, 0, 2, 1, 1, 1, 0, 1, 1, 1, 1, 2, 0, 1, 0, 0, 2, 1, 0, 0, 1, 1, 1, 0, 1, 1, 1, 1, 1, 1, 0, 1, 2, 1, 1, 0, 0, 1, 0, 1, 0, 1, 0, 1, 0, 0, 0, 1, 1, 0, 1, 1, 2, 0, 0, 0, 1, 1, 1, 0, 1, 0, 1, 0, 1, 1, 2, 1, 0, 2, 1, 0, 1, 2, 1, 1, 1, 0, 0, 1, 0, 2, 0, 0, 1, 1, 1, 0, 2, 1, 1, 1, 1, 1, 1, 1, 1, 2, 1, 1, 1, 0, 1, 0, 0, 1, 0, 1, 1, 1, 1, 0, 0, 0, 1, 1, 1, 1, 1, 0, 2, 2, 1, 1, 0, 1, 0, 0, 1, 1, 0, 1, 1, 1, 1, 1, 1, 1, 0, 2, 0, 1, 0, 0, 1, 1, 1, 0, 1, 0, 0, 1, 0, 2, 1, 1, 1, 1, 2, 0, 1, 0, 1, 2, 1, 0, 0, 1, 1, 0, 0, 1, 0, 1, 1, 1, 1, 1, 1, 0, 1, 1, 1, 1, 1, 0, 0, 1, 3, 0, 0, 1, 1, 0, 1, 1, 1, 1, 1, 1, 1, 1, 0, 1, 1, 1, 2, 1, 0, 2, 0, 1, 1, 1, 1, 0, 0, 0, 2, 0, 0, 0, 0, 1, 0, 2, 0, 0, 1, 0, 1, 1, 1, 1, 0, 1, 0, 1, 0, 0, 0, 1, 1, 1, 1, 1, 1, 1, 0, 1, 0, 1, 1, 1, 1, 1, 1, 1, 0, 1, 1, 1, 1, 0, 0, 1, 1, 0, 1, 2, 1, 0, 1, 0, 0, 2, 1, 1, 1, 1, 0, 0, 0, 1, 1, 1, 1, 1, 2, 1, 0, 1, 0, 0, 0, 0, 1, 1, 1, 1, 0, 0, 0, 0, 0, 1, 1, 1, 0, 1, 2, 0, 0, 1, 1, 1, 1, 0, 2, 0, 1, 1, 0, 0, 2, 0, 2, 2, 1, 1, 0, 1, 0, 0, 1, 1, 0, 0, 1, 1, 1, 1, 0, 1, 2, 0, 2, 1, 0, 0, 0, 1, 1, 1, 0, 0, 0, 1, 0, 1, 0, 1, 0, 1, 0, 0, 1, 0, 1, 1, 1, 1, 1, 0, 0, 0, 1, 1, 1, 0, 1, 1, 1, 1, 1, 1, 1, 2, 1, 1, 1, 2, 0, 1, 3, 1, 1, 1, 1, 1, 2, 1, 0, 1, 2, 2, 0, 1, 1, 0, 1, 1, 1, 0, 1, 0, 0, 1, 0, 1, 2, 2, 0, 1, 1, 1, 0, 1, 1, 0, 1, 0, 2, 1, 0, 1, 0, 0, 0, 1, 1, 1, 1, 2, 0, 2, 1, 0, 0, 1, 0, 1, 0, 2, 1, 1, 1, 0, 1, 1, 2, 1, 1, 1, 1, 1, 0, 1, 1, 0, 0, 0, 0, 0, 1, 0, 0, 3, 1, 1, 0, 1, 0, 1, 1, 0, 1, 1, 0, 1, 1, 1, 2, 1, 0, 2, 1, 0, 2, 0, 0, 2, 1, 1, 2, 0, 1, 0, 0, 1, 0, 1, 1, 1, 1, 0, 1, 0, 1, 0, 1, 0, 0, 1, 1, 0, 0, 1, 0, 1, 0, 2, 0, 1, 1, 0, 0, 1, 1, 1, 1, 1, 0, 0, 0, 1, 1, 1, 1, 0, 1, 0, 2, 0, 1, 2, 1, 0, 1, 1, 1, 0, 1, 1, 1, 1, 1, 0, 2, 2, 1, 1, 1, 0, 1, 2, 1, 1, 1, 1, 0, 2, 1, 1, 2, 0, 1, 1, 1, 1, 0, 1, 1, 1, 1, 0, 0, 0, 1, 1, 0, 1, 1, 0, 2, 0, 1, 1, 2, 0, 1, 1, 2, 1, 0, 1, 1, 1, 1, 1, 0, 1, 0, 1, 0, 0, 1, 0, 0, 0, 1, 2, 0, 1, 0, 1, 1, 1, 1, 0, 0, 0, 1, 0, 0, 0, 1, 1, 1, 0, 1, 0, 0, 1, 0, 1, 2, 1, 1, 1, 1, 0, 1, 1, 0, 1, 1, 0, 0, 1, 1, 1, 1, 0, 2, 1, 0, 0, 0, 0, 0, 0, 1, 2, 1, 1, 0, 1, 1, 0, 0, 1, 1, 1, 0, 1, 0, 0, 0, 1, 1, 1, 1, 1, 0, 1, 2, 0, 1, 1, 1, 1, 1, 0, 1, 0, 0, 1, 1, 0, 1, 0, 1, 2, 1, 0, 1, 0, 1, 1, 1, 1, 1, 1, 0, 0, 1, 0, 0, 1, 1, 1, 1, 0, 1, 0, 2, 0, 2, 0, 0, 1, 1, 0, 1, 0, 0, 1, 1, 1, 0, 0, 1, 0, 1, 0, 1, 0, 1, 1, 0, 1, 1, 1, 0, 1, 0, 0, 1, 0, 0, 0, 0, 1, 1, 0, 1, 1, 0, 1, 0, 1, 2, 2, 1, 1, 1, 1, 0, 0, 1, 1, 1, 1, 2, 0, 0, 2, 1, 2, 1, 1, 1, 1, 0, 1, 0, 1, 1, 0, 0, 0, 1, 1, 0, 1, 0, 1, 1, 2, 0, 0, 1, 1, 1, 0, 1, 0, 0, 1, 1, 1, 1, 0, 0, 0, 1, 0, 0, 1, 0, 1, 0, 0, 0, 0, 1, 1, 0, 1, 0, 1, 1, 1, 0, 0, 2, 1, 0, 2, 0, 1, 2, 2, 0, 1, 0, 1, 0, 0, 0, 0, 2, 0, 1, 1, 2, 0, 0, 0, 1, 0, 1, 1, 2, 1, 0, 1, 2, 1, 0, 0, 1, 1, 0, 0, 1, 0, 1, 0, 1, 0, 2, 1, 1, 1, 0, 0, 2, 1, 2, 1, 1, 1, 1, 0, 1, 0, 1, 2, 1, 1, 1, 3, 1, 1, 1, 0, 0, 0, 1, 2, 1, 0, 0, 1, 1, 2, 1, 1, 2, 0, 0, 1, 0, 1, 1, 0, 1, 1, 0, 1, 1, 0, 1, 0, 0, 2, 1, 1, 0, 1, 0, 1, 1, 2, 1, 1, 2, 1, 1, 1, 0, 1, 0, 1, 0, 0, 1, 1, 0, 1, 2, 2, 0, 1, 1, 1, 2, 1, 1, 0, 1, 1, 0, 0, 1, 2, 1, 1, 1, 1, 0, 1, 2, 0, 1, 1, 1, 1, 0, 0, 0, 0, 1, 1, 1, 1, 0, 1, 1, 0, 1, 0, 1, 0, 1, 1, 1, 1, 0, 1, 1, 0, 1, 1, 0, 0, 1, 0, 1, 0, 1, 0, 2, 0, 1, 1, 1, 1, 1, 0, 1, 1, 1, 1, 1, 1, 0, 2, 1, 2, 1, 0, 1, 0, 0, 1, 1, 1, 1, 0, 1, 0, 0, 0, 1, 1, 0, 2, 1, 2, 0, 1, 1, 1, 1, 1, 0, 2, 0, 1, 0, 0, 1, 1, 0, 0, 1, 0, 1, 2, 1, 0, 0, 2, 1, 0, 1, 0, 0, 0, 1, 0, 1, 0, 0, 1, 1, 0, 0, 1, 1, 2, 1, 0, 0, 1, 1, 0, 1, 1, 1, 2, 0, 1, 1, 1, 1, 2, 1, 1, 1, 0, 1, 0, 2, 2, 1, 0, 2, 2, 1, 0, 0, 1, 1, 1, 0, 1, 1, 2, 1, 1, 1, 1, 0, 0, 0, 1, 0, 0, 1, 2, 1, 1, 0, 2, 0, 0, 0, 0, 2, 1, 1, 1, 0, 1, 0, 1, 0, 1, 0, 0, 1, 0, 1, 0, 1, 1, 0, 1, 0, 1, 2, 1, 1, 0, 1, 1, 0, 1, 1, 0, 0, 1, 1, 1, 2, 0, 0, 1, 0, 1, 1, 1, 1, 1, 0, 0, 1, 0, 1, 1, 1, 0, 1, 0, 1, 1, 0, 0, 0, 0, 1, 1, 1, 0, 1, 1, 1, 1, 1, 0, 2, 0, 0, 1, 0, 0, 1, 1, 0, 1, 0, 1, 2, 1, 1, 1, 1, 0, 2, 0, 1, 2, 0, 0, 1, 1, 0, 1, 1, 0, 1, 0, 2, 1, 1, 0, 1, 0, 0, 0, 1, 1, 0, 0, 0, 0, 0, 1, 2, 1, 1, 1, 0, 1, 1, 1, 1, 1, 1, 1, 1, 1, 1, 1, 1, 0, 1, 1, 0, 1, 1, 0, 0, 1, 0, 1, 0, 0, 0, 0, 1, 1, 0, 1, 1, 0, 0, 0, 2, 0, 1, 0, 1, 0, 0, 0, 0, 0, 2, 1, 1, 1, 0, 0, 1, 1, 1, 0, 0, 0, 0, 1, 1, 1, 0, 0, 0, 0, 1, 1, 1, 1, 0, 1, 2, 0, 0, 0, 2, 0, 2, 0, 1, 0, 0, 1, 0, 1, 0, 1, 0, 0, 2, 0, 1, 1, 1, 1, 1, 0, 0, 1, 0, 2, 0, 0, 1, 0, 1, 0, 1, 1, 1, 0, 1, 2, 1, 1, 0, 1, 2, 0, 0, 0, 2, 0, 2, 1, 1, 1, 1, 1, 1, 0, 0, 1, 1, 1, 1, 2, 1, 1, 2, 0, 1, 0, 0, 1, 1, 1, 1, 0, 1, 1, 1, 0, 0, 0, 0, 1, 0, 1, 0, 0, 0, 0, 1, 1, 1, 1, 1, 1, 0, 0, 2, 1, 2, 1, 1, 0, 1, 0, 1, 0, 1, 2, 1, 1, 1, 0, 0, 0, 0, 1, 0, 1, 1, 0, 0, 0, 0, 1, 0, 0, 1, 0, 0, 0, 1, 1, 1, 0, 1, 0, 1, 1, 1, 0, 0, 0, 0, 1, 0, 2, 0, 1, 1, 2, 2, 1, 1, 0, 1, 1, 1, 1, 2, 1, 0, 1, 0, 0, 2, 0, 1, 0, 1, 2, 1, 0, 2, 1, 0, 1, 1, 0, 1, 1, 1, 0, 1, 1, 1, 0, 0, 1, 1, 1, 1, 1, 0, 1, 1, 1, 0, 2, 1, 1, 1, 1, 2, 1, 1, 0, 2, 1, 0, 0, 1, 2, 0, 1, 0, 1, 1, 1, 1, 0, 1, 1, 0, 1, 1, 0, 0, 0, 0, 1, 1, 1, 0, 0, 0, 2, 1, 1, 1, 0, 1, 1, 2, 0, 1, 1, 0, 0, 1, 1, 0, 0, 0, 1, 1, 0, 1, 1, 1, 1, 0, 0, 0, 1, 0, 1, 0, 1, 0, 1, 2, 1, 1, 2, 2, 0, 1, 1, 1, 1, 0, 0, 0, 1, 1, 1, 0, 0, 0, 2, 3, 2, 1, 0, 0, 1, 1, 1, 1, 1, 1, 0, 1, 1, 0, 1, 0, 0, 1, 1, 1, 2, 0, 0, 1, 2, 0, 1, 0, 0, 0, 1, 2, 0, 1, 1, 1, 2, 1, 0, 1, 1, 2, 0, 1, 0, 0, 1, 1, 1, 1, 1, 1, 1, 1, 1, 1, 0, 2, 2, 0, 0, 1, 1, 0, 1, 1, 1, 2, 0, 1, 0, 0, 1, 1, 1, 1, 0, 0, 0, 0, 1, 0, 1, 1, 1, 2, 0, 0, 0, 0, 0, 1, 1, 1, 2, 1, 1, 0, 1, 0, 2, 1, 0, 0, 0, 1, 2, 0, 1, 0, 1, 1, 0, 1, 0, 1, 0, 2, 2, 0, 1, 1, 1, 0, 1, 1, 0, 0, 0, 1, 1, 1, 2, 1, 1, 0, 0, 1, 1, 0, 1, 2, 1, 1, 1, 1, 1, 1, 1, 1, 1, 1, 0, 1, 1, 2, 1, 1, 1, 0, 0, 1, 1, 0, 1, 1, 1, 1, 1, 0, 0, 1, 1, 1, 0, 1, 1, 1, 0, 0, 3, 0, 0, 2, 1, 0, 1, 1, 0, 0, 1, 0, 1, 1, 0, 0, 1, 0, 1, 1, 0, 1, 0, 1, 3, 1, 2, 1, 0, 1, 1, 0, 0, 0, 0, 1, 0, 1, 1, 0, 1, 0, 1, 0, 0, 2, 0, 0, 0, 1, 1, 1, 0, 0, 0, 0, 0, 1, 0, 1, 3, 1, 1, 0, 0, 1, 2, 0, 1, 1, 0, 0, 0, 0, 0, 1, 1, 1, 0, 1, 1, 1, 0, 0, 1, 1, 1, 1, 1, 1, 1, 1, 1, 0, 1, 1, 1, 0, 1, 0, 0, 0, 1, 0, 1, 0, 1, 0, 1, 2, 2, 1, 0, 2, 2, 1, 1, 1, 1, 1, 0, 1, 0, 0, 2, 0, 0, 1, 1, 1, 1, 1, 1, 0, 2, 0, 1, 0, 0, 1, 0, 0, 0, 0, 1, 0, 0, 1, 1, 1, 2, 1, 0, 1, 1, 1, 1, 0, 1, 1, 2, 0, 1, 1, 2, 1, 1, 1, 1, 0, 0, 1, 1, 0, 0, 1, 1, 1, 0, 1, 1, 0, 1, 1, 1, 2, 2, 2, 1, 0, 1, 2, 1, 2, 0, 1, 0, 1, 0, 2, 0, 1, 0, 0, 1, 2, 1, 0, 1, 0, 1, 0, 1, 1, 1, 1, 1, 2, 0, 1, 0, 1, 0, 1, 1, 1, 1, 1, 0, 1, 0, 1, 1, 0, 0, 1, 1, 1, 1, 0, 2, 0, 0, 1, 2, 1, 2, 2, 0, 1, 1, 0, 1, 0, 1, 0, 1, 1, 1, 1, 1, 0, 0, 0, 2, 1, 1, 0, 1, 1, 1, 1, 0, 1, 1, 1, 1, 1, 1, 1, 0, 0, 3, 0, 1, 1, 2, 2, 0, 1, 0, 0, 0, 0, 1, 1, 0, 3, 1, 1, 1, 0, 1, 0, 1, 1, 1, 1, 0, 0, 0, 1, 0, 0, 1, 0, 0, 0, 0, 1, 1, 1, 1, 1, 1, 0, 1, 1, 1, 0, 0, 0, 1, 0, 0, 1, 2, 0, 1, 1, 1, 0, 2, 1, 1, 0, 1, 1, 1, 0, 1, 1, 1, 0, 2, 1, 2, 1, 1, 1, 0, 0, 0, 1, 0, 1, 1, 1, 1, 1, 0, 0, 1, 0, 1, 1, 2, 0, 0, 0, 0, 1, 1, 2, 1, 0, 1, 0, 1, 1, 1, 1, 1, 1, 0, 0, 1, 0, 1, 0, 1, 0, 2, 0, 1, 2, 2, 1, 0, 1, 1, 0, 1, 1, 1, 1, 1, 1, 0, 0, 2, 1, 0, 1, 1, 0, 0, 0, 1, 1, 3, 1, 1, 0, 0, 1, 1, 1, 1, 1, 1, 0, 1, 0, 1, 1, 1, 1, 1, 1, 0, 0, 1, 0, 1, 1, 0, 1, 0, 0, 0, 1, 0, 0, 1, 1, 0, 1, 1, 1, 2, 1, 0, 0, 0, 0, 1, 0, 1, 0, 1, 0, 0, 2, 1, 0, 0, 1, 0, 2, 0, 1, 1, 1, 0, 2, 0, 1, 0, 0, 1, 1, 2, 1, 0, 1, 1, 1, 2, 0, 1, 1, 1, 1, 1, 1, 1, 0, 0, 1, 0, 1, 1, 1, 2, 1, 1, 1, 1, 0, 0, 1, 0, 2, 2, 0, 2, 0, 1, 1, 1, 1, 0, 1, 1, 1, 0, 2, 0, 2, 0, 0, 0, 1, 1, 1, 0, 2, 1, 1, 1, 2, 1, 0, 1, 1, 1, 1, 0, 1, 2, 0, 0, 1, 1, 0, 0, 1, 1, 2, 1, 1, 1, 1, 1, 1, 1, 1, 1, 0, 1, 1, 2, 0, 1, 2, 1, 1, 1, 1, 1, 2, 0, 0, 0, 1, 0, 0, 0, 0, 2, 0, 1, 0, 1, 1, 1, 0, 1, 1, 1, 1, 1, 0, 1, 0, 1, 2, 1, 1, 0, 0, 1, 1, 1, 0, 1, 1, 0, 1, 0, 1, 1, 1, 1, 2, 0, 1, 1, 0, 1, 1, 0, 0, 1, 0, 0, 0, 0, 2, 1, 1, 2, 1, 1, 1, 1, 1, 0, 1, 0, 1, 1, 0, 0, 0, 1, 1, 0, 1, 0, 0, 0, 0, 0, 1, 1, 0, 0, 0, 1, 2, 2, 1, 1, 1, 0, 0, 0, 0, 0, 0, 1, 1, 0, 1, 0, 0, 2, 1, 0, 1, 0, 1, 1, 1, 1, 1, 0, 2, 1, 1, 1, 1, 0, 0, 0, 1, 0, 0, 1, 1, 1, 2, 1, 1, 1, 0, 0, 0, 0, 0, 1, 0, 2, 2, 0, 1, 1, 1, 0, 0, 1, 1, 0, 1, 1, 1, 1, 1, 0, 0, 2, 0, 1, 2, 0, 0, 1, 1, 1, 2, 1, 1, 1, 2, 1, 0, 3, 0, 1, 3, 1, 1, 1, 0, 1, 3, 1, 1, 0, 1, 1, 1, 1, 1, 1, 2, 1, 0, 1, 1, 1, 2, 0, 1, 1, 1, 0, 1, 0, 2, 1, 0, 1, 0, 2, 1, 1, 2, 1, 1, 0, 2, 2, 0, 1, 0, 2, 1, 1, 1, 1, 1, 0, 2, 0, 1, 0, 1, 0, 0, 2, 1, 0, 1, 0, 0, 2, 0, 1, 2, 1, 1, 1, 1, 1, 1, 0, 0, 0, 1, 0, 0, 0, 0, 0, 1, 0, 1, 1, 1, 1, 0, 0, 0, 0, 1, 1, 0, 1, 2, 0, 1, 0, 0, 1, 0, 2, 0, 1, 0, 1, 1, 1, 0, 2, 1, 1, 1, 2, 1, 1, 1, 0, 1, 0, 0, 1, 0, 1, 0, 2, 1, 0, 2, 1, 1, 2, 2, 0, 0, 2, 0, 0, 1, 1, 0, 0, 1, 0, 0, 1, 0, 0, 1, 2, 0, 1, 1, 0, 1, 1, 0, 1, 1, 1, 1, 0, 0, 1, 0, 0, 0, 0, 0, 1, 2, 1, 0, 1, 0, 1, 0, 0, 1, 0, 1, 1, 1, 1, 0, 0, 1, 0, 1, 1, 0, 2, 1, 1, 2, 1, 1, 0, 0, 0, 1, 1, 1, 1, 2, 0, 2, 0, 0, 0, 0, 0, 1, 1, 1, 0, 1, 0, 1, 0, 0, 0, 1, 2, 1, 1, 1, 1, 0, 2, 1, 1, 0, 1, 1, 2, 0, 1, 0, 1, 0, 0, 0, 1, 2, 1, 2, 2, 2, 1, 0, 1, 1, 2, 1, 1, 1, 0, 1, 0, 0, 1, 3, 3, 1, 1, 0, 2, 0, 0, 2, 0, 1, 1, 0, 1, 1, 1, 2, 0, 2, 2, 1, 1, 1, 1, 1, 1, 1, 0, 0, 0, 1, 0, 0, 1, 1, 1, 1, 0, 2, 0, 2, 1, 1, 0, 2, 2, 0, 0, 1, 0, 0, 0, 1, 1, 1, 0, 1, 1, 0, 1, 0, 1, 1, 1, 2, 0, 1, 2, 0, 1, 0, 1, 1, 0, 0, 1, 1, 0, 2, 1, 1, 2, 0, 1, 0, 0, 1, 1, 1, 0, 1, 1, 0, 1, 1, 1, 1, 1, 1, 1, 0, 1, 0, 0, 0, 0, 1, 1, 1, 1, 2, 1, 1, 1, 0, 1, 0, 0, 0, 0, 1, 1, 1, 1, 2, 1, 2, 1, 1, 0, 1, 1, 1, 1, 1, 0, 1, 1, 2, 0, 0, 0, 1, 0, 0, 2, 1, 1, 1, 0, 1, 2, 2, 1, 1, 0, 0, 1, 1, 0, 2, 0, 1, 1, 2, 0, 1, 0, 1, 1, 1, 0, 2, 1, 0, 2, 0, 1, 1, 1, 1, 0, 1, 1, 0, 1, 1, 0, 0, 0, 1, 2, 1, 1, 1, 2, 1, 1, 1, 1, 1, 1, 1, 1, 1, 0, 0, 1, 1, 0, 1, 1, 1, 1, 1, 1, 0, 1, 0, 0, 1, 2, 1, 0, 1, 2, 0, 1, 1, 1, 1, 1, 0, 2, 1, 1, 1, 1, 1, 1, 0, 1, 1, 1, 1, 0, 0, 1, 0, 0, 0, 1, 1, 0, 1, 1, 1, 1, 0, 1, 1, 0, 0, 2, 1, 0, 1, 1, 1, 0, 0, 1, 1, 1, 0, 1, 1, 0, 1, 0, 0, 0, 1, 1, 1, 0, 1, 1, 2, 1, 1, 1, 1, 1, 1, 2, 1, 1, 2, 0, 1, 2, 1, 0, 0, 0, 1, 1, 1, 1, 0, 2, 0, 1, 0, 1, 1, 1, 1, 0, 1, 0, 0, 2, 2, 1, 1, 1, 0, 0, 0, 1, 1, 1, 1, 0, 0, 1, 0, 0, 1, 1, 1, 0, 1, 2, 0, 1, 0, 1, 1, 0, 1, 1, 1, 1, 1, 1, 1, 1, 1, 1, 1, 1, 2, 2, 2, 1, 1, 2, 0, 1, 0, 2, 0, 2, 1, 0, 1, 0, 0, 1, 1, 1, 1, 1, 1, 1, 1, 3, 0, 1, 1, 0, 1, 0, 1, 0, 0, 1, 2, 0, 1, 1, 2, 1, 0, 1, 1, 1, 1, 0, 0, 0, 1, 1, 1, 1, 0, 1, 0, 0, 1, 1, 1, 1, 0, 1, 1, 1, 1, 0, 1, 1, 0, 0, 1, 0, 1, 2, 1, 1, 0, 1, 1, 1, 1, 0, 0, 1, 1, 0, 1, 1, 1, 1, 0, 0, 0, 0, 0, 0, 1, 0, 0, 1, 1, 1, 0, 1, 1, 1, 1, 1, 0, 0, 0, 1, 0, 1, 1, 1, 1, 0, 0, 1, 0, 0, 1, 1, 0, 0, 0, 0, 0, 0, 1, 1, 1, 1, 0, 0, 0, 1, 1, 1, 1, 1, 1, 1, 1, 0, 1, 1, 1, 1, 2, 0, 0, 1, 0, 0, 1, 0, 2, 1, 2, 1, 1, 1, 0, 0, 1, 0, 0, 0, 1, 1, 1, 1, 0, 0, 0, 2, 0, 1, 0, 0, 0, 1, 1, 0, 1, 1, 0, 0, 0, 1, 0, 0, 1, 2, 1, 0, 0, 2, 1, 0, 1, 0, 0, 0, 1, 0, 0, 0, 0, 0, 1, 0, 0, 2, 1, 1, 1, 1, 0, 0, 0, 0, 1, 0, 0, 1, 1, 1, 1, 0, 1, 2, 0, 2, 0, 0, 1, 0, 1, 1, 2, 1, 1, 0, 0, 1, 0, 1, 1, 1, 0, 1, 1, 0, 0, 1, 0, 1, 1, 1, 0, 0, 0, 0, 1, 0, 2, 0, 1, 1, 0, 0, 0, 2, 1, 1, 0, 1, 1, 1, 1, 1, 2, 0, 0, 0, 0, 1, 1, 1, 2, 1, 1, 0, 2, 0, 1, 0, 1, 0, 0, 1, 0, 1, 1, 0, 1, 1, 0, 1, 1, 1, 1, 1, 2, 0, 1, 1, 1, 0, 0, 2, 1, 1, 1, 0, 2, 0, 1, 1, 0, 0, 0, 1, 0, 0, 0, 2, 0, 1, 1, 1, 1, 1, 1, 0, 1, 1, 0, 1, 1, 1, 1, 1, 1, 1, 2, 1, 2, 0, 2, 0, 1, 2, 0, 1, 1, 0, 1, 1, 0, 0, 3, 0, 2, 0, 0, 1, 1, 1, 1, 0, 1, 1, 1, 1, 1, 0, 0, 0, 1, 0, 1, 1, 1, 0, 1, 0, 0, 0, 2, 1, 1, 2, 1, 0, 0, 0, 1, 1, 1, 1, 1, 1, 0, 2, 0, 0, 1, 0, 1, 0, 0, 0, 2, 1, 1, 1, 1, 0, 0, 1, 0, 2, 1, 1, 0, 0, 0, 0, 2, 1, 1, 2, 0, 0, 0, 1, 0, 1, 0, 0, 2, 1, 1, 1, 0, 2, 1, 1, 0, 1, 0, 2, 0, 1, 0, 1, 0, 0, 1, 2, 1, 2, 1, 2, 1, 1, 1, 0, 2, 0, 0, 1, 0, 0, 2, 2, 1, 1, 2, 0, 0, 0, 1, 0, 0, 1, 1, 3, 1, 1, 1, 0, 2, 0, 1, 2, 0, 1, 1, 0, 0, 1, 0, 2, 0, 1, 1, 1, 1, 0, 1, 2, 1, 0, 1, 2, 0, 0, 1, 1, 1, 0, 1, 1, 1, 1, 1, 0, 1, 1, 2, 0, 0, 1, 2, 1, 1, 1, 1, 1, 1, 2, 0, 0, 1, 0, 1, 1, 0, 0, 0, 2, 0, 0, 1, 0, 1, 1, 1, 1, 0, 1, 1, 1, 0, 0, 1, 0, 0, 0, 1, 2, 0, 2, 1, 0, 1, 0, 0, 1, 1, 0, 1, 1, 0, 0, 1, 1, 1, 1, 0, 1, 0, 0, 1, 1, 0, 1, 1, 1, 3, 1, 1, 1, 1, 1, 1, 1, 2, 0, 1, 1, 0, 1, 2, 1, 1, 1, 1, 1, 1, 1, 1, 1, 1, 1, 0, 0, 1, 2, 2, 1, 0, 1, 0, 1, 1, 1, 1, 1, 1, 0, 0, 0, 0, 1, 1, 0, 0, 0, 2, 0, 2, 0, 0, 1, 0, 0, 0, 0, 0, 2, 0, 1, 1, 1, 1, 0, 1, 1, 2, 1, 0, 0, 2, 0, 3, 1, 1, 1, 1, 1, 1, 0, 1, 0, 1, 0, 0, 1, 0, 0, 1, 1, 1, 0, 2, 1, 1, 0, 0, 1, 1, 1, 1, 0, 0, 1, 1, 1, 0, 1, 1, 2, 0, 1, 1, 1, 1, 0, 0, 0, 0, 0, 0, 1, 0, 1, 0, 1, 1, 1, 1, 1, 2, 0, 0, 1, 1, 0, 1, 1, 0, 1, 1, 0, 0, 1, 1, 0, 0, 2, 0, 2, 1, 1, 0, 0, 1, 0, 2, 0, 1, 0, 0, 0, 0, 1, 1, 1, 0, 0, 1, 1, 0, 1, 1, 1, 0, 1, 1, 1, 0, 1, 1, 1, 0, 0, 0, 0, 1, 1, 0, 1, 1, 1, 1, 0, 1, 0, 0, 1, 1, 1, 1, 1, 1, 0, 1, 1, 1, 1, 0, 2, 1, 0, 0, 0, 1, 1, 0, 1, 0, 1, 1, 1, 0, 0, 0, 1, 1, 1, 1, 2, 1, 1, 1, 1, 1, 1, 1, 0, 1, 2, 0, 0, 0, 0, 1, 2, 2, 1, 1, 2, 1, 1, 1, 0, 1, 0, 1, 0, 0, 1, 1, 0, 1, 1, 1, 0, 1, 0, 2, 1, 1, 1, 1, 1, 0, 0, 0, 1, 0, 0, 1, 1, 2, 0, 1, 1, 0, 1, 0, 0, 0, 1, 0, 1, 0, 1, 1, 0, 0, 1, 0, 1, 0, 1, 1, 0, 1, 1, 0, 1, 0, 2, 0, 0, 1, 0, 3, 1, 0, 0, 0, 1, 1, 0, 0, 1, 0, 1, 0, 0, 1, 0, 1, 1, 1, 1, 2, 1, 1, 1, 1, 0, 1, 0, 1, 1, 1, 0, 0, 1, 0, 0, 0, 0, 1, 1, 1, 0, 0, 1, 0, 1, 0, 1, 0, 0, 0, 1, 0, 2, 1, 1, 1, 2, 1, 0, 2, 2, 1, 1, 1, 2, 0, 0, 1, 0, 0, 0, 1, 0, 1, 0, 0, 0, 1, 0, 0, 0, 1, 1, 0, 2, 2, 0, 0, 0, 0, 0, 0, 1, 1, 2, 0, 0, 1, 1, 1, 1, 0, 1, 0, 1, 0, 1, 0, 1, 2, 0, 0, 1, 0, 0, 1, 0, 1, 0, 0, 1, 0, 1, 0, 1, 1, 1, 1, 1, 1, 1, 1, 1, 2, 1, 0, 1, 2, 1, 1, 1, 1, 0, 1, 0, 0, 1, 1, 2, 0, 0, 0, 0, 0, 0, 0, 0, 0, 0, 0, 1, 0, 0, 2, 1, 0, 1, 2, 2, 0, 1, 2, 1, 0, 1, 1, 0, 1, 0, 0, 1, 1, 1, 1, 0, 1, 1, 2, 1, 2, 0, 0, 2, 0, 0, 0, 0, 1, 1, 0, 1, 1, 0, 0, 1, 1, 2, 0, 1, 2, 0, 0, 0, 0, 0, 1, 0, 0, 1, 2, 1, 0, 1, 0, 1, 0, 1, 1, 1, 1, 0, 1, 0, 0, 0, 0, 1, 0, 1, 0, 2, 1, 1, 2, 0, 0, 1, 1, 1, 1, 1, 1, 2, 0, 3, 1, 1, 0, 2, 1, 0, 1, 0, 0, 1, 1, 1, 0, 1, 1, 1, 1, 1, 1, 2, 1, 0, 1, 0, 0, 0, 1, 1, 1, 0, 0, 1, 1, 0, 1, 1, 0, 1, 1, 1, 1, 1, 0, 1, 0, 1, 0, 0, 1, 1, 0, 1, 1, 2, 1, 1, 1, 1, 0, 1, 1, 0, 1, 1, 1, 0, 0, 2, 0, 1, 1, 1, 1, 0, 0, 1, 1, 2, 1, 2, 1, 1, 1, 2, 1, 1, 1, 1, 1, 0, 0, 1, 1, 1, 1, 1, 1, 2, 0, 1, 0, 1, 0, 1, 0, 2, 0, 1, 2, 1, 2, 0, 0, 2, 1, 1, 2, 1, 1, 1, 1, 2, 1, 0, 1, 1, 1, 0, 1, 1, 1, 1, 0, 1, 1, 0, 1, 0, 1, 1, 0, 2, 1, 1, 1, 2, 0, 1, 1, 1, 1, 0, 1, 1, 0, 1, 1, 2, 1, 2, 1, 0, 1, 1, 1, 1, 2, 1, 0, 0, 1, 0, 0, 1, 1, 1, 2, 1, 0, 1, 1, 1, 1, 0, 0, 1, 1, 1, 0, 0, 0, 1, 0, 0, 0, 0, 1, 1, 1, 0, 1, 0, 1, 0, 2, 0, 0, 0, 0, 1, 1, 1, 1, 0, 1, 0, 1, 1, 1, 0, 1, 0, 1, 1, 2, 1, 1, 1, 1, 1, 1, 0, 1, 0, 1, 0, 0, 1, 1, 0, 2, 2, 1, 1, 0, 1, 1, 1, 0, 1, 1, 0, 1, 1, 1, 1, 1, 1, 1, 1, 1, 1, 0, 0, 0, 0, 1, 1, 0, 0, 1, 2, 1, 0, 1, 1, 1, 0, 1, 0, 1, 1, 1, 0, 0, 0, 2, 0, 1, 1, 1, 1, 2, 0, 0, 0, 0, 1, 1, 0, 0, 0, 1, 0, 0, 0, 0, 1, 1, 1, 0, 1, 0, 0, 1, 1, 1, 0, 1, 1, 1, 0, 0, 1, 0, 1, 0, 1, 0, 1, 0, 1, 1, 0, 0, 1, 1, 0, 1, 1, 0, 1, 1, 3, 1, 0, 1, 3, 1, 2, 1, 1, 0, 1, 0, 1, 2, 1, 1, 1, 1, 2, 1, 1, 1, 1, 0, 1, 1, 1, 1, 0, 0, 0, 1, 2, 1, 0, 0, 1, 1, 1, 1, 1, 0, 1, 0, 1, 1, 1, 1, 1, 1, 0, 1, 1, 1, 0, 1, 0, 0, 1, 0, 1, 0, 1, 0, 1, 1, 1, 1, 2, 2, 2, 0, 0, 1, 0, 1, 1, 1, 0, 0, 0, 1, 3, 1, 1, 1, 1, 1, 0, 1, 1, 1, 1, 0, 1, 0, 0, 1, 1, 1, 1, 1, 0, 1, 1, 0, 1, 0, 0, 1, 0, 0, 0, 1, 2, 1, 0, 1, 1, 2, 1, 1, 2, 1, 1, 1, 1, 0, 1, 0, 0, 0, 1, 0, 0, 0, 1, 1, 0, 2, 1, 1, 1, 2, 1, 1, 1, 0, 0, 0, 1, 0, 0, 1, 1, 0, 1, 0, 2, 0, 1, 0, 1, 0, 0, 1, 1, 0, 1, 1, 0, 1, 0, 1, 1, 0, 1, 0, 0, 1, 1, 1, 1, 1, 0, 1, 2, 0, 0, 1, 1, 1, 0, 1, 1, 0, 1, 0, 1, 2, 1, 0, 0, 0, 1, 0, 0, 0, 1, 0, 1, 0, 0, 0, 1, 2, 0, 0, 0, 1, 0, 1, 1, 1, 1, 1, 1, 1, 1, 0, 1, 0, 1, 0, 1, 0, 1, 1, 2, 1, 1, 1, 0, 1, 0, 1, 1, 1, 0, 1, 0, 0, 1, 2, 1, 0, 1, 1, 0, 1, 1, 2, 0, 1, 0, 2, 1, 1, 1, 1, 0, 0, 1, 0, 1, 1, 0, 0, 1, 0, 1, 1, 1, 1, 0, 0, 2, 1, 2, 0, 1, 1, 0, 0, 0, 1, 1, 1, 1, 0, 0, 1, 0, 0, 3, 2, 1, 1, 1, 0, 1, 0, 1, 0, 1, 1, 0, 1, 0, 1, 1, 0, 1, 1, 0, 1, 1, 1, 1, 0, 1, 0, 1, 1, 1, 0, 0, 1, 1, 1, 2, 0, 2, 1, 2, 0, 1, 0, 0, 1, 0, 0, 1, 0, 0, 0, 1, 1, 0, 1, 1, 2, 1, 2, 1, 1, 0, 2, 0, 1, 1, 1, 0, 1, 0, 1, 1, 1, 0, 1, 1, 0, 1, 0, 1, 0, 1, 1, 1, 1, 1, 0, 2, 1, 0, 2, 0, 1, 1, 1, 0, 1, 1, 2, 1, 0, 1, 1, 1, 1, 1, 2, 2, 1, 0, 0, 1, 1, 1, 1, 1, 0, 0, 0, 1, 0, 2, 0, 1, 0, 1, 0, 1, 1, 0, 1, 0, 1, 1, 1, 1, 2, 0, 1, 0, 1, 1, 0, 1, 0, 1, 1, 2, 2, 1, 0, 1, 1, 1, 1, 1, 1, 0, 0, 2, 1, 1, 1, 1, 1, 0, 0, 1, 0, 1, 1, 0, 1, 1, 1, 0, 2, 2, 1, 0, 1, 1, 1, 1, 0, 1, 1, 1, 1, 1, 0, 1, 1, 1, 1, 0, 1, 1, 1, 1, 0, 0, 1, 2, 1, 0, 0, 1, 1, 1, 3, 1, 1, 0, 2, 0, 0, 2, 1, 0, 1, 1, 3, 1, 2, 1, 1, 1, 1, 1, 0, 1, 2, 0, 1, 2, 0, 1, 0, 1, 1, 0, 0, 1, 1, 2, 0, 2, 0, 1, 0, 1, 2, 2, 2, 1, 1, 1, 1, 1, 1, 1, 1, 1, 0, 1, 1, 1, 0, 1, 2, 1, 0, 0, 1, 2, 1, 1, 1, 1, 1, 1, 1, 1, 0, 1, 1, 1, 1, 1, 1, 0, 1, 2, 1, 1, 0, 0, 2, 1, 1, 1, 2, 1, 0, 1, 1, 1, 1, 1, 0, 0, 0, 0, 0, 1, 1, 1, 0, 0, 1, 1, 0, 0, 1, 1, 0, 0, 1, 1, 1, 0, 2, 0, 0, 0, 1, 2, 2, 2, 0, 1, 1, 1, 1, 1, 1, 0, 1, 0, 0, 1, 2, 1, 0, 1, 0, 1, 1, 1, 0, 0, 1, 0, 1, 1, 1, 1, 1, 1, 0, 2, 0, 1, 0, 2, 1, 0, 0, 1, 2, 1, 1, 1, 1, 0, 1, 0, 1, 1, 1, 0, 1, 1, 1, 2, 2, 1, 1, 1, 0, 1, 2, 1, 0, 0, 1, 1, 1, 1, 1, 1, 0, 0, 2, 1, 2, 1, 0, 2, 0, 1, 0, 0, 0, 2, 1, 0, 1, 1, 1, 1, 0, 0, 1, 1, 1, 1, 1, 1, 2, 0, 1, 1, 1, 1, 0, 1, 1, 1, 0, 1, 0, 1, 1, 0, 1, 0, 1, 0, 1, 0, 1, 0, 0, 0, 0, 3, 0, 0, 0, 1, 0, 1, 1, 0, 1, 1, 1, 0, 1, 1, 0, 0, 1, 1, 2, 1, 1, 0, 0, 0, 0, 0, 0, 1, 1, 1, 1, 1, 0, 1, 2, 1, 1, 0, 3, 1, 1, 1, 1, 1, 1, 0, 2, 1, 1, 0, 1, 0, 1, 0, 0, 1, 1, 1, 1, 1, 0, 0, 1, 0, 1, 0, 1, 0, 1, 1, 1, 1, 2, 0, 1, 1, 1, 1, 1, 2, 1, 0, 1, 1, 1, 0, 0, 0, 2, 2, 1, 0, 1, 1, 0, 1, 1, 1, 0, 1, 2, 1, 0, 0, 1, 1, 2, 0, 1, 1, 1, 1, 0, 1, 0, 0, 0, 1, 1, 0, 1, 1, 0, 0, 2, 1, 1, 0, 0, 1, 2, 0, 1, 0, 3, 1, 1, 1, 1, 0, 1, 1, 1, 1, 1, 0, 1, 2, 1, 2, 1, 1, 0, 1, 1, 0, 0, 1, 1, 1, 0, 0, 0, 0, 0, 1, 0, 2, 0, 1, 1, 1, 0, 1, 1, 1, 1, 0, 1, 2, 0, 1, 0, 1, 0, 1, 1, 0, 1, 1, 1, 1, 1, 1, 1, 1, 0, 2, 0, 1, 1, 0, 0, 0, 1, 1, 0, 0, 1, 1, 1, 0, 0, 0, 0, 1, 1, 1, 1, 1, 0, 1, 0, 0, 0, 0, 0, 0, 1, 1, 2, 0, 0, 0, 1, 1, 0, 1, 1, 0, 1, 1, 0, 1, 0, 0, 0, 1, 1, 1, 0, 1, 0, 0, 1, 1, 0, 0, 0, 1, 1, 1, 1, 1, 1, 1, 0, 0, 2, 1, 1, 1, 0, 1, 1, 1, 1, 1, 0, 0, 1, 1, 1, 1, 1, 2, 1, 0, 1, 1, 0, 1, 0, 0, 1, 1, 0, 1, 1, 1, 2, 0, 1, 1, 0, 1, 2, 1, 2, 1, 2, 1, 1, 1, 0, 0, 1, 0, 0, 1, 1, 2, 0, 1, 1, 0, 1, 0, 1, 0, 0, 1, 0, 1, 2, 0, 1, 0, 0, 0, 1, 1, 0, 1, 1, 1, 0, 1, 1, 0, 1, 0, 1, 1, 1, 1, 0, 1, 1, 1, 1, 0, 1, 0, 2, 2, 1, 0, 0, 0, 0, 0, 0, 1, 0, 1, 0, 1, 0, 0, 1, 1, 1, 0, 1, 0, 1, 2, 0, 3, 1, 0, 0, 1, 0, 1, 1, 1, 1, 0, 1, 2, 2, 1, 1, 0, 2, 1, 0, 1, 1, 2, 0, 0, 0, 1, 1, 2, 0, 2, 1, 1, 0, 1, 1, 1, 0, 0, 1, 1, 0, 2, 1, 0, 1, 0, 0, 1, 0, 0, 0, 1, 1, 1, 1, 1, 1, 0, 0, 1, 1, 0, 1, 2, 0, 1, 1, 1, 1, 1, 0, 0, 0, 0, 1, 2, 1, 1, 1, 1, 1, 2, 0, 0, 1, 0, 1, 0, 0, 1, 1, 1, 0, 0, 1, 1, 0, 1, 2, 2, 1, 1, 1, 0, 2, 2, 1, 1, 0, 1, 1, 1, 2, 0, 0, 0, 0, 0, 0, 0, 0, 0, 1, 1, 1, 0, 1, 1, 0, 1, 1, 0, 1, 0, 0, 1, 1, 1, 1, 1, 1, 2, 1, 0, 0, 1, 1, 1, 1, 1, 0, 2, 0, 1, 1, 1, 0, 1, 1, 1, 0, 1, 2, 0, 0, 1, 0, 1, 0, 0, 0, 0, 1, 1, 1, 1, 1, 1, 0, 1, 0, 0, 1, 1, 2, 1, 0, 0, 2, 1, 0, 0, 0, 1, 0, 1, 0, 1, 2, 0, 0, 0, 1, 0, 1, 0, 2, 2, 0, 1, 0, 1, 0, 0, 1, 0, 1, 2, 0, 1, 1, 1, 0, 1, 0, 0, 0, 1, 1, 0, 0, 0, 0, 1, 2, 1, 1, 0, 1, 1, 0, 1, 1, 1, 1, 1, 1, 2, 1, 1, 1, 0, 0, 0, 0, 1, 1, 1, 1, 1, 1, 1, 0, 1, 1, 1, 1, 0, 1, 0, 1, 1, 1, 2, 1, 1, 0, 3, 0, 0, 1, 1, 0, 1, 0, 1, 1, 1, 1, 0, 1, 1, 2, 1, 0, 1, 1, 1, 0, 1, 1, 0, 0, 1, 0, 2, 0, 1, 1, 1, 1, 1, 0, 1, 1, 1, 0, 1, 2, 3, 0, 0, 1, 1, 1, 0, 1, 0, 0, 1, 0, 2, 0, 0, 1, 1, 1, 1, 1, 0, 1, 0, 0, 1, 3, 1, 1, 1, 1, 1, 0, 1, 1, 1, 1, 1, 1, 1, 0, 0, 0, 1, 0, 0, 1, 1, 1, 0, 1, 1, 0, 1, 1, 0, 0, 1, 1, 0, 2, 1, 1, 1, 1, 1, 0, 0, 1, 1, 0, 1, 1, 1, 0, 0, 1, 2, 1, 1, 1, 1, 0, 0, 2, 1, 1, 1, 0, 1, 1, 1, 1, 0, 1, 1, 0, 0, 1, 0, 0, 1, 0, 0, 0, 1, 0, 3, 1, 1, 0, 0, 1, 0, 0, 1, 1, 2, 1, 1, 0, 0, 1, 0, 1, 1, 1, 0, 1, 1, 0, 1, 0, 1, 1, 1, 1, 0, 2, 1, 1, 1, 1, 1, 1, 0, 1, 0, 1, 1, 0, 1, 0, 0, 1, 0, 1, 0, 0, 0, 0, 0, 1, 0, 1, 1, 1, 1, 1, 1, 0, 1, 1, 1, 1, 0, 1, 1, 0, 2, 0, 2, 1, 1, 1, 1, 1, 1, 0, 0, 2, 0, 0, 0, 1, 1, 0, 1, 0, 0, 1, 0, 1, 0, 0, 0, 1, 2, 2, 1, 1, 1, 1, 1, 1, 0, 0, 1, 1, 0, 1, 0, 0, 0, 1, 0, 0, 1, 0, 1, 1, 0, 0, 1, 1, 0, 1, 0, 1, 1, 1, 0, 1, 0, 0, 1, 0, 0, 1, 1, 3, 0, 2, 2, 0, 0, 0, 1, 0, 1, 0, 1, 1, 1, 1, 0, 0, 1, 1, 0, 0, 0, 0, 0, 2, 1, 0, 1, 1, 1, 1, 0, 2, 2, 0, 1, 0, 1, 2, 2, 0, 1, 0, 1, 1, 0, 1, 2, 0, 1, 0, 1, 0, 1, 1, 1, 0, 2, 0, 1, 0, 0, 1, 1, 2, 1, 0, 1, 1, 0, 0, 1, 0, 1, 1, 0, 1, 0, 0, 0, 1, 2, 0, 0, 1, 2, 0, 1, 1, 1, 2, 0, 0, 1, 1, 0, 1, 1, 2, 0, 2, 2, 0, 1, 2, 1, 1, 0, 1, 0, 1, 0, 0, 1, 1, 1, 1, 0, 2, 1, 1, 1, 0, 0, 1, 1, 1, 1, 0, 1, 1, 1, 1, 1, 0, 1, 1, 0, 1, 1, 1, 1, 1, 1, 0, 0, 0, 0, 1, 1, 0, 1, 0, 1, 0, 2, 0, 1, 1, 1, 1, 1, 0, 1, 1, 0, 0, 0, 0, 2, 0, 1, 0, 0, 1, 1, 1, 1, 0, 0, 2, 0, 2, 0, 1, 1, 0, 0, 1, 1, 0, 1, 1, 1, 1, 2, 1, 1, 1, 0, 1, 0, 0, 0, 2, 0, 1, 1, 2, 0, 1, 0, 1, 1, 1, 0, 1, 1, 0, 1, 1, 1, 1, 2, 2, 1, 1, 1, 1, 0, 2, 0, 1, 0, 2, 1, 0, 1, 1, 1, 1, 0, 1, 1, 2, 1, 1, 2, 0, 0, 0, 0, 0, 0, 1, 0, 2, 1, 1, 1, 1, 1, 0, 1, 2, 1, 1, 1, 0, 3, 1, 0, 1, 0, 1, 0, 0, 0, 0, 1, 0, 1, 1, 0, 0, 1, 0, 1, 1, 1, 1, 1, 0, 2, 0, 0, 0, 0, 1, 1, 1, 1, 1, 1, 1, 2, 0, 0, 0, 1, 0, 1, 1, 1, 0, 1, 0, 2, 0, 1, 0, 1, 0, 0, 0, 1, 1, 2, 1, 1, 1, 1, 0, 1, 1, 0, 0, 1, 1, 0, 1, 1, 1, 0, 1, 1, 1, 0, 0, 1, 1, 0, 0, 2, 1, 1, 0, 1, 1, 1, 0, 0, 1, 1, 1, 1, 1, 2, 1, 1, 0, 1, 1, 0, 1, 0, 0, 1, 2, 2, 1, 0, 1, 0, 1, 1, 1, 0, 1, 1, 1, 2, 0, 1, 1, 1, 0, 1, 1, 1, 0, 1, 1, 1, 1, 1, 1, 1, 1, 0, 1, 1, 3, 0, 2, 0, 1, 0, 1, 0, 0, 1, 0, 0, 1, 0, 0, 0, 1, 0, 0, 0, 1, 1, 1, 1, 1, 0, 1, 0, 0, 1, 1, 2, 1, 1, 0, 2, 0, 1, 1, 0, 0, 1, 1, 1, 1, 1, 3, 2, 0, 0, 3, 1, 1, 1, 1, 0, 1, 0, 1, 1, 1, 1, 0, 1, 1, 0, 1, 2, 1, 1, 1, 2, 1, 1, 0, 0, 1, 1, 1, 1, 0, 1, 2, 1, 0, 2, 0, 1, 0, 1, 1, 0, 1, 0, 1, 0, 1, 1, 1, 1, 1, 0, 0, 0, 0, 1, 1, 1, 1, 2, 1, 1, 1, 1, 1, 0, 1, 2, 1, 1, 1, 2, 1, 0, 1, 1, 1, 2, 0, 1, 0, 2, 0, 1, 2, 1, 0, 0, 1, 0, 0, 1, 1, 1, 1, 0, 0, 0, 0, 1, 0, 1, 1, 1, 2, 1, 1, 1, 0, 0, 0, 0, 1, 1, 1, 1, 1, 1, 1, 0, 1, 0, 1, 1, 0, 1, 0, 1, 2, 0, 0, 1, 2, 0, 1, 0, 1, 1, 2, 0, 1, 1, 1, 0, 1, 1, 1, 2, 0, 2, 0, 0, 2, 1, 0, 1, 0, 1, 0, 0, 0, 1, 1, 1, 1, 1, 1, 1, 1, 1, 0, 1, 0, 0, 1, 0, 1, 1, 1, 1, 0, 0, 2, 1, 1, 1, 1, 1, 1, 0, 1, 0, 1, 0, 0, 0, 2, 1, 0, 1, 1, 1, 0, 1, 1, 0, 0, 1, 0, 1, 2, 1, 2, 1, 1, 1, 3, 1, 1, 0, 1, 1, 1, 1, 0, 0, 2, 0, 1, 1, 1, 0, 0, 1, 0, 0, 2, 2, 1, 1, 1, 1, 1, 1, 2, 1, 0, 0, 0, 1, 1, 1, 0, 1, 1, 0, 1, 0, 0, 2, 1, 0, 2, 1, 0, 1, 0, 1, 1, 1, 1, 0, 2, 1, 1, 1, 1, 0, 1, 0, 1, 1, 0, 0, 0, 0, 1, 1, 1, 1, 0, 1, 1, 1, 1, 1, 1, 0, 0, 1, 0, 0, 1, 2, 2, 2, 0, 0, 1, 1, 0, 1, 0, 0, 0, 1, 1, 1, 1, 1, 0, 1, 2, 0, 1, 1, 0, 0, 1, 1, 1, 1, 1, 0, 1, 1, 1, 0, 1, 1, 0, 1, 0, 1, 1, 0, 0, 1, 2, 1, 0, 1, 1, 1, 1, 1, 0, 0, 0, 1, 0, 2, 1, 0, 1, 1, 1, 0, 1, 0, 1, 0, 1, 1, 1, 1, 1, 1, 1, 0, 1, 2, 1, 1, 1, 1, 1, 1, 1, 1, 1, 0, 1, 1, 1, 2, 0, 1, 1, 1, 1, 0, 1, 1, 1, 1, 0, 1, 1, 1, 1, 0, 1, 1, 1, 0, 0, 0, 1, 1, 1, 0, 0, 2, 1, 2, 0, 1, 0, 1, 2, 0, 1, 1, 0, 1, 1, 0, 1, 0, 1, 0, 1, 1, 1, 1, 0, 2, 1, 1, 1, 0, 0, 0, 1, 0, 2, 1, 1, 1, 1, 1, 1, 1, 1, 1, 0, 0, 1, 1, 0, 0, 1, 1, 0, 1, 1, 1, 1, 1, 1, 1, 0, 0, 1, 2, 0, 0, 0, 0, 3, 1, 0, 0, 0, 1, 0, 0, 0, 1, 1, 1, 2, 0, 1, 1, 1, 1, 1, 1, 0, 1, 1, 0, 1, 0, 0, 1, 2, 1, 1, 1, 2, 1, 1, 0, 0, 1, 1, 1, 0, 1, 1, 0, 1, 1, 0, 1, 0, 0, 0, 2, 1, 1, 0, 1, 1, 0, 2, 1, 0, 1, 1, 1, 1, 1, 0, 1, 1, 0, 2, 1, 1, 1, 0, 3, 0, 1, 1, 1, 0, 1, 0, 0, 1, 0, 0, 0, 0, 1, 1, 0, 1, 0, 0, 0, 2, 0, 0, 0, 0, 1, 1, 2, 0, 2, 1, 1, 1, 1, 1, 0, 1, 1, 1, 0, 0, 0, 1, 2, 1, 0, 0, 1, 1, 1, 1, 1, 0, 1, 1, 1, 1, 1, 1, 2, 2, 2, 2, 1, 0, 1, 1, 0, 0, 0, 0, 1, 1, 2, 0, 2, 0, 1, 0, 0, 1, 1, 1, 1, 0, 1, 0, 2, 0, 1, 0, 1, 0, 1, 1, 0, 1, 2, 2, 0, 0, 1, 2, 0, 0, 0, 1, 1, 1, 0, 1, 1, 1, 1, 1, 0, 1, 0, 0, 1, 0, 0, 2, 1, 0, 1, 3, 0, 0, 1, 1, 0, 1, 1, 0, 0, 0, 0, 0, 0, 1, 1, 0, 0, 1, 1, 1, 1, 1, 1, 0, 1, 1, 0, 0, 1, 0, 1, 1, 0, 0, 1, 0, 1, 1, 1, 1, 1, 1, 1, 1, 1, 1, 2, 0, 2, 0, 0, 2, 1, 0, 1, 1, 1, 0, 0, 1, 0, 0, 0, 1, 0, 0, 0, 0, 1, 2, 1, 1, 2, 1, 1, 1, 1, 1, 1, 0, 3, 1, 0, 0, 1, 0, 2, 0, 0, 2, 0, 1, 1, 1, 1, 1, 0, 1, 1, 0, 0, 0, 0, 1, 0, 2, 0, 1, 1, 0, 0, 1, 0, 1, 1, 0, 1, 1, 1, 0, 1, 1, 0, 1, 2, 0, 1, 1, 0, 2, 1, 1, 0, 1, 0, 0, 0, 0, 1, 2, 1, 0, 1, 0, 0, 1, 2, 1, 0, 1, 1, 1, 1, 0, 2, 0, 0, 1, 0, 0, 0, 1, 1, 1, 1, 0, 1, 1, 1, 1, 0, 1, 2, 1, 1, 1, 1, 0, 1, 0, 1, 1, 2, 1, 1, 2, 1, 2, 1, 1, 0, 0, 0, 0, 2, 1, 1, 1, 1, 1, 0, 1, 0, 1, 1, 1, 0, 0, 3, 1, 0, 3, 2, 1, 1, 1, 0, 1, 0, 0, 1, 0, 1, 1, 0, 1, 2, 2, 0, 0, 1, 1, 0, 1, 1, 0, 1, 0, 1, 1, 1, 0, 1, 1, 1, 0, 0, 1, 1, 1, 0, 0, 1, 1, 1, 0, 1, 1, 1, 0, 1, 1, 0, 0, 2, 0, 0, 1, 1, 0, 0, 1, 1, 1, 2, 1, 0, 0, 1, 1, 0, 0, 2, 0, 0, 0, 1, 1, 0, 0, 1, 1, 1, 0, 1, 1, 1, 1, 0, 0, 1, 1, 1, 1, 0, 0, 0, 1, 1, 0, 1, 1, 1, 0, 0, 0, 2, 1, 1, 1, 1, 1, 1, 1, 1, 0, 0, 1, 0, 0, 1, 1, 0, 0, 0, 2, 0, 1, 0, 2, 1, 1, 1, 2, 0, 0, 1, 1, 0, 0, 1, 2, 1, 0, 1, 1, 1, 1, 1, 2, 1, 1, 0, 0, 1, 1, 0, 0, 1, 1, 0, 1, 0, 1, 2, 0, 0, 1, 0, 1, 1, 1, 1, 0, 0, 1, 1, 1, 1, 0, 1, 0, 0, 0, 0, 1, 1, 1, 1, 0, 1, 1, 1, 1, 2, 1, 1, 1, 0, 0, 1, 0, 1, 1, 1, 0, 0, 1, 0, 0, 0, 1, 1, 0, 2, 1, 0, 1, 0, 0, 1, 1, 0, 2, 1, 1, 0, 1, 0, 2, 1, 1, 1, 1, 0, 2, 0, 1, 0, 1, 1, 0, 1, 1, 0, 0, 1, 1, 0, 1, 1, 0, 1, 2, 1, 0, 0, 1, 1, 1, 2, 1, 1, 0, 1, 1, 1, 0, 1, 0, 0, 1, 1, 0, 0, 1, 1, 0, 1, 1, 0, 0, 1, 0, 1, 0, 1, 1, 1, 1, 1, 2, 1, 0, 0, 1, 0, 1, 0, 0, 1, 1, 0, 0, 1, 2, 0, 1, 2, 2, 0, 2, 0, 0, 1, 2, 1, 1, 0, 0, 1, 1, 1, 1, 1, 0, 1, 0, 1, 0, 0, 0, 2, 0, 0, 1, 2, 1, 0, 2, 1, 1, 0, 1, 1, 1, 2, 0, 1, 2, 1, 2, 0, 1, 1, 2, 1, 1, 0, 1, 0, 0, 1, 2, 0, 1, 0, 1, 1, 2, 0, 0, 0, 0, 1, 0, 0, 2, 1, 1, 0, 1, 1, 0, 0, 0, 0, 0, 2, 0, 1, 1, 0, 1, 3, 0, 2, 1, 1, 0, 1, 1, 1, 1, 1, 0, 0, 1, 1, 1, 1, 1, 0, 0, 1, 1, 1, 1, 1, 2, 0, 1, 0, 1, 1, 0, 1, 1, 0, 1, 2, 1, 1, 1, 2, 0, 0, 3, 0, 1, 1, 1, 1, 1, 1, 1, 1, 1, 0, 1, 2, 1, 1, 1, 1, 0, 1, 1, 1, 0, 1, 0, 0, 1, 1, 2, 1, 1, 2, 0, 1, 0, 3, 1, 2, 1, 1, 1, 0, 1, 0, 1, 1, 0, 1, 1, 0, 1, 1, 0, 0, 0, 0, 1, 1, 2, 2, 0, 0, 2, 0, 0, 1, 0, 0, 3, 0, 1, 1, 2, 0, 1, 0, 1, 2, 0, 1, 0, 1, 1, 0, 1, 0, 1, 1, 0, 1, 0, 1, 1, 1, 1, 2, 1, 1, 1, 0, 1, 1, 1, 0, 0, 0, 0, 2, 1, 1, 1, 0, 1, 1, 0, 1, 0, 1, 1, 2, 0, 1, 1, 0, 1, 1, 1, 0, 1, 0, 1, 1, 1, 0, 2, 0, 0, 0, 0, 1, 0, 0, 1, 0, 1, 0, 0, 1, 0, 0, 1, 0, 1, 1, 1, 0, 1, 0, 2, 1, 1, 0, 0, 1, 0, 1, 0, 2, 1, 0, 1, 0, 0, 1, 2, 0, 1, 1, 0, 0, 0, 2, 2, 0, 2, 2, 1, 1, 2, 2, 0, 1, 1, 1, 1, 0, 1, 1, 1, 1, 1, 1, 1, 1, 2, 1, 1, 0, 0, 0, 1, 1, 1, 1, 2, 0, 0, 0, 0, 2, 1, 0, 1, 1, 1, 2, 0, 0, 1, 1, 1, 0, 1, 1, 1, 1, 1, 2, 1, 0, 1, 0, 0, 0, 1, 1, 1, 1, 1, 2, 0, 0, 1, 0, 1, 1, 0, 1, 1, 1, 1, 0, 0, 1, 1, 0, 1, 2, 0, 1, 1, 1, 0, 0, 1, 1, 0, 0, 1, 1, 1, 0, 1, 1, 1, 0, 0, 0, 2, 0, 0, 1, 1, 0, 0, 0, 2, 1, 0, 0, 1, 0, 0, 0, 1, 0, 2, 1, 0, 0, 0, 1, 1, 1, 0, 1, 0, 0, 1, 0, 1, 1, 0, 2, 1, 1, 0, 1, 0, 0, 1, 2, 1, 2, 0, 1, 1, 1, 1, 1, 0, 1, 1, 1, 0, 1, 0, 0, 2, 1, 1, 0, 0, 0, 0, 0, 0, 1, 1, 1, 1, 1, 1, 0, 1, 1, 1, 0, 1, 0, 1, 2, 0, 0, 1, 0, 0, 0, 1, 2, 2, 1, 0, 1, 1, 1, 2, 1, 1, 1, 1, 2, 2, 1, 1, 1, 0, 1, 0, 1, 0, 0, 0, 2, 1, 1, 1, 1, 0, 2, 2, 1, 0, 1, 1, 1, 1, 0, 1, 1, 0, 0, 1, 1, 0, 0, 0, 0, 0, 0, 1, 1, 0, 2, 1, 0, 0, 1, 0, 1, 1, 1, 0, 0, 0, 1, 2, 1, 1, 0, 0, 1, 1, 1, 0, 0, 1, 1, 0, 1, 1, 0, 1, 1, 0, 1, 0, 1, 1, 1, 1, 1, 1, 1, 1, 1, 1, 1, 0, 1, 1, 1, 0, 1, 1, 0, 1, 1, 0, 0, 2, 2, 1, 1, 0, 0, 2, 1, 1, 0, 2, 0, 0, 0, 1, 0, 0, 0, 1, 1, 0, 0, 1, 1, 0, 1, 1, 1, 1, 1, 0, 1, 0, 0, 0, 1, 1, 0, 2, 0, 0, 0, 0, 1, 1, 1, 2, 1, 0, 1, 1, 0, 1, 0, 0, 1, 1, 1, 1, 1, 0, 1, 0, 0, 0, 1, 0, 2, 1, 0, 1, 1, 1, 1, 1, 1, 1, 1, 1, 1, 0, 1, 1, 1, 0, 0, 0, 2, 0, 1, 0, 0, 0, 1, 0, 1, 1, 0, 1, 1, 0, 0, 0, 1, 0, 1, 1, 1, 1, 0, 0, 0, 2, 2, 1, 1, 1, 0, 2, 0, 1, 1, 1, 2, 0, 1, 2, 1, 1, 0, 1, 0, 2, 0, 1, 1, 1, 2, 2, 1, 0, 0, 1, 1, 1, 1, 0, 0, 1, 2, 0, 1, 1, 0, 0, 1, 0, 0, 1, 1, 0, 1, 0, 1, 2, 1, 1, 1, 0, 0, 1, 2, 1, 1, 0, 0, 0, 1, 1, 1, 1, 0, 1, 1, 0, 0, 1, 2, 1, 0, 1, 0, 0, 1, 0, 1, 1, 2, 1, 1, 1, 1, 2, 1, 2, 0, 0, 1, 1, 1, 0, 1, 1, 1, 1, 0, 0, 1, 2, 0, 0, 0, 0, 1, 2, 0, 0, 0, 0, 1, 0, 0, 3, 0, 1, 1, 1, 0, 2, 0, 1, 1, 1, 2, 1, 0, 0, 1, 0, 2, 1, 1, 0, 1, 2, 1, 0, 1, 0, 1, 1, 0, 1, 0, 0, 1, 2, 1, 1, 1, 0, 0, 0, 0, 1, 1, 0, 1, 0, 0, 3, 0, 0, 0, 0, 1, 0, 1, 1, 1, 1, 0, 2, 1, 1, 1, 1, 1, 1, 1, 1, 1, 1, 1, 1, 1, 0, 2, 0, 0, 0, 1, 1, 1, 0, 2, 0, 0, 0, 1, 1, 0, 0, 0, 1, 1, 2, 0, 0, 1, 1, 1, 1, 1, 1, 0, 1, 1, 1, 1, 1, 0, 1, 1, 1, 0, 1, 1, 0, 2, 0, 0, 1, 1, 1, 0, 0, 2, 1, 1, 1, 1, 0, 1, 2, 1, 0, 1, 1, 2, 0, 0, 0, 1, 0, 1, 0, 0, 0, 1, 1, 0, 1, 1, 0, 0, 1, 0, 0, 1, 1, 0, 0, 1, 1, 0, 0, 0, 1, 1, 2, 0, 1, 0, 1, 0, 2, 1, 1, 1, 0, 0, 1, 1, 1, 0, 2, 1, 0, 0, 0, 2, 0, 0, 0, 1, 0, 0, 0, 0, 2, 0, 0, 1, 0, 0, 0, 2, 0, 1, 1, 1, 1, 0, 1, 1, 0, 0, 1, 2, 1, 0, 1, 0, 1, 2, 0, 0, 0, 2, 1, 0, 0, 2, 0, 1, 1, 2, 1, 1, 0, 2, 1, 0, 1, 1, 1, 0, 1, 1, 1, 1, 1, 1, 1, 0, 0, 0, 0, 0, 1, 1, 1, 1, 1, 2, 1, 1, 1, 2, 1, 0, 1, 0, 0, 0, 0, 1, 0, 1, 1, 1, 1, 0, 1, 0, 1, 1, 1, 2, 1, 1, 1, 2, 1, 1, 1, 2, 1, 1, 1, 1, 0, 2, 0, 1, 1, 1, 2, 1, 1, 1, 1, 1, 1, 0, 1, 3, 1, 0, 1, 0, 0, 1, 1, 1, 1, 2, 1, 2, 1, 1, 1, 1, 2, 0, 2, 1, 0, 0, 1, 1, 1, 0, 0, 1, 0, 0, 0, 0, 0, 0, 0, 2, 0, 1, 1, 1, 0, 1, 0, 1, 2, 1, 1, 1, 0, 1, 2, 2, 1, 0, 0, 3, 1, 1, 2, 1, 2, 1, 0, 0, 1, 1, 0, 0, 2, 1, 1, 0, 2, 1, 0, 1, 1, 0, 1, 1, 1, 0, 1, 1, 0, 1, 0, 1, 2, 1, 0, 0, 1, 3, 1, 1, 1, 1, 0, 1, 1, 2, 1, 0, 1, 1, 0, 2, 1, 0, 1, 1, 1, 0, 1, 2, 1, 1, 1, 1, 1, 1, 1, 1, 0, 1, 1, 1, 1, 2, 0, 0, 1, 2, 1, 0, 0, 0, 1, 1, 0, 0, 0, 1, 1, 0, 1, 1, 0, 1, 1, 1, 1, 1, 1, 1, 1, 1, 1, 1, 0, 0, 1, 0, 1, 0, 0, 2, 1, 1, 1, 1, 1, 2, 0, 2, 1, 1, 0, 1, 1, 1, 1, 1, 1, 0, 2, 2, 1, 1, 0, 1, 1, 1, 0, 0, 1, 0, 0, 1, 0, 1, 1, 1, 1, 2, 1, 1, 1, 1, 1, 1, 0, 0, 1, 0, 1, 2, 1, 2, 0, 2, 1, 1, 1, 1, 0, 1, 0, 0, 0, 0, 0, 1, 1, 1, 0, 2, 1, 1, 0, 0, 0, 1, 1, 2, 1, 0, 1, 1, 1, 0, 0, 2, 0, 0, 2, 1, 1, 1, 0, 1, 0, 0, 0, 0, 1, 0, 1, 0, 0, 1, 1, 1, 1, 1, 1, 0, 1, 1, 1, 2, 1, 1, 1, 0, 1, 3, 0, 1, 1, 2, 1, 1, 1, 1, 1, 0, 1, 1, 2, 1, 1, 0, 0, 2, 2, 1, 0, 0, 0, 1, 1, 1, 1, 0, 1, 2, 1, 1, 1, 0, 0, 1, 3, 0, 2, 1, 1, 1, 1, 0, 0, 3, 1, 0, 0, 0, 1, 0, 1, 0, 1, 0, 0, 1, 1, 0, 0, 2, 0, 0, 2, 0, 2, 0, 1, 0, 1, 1, 1, 1, 1, 0, 0, 2, 1, 1, 1, 0, 0, 1, 0, 0, 1, 1, 1, 1, 1, 0, 0, 0, 0, 1, 1, 0, 1, 1, 0, 1, 0, 0, 0, 1, 1, 2, 0, 1, 1, 0, 1, 1, 0, 0, 1, 1, 0, 0, 1, 0, 0, 0, 0, 1, 0, 0, 1, 2, 1, 0, 0, 3, 1, 1, 0, 1, 0, 1, 2, 0, 3, 2, 1, 1, 1, 1, 2, 1, 1, 1, 0, 1, 1, 1, 1, 0, 1, 1, 1, 0, 0, 0, 0, 1, 0, 0, 1, 1, 0, 1, 2, 1, 0, 2, 1, 1, 1, 1, 1, 2, 1, 1, 0, 1, 0, 1, 1, 0, 2, 0, 1, 1, 1, 0, 1, 0, 1, 0, 1, 1, 3, 1, 1, 1, 1, 0, 0, 1, 1, 0, 1, 1, 2, 1, 2, 0, 1, 0, 2, 0, 1, 1, 1, 1, 2, 1, 2, 1, 2, 0, 1, 1, 1, 1, 2, 1, 0, 1, 0, 1, 0, 0, 0, 0, 1, 0, 0, 0, 0, 1, 0, 0, 0, 1, 1, 0, 0, 1, 1, 1, 2, 1, 0, 1, 1, 2, 0, 1, 0, 0, 0, 0, 1, 1, 0, 1, 1, 0, 0, 1, 2, 1, 1, 1, 0, 1, 0, 1, 1, 1, 1, 1, 0, 0, 0, 1, 1, 1, 0, 0, 2, 0, 0, 0, 0, 1, 1, 0, 0, 1, 1, 0, 2, 0, 1, 1, 0, 1, 1, 1, 1, 0, 0, 0, 1, 1, 1, 1, 2, 0, 0, 1, 1, 1, 1, 1, 0, 1, 1, 0, 1, 1, 1, 0, 0, 1, 1, 3, 1, 0, 1, 1, 0, 0, 1, 1, 1, 1, 3, 2, 1, 1, 1, 1, 1, 0, 1, 3, 0, 0, 1, 0, 0, 0, 2, 0, 1, 1, 1, 0, 1, 1, 1, 2, 0, 1, 2, 1, 2, 1, 2, 2, 1, 0, 0, 0, 2, 0, 2, 1, 0, 1, 0, 1, 1, 1, 1, 0, 1, 1, 0, 0, 1, 0, 2, 0, 1, 1, 0, 1, 1, 0, 0, 0, 0, 1, 1, 0, 1, 0, 0, 1, 0, 0, 0, 0, 1, 0, 1, 1, 0, 0, 0, 2, 1, 1, 1, 1, 1, 2, 1, 1, 1, 1, 1, 0, 1, 1, 0, 1, 0, 0, 1, 1, 1, 0, 1, 1, 1, 0, 1, 1, 2, 1, 1, 1, 2, 1, 1, 1, 0, 1, 1, 0, 1, 0, 1, 0, 1, 1, 2, 1, 1, 0, 1, 1, 1, 0, 1, 1, 0, 1, 1, 0, 0, 2, 1, 1, 1, 1, 0, 0, 2, 1, 2, 0, 1, 0, 1, 1, 1, 0, 1, 1, 0, 0, 1, 1, 1, 0, 1, 1, 0, 1, 1, 1, 2, 1, 1, 0, 2, 1, 1, 1, 1, 0, 1, 1, 1, 1, 1, 2, 1, 0, 0, 1, 1, 1, 0, 1, 0, 1, 1, 1, 1, 2, 0, 0, 1, 0, 1, 0, 1, 2, 1, 0, 0, 0, 1, 1, 0, 1, 1, 1, 0, 1, 1, 0, 0, 1, 1, 0, 1, 1, 1, 1, 2, 1, 2, 1, 0, 0, 1, 2, 0, 2, 0, 0, 2, 0, 1, 3, 0, 1, 1, 0, 0, 1, 2, 0, 1, 1, 0, 1, 0, 1, 0, 0, 0, 1, 2, 0, 1, 2, 1, 1, 0, 1, 0, 0, 1, 1, 1, 1, 1, 1, 2, 1, 0, 0, 1, 0, 0, 1, 2, 1, 0, 1, 0, 1, 2, 0, 1, 0, 1, 1, 1, 1, 1, 0, 1, 0, 1, 1, 1, 1, 2, 0, 1, 0, 1, 2, 0, 1, 1, 0, 1, 1, 1, 1, 0, 0, 1, 1, 0, 1, 0, 0, 1, 1, 0, 1, 0, 1, 1, 1, 1, 1, 1, 0, 0, 1, 0, 0, 1, 1, 1, 1, 1, 0, 0, 1, 0, 0, 2, 2, 0, 1, 1, 1, 1, 0, 1, 1, 1, 1, 0, 0, 1, 0, 1, 1, 0, 0, 1, 0, 1, 1, 1, 1, 0, 0, 0, 0, 0, 0, 0, 1, 2, 2, 1, 1, 1, 1, 0, 1, 0, 1, 1, 2, 1, 0, 1, 0, 2, 0, 1, 0, 1, 1, 0, 1, 0, 1, 2, 2, 0, 1, 1, 2, 1, 1, 1, 1, 0, 1, 0, 1, 0, 1, 1, 1, 0, 0, 1, 1, 0, 1, 1, 1, 0, 1, 1, 0, 1, 1, 2, 1, 0, 0, 1, 1, 0, 1, 1, 1, 0, 0, 1, 0, 0, 1, 1, 1, 2, 1, 0, 2, 1, 1, 1, 1, 1, 1, 1, 1, 1, 1, 1, 1, 1, 1, 0, 0, 1, 0, 1, 0, 1, 0, 1, 1, 2, 1, 2, 2, 0, 0, 2, 0, 1, 1, 2, 1, 1, 1, 1, 2, 1, 1, 0, 2, 0, 1, 1, 0, 1, 1, 1, 2, 1, 0, 1, 1, 1, 0, 0, 1, 1, 1, 0, 0, 0, 1, 1, 1, 1, 1, 1, 1, 1, 0, 1, 0, 1, 0, 1, 0, 0, 0, 1, 1, 1, 0, 1, 1, 1, 0, 2, 0, 2, 1, 1, 0, 0, 2, 0, 0, 1, 1, 1, 1, 0, 1, 0, 1, 0, 0, 0, 0, 0, 0, 0, 1, 0, 2, 1, 0, 0, 0, 1, 1, 1, 1, 1, 1, 1, 1, 1, 2, 0, 1, 0, 0, 0, 2, 0, 1, 1, 2, 2, 0, 1, 0, 2, 1, 1, 0, 0, 1, 1, 0, 0, 0, 1, 1, 1, 1, 1, 0, 1, 1, 1, 1, 0, 1, 0, 1, 1, 1, 0, 0, 1, 1, 1, 1, 1, 1, 1, 1, 1, 1, 0, 0, 0, 1, 0, 1, 1, 1, 1, 2, 1, 0, 1, 0, 3, 1, 1, 1, 2, 1, 1, 1, 1, 1, 0, 2, 1, 1, 2, 1, 1, 0, 1, 1, 0, 0, 1, 0, 1, 1, 1, 0, 0, 3, 1, 1, 1, 1, 2, 1, 1, 1, 1, 0, 1, 0, 0, 1, 1, 2, 1, 0, 2, 2, 0, 1, 0, 0, 1, 2, 0, 1, 0, 1, 0, 1, 0, 1, 1, 0, 0, 1, 1, 1, 1, 1, 1, 0, 0, 0, 1, 2, 0, 1, 0, 1, 1, 0, 0, 0, 0, 0, 1, 1, 1, 1, 1, 0, 1, 0, 0, 0, 1, 1, 0, 1, 1, 1, 0, 1, 0, 1, 1, 2, 0, 0, 1, 2, 1, 0, 2, 0, 1, 0, 0, 1, 2, 1, 0, 1, 0, 0, 1, 1, 0, 1, 2, 1, 0, 1, 0, 0, 0, 0, 1, 0, 0, 2, 1, 0, 0, 1, 1, 0, 1, 0, 0, 0, 1, 0, 1, 0, 2, 1, 1, 1, 1, 0, 1, 1, 1, 1, 2, 1, 0, 1, 0, 0, 1, 1, 2, 2, 1, 0, 1, 0, 0, 1, 1, 1, 2, 1, 0, 1, 1, 1, 1, 1, 1, 2, 1, 1, 1, 0, 0, 1, 0, 0, 0, 1, 0, 1, 1, 0, 0, 0, 1, 1, 1, 1, 0, 1, 1, 2, 0, 1, 1, 1, 1, 1, 1, 1, 1, 1, 0, 1, 0, 0, 0, 2, 1, 0, 1, 1, 1, 2, 0, 1, 1, 0, 0, 1, 0, 1, 1, 0, 0, 1, 1, 1, 2, 1, 2, 0, 0, 1, 1, 0, 1, 0, 0, 1, 1, 0, 2, 1, 0, 1, 0, 2, 1, 1, 1, 2, 1, 2, 3, 0, 1, 0, 1, 2, 1, 1, 1, 0, 0, 0, 1, 1, 1, 1, 1, 1, 0, 1, 2, 0, 1, 1, 0, 0, 1, 0, 0, 1, 1, 1, 0, 1, 1, 1, 1, 2, 1, 0, 0, 0, 1, 1, 1, 1, 0, 1, 0, 1, 2, 1, 1, 1, 0, 1, 1, 1, 2, 1, 1, 1, 1, 0, 1, 1, 1, 1, 1, 1, 1, 0, 1, 1, 1, 0, 1, 1, 1, 0, 1, 1, 2, 0, 2, 0, 0, 0, 0, 1, 1, 1, 0, 1, 1, 1, 0, 0, 1, 1, 1, 0, 3, 0, 0, 1, 1, 0, 1, 1, 0, 1, 1, 1, 1, 1, 0, 1, 1, 0, 0, 1, 1, 0, 0, 0, 2, 1, 0, 2, 0, 0, 0, 1, 0, 2, 1, 1, 0, 1, 0, 2, 1, 1, 1, 0, 0, 1, 2, 0, 1, 1, 1, 1, 1, 1, 1, 0, 1, 0, 0, 0, 1, 1, 0, 1, 1, 1, 1, 0, 0, 1, 0, 1, 1, 1, 1, 1, 1, 1, 0, 1, 0, 0, 1, 0, 0, 0, 0, 0, 1, 0, 0, 0, 1, 1, 2, 1, 0, 1, 0, 1, 0, 1, 0, 0, 1, 1, 1, 1, 1, 1, 0, 1, 0, 0, 1, 0, 0, 0, 1, 1, 0, 1, 0, 1, 1, 1, 0, 0, 1, 0, 1, 1, 0, 2, 2, 0, 0, 1, 1, 0, 1, 0, 2, 0, 1, 0, 1, 1, 0, 0, 0, 1, 1, 1, 1, 2, 1, 0, 0, 1, 2, 0, 0, 0, 1, 0, 0, 0, 0, 0, 0, 0, 0, 0, 0, 0, 1, 0, 1, 0, 1, 1, 0, 2, 1, 0, 0, 0, 0, 1, 0, 2, 1, 1, 0, 0, 1, 2, 0, 1, 0, 1, 1, 1, 2, 2, 1, 1, 1, 0, 2, 0, 0, 0, 1, 1, 1, 0, 2, 1, 0, 0, 0, 0, 1, 1, 1, 0, 1, 1, 0, 0, 0, 1, 0, 1, 2, 1, 0, 0, 1, 1, 0, 1, 1, 0, 1, 1, 1, 1, 0, 1, 1, 2, 0, 0, 1, 0, 1, 0, 1, 0, 1, 1, 1, 0, 1, 0, 1, 1, 0, 0, 0, 1, 1, 1, 1, 0, 0, 0, 1, 1, 1, 2, 1, 1, 0, 0, 2, 3, 1, 1, 0, 1, 0, 0, 1, 1, 0, 1, 2, 1, 2, 1, 0, 1, 0, 0, 0, 0, 1, 0, 0, 1, 1, 0, 1, 1, 2, 1, 0, 1, 1, 1, 0, 2, 0, 0, 1, 1, 0, 2, 1, 1, 0, 0, 1, 0, 0, 1, 1, 0, 1, 2, 1, 1, 1, 0, 2, 0, 0, 1, 0, 1, 0, 1, 1, 1, 0, 1, 1, 1, 0, 1, 0, 0, 2, 0, 1, 0, 2, 0, 0, 0, 1, 1, 1, 1, 1, 0, 0, 0, 1, 1, 1, 1, 0, 1, 1, 1, 0, 1, 1, 1, 1, 2, 0, 0, 1, 1, 1, 0, 0, 1, 0, 1, 0, 0, 1, 0, 1, 0, 0, 1, 0, 1, 1, 1, 2, 1, 0, 0, 1, 0, 0, 1, 1, 0, 0, 1, 1, 1, 1, 2, 1, 0, 1, 0, 1, 0, 1, 1, 1, 2, 0, 0, 0, 0, 0, 1, 1, 1, 1, 2, 1, 0, 1, 1, 2, 1, 0, 1, 1, 1, 1, 1, 1, 1, 1, 1, 0, 1, 2, 0, 0, 1, 2, 1, 2, 0, 1, 2, 1, 0, 1, 1, 1, 0, 1, 1, 1, 1, 1, 1, 1, 1, 1, 1, 0, 0, 0, 1, 1, 2, 0, 1, 0, 2, 1, 0, 0, 0, 1, 1, 0, 2, 0, 1, 1, 0, 1, 1, 1, 1, 1, 0, 1, 1, 0, 1, 2, 0, 1, 1, 2, 1, 1, 1, 2, 1, 0, 1, 0, 1, 1, 0, 1, 1, 1, 1, 0, 0, 1, 1, 1, 1, 1, 1, 0, 1, 0, 1, 1, 1, 0, 1, 0, 1, 2, 1, 1, 1, 0, 0, 1, 1, 1, 0, 1, 0, 1, 1, 1, 1, 1, 1, 1, 1, 1, 2, 1, 1, 0, 1, 1, 0, 1, 0, 0, 0, 2, 2, 1, 2, 1, 1, 1, 1, 1, 0, 1, 1, 1, 0, 0, 2, 1, 2, 1, 1, 1, 1, 1, 0, 0, 1, 1, 0, 0, 2, 1, 0, 0, 0, 0, 0, 2, 2, 0, 0, 1, 1, 0, 0, 0, 0, 1, 1, 0, 1, 1, 1, 0, 1, 0, 0, 2, 0, 1, 1, 0, 2, 3, 1, 2, 1, 1, 0, 0, 1, 0, 1, 0, 0, 1, 1, 1, 0, 2, 1, 0, 1, 0, 2, 0, 1, 0, 1, 0, 1, 2, 1, 1, 2, 0, 1, 1, 2, 1, 0, 0, 1, 1, 0, 1, 1, 1, 0, 0, 0, 1, 0, 0, 1, 0, 1, 1, 1, 1, 0, 0, 0, 1, 0, 1, 0, 0, 1, 1, 0, 1, 0, 1, 1, 1, 0, 0, 1, 1, 1, 1, 1, 1, 0, 1, 0, 0, 0, 1, 0, 0, 1, 1, 0, 1, 0, 0, 1, 1, 1, 1, 1, 0, 0, 1, 0, 1, 0, 1, 1, 1, 1, 1, 1, 0, 1, 0, 0, 1, 1, 1, 1, 1, 1, 0, 1, 0, 2, 3, 1, 1, 0, 1, 0, 0, 1, 1, 2, 1, 1, 1, 0, 1, 2, 0, 0, 0, 0, 1, 0, 1, 1, 0, 0, 1, 1, 0, 0, 1, 0, 1, 1, 0, 2, 1, 0, 1, 1, 1, 1, 2, 1, 1, 1, 2, 2, 0, 0, 0, 1, 2, 0, 1, 1, 1, 0, 1, 0, 0, 0, 0, 1, 1, 1, 1, 0, 0, 1, 0, 0, 1, 0, 1, 0, 1, 0, 0, 1, 2, 1, 2, 1, 0, 1, 1, 1, 1, 1, 1, 1, 0, 1, 0, 0, 0, 1, 1, 1, 2, 0, 1, 0, 1, 1, 1, 2, 0, 1, 0, 1, 1, 1, 1, 1, 1, 1, 1, 1, 0, 1, 0, 1, 1, 0, 1, 2, 1, 1, 0, 2, 0, 1, 0, 1, 1, 2, 0, 1, 1, 1, 0, 1, 0, 1, 2, 0, 0, 0, 1, 1, 1, 1, 0, 0, 2, 1, 0, 0, 1, 0, 1, 1, 1, 2, 1, 1, 1, 1, 0, 1, 1, 0, 2, 1, 1, 1, 0, 1, 1, 0, 1, 0, 1, 0, 1, 1, 0, 0, 0, 2, 1, 1, 0, 0, 1, 0, 1, 0, 1, 1, 1, 1, 0, 0, 1, 1, 1, 0, 1, 1, 1, 0, 0, 1, 1, 1, 0, 0, 1, 0, 0, 2, 1, 0, 1, 1, 1, 1, 0, 1, 1, 0, 1, 1, 1, 1, 0, 2, 1, 0, 1, 0, 1, 1, 0, 1, 2, 1, 0, 1, 1, 0, 1, 0, 0, 1, 1, 1, 1, 2, 1, 0, 1, 1, 0, 1, 0, 2, 0, 0, 1, 1, 0, 1, 1, 1, 1, 1, 1, 0, 0, 1, 0, 2, 1, 0, 1, 1, 1, 0, 1, 1, 2, 1, 1, 1, 0, 1, 1, 1, 0, 0, 0, 1, 1, 0, 1, 0, 0, 1, 1, 1, 2, 0, 0, 1, 1, 0, 1, 0, 1, 1, 1, 0, 0, 1, 0, 0, 0, 1, 1, 2, 1, 0, 0, 1, 2, 0, 1, 1, 1, 1, 1, 2, 1, 0, 0, 1, 0, 0, 1, 1, 0, 1, 2, 1, 0, 1, 0, 1, 0, 2, 0, 1, 0, 1, 0, 1, 1, 1, 0, 1, 0, 1, 1, 0, 1, 0, 1, 1, 1, 0, 1, 1, 1, 1, 0, 1, 1, 1, 0, 0, 1, 1, 1, 1, 1, 0, 1, 1, 1, 1, 1, 0, 2, 1, 2, 1, 1, 0, 1, 1, 0, 0, 1, 0, 1, 1, 1, 0, 0, 1, 1, 0, 2, 1, 1, 0, 2, 1, 1, 1, 0, 1, 1, 1, 0, 0, 1, 1, 1, 1, 1, 1, 1, 0, 1, 0, 1, 0, 0, 2, 1, 1, 0, 1, 0, 1, 1, 0, 1, 0, 0, 1, 1, 0, 1, 2, 0, 0, 1, 1, 1, 0, 0, 1, 0, 1, 1, 1, 1, 1, 1, 1, 0, 0, 0, 1, 1, 1, 1, 1, 3, 1, 2, 1, 0, 0, 0, 0, 1, 1, 1, 2, 0, 2, 0, 1, 0, 1, 0, 0, 0, 0, 0, 1, 1, 3, 0, 1, 0, 1, 0, 2, 2, 1, 0, 0, 1, 0, 1, 1, 0, 0, 1, 0, 0, 0, 0, 2, 1, 1, 1, 1, 0, 1, 1, 1, 1, 1, 0, 0, 1, 0, 1, 2, 0, 2, 1, 1, 1, 0, 0, 0, 0, 0, 1, 1, 1, 1, 1, 0, 1, 1, 1, 0, 1, 1, 1, 1, 1, 1, 1, 0, 0, 1, 0, 1, 0, 0, 0, 1, 1, 2, 0, 1, 1, 1, 2, 0, 1, 0, 2, 1, 1, 1, 0, 0, 1, 1, 1, 1, 1, 1, 1, 0, 0, 0, 0, 0, 0, 0, 1, 1, 1, 1, 0, 1, 1, 2, 2, 2, 2, 1, 1, 1, 0, 1, 0, 1, 1, 1, 0, 1, 1, 1, 0, 0, 1, 1, 1, 0, 1, 0, 0, 2, 1, 1, 0, 1, 1, 1, 1, 0, 2, 1, 1, 1, 1, 1, 0, 1, 2, 0, 1, 0, 1, 1, 1, 1, 2, 0, 2, 1, 0, 0, 1, 1, 0, 0, 0, 0, 1, 1, 2, 2, 1, 1, 2, 0, 1, 0, 1, 1, 2, 1, 0, 1, 0, 1, 0, 1, 1, 1, 1, 0, 0, 1, 1, 2, 1, 1, 1, 1, 1, 1, 0, 0, 0, 0, 0, 1, 0, 0, 1, 1, 1, 1, 0, 1, 1, 1, 1, 1, 2, 0, 1, 1, 0, 0, 0, 0, 1, 1, 0, 0, 0, 0, 1, 0, 0, 0, 1, 1, 1, 0, 0, 0, 0, 1, 1, 1, 3, 2, 0, 1, 1, 1, 0, 1, 0, 0, 0, 0, 0, 1, 1, 1, 0, 1, 1, 0, 1, 1, 2, 0, 1, 1, 0, 1, 2, 1, 1, 0, 0, 0, 0, 1, 2, 1, 1, 0, 1, 2, 1, 1, 1, 0, 0, 1, 2, 1, 1, 2, 0, 1, 1, 0, 0, 1, 1, 1, 0, 1, 1, 0, 0, 0, 2, 0, 1, 0, 1, 1, 1, 1, 1, 0, 1, 0, 0, 1, 0, 2, 0, 0, 1, 1, 2, 0, 1, 1, 0, 1, 1, 1, 0, 0, 0, 1, 0, 1, 1, 1, 0, 1, 0, 1, 0, 0, 1, 1, 0, 1, 1, 0, 0, 0, 0, 1, 1, 1, 2, 1, 1, 1, 1, 1, 0, 0, 1, 2, 0, 1, 2, 1, 2, 0, 1, 1, 1, 0, 1, 0, 1, 1, 0, 0, 0, 1, 0, 0, 0, 1, 1, 1, 1, 1, 1, 1, 2, 2, 1, 0, 3, 1, 1, 3, 1, 1, 0, 0, 0, 0, 0, 1, 1, 1, 0, 1, 0, 1, 0, 1, 0, 1, 1, 0, 0, 0, 1, 0, 1, 0, 2, 1, 1, 2, 1, 2, 0, 0, 0, 1, 2, 1, 0, 1, 0, 0, 2, 1, 0, 0, 0, 1, 1, 1, 1, 1, 0, 1, 1, 1, 1, 1, 0, 1, 0, 1, 0, 1, 0, 0, 1, 0, 0, 2, 1, 1, 0, 1, 1, 1, 1, 0, 0, 1, 2, 1, 1, 0, 0, 0, 1, 0, 1, 0, 1, 1, 0, 1, 2, 1, 1, 1, 1, 1, 1, 1, 1, 0, 2, 0, 0, 2, 0, 1, 1, 1, 0, 1, 0, 1, 1, 0, 0, 1, 1, 0, 1, 1, 0, 1, 0, 0, 1, 1, 0, 1, 2, 1, 1, 1, 1, 0, 1, 0, 0, 0, 1, 0, 2, 1, 1, 1, 1, 3, 1, 1, 0, 0, 0, 0, 1, 0, 1, 1, 1, 0, 1, 1, 0, 0, 1, 1, 0, 1, 1, 0, 2, 0, 2, 1, 0, 0, 0, 0, 0, 0, 1, 1, 0, 1, 1, 1, 1, 0, 1, 1, 1, 1, 1, 1, 0, 2, 1, 1, 0, 1, 0, 1, 1, 1, 2, 1, 0, 2, 1, 1, 0, 1, 1, 1, 0, 0, 1, 1, 0, 0, 1, 1, 1, 0, 0, 0, 1, 0, 1, 2, 1, 0, 1, 1, 0, 1, 1, 1, 1, 1, 0, 1, 0, 1, 2, 0, 1, 1, 0, 1, 2, 1, 1, 1, 0, 1, 2, 1, 0, 0, 0, 0, 1, 1, 1, 1, 1, 0, 0, 1, 1, 0, 0, 0, 1, 1, 1, 1, 2, 1, 1, 0, 0, 1, 1, 0, 0, 1, 0, 2, 1, 0, 0, 1, 1, 1, 2, 1, 1, 1, 3, 1, 0, 1, 0, 1, 0, 1, 1, 1, 1, 0, 1, 1, 1, 1, 0, 0, 0, 1, 1, 0, 1, 0, 1, 0, 0, 1, 2, 0, 1, 1, 1, 1, 0, 0, 2, 1, 2, 1, 2, 0, 1, 0, 1, 0, 2, 1, 2, 1, 1, 1, 1, 1, 1, 0, 0, 1, 0, 0, 0, 0, 1, 0, 0, 1, 1, 2, 1, 2, 0, 1, 1, 0, 1, 0, 1, 1, 1, 1, 0, 0, 0, 0, 1, 1, 1, 1, 0, 0, 1, 1, 1, 0, 1, 0, 0, 2, 0, 0, 0, 1, 1, 0, 1, 1, 0, 1, 1, 1, 2, 1, 0, 1, 1, 1, 1, 1, 1, 1, 1, 2, 0, 0, 1, 0, 0, 0, 2, 0, 1, 1, 0, 0, 1, 1, 1, 1, 1, 1, 1, 0, 1, 2, 1, 0, 3, 1, 0, 1, 0, 1, 2, 1, 1, 1, 0, 0, 0, 1, 0, 0, 1, 1, 1, 1, 0, 0, 1, 1, 1, 1, 1, 2, 2, 0, 1, 1, 1, 1, 1, 0, 0, 1, 0, 0, 2, 1, 1, 0, 1, 1, 0, 0, 1, 1, 0, 1, 1, 0, 0, 1, 1, 1, 1, 1, 0, 1, 0, 1, 1, 1, 1, 0, 1, 1, 1, 1, 1, 0, 1, 2, 1, 0, 1, 0, 0, 2, 0, 0, 1, 1, 1, 0, 2, 1, 1, 0, 0, 0, 1, 1, 0, 0, 1, 1, 1, 1, 0, 1, 1, 0, 0, 0, 1, 0, 1, 0, 0, 0, 1, 0, 1, 1, 1, 1, 1, 1, 0, 1, 0, 0, 0, 1, 1, 2, 1, 1, 1, 1, 0, 1, 1, 0, 1, 1, 2, 1, 1, 0, 1, 1, 0, 0, 0, 2, 1, 1, 1, 1, 0, 1, 1, 1, 1, 0, 1, 1, 2, 1, 1, 0, 1, 1, 0, 2, 1, 1, 0, 1, 1, 0, 0, 1, 0, 1, 1, 2, 0, 1, 0, 1, 0, 1, 0, 0, 0, 1, 1, 0, 0, 2, 1, 0, 1, 0, 1, 1, 0, 0, 0, 1, 1, 0, 1, 0, 1, 1, 2, 1, 1, 2, 0, 0, 1, 1, 1, 1, 0, 0, 0, 0, 1, 1, 0, 0, 0, 1, 1, 1, 1, 1, 1, 1, 1, 1, 1, 0, 0, 0, 1, 3, 0, 0, 0, 0, 1, 0, 0, 0, 2, 1, 2, 1, 1, 1, 0, 1, 1, 2, 0, 0, 1, 1, 1, 0, 1, 2, 1, 2, 1, 0, 0, 1, 1, 2, 1, 1, 0, 1, 0, 0, 1, 1, 1, 0, 1, 1, 1, 2, 1, 0, 1, 1, 0, 0, 1, 2, 0, 1, 1, 1, 0, 1, 1, 1, 1, 1, 1, 1, 0, 1, 0, 0, 0, 0, 1, 0, 1, 1, 0, 0, 1, 0, 1, 0, 0, 1, 0, 0, 1, 1, 1, 0, 1, 1, 1, 0, 0, 0, 1, 1, 0, 1, 1, 0, 1, 1, 2, 1, 0, 1, 0, 2, 0, 0, 1, 0, 0, 1, 0, 0, 0, 0, 0, 1, 0, 1, 0, 2, 1, 2, 0, 1, 0, 1, 2, 1, 0, 1, 1, 1, 1, 0, 1, 2, 1, 1, 1, 1, 1, 0, 0, 1, 1, 1, 2, 2, 0, 0, 1, 0, 1, 2, 1, 1, 1, 1, 2, 1, 0, 2, 0, 1, 0, 1, 0, 1, 0, 0, 2, 1, 1, 1, 2, 1, 0, 2, 1, 1, 1, 1, 1, 0, 0, 1, 0, 0, 0, 1, 0, 0, 1, 1, 0, 0, 1, 0, 1, 2, 1, 1, 1, 0, 1, 0, 1, 0, 1, 1, 1, 1, 1, 1, 1, 1, 0, 0, 0, 1, 0, 0, 2, 1, 2, 1, 0, 0, 1, 0, 1, 0, 1, 0, 1, 1, 1, 1, 2, 0, 1, 1, 0, 1, 0, 1, 1, 0, 1, 1, 1, 0, 1, 1, 2, 1, 1, 2, 0, 1, 1, 1, 2, 0, 1, 1, 1, 1, 1, 1, 1, 0, 1, 2, 0, 0, 0, 1, 1, 1, 1, 1, 2, 2, 1, 1, 0, 1, 1, 1, 0, 0, 1, 1, 0, 2, 2, 2, 0, 0, 1, 1, 1, 0, 0, 1, 1, 1, 1, 1, 0, 2, 0, 1, 2, 0, 0, 1, 0, 1, 1, 1, 1, 1, 1, 0, 1, 0, 0, 0, 0, 1, 1, 1, 1, 0, 1, 1, 1, 2, 1, 0, 0, 1, 2, 1, 1, 0, 0, 1, 1, 0, 0, 1, 1, 0, 2, 2, 1, 0, 1, 0, 1, 0, 2, 2, 0, 1, 1, 1, 1, 1, 1, 1, 1, 1, 0, 0, 1, 2, 0, 1, 2, 0, 2, 1, 2, 1, 1, 0, 1, 1, 1, 1, 1, 0, 1, 1, 1, 0, 0, 1, 0, 1, 0, 1, 2, 0, 1, 0, 1, 0, 1, 0, 2, 0, 0, 0, 1, 0, 0, 1, 1, 1, 2, 0, 0, 1, 0, 1, 0, 0, 0, 1, 0, 1, 0, 1, 1, 1, 1, 1, 1, 1, 1, 1, 1, 0, 0, 0, 1, 1, 1, 2, 1, 1, 0, 1, 0, 1, 1, 1, 1, 0, 1, 0, 0, 1, 0, 0, 1, 0, 3, 1, 1, 1, 0, 1, 1, 0, 1, 0, 1, 1, 1, 0, 1, 0, 1, 0, 0, 0, 1, 0, 1, 1, 0, 1, 1, 1, 2, 1, 1, 2, 0, 0, 1, 0, 1, 1, 0, 1, 1, 0, 2, 1, 1, 1, 0, 1, 1, 1, 1, 2, 0, 0, 1, 0, 1, 1, 0, 0, 1, 1, 1, 2, 0, 1, 0, 0, 0, 1, 0, 1, 0, 0, 1, 1, 1, 1, 2, 1, 0, 0, 1, 1, 1, 1, 0, 0, 1, 0, 2, 0, 1, 1, 1, 1, 0, 1, 1, 1, 0, 0, 3, 1, 1, 1, 0, 1, 0, 0, 1, 0, 0, 1, 0, 1, 0, 0, 1, 0, 0, 0, 1, 0, 0, 1, 1, 0, 0, 1, 1, 2, 2, 1, 1, 1, 0, 1, 0, 0, 0, 2, 0, 0, 1, 1, 1, 1, 1, 1, 1, 1, 1, 1, 0, 1, 1, 1, 0, 0, 1, 1, 2, 0, 0, 2, 1, 2, 1, 1, 0, 1, 0, 1, 0, 0, 1, 1, 0, 0, 2, 1, 0, 0, 1, 0, 0, 1, 1, 0, 1, 1, 0, 0, 2, 1, 0, 1, 1, 0, 1, 1, 1, 0, 1, 0, 1, 0, 0, 0, 0, 0, 1, 1, 0, 0, 1, 1, 1, 0, 1, 1, 1, 1, 0, 1, 0, 1, 1, 1, 1, 1, 1, 1, 1, 0, 0, 1, 1, 2, 1, 1, 1, 1, 1, 1, 0, 1, 1, 1, 0, 0, 1, 1, 1, 1, 0, 0, 0, 1, 1, 1, 0, 1, 1, 1, 2, 1, 1, 1, 1, 1, 0, 0, 0, 1, 1, 0, 0, 1, 1, 1, 1, 1, 1, 0, 1, 0, 0, 1, 1, 1, 1, 0, 1, 1, 1, 1, 1, 1, 1, 1, 1, 0, 0, 0, 1, 1, 1, 0, 0, 1, 0, 0, 0, 1, 1, 0, 2, 1, 0, 1, 0, 1, 2, 1, 1, 1, 0, 0, 2, 0, 1, 1, 1, 1, 0, 0, 0, 0, 0, 0, 0, 1, 1, 1, 1, 0, 1, 2, 2, 1, 1, 1, 1, 1, 2, 0, 0, 0, 1, 0, 0, 0, 1, 1, 1, 1, 1, 0, 1, 1, 1, 0, 1, 0, 1, 1, 1, 1, 2, 0, 1, 0, 1, 1, 0, 1, 0, 0, 1, 1, 0, 1, 0, 1, 0, 1, 1, 0, 0, 0, 0, 1, 1, 0, 0, 0, 0, 0, 1, 0, 0, 0, 0, 1, 2, 0, 0, 1, 0, 1, 1, 2, 1, 0, 0, 1, 1, 1, 0, 1, 1, 2, 0, 1, 2, 1, 1, 0, 1, 2, 1, 2, 1, 0, 1, 0, 1, 1, 0, 1, 1, 1, 1, 0, 1, 2, 1, 0, 0, 0, 0, 2, 1, 1, 2, 1, 1, 0, 1, 0, 1, 0, 2, 0, 2, 0, 0, 0, 1, 1, 1, 2, 1, 0, 1, 0, 1, 2, 1, 1, 0, 1, 1, 0, 2, 1, 1, 0, 1, 0, 1, 1, 1, 1, 0, 0, 1, 1, 2, 0, 1, 1, 0, 1, 1, 1, 1, 3, 0, 0, 2, 0, 0, 1, 1, 1, 1, 0, 0, 1, 0, 1, 2, 0, 0, 1, 0, 0, 0, 0, 1, 1, 1, 1, 0, 1, 0, 0, 1, 1, 1, 2, 2, 1, 1, 0, 0, 0, 0, 2, 1, 2, 0, 1, 0, 0, 0, 0, 0, 0, 1, 0, 1, 1, 1, 0, 1, 1, 1, 0, 0, 2, 1, 1, 1, 1, 1, 0, 2, 0, 1, 0, 1, 1, 1, 2, 0, 1, 2, 1, 0, 1, 0, 1, 2, 1, 0, 1, 0, 1, 1, 0, 1, 0, 1, 1, 0, 0, 1, 1, 0, 0, 1, 0, 0, 1, 0, 1, 0, 1, 0, 1, 0, 1, 1, 1, 1, 0, 0, 1, 1, 3, 1, 1, 1, 2, 1, 1, 0, 0, 1, 2, 0, 1, 1, 2, 2, 0, 1, 1, 1, 1, 0, 1, 1, 1, 1, 0, 0, 0, 1, 1, 0, 0, 1, 1, 0, 1, 1, 1, 1, 1, 0, 0, 0, 1, 1, 1, 0, 1, 2, 1, 1, 0, 0, 0, 1, 2, 2, 0, 1, 0, 0, 1, 0, 1, 1, 0, 0, 0, 1, 1, 2, 0, 0, 2, 1, 1, 1, 1, 0, 1, 1, 0, 1, 0, 0, 0, 0, 1, 1, 0, 2, 1, 1, 0, 0, 0, 2, 1, 0, 2, 1, 1, 1, 1, 1, 2, 1, 0, 1, 1, 0, 0, 1, 0, 0, 0, 0, 1, 0, 1, 0, 0, 1, 0, 2, 0, 0, 1, 1, 0, 0, 0, 1, 0, 2, 2, 1, 1, 1, 1, 1, 1, 0, 1, 1, 1, 1, 0, 1, 1, 1, 0, 0, 2, 0, 1, 1, 0, 1, 0, 1, 1, 1, 1, 0, 0, 1, 0, 1, 0, 0, 1, 0, 1, 0, 1, 0, 1, 1, 1, 1, 2, 1, 0, 1, 1, 0, 1, 1, 0, 0, 0, 1, 0, 1, 1, 1, 2, 1, 1, 1, 1, 0, 0, 0, 1, 0, 0, 0, 0, 1, 1, 2, 0, 1, 0, 1, 0, 1, 2, 1, 1, 1, 1, 1, 1, 0, 1, 1, 1, 1, 1, 0, 1, 1, 1, 2, 1, 1, 1, 2, 1, 0, 1, 1, 1, 1, 1, 0, 0, 1, 1, 0, 1, 1, 2, 2, 0, 0, 0, 1, 1, 1, 0, 1, 1, 0, 0, 1, 0, 1, 0, 3, 1, 0, 1, 2, 0, 0, 0, 0, 1, 1, 1, 1, 0, 1, 0, 0, 0, 2, 1, 1, 1, 1, 0, 1, 1, 2, 1, 0, 1, 0, 0, 1, 1, 1, 1, 1, 2, 1, 1, 0, 3, 0, 1, 0, 1, 1, 0, 2, 0, 0, 1, 1, 2, 1, 2, 1, 0, 1, 1, 1, 1, 2, 1, 1, 2, 1, 0, 0, 0, 0, 1, 1, 1, 1, 0, 2, 0, 1, 1, 0, 1, 1, 0, 1, 0, 0, 1, 0, 1, 1, 1, 1, 1, 1, 1, 1, 2, 0, 1, 2, 1, 1, 0, 0, 1, 0, 0, 0, 1, 0, 1, 0, 0, 0, 0, 0, 1, 0, 2, 1, 0, 0, 0, 1, 0, 1, 1, 1, 1, 1, 1, 0, 1, 2, 1, 1, 0, 1, 0, 0, 1, 1, 1, 1, 0, 2, 0, 0, 2, 1, 1, 2, 0, 1, 1, 1, 1, 0, 0, 0, 0, 1, 1, 1, 1, 3, 1, 1, 1, 1, 0, 1, 0, 2, 0, 1, 0, 1, 0, 0, 1, 0, 0, 1, 0, 0, 0, 1, 1, 0, 1, 2, 1, 0, 1, 0, 1, 1, 1, 0, 1, 1, 2, 0, 1, 1, 1, 1, 1, 1, 1, 1, 0, 1, 1, 0, 0, 0, 1, 1, 1, 0, 1, 1, 1, 1, 1, 1, 0, 1, 1, 0, 1, 1, 1, 1, 0, 0, 1, 1, 0, 0, 1, 0, 1, 1, 1, 1, 1, 0, 1, 2, 1, 0, 0, 0, 1, 2, 0, 1, 1, 0, 1, 1, 1, 1, 0, 0, 2, 1, 1, 1, 0, 1, 1, 1, 0, 1, 1, 0, 0, 1, 1, 0, 0, 1, 0, 0, 1, 0, 1, 0, 1, 1, 1, 1, 1, 1, 2, 1, 0, 1, 1, 0, 0, 2, 1, 1, 1, 0, 1, 1, 0, 0, 0, 1, 0, 1, 0, 1, 1, 0, 1, 1, 1, 0, 0, 0, 0, 0, 1, 0, 1, 1, 1, 1, 0, 0, 1, 1, 1, 0, 0, 0, 1, 0, 1, 1, 2, 1, 1, 1, 2, 1, 1, 1, 1, 0, 1, 0, 0, 1, 1, 0, 1, 0, 0, 1, 1, 1, 1, 1, 1, 0, 1, 1, 1, 1, 1, 2, 2, 1, 1, 1, 1, 1, 2, 1, 1, 1, 0, 1, 0, 0, 1, 0, 0, 2, 0, 0, 1, 2, 0, 0, 3, 2, 2, 1, 0, 0, 0, 1, 1, 1, 0, 0, 1, 1, 1, 2, 0, 0, 0, 1, 1, 2, 1, 0, 0, 1, 1, 1, 0, 1, 1, 1, 0, 1, 1, 0, 1, 2, 1, 1, 1, 0, 1, 0, 1, 2, 1, 1, 1, 1, 0, 0, 0, 1, 1, 1, 1, 1, 0, 1, 0, 1, 0, 1, 1, 1, 0, 0, 1, 0, 0, 0, 0, 0, 1, 1, 1, 0, 2, 1, 1, 1, 1, 1, 1, 1, 1, 0, 1, 1, 0, 1, 2, 1, 1, 1, 1, 1, 0, 1, 1, 1, 1, 1, 0, 1, 1, 1, 1, 1, 0, 0, 2, 1, 2, 1, 1, 1, 1, 0, 1, 1, 0, 0, 0, 1, 0, 0, 0, 1, 0, 1, 0, 1, 0, 0, 0, 1, 1, 1, 0, 1, 1, 2, 1, 1, 0, 2, 1, 0, 1, 0, 1, 1, 1, 0, 1, 1, 0, 1, 0, 0, 1, 0, 1, 2, 1, 1, 2, 0, 1, 1, 0, 2, 1, 1, 1, 0, 0, 2, 0, 0, 0, 1, 0, 1, 1, 1, 1, 0, 0, 0, 1, 0, 1, 2, 1, 0, 1, 2, 1, 1, 2, 0, 1, 1, 0, 0, 2, 0, 1, 1, 1, 2, 1, 0, 0, 1, 1, 0, 1, 0, 1, 1, 1, 1, 1, 1, 1, 1, 0, 0, 0, 1, 0, 0, 1, 1, 1, 0, 1, 1, 1, 0, 1, 0, 1, 0, 1, 1, 2, 0, 0, 0, 1, 1, 1, 1, 1, 1, 1, 1, 0, 0, 0, 1, 1, 1, 1, 1, 1, 1, 1, 1, 1, 0, 2, 1, 1, 0, 1, 0, 1, 1, 1, 0, 1, 1, 0, 0, 1, 1, 1, 1, 0, 1, 2, 0, 1, 0, 0, 1, 1, 1, 0, 2, 0, 1, 1, 2, 0, 0, 0, 1, 1, 1, 1, 2, 0, 1, 0, 0, 0, 1, 1, 1, 0, 1, 1, 1, 0, 0, 1, 1, 1, 0, 1, 1, 1, 1, 0, 1, 1, 0, 2, 1, 1, 1, 2, 1, 2, 2, 2, 0, 1, 1, 0, 1, 1, 1, 1, 0, 0, 2, 2, 1, 1, 1, 2, 0, 0, 0, 1, 1, 1, 1, 2, 1, 1, 1, 2, 1, 1, 0, 1, 1, 1, 1, 1, 2, 1, 0, 1, 1, 2, 1, 1, 0, 1, 0, 1, 1, 0, 0, 1, 1, 1, 0, 0, 0, 1, 1, 1, 1, 1, 1, 1, 2, 0, 3, 0, 1, 1, 1, 1, 1, 2, 1, 1, 1, 2, 1, 1, 0, 1, 1, 1, 1, 1, 1, 2, 2, 1, 1, 0, 1, 1, 2, 0, 0, 0, 1, 1, 0, 0, 3, 2, 1, 1, 0, 2, 1, 1, 1, 1, 1, 0, 3, 2, 1, 0, 1, 2, 1, 0, 1, 0, 1, 0, 1, 0, 1, 0, 1, 2, 1, 0, 0, 1, 1, 0, 0, 1, 0, 1, 1, 0, 0, 1, 0, 1, 1, 0, 1, 1, 0, 1, 1, 0, 0, 1, 0, 0, 2, 0, 0, 1, 1, 0, 1, 1, 2, 0, 1, 0, 0, 1, 0, 0, 1, 1, 1, 0, 1, 1, 1, 1, 2, 1, 1, 1, 1, 0, 1, 1, 1, 1, 1, 1, 0, 0, 1, 0, 0, 0, 1, 1, 0, 1, 1, 1, 0, 0, 2, 0, 0, 1, 2, 0, 1, 1, 1, 1, 1, 1, 2, 1, 1, 1, 1, 0, 3, 1, 1, 0, 1, 0, 0, 0, 1, 1, 1, 0, 1, 0, 0, 1, 0, 1, 0, 0, 1, 1, 2, 2, 1, 0, 1, 0, 0, 0, 1, 0, 1, 1, 0, 0, 0, 1, 1, 1, 0, 1, 1, 1, 0, 1, 0, 1, 0, 1, 1, 0, 0, 0, 1, 0, 1, 1, 0, 1, 2, 1, 1, 0, 1, 1, 0, 1, 0, 0, 0, 2, 0, 1, 1, 1, 0, 2, 1, 1, 1, 1, 1, 1, 0, 2, 0, 1, 1, 2, 1, 1, 1, 1, 0, 1, 0, 0, 1, 0, 2, 1, 0, 0, 0, 0, 0, 0, 1, 2, 1, 0, 1, 0, 0, 1, 2, 1, 1, 2, 0, 1, 1, 1, 1, 0, 1, 0, 1, 1, 1, 0, 1, 0, 0, 1, 1, 0, 1, 1, 0, 0, 1, 0, 0, 1, 1, 0, 1, 0, 0, 1, 0, 1, 1, 1, 0, 0, 2, 1, 1, 1, 0, 2, 1, 0, 1, 2, 0, 0, 2, 0, 1, 1, 1, 1, 0, 1, 2, 0, 1, 0, 3, 1, 1, 0, 0, 1, 0, 1, 1, 1, 0, 0, 1, 1, 1, 1, 1, 0, 1, 2, 1, 0, 1, 1, 1, 0, 1, 0, 1, 1, 1, 1, 0, 2, 0, 1, 0, 0, 1, 1, 1, 0, 0, 1, 1, 1, 2, 0, 2, 0, 1, 1, 1, 1, 1, 1, 0, 0, 1, 1, 0, 1, 1, 0, 1, 2, 1, 1, 0, 1, 1, 0, 1, 1, 0, 0, 1, 0, 1, 3, 1, 1, 1, 0, 0, 1, 0, 1, 1, 1, 1, 0, 1, 2, 1, 0, 1, 1, 1, 1, 1, 0, 1, 1, 1, 0, 0, 2, 0, 0, 1, 1, 1, 1, 1, 0, 0, 1, 1, 0, 1, 0, 0, 1, 0, 1, 0, 1, 1, 1, 0, 0, 1, 0, 1, 1, 1, 1, 1, 0, 0, 0, 0, 1, 0, 0, 0, 0, 0, 0, 1, 0, 1, 0, 0, 1, 0, 1, 0, 2, 0, 0, 1, 0, 1, 0, 1, 0, 1, 2, 1, 1, 1, 0, 1, 1, 0, 3, 0, 1, 0, 1, 1, 0, 2, 1, 1, 0, 2, 0, 0, 1, 1, 0, 3, 1, 2, 1, 1, 1, 0, 0, 0, 2, 0, 1, 2, 2, 0, 0, 1, 0, 1, 1, 0, 0, 1, 0, 0, 0, 1, 0, 0, 1, 1, 1, 1, 1, 1, 0, 0, 1, 1, 0, 2, 1, 1, 1, 1, 1, 1, 0, 0, 2, 1, 0, 1, 0, 0, 1, 1, 0, 1, 0, 1, 1, 1, 0, 1, 0, 0, 0, 1, 1, 1, 1, 1, 0, 0, 0, 1, 1, 1, 1, 1, 1, 1, 0, 1, 1, 1, 1, 0, 0, 1, 1, 1, 1, 2, 0, 1, 0, 0, 0, 1, 2, 0, 0, 0, 1, 0, 0, 1, 1, 1, 2, 2, 0, 1, 0, 1, 1, 2, 0, 0, 0, 1, 0, 1, 1, 1, 1, 2, 1, 2, 0, 1, 1, 0, 1, 1, 0, 0, 1, 1, 1, 0, 2, 1, 1, 1, 2, 0, 0, 2, 1, 0, 1, 1, 1, 0, 2, 1, 0, 1, 1, 2, 1, 1, 1, 1, 1, 0, 3, 0, 1, 1, 1, 1, 0, 1, 0, 1, 0, 0, 0, 0, 0, 0, 1, 1, 1, 1, 1, 1, 0, 0, 1, 0, 0, 1, 1, 0, 1, 0, 0, 0, 1, 2, 0, 0, 2, 1, 1, 1, 1, 0, 1, 1, 1, 0, 0, 0, 0, 2, 0, 0, 0, 1, 3, 1, 2, 0, 1, 0, 0, 2, 1, 1, 1, 1, 1, 1, 0, 1, 0, 1, 1, 1, 0, 1, 0, 1, 1, 1, 1, 1, 1, 1, 1, 1, 0, 1, 0, 0, 0, 1, 0, 0, 0, 0, 0, 1, 1, 1, 0, 1, 1, 0, 0, 1, 1, 1, 2, 0, 1, 0, 0, 1, 0, 1, 1, 2, 0, 1, 1, 1, 1, 1, 1, 0, 0, 1, 0, 0, 0, 0, 1, 1, 1, 1, 1, 1, 1, 0, 0, 1, 1, 1, 0, 1, 1, 0, 1, 1, 0, 0, 0, 1, 1, 0, 0, 0, 1, 1, 1, 0, 0, 0, 1, 1, 0, 1, 1, 2, 0, 1, 0, 1, 0, 1, 2, 1, 0, 1, 0, 1, 1, 2, 1, 0, 1, 0, 0, 0, 1, 1, 0, 1, 1, 0, 1, 0, 1, 1, 0, 1, 1, 1, 1, 0, 1, 0, 1, 1, 1, 1, 0, 0, 0, 1, 0, 1, 0, 1, 0, 0, 0, 1, 1, 0, 2, 0, 1, 2, 1, 0, 0, 1, 0, 1, 1, 0, 1, 2, 1, 0, 0, 0, 0, 1, 0, 0, 1, 1, 0, 1, 0, 0, 1, 0, 1, 0, 0, 1, 0, 1, 0, 0, 1, 1, 0, 0, 1, 2, 2, 1, 1, 1, 1, 0, 1, 0, 1, 0, 2, 2, 1, 0, 1, 1, 1, 0, 0, 0, 2, 0, 1, 2, 1, 1, 1, 0, 1, 1, 1, 1, 1, 1, 1, 1, 1, 1, 1, 0, 1, 1, 1, 1, 0, 1, 1, 2, 0, 0, 1, 0, 0, 0, 1, 1, 1, 2, 0, 1, 1, 0, 1, 0, 1, 1, 0, 1, 1, 0, 2, 1, 1, 1, 0, 0, 1, 1, 1, 0, 1, 1, 0, 0, 0, 1, 2, 1, 1, 2, 1, 0, 1, 0, 0, 0, 0, 2, 2, 1, 0, 1, 0, 1, 1, 0, 0, 1, 1, 2, 0, 0, 1, 0, 1, 1, 1, 0, 1, 0, 0, 1, 0, 0, 1, 1, 0, 0, 0, 1, 1, 2, 1, 1, 0, 0, 0, 1, 1, 0, 1, 1, 0, 0, 1, 0, 1, 1, 0, 0, 1, 0, 1, 1, 0, 0, 1, 0, 1, 1, 1, 1, 1, 0, 0, 1, 1, 1, 0, 1, 0, 0, 1, 1, 0, 1, 2, 0, 1, 1, 0, 0, 2, 1, 0, 2, 0, 0, 0, 1, 0, 2, 1, 0, 1, 0, 0, 1, 1, 1, 0, 0, 1, 0, 0, 0, 0, 1, 1, 2, 0, 1, 0, 1, 1, 0, 2, 2, 1, 0, 1, 1, 1, 2, 0, 1, 3, 1, 0, 1, 1, 0, 0, 0, 1, 0, 1, 0, 1, 2, 0, 0, 0, 2, 0, 2, 0, 1, 1, 0, 0, 1, 1, 1, 1, 1, 0, 1, 1, 1, 1, 1, 2, 1, 1, 0, 2, 1, 1, 0, 1, 2, 0, 0, 1, 1, 0, 3, 1, 0, 0, 0, 1, 0, 0, 1, 0, 1, 0, 1, 1, 2, 1, 1, 1, 1, 0, 1, 0, 0, 1, 0, 1, 1, 1, 1, 1, 0, 0, 1, 0, 0, 1, 1, 1, 1, 1, 0, 0, 1, 0, 1, 1, 1, 0, 0, 0, 0, 0, 1, 1, 1, 1, 0, 1, 1, 1, 1, 1, 1, 1, 1, 2, 1, 0, 1, 0, 1, 0, 0, 1, 1, 1, 1, 1, 1, 1, 0, 0, 1, 1, 0, 1, 1, 0, 1, 1, 0, 0, 0, 1, 1, 2, 1, 0, 0, 1, 0, 1, 0, 1, 1, 1, 1, 1, 1, 1, 1, 2, 1, 1, 1, 0, 1, 1, 1, 3, 0, 0, 1, 1, 1, 1, 0, 0, 1, 0, 0, 1, 1, 1, 0, 2, 0, 0, 2, 0, 0, 2, 2, 1, 0, 2, 1, 1, 1, 1, 1, 1, 1, 0, 0, 0, 1, 0, 1, 1, 1, 0, 2, 0, 0, 1, 1, 2, 0, 1, 1, 0, 0, 0, 1, 1, 1, 0, 0, 0, 1, 2, 0, 1, 1, 2, 2, 1, 0, 1, 0, 2, 1, 1, 1, 1, 1, 1, 1, 1, 1, 1, 0, 0, 0, 1, 1, 0, 1, 1, 0, 0, 1, 0, 0, 0, 1, 1, 0, 0, 0, 1, 0, 1, 1, 1, 0, 1, 1, 1, 1, 0, 1, 1, 1, 1, 2, 1, 0, 0, 1, 1, 1, 0, 0, 0, 1, 0, 1, 1, 0, 1, 1, 1, 2, 0, 1, 0, 1, 1, 1, 0, 1, 0, 1, 1, 0, 0, 1, 1, 1, 2, 1, 0, 0, 1, 1, 1, 0, 1, 1, 0, 1, 1, 0, 1, 2, 2, 0, 1, 0, 1, 1, 1, 0, 1, 1, 1, 0, 2, 1, 0, 1, 1, 0, 1, 1, 1, 0, 0, 0, 1, 0, 0, 1, 2, 0, 0, 1, 0, 1, 1, 1, 1, 1, 1, 1, 1, 1, 0, 1, 2, 0, 0, 0, 0, 1, 1, 1, 0, 0, 0, 0, 1, 2, 1, 0, 1, 1, 1, 0, 1, 0, 1, 1, 0, 1, 1, 0, 0, 0, 2, 1, 1, 0, 1, 1, 1, 1, 0, 1, 1, 1, 0, 0, 3, 0, 1, 0, 0, 1, 1, 2, 0, 1, 1, 0, 0, 0, 1, 1, 1, 1, 0, 0, 1, 0, 1, 1, 1, 1, 1, 0, 1, 0, 1, 1, 0, 1, 0, 0, 2, 0, 0, 2, 1, 1, 0, 3, 2, 1, 1, 0, 1, 0, 1, 1, 1, 2, 0, 0, 1, 1, 1, 1, 0, 0, 0, 2, 0, 1, 2, 1, 0, 0, 1, 0, 1, 0, 0, 1, 1, 2, 2, 1, 3, 1, 0, 0, 0, 1, 1, 0, 2, 1, 2, 0, 2, 1, 2, 1, 0, 0, 1, 1, 1, 3, 2, 0, 0, 1, 1, 2, 0, 0, 1, 0, 1, 0, 1, 0, 0, 1, 0, 0, 0, 1, 0, 1, 2, 1, 0, 1, 0, 1, 1, 1, 1, 1, 1, 1, 1, 3, 0, 1, 1, 1, 0, 2, 0, 1, 1, 1, 0, 1, 0, 1, 1, 0, 1, 0, 1, 0, 0, 1, 1, 1, 0, 1, 0, 1, 1, 3, 3, 1, 1, 0, 1, 2, 1, 1, 0, 1, 2, 1, 0, 1, 1, 1, 1, 1, 2, 0, 1, 1, 1, 0, 2, 0, 0, 0, 1, 2, 1, 1, 1, 1, 1, 2, 2, 2, 0, 1, 1, 0, 0, 0, 1, 1, 0, 0, 1, 0, 1, 1, 0, 1, 2, 1, 0, 0, 1, 1, 1, 1, 0, 1, 0, 0, 1, 2, 0, 1, 1, 0, 0, 1, 0, 1, 0, 1, 1, 2, 1, 2, 0, 1, 1, 1, 0, 1, 1, 0, 2, 2, 0, 1, 3, 1, 1, 1, 1, 2, 0, 1, 0, 0, 0, 1, 1, 1, 0, 0, 0, 0, 1, 1, 1, 1, 1, 0, 1, 0, 0, 1, 1, 1, 0, 1, 1, 0, 1, 1, 1, 0, 0, 2, 1, 3, 0, 1, 1, 1, 1, 1, 1, 0, 1, 0, 0, 1, 1, 0, 1, 0, 1, 1, 1, 2, 0, 1, 1, 1, 1, 1, 1, 1, 1, 0, 1, 1, 1, 1, 0, 1, 1, 1, 1, 2, 0, 1, 0, 0, 1, 0, 1, 1, 0, 1, 1, 1, 0, 1, 2, 1, 2, 1, 0, 0, 1, 0, 0, 0, 1, 0, 1, 1, 1, 2, 0, 1, 1, 1, 1, 1, 1, 2, 1, 1, 0, 0, 1, 0, 1, 0, 2, 0, 0, 1, 1, 1, 0, 0, 1, 1, 1, 1, 1, 0, 1, 1, 0, 1, 0, 0, 1, 0, 0, 2, 0, 0, 0, 0, 1, 1, 1, 1, 1, 2, 0, 1, 1, 1, 1, 0, 0, 1, 1, 0, 0, 1, 0, 0, 0, 1, 0, 1, 0, 0, 1, 1, 0, 3, 0, 0, 1, 1, 1, 0, 1, 1, 0, 1, 1, 1, 0, 1, 0, 0, 0, 0, 0, 1, 0, 0, 1, 1, 0, 1, 0, 1, 0, 0, 1, 1, 0, 0, 1, 1, 1, 1, 1, 0, 1, 1, 1, 1, 0, 0, 0, 0, 0, 2, 1, 1, 1, 2, 0, 1, 1, 1, 2, 1, 1, 1, 2, 0, 0, 0, 1, 0, 2, 0, 0, 0, 1, 1, 2, 3, 2, 0, 1, 1, 1, 0, 0, 0, 1, 1, 1, 0, 0, 1, 0, 1, 0, 0, 1, 1, 1, 1, 1, 1, 0, 0, 1, 1, 1, 1, 0, 1, 0, 1, 0, 1, 1, 1, 1, 1, 0, 1, 1, 0, 1, 1, 0, 0, 0, 2, 0, 1, 0, 1, 1, 0, 1, 0, 1, 2, 0, 0, 0, 0, 0, 1, 1, 0, 0, 3, 1, 1, 1, 1, 0, 1, 0, 0, 0, 1, 0, 0, 1, 0, 0, 0, 0, 1, 1, 3, 1, 0, 0, 1, 0, 1, 1, 2, 2, 0, 1, 1, 0, 1, 0, 1, 1, 0, 1, 2, 2, 1, 0, 1, 0, 1, 1, 1, 1, 1, 0, 0, 1, 0, 1, 1, 0, 1, 1, 1, 3, 1, 1, 0, 0, 0, 0, 1, 0, 0, 0, 0, 1, 2, 1, 1, 0, 1, 2, 1, 0, 1, 0, 1, 0, 0, 1, 0, 2, 1, 0, 1, 1, 0, 1, 0, 1, 2, 0, 0, 1, 2, 0, 1, 1, 0, 1, 1, 1, 1, 2, 1, 0, 0, 1, 2, 1, 0, 1, 0, 1, 1, 1, 1, 0, 1, 1, 1, 1, 0, 1, 0, 1, 2, 0, 1, 1, 1, 0, 0, 1, 1, 0, 1, 0, 2, 1, 1, 1, 0, 1, 1, 1, 1, 0, 1, 1, 1, 0, 1, 0, 0, 2, 1, 0, 0, 1, 1, 1, 0, 0, 0, 0, 0, 1, 0, 0, 1, 1, 0, 0, 1, 1, 1, 3, 1, 1, 2, 0, 1, 0, 2, 1, 0, 1, 0, 1, 2, 1, 1, 0, 0, 1, 1, 0, 0, 0, 1, 0, 1, 0, 0, 1, 1, 1, 0, 1, 0, 1, 1, 1, 2, 1, 1, 2, 2, 1, 2, 1, 0, 0, 1, 0, 0, 0, 1, 0, 1, 1, 0, 1, 0, 2, 0, 2, 1, 0, 0, 1, 0, 1, 2, 1, 2, 0, 2, 0, 0, 2, 2, 1, 0, 1, 0, 0, 1, 1, 0, 1, 1, 1, 1, 1, 2, 1, 0, 2, 0, 0, 1, 1, 1, 0, 1, 0, 1, 0, 1, 1, 1, 1, 1, 1, 0, 1, 2, 0, 1, 1, 0, 0, 0, 0, 0, 0, 1, 1, 0, 1, 0, 2, 1, 0, 1, 1, 1, 1, 1, 0, 0, 1, 0, 0, 1, 0, 1, 0, 0, 1, 1, 0, 1, 1, 1, 1, 0, 0, 1, 1, 0, 3, 1, 1, 0, 1, 2, 0, 0, 1, 1, 0, 1, 2, 1, 1, 1, 1, 2, 3, 1, 0, 1, 1, 0, 1, 0, 1, 1, 0, 0, 1, 2, 2, 1, 1, 0, 2, 0, 2, 1, 0, 0, 2, 1, 1, 1, 0, 0, 1, 1, 0, 1, 1, 1, 1, 1, 1, 1, 1, 0, 0, 1, 2, 0, 0, 1, 0, 1, 1, 1, 1, 0, 2, 1, 0, 1, 1, 1, 1, 0, 1, 1, 1, 1, 1, 1, 1, 1, 1, 1, 1, 0, 0, 1, 1, 1, 0, 1, 0, 0, 1, 0, 0, 0, 1, 1, 0, 1, 2, 1, 0, 1, 1, 0, 0, 0, 1, 0, 0, 0, 1, 1, 0, 1, 0, 1, 2, 1, 1, 1, 1, 1, 0, 0, 1, 0, 0, 1, 1, 2, 0, 1, 1, 0, 1, 1, 0, 0, 1, 1, 0, 0, 2, 2, 0, 1, 1, 1, 1, 1, 3, 1, 1, 1, 1, 1, 0, 0, 0, 2, 1, 1, 0, 1, 2, 1, 0, 1, 1, 1, 0, 0, 1, 0, 1, 1, 1, 1, 0, 0, 1, 0, 1, 0, 1, 0, 3, 1, 2, 1, 0, 1, 0, 1, 1, 1, 1, 1, 1, 1, 1, 1, 0, 2, 1, 1, 0, 1, 1, 2, 1, 1, 1, 1, 0, 1, 0, 1, 1, 0, 1, 0, 0, 1, 0, 0, 1, 1, 0, 0, 1, 0, 0, 0, 1, 0, 1, 0, 0, 1, 1, 1, 2, 1, 1, 1, 1, 1, 2, 1, 0, 1, 1, 2, 1, 1, 1, 0, 1, 0, 0, 0, 1, 0, 1, 0, 0, 1, 0, 1, 1, 1, 0, 0, 1, 0, 1, 2, 3, 0, 0, 1, 1, 1, 1, 1, 1, 1, 1, 1, 1, 2, 1, 1, 0, 0, 1, 1, 1, 1, 1, 1, 2, 2, 1, 1, 1, 1, 1, 0, 1, 1, 0, 0, 1, 0, 0, 1, 0, 1, 1, 1, 2, 0, 2, 2, 0, 1, 1, 1, 0, 0, 1, 2, 1, 0, 0, 0, 2, 1, 0, 0, 2, 1, 0, 1, 1, 0, 1, 1, 1, 1, 1, 0, 0, 1, 1, 0, 2, 1, 0, 1, 1, 1, 2, 1, 0, 1, 1, 2, 0, 2, 1, 0, 0, 1, 0, 1, 1, 1, 1, 0, 0, 0, 1, 1, 1, 1, 0, 1, 1, 1, 1, 2, 1, 1, 1, 1, 0, 1, 1, 0, 1, 1, 1, 1, 0, 1, 1, 2, 1, 1, 0, 0, 1, 1, 1, 2, 1, 0, 1, 1, 1, 1, 1, 1, 2, 1, 1, 1, 1, 1, 1, 1, 1, 1, 1, 1, 1, 2, 0, 1, 0, 0, 1, 0, 1, 0, 1, 1, 1, 0, 0, 0, 1, 0, 2, 1, 2, 1, 1, 1, 1, 1, 0, 0, 2, 0, 0, 0, 0, 2, 0, 1, 1, 0, 1, 0, 1, 0, 0, 1, 0, 1, 1, 1, 1, 1, 2, 0, 1, 1, 0, 1, 0, 1, 1, 1, 0, 1, 0, 0, 0, 1, 0, 1, 1, 0, 0, 1, 1, 1, 0, 0, 1, 1, 1, 1, 1, 1, 0, 1, 1, 1, 0, 2, 0, 1, 0, 0, 1, 2, 1, 0, 1, 1, 0, 1, 1, 1, 0, 0, 1, 1, 1, 0, 0, 1, 0, 1, 0, 2, 1, 1, 2, 0, 1, 0, 0, 1, 2, 1, 1, 1, 1, 1, 0, 1, 1, 0, 0, 1, 1, 0, 1, 0, 0, 1, 1, 0, 2, 0, 0, 0, 0, 1, 0, 0, 0, 1, 0, 1, 0, 0, 1, 2, 2, 0, 2, 1, 1, 0, 1, 2, 0, 0, 1, 1, 0, 1, 0, 0, 1, 1, 1, 1, 0, 1, 0, 0, 1, 2, 0, 1, 0, 1, 1, 1, 1, 0, 1, 1, 1, 0, 1, 1, 1, 1, 1, 1, 1, 1, 1, 0, 0, 0, 0, 0, 1, 1, 0, 0, 1, 0, 1, 1, 0, 2, 1, 0, 2, 0, 1, 1, 1, 3, 0, 1, 1, 1, 1, 2, 0, 0, 0, 0, 1, 1, 1, 0, 1, 1, 1, 1, 2, 2, 1, 1, 1, 1, 1, 0, 1, 1, 1, 1, 1, 1, 1, 1, 1, 0, 2, 1, 1, 2, 1, 1, 0, 2, 0, 1, 0, 1, 1, 0, 2, 1, 1, 0, 1, 0, 1, 1, 1, 0, 0, 1, 0, 0, 0, 0, 1, 0, 0, 0, 1, 1, 1, 1, 2, 0, 2, 1, 0, 1, 1, 1, 0, 2, 1, 0, 1, 0, 1, 1, 0, 1, 1, 2, 0, 0, 1, 1, 1, 0, 0, 2, 1, 1, 0, 1, 1, 1, 0, 1, 1, 0, 0, 0, 0, 1, 0, 1, 1, 1, 2, 0, 1, 1, 0, 1, 0, 0, 0, 0, 1, 1, 2, 0, 0, 1, 1, 1, 0, 1, 0, 0, 1, 1, 0, 0, 1, 1, 0, 0, 0, 1, 1, 2, 1, 0, 1, 1, 1, 2, 1, 1, 3, 0, 0, 1, 1, 1, 2, 0, 1, 0, 1, 1, 0, 0, 0, 1, 1, 1, 0, 1, 2, 0, 0, 1, 0, 1, 0, 2, 1, 1, 2, 1, 1, 1, 0, 1, 0, 0, 1, 1, 1, 1, 2, 1, 1, 0, 1, 1, 0, 0, 0, 0, 1, 0, 1, 0, 1, 1, 1, 1, 1, 0, 1, 1, 2, 0, 1, 0, 1, 2, 1, 0, 1, 1, 1, 0, 0, 0, 0, 0, 1, 1, 0, 1, 2, 0, 0, 1, 0, 1, 2, 0, 1, 2, 1, 0, 1, 1, 1, 3, 1, 2, 0, 1, 1, 2, 0, 1, 1, 1, 1, 1, 1, 1, 0, 0, 1, 0, 1, 2, 1, 1, 1, 1, 1, 0, 3, 0, 0, 1, 0, 1, 1, 1, 1, 0, 2, 1, 0, 1, 1, 1, 1, 0, 0, 0, 1, 2, 2, 1, 1, 0, 0, 0, 1, 0, 1, 0, 0, 1, 0, 0, 1, 1, 1, 0, 2, 1, 1, 0, 0, 1, 0, 1, 0, 1, 1, 1, 2, 1, 0, 1, 0, 2, 1, 1, 1, 1, 1, 1, 1, 1, 1, 1, 1, 1, 0, 0, 0, 0, 1, 1, 2, 0, 0, 0, 2, 1, 1, 1, 2, 1, 2, 1, 0, 0, 1, 1, 0, 2, 0, 0, 1, 1, 1, 1, 1, 2, 1, 1, 1, 1, 1, 1, 1, 1, 1, 1, 0, 0, 1, 0, 0, 0, 1, 1, 1, 0, 2, 2, 1, 1, 0, 0, 0, 1, 0, 1, 0, 0, 1, 1, 0, 0, 1, 2, 0, 2, 3, 1, 1, 0, 1, 1, 1, 0, 2, 0, 0, 0, 2, 0, 1, 0, 1, 0, 2, 0, 0, 1, 0, 1, 0, 0, 0, 1, 1, 1, 0, 0, 1, 1, 1, 2, 1, 0, 0, 1, 1, 1, 1, 1, 1, 0, 2, 0, 0, 1, 1, 1, 0, 0, 0, 1, 0, 2, 1, 0, 0, 0, 1, 1, 1, 0, 0, 0, 2, 0, 0, 1, 0, 0, 1, 1, 0, 1, 1, 1, 1, 0, 0, 0, 0, 0, 0, 0, 3, 0, 1, 1, 1, 0, 0, 1, 3, 0, 0, 1, 0, 0, 1, 1, 1, 1, 1, 1, 0, 3, 1, 1, 0, 0, 0, 2, 1, 0, 0, 1, 1, 1, 0, 0, 1, 1, 1, 0, 0, 0, 1, 1, 0, 1, 2, 1, 0, 0, 1, 0, 1, 1, 1, 2, 1, 0, 0, 0, 1, 0, 1, 1, 1, 1, 0, 1, 1, 1, 1, 0, 0, 1, 0, 1, 1, 2, 2, 0, 0, 1, 1, 1, 0, 0, 0, 2, 1, 0, 1, 2, 1, 0, 1, 1, 2, 1, 1, 0, 1, 0, 0, 1, 0, 0, 0, 0, 1, 0, 1, 0, 1, 1, 1, 1, 1, 1, 2, 1, 0, 1, 0, 0, 1, 2, 0, 1, 1, 0, 0, 0, 0, 1, 1, 2, 1, 1, 1, 1, 0, 0, 1, 2, 1, 1, 1, 1, 1, 0, 1, 1, 1, 0, 1, 0, 0, 1, 1, 2, 0, 0, 0, 1, 1, 1, 0, 1, 0, 0, 0, 1, 2, 1, 1, 1, 0, 1, 1, 1, 1, 1, 0, 0, 1, 2, 1, 2, 1, 0, 1, 0, 1, 1, 0, 1, 0, 0, 1, 1, 1, 1, 0, 2, 0, 2, 2, 1, 1, 0, 0, 1, 0, 1, 0, 1, 2, 1, 0, 0, 1, 1, 1, 1, 0, 2, 2, 1, 1, 1, 0, 1, 1, 0, 1, 1, 0, 1, 1, 1, 1, 1, 1, 0, 1, 1, 0, 1, 0, 1, 0, 1, 0, 1, 0, 0, 1, 1, 2, 0, 1, 1, 2, 1, 1, 1, 1, 0, 0, 1, 0, 1, 1, 1, 1, 2, 2, 2, 0, 1, 0, 1, 0, 1, 2, 1, 1, 1, 0, 1, 1, 1, 0, 0, 1, 1, 0, 0, 1, 0, 1, 0, 1, 0, 0, 1, 2, 1, 0, 1, 1, 1, 1, 1, 1, 2, 1, 0, 1, 0, 0, 0, 0, 0, 0, 2, 0, 1, 1, 1, 1, 0, 0, 1, 1, 2, 1, 1, 1, 1, 1, 1, 1, 1, 1, 2, 1, 1, 1, 0, 0, 0, 1, 1, 0, 1, 0, 1, 2, 1, 1, 0, 1, 0, 0, 0, 1, 0, 1, 1, 1, 0, 1, 1, 1, 1, 2, 1, 2, 1, 1, 2, 1, 0, 1, 1, 1, 1, 0, 0, 0, 2, 0, 1, 0, 0, 1, 0, 2, 1, 1, 2, 1, 0, 2, 0, 1, 1, 1, 1, 1, 1, 1, 1, 1, 1, 0, 1, 0, 1, 1, 1, 1, 0, 0, 1, 0, 0, 1, 1, 1, 1, 0, 2, 1, 1, 1, 0, 2, 0, 1, 1, 1, 1, 1, 1, 1, 0, 1, 0, 1, 0, 2, 1, 1, 1, 1, 1, 1, 1, 1, 0, 2, 1, 0, 0, 1, 1, 0, 0, 1, 0, 0, 1, 2, 1, 1, 1, 0, 1, 1, 1, 0, 1, 0, 1, 0, 1, 0, 1, 0, 0, 1, 2, 1, 0, 2, 1, 0, 1, 0, 1, 1, 1, 1, 1, 1, 0, 1, 1, 1, 0, 0, 0, 2, 1, 1, 1, 0, 0, 2, 1, 1, 1, 1, 1, 0, 1, 1, 0, 1, 2, 2, 0, 1, 1, 0, 1, 1, 1, 1, 2, 0, 1, 0, 0, 1, 0, 1, 1, 2, 0, 0, 1, 1, 1, 0, 1, 0, 0, 0, 1, 0, 1, 0, 0, 1, 1, 1, 2, 2, 1, 0, 2, 1, 1, 1, 0, 1, 1, 1, 0, 0, 1, 0, 1, 1, 1, 2, 1, 0, 0, 0, 0, 0, 0, 1, 0, 0, 0, 1, 0, 1, 1, 0, 1, 0, 2, 1, 1, 1, 0, 2, 0, 0, 1, 1, 0, 1, 2, 3, 1, 0, 0, 1, 1, 0, 1, 0, 1, 1, 1, 1, 0, 1, 0, 1, 1, 0, 0, 1, 1, 1, 0, 0, 0, 1, 1, 1, 2, 3, 0, 0, 0, 1, 0, 0, 1, 0, 1, 1, 0, 1, 1, 0, 1, 1, 1, 0, 0, 1, 1, 0, 1, 1, 1, 0, 1, 0, 3, 1, 1, 0, 0, 1, 1, 1, 1, 1, 0, 1, 1, 1, 1, 3, 1, 2, 0, 0, 1, 1, 1, 2, 1, 0, 1, 1, 1, 0, 0, 0, 0, 0, 1, 1, 3, 2, 1, 1, 1, 1, 1, 0, 1, 1, 1, 0, 0, 2, 1, 2, 0, 1, 1, 1, 0, 0, 2, 0, 0, 2, 1, 1, 1, 0, 0, 0, 0, 1, 1, 1, 0, 1, 1, 1, 0, 0, 2, 1, 0, 0, 0, 0, 1, 1, 1, 1, 0, 1, 0, 1, 0, 1, 1, 1, 1, 0, 1, 0, 1, 1, 0, 1, 0, 0, 1, 1, 0, 0, 1, 0, 1, 1, 1, 0, 0, 0, 0, 1, 1, 0, 0, 1, 1, 1, 0, 0, 1, 1, 2, 1, 1, 1, 1, 1, 0, 2, 0, 0, 1, 1, 0, 1, 1, 1, 0, 1, 0, 1, 1, 0, 1, 2, 1, 1, 2, 0, 0, 0, 1, 1, 1, 0, 1, 1, 0, 1, 1, 1, 2, 2, 0, 0, 1, 1, 1, 1, 0, 0, 0, 1, 1, 1, 1, 2, 1, 0, 1, 0, 0, 0, 1, 1, 1, 1, 1, 1, 0, 1, 2, 0, 1, 1, 0, 1, 0, 1, 0, 1, 0, 1, 0, 1, 0, 1, 1, 1, 2, 1, 1, 0, 1, 1, 0, 1, 1, 1, 0, 2, 0, 2, 1, 0, 1, 0, 0, 1, 0, 0, 0, 1, 1, 0, 1, 1, 0, 2, 1, 0, 0, 0, 2, 0, 1, 1, 1, 0, 1, 1, 1, 1, 2, 0, 0, 0, 2, 0, 1, 1, 1, 0, 0, 1, 1, 0, 1, 1, 0, 0, 0, 0, 2, 0, 1, 1, 2, 2, 1, 3, 0, 2, 0, 0, 1, 2, 1, 2, 1, 1, 1, 1, 0, 2, 0, 1, 1, 1, 0, 0, 2, 0, 1, 1, 1, 0, 0, 1, 1, 1, 2, 1, 1, 0, 2, 0, 1, 0, 1, 2, 0, 2, 1, 1, 1, 1, 0, 0, 1, 1, 1, 0, 0, 2, 0, 1, 0, 0, 1, 0, 0, 2, 1, 0, 0, 0, 2, 0, 2, 1, 1, 1, 1, 1, 1, 1, 0, 0, 0, 1, 1, 1, 0, 1, 1, 1, 1, 0, 1, 1, 0, 0, 1, 2, 0, 0, 2, 1, 1, 1, 0, 1, 0, 0, 0, 1, 0, 1, 1, 3, 1, 0, 0, 1, 1, 0, 0, 0, 1, 0, 1, 2, 0, 1, 0, 0, 1, 1, 0, 1, 1, 1, 1, 0, 1, 2, 0, 2, 2, 2, 1, 0, 0, 2, 1, 1, 1, 1, 0, 0, 0, 1, 1, 1, 1, 0, 0, 1, 1, 1, 0, 2, 0, 0, 1, 1, 1, 1, 0, 1, 1, 0, 1, 1, 0, 1, 1, 0, 1, 1, 1, 2, 1, 0, 2, 0, 1, 1, 1, 3, 0, 1, 1, 1, 1, 1, 1, 0, 0, 1, 0, 0, 0, 2, 1, 1, 1, 0, 1, 1, 0, 1, 0, 1, 0, 2, 1, 1, 0, 0, 1, 1, 0, 1, 1, 1, 1, 1, 1, 2, 0, 1, 0, 0, 0, 1, 1, 1, 0, 1, 0, 1, 1, 1, 2, 0, 0, 0, 1, 0, 1, 1, 0, 1, 1, 0, 0, 1, 1, 1, 1, 1, 1, 1, 1, 0, 2, 1, 1, 1, 1, 0, 0, 1, 0, 1, 0, 1, 1, 1, 2, 2, 1, 1, 1, 2, 0, 0, 0, 0, 1, 0, 2, 1, 0, 0, 1, 0, 1, 2, 0, 2, 0, 1, 0, 1, 1, 1, 1, 2, 0, 1, 0, 2, 1, 1, 0, 2, 0, 1, 1, 0, 1, 0, 0, 1, 2, 0, 1, 1, 0, 1, 0, 0, 0, 1, 0, 0, 0, 1, 0, 1, 1, 1, 0, 1, 1, 0, 0, 0, 1, 1, 1, 1, 2, 1, 1, 1, 1, 0, 1, 1, 1, 0, 0, 1, 1, 1, 2, 0, 0, 0, 2, 1, 0, 1, 0, 0, 0, 0, 0, 0, 1, 0, 1, 0, 1, 1, 1, 1, 0, 1, 1, 1, 0, 0, 0, 0, 1, 2, 1, 0, 1, 0, 1, 1, 1, 0, 2, 1, 1, 1, 1, 0, 0, 1, 0, 1, 0, 1, 0, 1, 0, 0, 1, 0, 1, 1, 0, 0, 1, 1, 0, 1, 1, 1, 0, 1, 1, 0, 0, 0, 1, 1, 0, 1, 1, 1, 0, 1, 0, 1, 1, 1, 2, 1, 0, 0, 1, 0, 0, 1, 0, 0, 0, 3, 1, 2, 1, 3, 0, 0, 1, 1, 1, 1, 1, 2, 1, 0, 1, 0, 0, 0, 0, 1, 0, 1, 1, 1, 1, 1, 1, 1, 1, 1, 1, 2, 0, 0, 0, 0, 0, 1, 1, 1, 1, 1, 1, 2, 0, 0, 1, 0, 0, 0, 2, 1, 1, 1, 1, 1, 1, 1, 2, 1, 1, 1, 1, 2, 1, 1, 1, 0, 0, 0, 1, 2, 0, 1, 1, 0, 1, 1, 1, 0, 0, 1, 0, 1, 1, 0, 0, 1, 0, 0, 0, 1, 1, 1, 1, 0, 1, 1, 1, 0, 0, 1, 1, 2, 1, 2, 1, 1, 0, 1, 1, 0, 1, 1, 0, 0, 1, 0, 1, 1, 1, 1, 3, 1, 1, 0, 0, 0, 0, 1, 2, 1, 1, 1, 1, 1, 0, 1, 1, 1, 1, 1, 1, 0, 1, 0, 0, 1, 1, 1, 0, 1, 1, 0, 1, 0, 1, 0, 0, 1, 0, 2, 0, 1, 1, 0, 0, 1, 1, 1, 1, 1, 1, 1, 1, 0, 0, 2, 1, 1, 1, 0, 1, 0, 0, 1, 1, 1, 0, 1, 0, 0, 2, 0, 2, 1, 1, 1, 1, 0, 1, 2, 1, 1, 0, 1, 1, 1, 1, 0, 1, 1, 1, 1, 1, 2, 1, 0, 2, 1, 1, 1, 0, 1, 1, 0, 1, 3, 1, 0, 1, 1, 0, 0, 0, 2, 0, 0, 1, 2, 0, 0, 1, 1, 0, 2, 1, 1, 2, 0, 2, 1, 0, 0, 1, 1, 0, 0, 1, 0, 1, 1, 1, 1, 2, 3, 1, 1, 0, 1, 1, 1, 1, 1, 2, 0, 1, 1, 1, 0, 1, 0, 1, 1, 1, 1, 1, 1, 1, 1, 1, 1, 0, 1, 1, 1, 0, 0, 0, 0, 1, 1, 1, 1, 0, 1, 1, 2, 1, 1, 0, 0, 0, 1, 1, 1, 0, 1, 1, 1, 2, 1, 1, 0, 0, 0, 0, 0, 0, 1, 0, 1, 0, 1, 0, 0, 1, 0, 1, 2, 1, 0, 0, 0, 1, 0, 1, 1, 1, 0, 1, 1, 1, 1, 0, 0, 1, 1, 0, 0, 0, 0, 1, 0, 1, 0, 1, 1, 0, 2, 1, 1, 1, 1, 1, 1, 1, 0, 1, 1, 1, 1, 0, 2, 1, 1, 2, 0, 1, 1, 1, 1, 1, 3, 0, 1, 0, 1, 2, 1, 0, 0, 1, 0, 0, 1, 2, 1, 2, 1, 1, 1, 1, 1, 1, 1, 0, 0, 1, 0, 0, 1, 0, 0, 0, 0, 1, 1, 0, 1, 0, 2, 0, 1, 1, 0, 0, 0, 1, 3, 1, 0, 0, 0, 0, 1, 1, 1, 0, 0, 0, 1, 0, 0, 1, 1, 2, 1, 1, 1, 0, 1, 0, 1, 1, 1, 0, 2, 0, 0, 1, 0, 1, 1, 1, 1, 0, 0, 0, 1, 1, 1, 0, 1, 0, 1, 0, 1, 0, 1, 0, 2, 1, 1, 1, 0, 0, 0, 1, 0, 0, 2, 0, 1, 0, 2, 1, 1, 0, 1, 1, 0, 0, 0, 0, 0, 1, 1, 0, 0, 2, 0, 1, 1, 0, 1, 0, 1, 0, 0, 0, 1, 1, 1, 1, 1, 0, 2, 0, 0, 1, 1, 0, 1, 1, 1, 0, 0, 0, 1, 1, 2, 1, 1, 0, 0, 1, 1, 1, 1, 0, 2, 1, 1, 1, 0, 1, 1, 0, 1, 1, 1, 1, 0, 0, 0, 1, 1, 0, 1, 0, 1, 1, 0, 1, 1, 0, 1, 1, 0, 0, 1, 2, 1, 2, 1, 1, 0, 1, 0, 1, 0, 1, 0, 1, 0, 0, 1, 2, 1, 1, 0, 1, 1, 1, 0, 0, 0, 3, 0, 0, 0, 1, 1, 2, 1, 1, 0, 1, 1, 1, 0, 1, 1, 1, 2, 0, 2, 1, 1, 0, 0, 1, 0, 0, 1, 0, 0, 1, 1, 1, 1, 0, 0, 1, 2, 0, 0, 2, 0, 1, 1, 1, 1, 0, 1, 2, 1, 2, 1, 1, 1, 1, 1, 1, 1, 1, 0, 1, 3, 1, 0, 1, 0, 0, 3, 1, 1, 1, 2, 2, 1, 0, 1, 1, 1, 1, 0, 1, 1, 0, 0, 1, 1, 1, 1, 1, 1, 0, 1, 2, 0, 2, 0, 1, 2, 1, 0, 1, 1, 1, 0, 0, 1, 0, 1, 0, 0, 1, 1, 1, 1, 0, 1, 1, 0, 0, 1, 0, 1, 0, 1, 0, 0, 1, 0, 1, 2, 0, 1, 1, 1, 1, 0, 1, 0, 0, 0, 1, 2, 1, 1, 1, 0, 3, 0, 0, 0, 0, 1, 1, 0, 1, 1, 0, 1, 2, 0, 0, 1, 1, 2, 3, 1, 0, 1, 1, 0, 1, 1, 1, 1, 1, 2, 1, 1, 1, 0, 1, 1, 1, 1, 0, 1, 1, 1, 1, 1, 0, 1, 1, 1, 1, 0, 1, 0, 2, 0, 1, 1, 1, 1, 0, 1, 0, 1, 1, 0, 1, 0, 0, 1, 2, 1, 0, 1, 0, 1, 1, 0, 1, 0, 1, 1, 0, 2, 0, 1, 1, 1, 0, 1, 2, 2, 1, 2, 0, 1, 2, 1, 0, 0, 1, 0, 1, 0, 1, 1, 1, 1, 1, 2, 0, 2, 1, 1, 1, 1, 1, 1, 2, 1, 2, 0, 0, 1, 0, 0, 1, 0, 1, 1, 0, 0, 2, 2, 0, 1, 2, 1, 0, 1, 1, 1, 2, 0, 0, 1, 1, 0, 0, 0, 1, 1, 1, 0, 1, 2, 1, 1, 1, 0, 1, 0, 0, 0, 0, 1, 0, 2, 1, 0, 1, 1, 1, 0, 0, 1, 1, 2, 0, 0, 1, 0, 2, 2, 1, 2, 0, 1, 0, 1, 2, 0, 0, 1, 0, 0, 0, 0, 0, 0, 1, 0, 0, 2, 1, 2, 1, 1, 0, 1, 1, 1, 1, 1, 0, 1, 1, 0, 0, 1, 1, 2, 1, 1, 1, 1, 1, 1, 1, 1, 0, 0, 0, 1, 0, 0, 0, 0, 0, 1, 0, 1, 2, 1, 0, 1, 2, 0, 0, 0, 0, 0, 2, 2, 0, 0, 1, 0, 1, 0, 0, 0, 1, 0, 1, 1, 0, 1, 1, 1, 1, 2, 1, 0, 2, 1, 1, 1, 2, 0, 0, 2, 1, 0, 1, 1, 2, 1, 1, 2, 1, 1, 0, 1, 1, 1, 0, 1, 0, 1, 0, 1, 1, 0, 0, 0, 0, 1, 0, 1, 1, 1, 0, 1, 1, 2, 1, 0, 1, 0, 1, 0, 1, 0, 2, 1, 1, 1, 1, 0, 1, 0, 0, 1, 1, 1, 0, 2, 0, 1, 1, 2, 1, 1, 0, 0, 1, 1, 0, 1, 1, 0, 0, 0, 0, 1, 1, 0, 1, 0, 0, 0, 0, 1, 0, 0, 1, 0, 1, 0, 0, 1, 1, 1, 2, 0, 1, 0, 1, 2, 1, 1, 1, 0, 0, 0, 1, 1, 1, 0, 1, 1, 0, 1, 0, 1, 1, 0, 1, 1, 1, 1, 0, 1, 1, 2, 1, 0, 1, 0, 0, 1, 1, 1, 0, 1, 0, 1, 1, 1, 0, 1, 0, 2, 1, 2, 1, 0, 1, 1, 1, 0, 0, 0, 0, 0, 1, 1, 0, 0, 1, 0, 1, 1, 0, 0, 0, 1, 0, 0, 0, 2, 2, 1, 0, 0, 0, 1, 1, 0, 2, 1, 0, 2, 1, 1, 1, 0, 1, 0, 0, 0, 1, 1, 0, 1, 0, 0, 1, 0, 1, 1, 1, 1, 0, 1, 0, 0, 1, 0, 0, 1, 1, 1, 0, 1, 1, 0, 0, 1, 1, 1, 0, 1, 0, 0, 0, 0, 2, 0, 2, 0, 0, 1, 1, 1, 0, 1, 2, 0, 0, 0, 1, 1, 1, 0, 1, 1, 0, 0, 0, 0, 1, 1, 0, 1, 1, 0, 1, 1, 1, 1, 1, 0, 0, 0, 0, 1, 2, 0, 0, 0, 1, 0, 0, 1, 1, 0, 1, 2, 1, 1, 1, 0, 0, 0, 1, 1, 2, 1, 1, 1, 2, 0, 1, 1, 2, 0, 1, 1, 1, 1, 0, 1, 1, 0, 1, 1, 1, 0, 1, 1, 0, 1, 0, 1, 0, 0, 0, 1, 3, 1, 1, 1, 0, 1, 2, 1, 0, 0, 1, 0, 1, 1, 0, 0, 1, 1, 1, 0, 1, 1, 1, 0, 1, 1, 2, 2, 2, 0, 0, 1, 0, 1, 0, 0, 0, 0, 1, 1, 1, 1, 1, 1, 0, 2, 2, 0, 1, 1, 2, 2, 1, 0, 1, 2, 1, 0, 1, 1, 1, 1, 1, 2, 1, 0, 0, 1, 1, 1, 1, 0, 1, 0, 1, 1, 1, 1, 2, 1, 1, 0, 1, 0, 1, 0, 1, 1, 2, 0, 0, 1, 0, 0, 1, 0, 1, 1, 1, 0, 1, 1, 0, 1, 1, 1, 1, 0, 1, 1, 1, 1, 1, 0, 0, 1, 1, 1, 1, 2, 0, 1, 1, 0, 1, 0, 0, 0, 1, 1, 2, 1, 2, 2, 1, 0, 1, 1, 1, 0, 1, 1, 0, 1, 2, 1, 0, 0, 0, 1, 0, 0, 1, 2, 2, 1, 0, 2, 0, 1, 1, 0, 1, 0, 0, 1, 1, 0, 0, 1, 0, 0, 1, 1, 0, 0, 0, 2, 0, 2, 2, 1, 1, 1, 1, 0, 0, 0, 1, 1, 0, 1, 0, 1, 1, 1, 1, 1, 0, 1, 0, 1, 0, 1, 1, 1, 0, 0, 1, 0, 0, 0, 1, 0, 1, 1, 1, 1, 1, 2, 1, 0, 1, 1, 0, 1, 0, 0, 0, 1, 1, 1, 1, 1, 2, 0, 0, 1, 0, 0, 1, 1, 0, 0, 0, 2, 1, 0, 1, 1, 0, 0, 0, 0, 1, 0, 1, 1, 0, 1, 0, 1, 0, 1, 0, 1, 1, 1, 1, 1, 1, 1, 1, 0, 0, 1, 1, 0, 1, 0, 1, 1, 0, 0, 1, 1, 3, 0, 0, 1, 1, 1, 0, 1, 1, 1, 1, 2, 0, 0, 1, 1, 0, 1, 2, 2, 1, 1, 1, 0, 1, 1, 0, 1, 0, 1, 1, 2, 1, 1, 1, 0, 1, 2, 0, 1, 1, 1, 1, 0, 1, 2, 2, 1, 0, 1, 0, 1, 1, 0, 1, 1, 0, 1, 3, 1, 1, 0, 1, 1, 1, 1, 1, 0, 2, 0, 2, 1, 0, 1, 0, 0, 0, 0, 1, 2, 1, 0, 0, 0, 1, 0, 0, 1, 1, 0, 1, 0, 1, 1, 0, 0, 1, 1, 0, 0, 1, 0, 1, 0, 1, 0, 0, 0, 2, 1, 0, 1, 2, 1, 1, 1, 0, 0, 0, 1, 1, 2, 1, 0, 1, 3, 1, 1, 0, 0, 1, 1, 0, 0, 1, 0, 1, 1, 1, 1, 1, 0, 2, 0, 1, 1, 0, 0, 0, 0, 0, 2, 0, 1, 2, 2, 1, 2, 1, 1, 0, 2, 2, 1, 1, 1, 1, 0, 1, 1, 1, 1, 1, 1, 1, 1, 0, 0, 1, 0, 1, 1, 0, 2, 1, 1, 0, 0, 1, 0, 1, 0, 0, 1, 1, 0, 1, 2, 1, 0, 0, 1, 1, 0, 1, 2, 1, 0, 1, 0, 2, 1, 0, 1, 1, 1, 1, 1, 1, 0, 0, 2, 1, 1, 1, 1, 1, 1, 1, 1, 0, 0, 1, 0, 0, 1, 0, 0, 0, 1, 1, 1, 1, 0, 1, 0, 1, 0, 0, 0, 0, 1, 1, 1, 0, 1, 1, 1, 0, 0, 0, 1, 1, 0, 0, 1, 0, 0, 1, 0, 1, 1, 1, 0, 0, 0, 1, 0, 0, 1, 1, 1, 1, 1, 1, 1, 0, 1, 1, 0, 1, 1, 1, 1, 1, 0, 1, 1, 0, 0, 2, 0, 1, 1, 1, 1, 1, 0, 1, 1, 0, 0, 0, 2, 1, 1, 0, 0, 0, 0, 0, 0, 0, 1, 0, 1, 0, 1, 1, 0, 0, 1, 1, 0, 2, 0, 0, 1, 0, 2, 0, 1, 0, 1, 1, 0, 1, 2, 1, 1, 0, 1, 1, 1, 0, 1, 1, 1, 0, 2, 0, 1, 0, 1, 1, 0, 1, 0, 1, 1, 0, 1, 1, 1, 1, 1, 1, 1, 1, 1, 0, 1, 1, 1, 1, 1, 0, 1, 1, 0, 1, 0, 0, 1, 1, 1, 0, 1, 1, 1, 1, 0, 0, 1, 2, 0, 1, 0, 0, 1, 2, 0, 1, 1, 0, 1, 1, 0, 0, 2, 2, 0, 2, 2, 0, 1, 1, 2, 0, 1, 1, 1, 1, 0, 1, 1, 1, 1, 1, 0, 0, 0, 0, 1, 0, 0, 0, 1, 0, 0, 0, 0, 2, 0, 1, 1, 1, 2, 0, 0, 0, 0, 1, 0, 0, 1, 2, 0, 1, 0, 1, 1, 2, 1, 0, 0, 1, 1, 2, 0, 1, 0, 1, 0, 0, 0, 0, 1, 0, 0, 1, 0, 0, 0, 1, 2, 0, 1, 1, 1, 0, 2, 1, 1, 0, 2, 0, 1, 0, 1, 0, 1, 0, 0, 1, 2, 0, 2, 0, 2, 0, 1, 0, 1, 2, 1, 0, 0, 1, 0, 1, 1, 1, 0, 1, 1, 0, 1, 0, 1, 0, 1, 1, 1, 1, 0, 1, 2, 1, 2, 1, 1, 3, 1, 0, 0, 1, 0, 1, 0, 0, 1, 1, 1, 0, 0, 0, 1, 1, 0, 1, 1, 1, 1, 1, 1, 0, 1, 0, 2, 2, 1, 1, 2, 0, 1, 0, 1, 0, 1, 0, 1, 0, 0, 1, 1, 0, 1, 0, 1, 2, 1, 1, 1, 1, 1, 0, 1, 1, 1, 1, 0, 2, 0, 1, 1, 1, 0, 2, 1, 1, 0, 1, 1, 0, 0, 0, 1, 2, 1, 1, 2, 0, 1, 2, 0, 0, 1, 1, 1, 0, 0, 1, 1, 1, 0, 1, 2, 0, 0, 1, 1, 0, 1, 1, 1, 1, 1, 1, 1, 1, 1, 0, 1, 1, 1, 0, 0, 1, 0, 0, 1, 0, 0, 1, 1, 1, 0, 1, 1, 1, 0, 1, 0, 0, 0, 1, 1, 1, 2, 1, 1, 1, 1, 1, 0, 1, 1, 2, 1, 0, 0, 1, 0, 1, 0, 1, 0, 0, 1, 1, 1, 0, 1, 0, 1, 1, 1, 1, 0, 1, 2, 1, 2, 0, 2, 2, 0, 1, 0, 0, 0, 0, 0, 1, 0, 1, 0, 1, 1, 1, 0, 0, 1, 0, 1, 0, 1, 1, 0, 0, 0, 0, 2, 1, 0, 1, 0, 1, 0, 0, 2, 0, 1, 0, 0, 0, 0, 1, 0, 0, 0, 0, 0, 1, 1, 1, 0, 0, 0, 2, 1, 1, 0, 1, 1, 1, 2, 0, 1, 0, 1, 1, 1, 1, 0, 0, 1, 1, 0, 1, 1, 1, 0, 1, 1, 1, 0, 0, 1, 1, 1, 2, 0, 1, 0, 1, 0, 2, 1, 0, 0, 1, 1, 1, 1, 1, 0, 0, 1, 2, 1, 1, 1, 1, 0, 0, 0, 1, 1, 0, 1, 1, 0, 1, 2, 2, 1, 1, 1, 1, 1, 1, 0, 1, 0, 1, 1, 0, 0, 0, 2, 0, 2, 1, 1, 0, 0, 1, 0, 1, 1, 2, 1, 1, 1, 0, 1, 1, 1, 0, 2, 1, 1, 0, 1, 1, 0, 1, 1, 1, 1, 1, 2, 1, 1, 1, 0, 0, 0, 0, 0, 1, 0, 0, 0, 0, 1, 1, 1, 1, 1, 1, 0, 1, 1, 1, 0, 1, 1, 1, 0, 1, 0, 0, 1, 2, 0, 1, 0, 0, 0, 2, 2, 1, 0, 0, 1, 0, 1, 1, 1, 1, 1, 0, 0, 1, 0, 3, 0, 1, 1, 1, 0, 1, 0, 0, 0, 1, 0, 0, 0, 0, 1, 0, 1, 1, 1, 1, 1, 1, 0, 2, 0, 1, 1, 0, 1, 1, 1, 1, 0, 2, 1, 1, 0, 1, 0, 1, 0, 0, 0, 0, 0, 1, 2, 1, 1, 0, 0, 0, 1, 0, 1, 1, 0, 1, 0, 0, 1, 0, 1, 1, 1, 1, 1, 0, 2, 1, 0, 1, 1, 0, 0, 1, 1, 0, 1, 0, 1, 1, 1, 1, 0, 1, 0, 0, 0, 0, 1, 2, 0, 1, 1, 0, 1, 1, 2, 2, 0, 1, 0, 1, 1, 2, 1, 1, 0, 1, 1, 1, 1, 1, 0, 2, 0, 0, 1, 1, 1, 0, 1, 0, 0, 0, 1, 1, 0, 2, 0, 1, 1, 1, 1, 0, 2, 1, 1, 1, 0, 0, 1, 0, 1, 1, 0, 2, 0, 1, 0, 1, 0, 0, 1, 0, 0, 1, 1, 2, 1, 1, 1, 1, 0, 1, 1, 2, 1, 0, 2, 1, 1, 0, 1, 1, 1, 0, 1, 1, 0, 0, 1, 1, 3, 1, 1, 1, 1, 1, 1, 0, 1, 1, 0, 1, 1, 1, 1, 0, 0, 0, 0, 0, 1, 1, 0, 1, 1, 0, 0, 0, 0, 1, 1, 1, 1, 1, 1, 1, 0, 1, 0, 1, 0, 0, 1, 1, 1, 1, 1, 1, 1, 1, 1, 1, 1, 0, 0, 0, 0, 1, 1, 1, 0, 1, 1, 0, 0, 1, 1, 0, 1, 1, 1, 2, 1, 0, 1, 1, 0, 1, 1, 1, 1, 1, 0, 1, 1, 1, 1, 0, 2, 2, 1, 1, 1, 1, 0, 1, 1, 0, 1, 1, 0, 1, 1, 1, 0, 1, 3, 1, 1, 0, 0, 1, 0, 1, 1, 1, 0, 0, 1, 2, 1, 0, 0, 1, 1, 1, 0, 3, 0, 1, 1, 0, 0, 1, 2, 0, 1, 2, 0, 2, 1, 0, 0, 1, 0, 1, 1, 0, 0, 0, 0, 1, 0, 1, 0, 1, 3, 1, 1, 2, 0, 1, 1, 1, 2, 0, 0, 1, 0, 0, 1, 1, 1, 1, 1, 0, 0, 2, 1, 1, 1, 0, 1, 1, 2, 1, 1, 1, 1, 1, 1, 1, 1, 1, 1, 1, 0, 1, 0, 1, 0, 2, 1, 0, 0, 0, 0, 1, 1, 0, 1, 0, 1, 1, 2, 1, 1, 0, 0, 0, 1, 1, 1, 0, 1, 1, 1, 1, 0, 0, 1, 2, 0, 2, 0, 0, 1, 0, 0, 1, 2, 1, 1, 0, 2, 1, 0, 1, 1, 0, 0, 0, 1, 1, 0, 0, 1, 1, 0, 0, 1, 1, 1, 1, 1, 0, 1, 0, 0, 0, 0, 0, 1, 1, 0, 0, 1, 1, 2, 0, 1, 0, 1, 0, 0, 1, 1, 0, 1, 2, 1, 1, 1, 1, 1, 1, 1, 0, 1, 2, 2, 2, 1]\n",
            "[1 1 0 ... 2 2 1]\n"
          ],
          "name": "stdout"
        }
      ]
    },
    {
      "cell_type": "code",
      "metadata": {
        "colab": {
          "base_uri": "https://localhost:8080/"
        },
        "id": "w8EAes2D6aHB",
        "outputId": "c4982b54-6766-47bc-edb3-80751f82294e"
      },
      "source": [
        "similar = 0\n",
        "for i in range(test_y.shape[0]):\n",
        "  if (result[i] == data_t[i]):\n",
        "    similar += 1\n",
        "\n",
        "accuracy = similar/test_y.shape[0]\n",
        "print(accuracy)"
      ],
      "execution_count": null,
      "outputs": [
        {
          "output_type": "stream",
          "text": [
            "0.9934510815638024\n"
          ],
          "name": "stdout"
        }
      ]
    },
    {
      "cell_type": "code",
      "metadata": {
        "colab": {
          "base_uri": "https://localhost:8080/",
          "height": 295
        },
        "id": "RIlQVR35XXNl",
        "outputId": "2f87fba5-ee3e-4f1e-bf3e-ed7ceab5071f"
      },
      "source": [
        "plt.plot(['ANN1', 'ANN2', 'ANN3', 'RF', 'EL'], [score[1], score2[1], score3[1], score4, accuracy])\n",
        "#plt.plot([1, 2, 3, 3, 5])\n",
        "plt.title('Model accuracy')\n",
        "plt.ylabel('Accuracy')\n",
        "plt.xlabel('Model type')\n",
        "#plt.legend(['Model Type', 'Accuracy'], loc='upper left')\n",
        "plt.show()"
      ],
      "execution_count": null,
      "outputs": [
        {
          "output_type": "display_data",
          "data": {
            "image/png": "[encoded data removed]",
            "text/plain": [
              "<Figure size 432x288 with 1 Axes>"
            ]
          },
          "metadata": {
            "tags": [],
            "needs_background": "light"
          }
        }
      ]
    },
    {
      "cell_type": "code",
      "metadata": {
        "colab": {
          "base_uri": "https://localhost:8080/"
        },
        "id": "tbk_aVl5rsSk",
        "outputId": "885f702a-d87b-4dd8-ffdf-6fbeb1b32929"
      },
      "source": [
        "# Clustering through K-means followed by training (ANNs) and Ensembling\n",
        "\n",
        "cl = np.array(ds)\n",
        "print(cl)"
      ],
      "execution_count": null,
      "outputs": [
        {
          "output_type": "stream",
          "text": [
            "[[0 'tcp' 'ftp_data' ... 0.0 'normal' 20]\n",
            " [0 'udp' 'other' ... 0.0 'normal' 15]\n",
            " [0 'tcp' 'private' ... 0.0 'neptune' 19]\n",
            " ...\n",
            " [0 'tcp' 'smtp' ... 0.0 'normal' 18]\n",
            " [0 'tcp' 'klogin' ... 0.0 'neptune' 20]\n",
            " [0 'tcp' 'ftp_data' ... 0.0 'normal' 21]]\n"
          ],
          "name": "stdout"
        }
      ]
    },
    {
      "cell_type": "code",
      "metadata": {
        "colab": {
          "base_uri": "https://localhost:8080/"
        },
        "id": "43krrsGBbe_u",
        "outputId": "8dea7e18-832c-41af-e152-c31d730f62a9"
      },
      "source": [
        "cl = np.delete(cl, 41, 1)\n",
        "print(cl.shape)\n",
        "print(cl)"
      ],
      "execution_count": null,
      "outputs": [
        {
          "output_type": "stream",
          "text": [
            "(125973, 42)\n",
            "[[0 'tcp' 'ftp_data' ... 0.05 0.0 20]\n",
            " [0 'udp' 'other' ... 0.0 0.0 15]\n",
            " [0 'tcp' 'private' ... 0.0 0.0 19]\n",
            " ...\n",
            " [0 'tcp' 'smtp' ... 0.01 0.0 18]\n",
            " [0 'tcp' 'klogin' ... 0.0 0.0 20]\n",
            " [0 'tcp' 'ftp_data' ... 0.0 0.0 21]]\n"
          ],
          "name": "stdout"
        }
      ]
    },
    {
      "cell_type": "code",
      "metadata": {
        "id": "TXv5XtsVsD1G"
      },
      "source": [
        "from sklearn.cluster import KMeans #, SpectralClustering\n",
        "from sklearn.preprocessing import StandardScaler\n",
        "\n",
        "cl[:,1] = label_encoder.fit_transform(cl[:,1])\n",
        "cl[:,2] = label_encoder.fit_transform(cl[:,2])\n",
        "cl[:,3] = label_encoder.fit_transform(cl[:,3])"
      ],
      "execution_count": null,
      "outputs": []
    },
    {
      "cell_type": "code",
      "metadata": {
        "colab": {
          "base_uri": "https://localhost:8080/"
        },
        "id": "SyzdtDyjHdC8",
        "outputId": "65bafbeb-9852-4f5a-e477-5fde538ba3e4"
      },
      "source": [
        "print(cl[:,:4])"
      ],
      "execution_count": null,
      "outputs": [
        {
          "output_type": "stream",
          "text": [
            "[[0 1 20 9]\n",
            " [0 2 44 9]\n",
            " [0 1 49 5]\n",
            " ...\n",
            " [0 1 54 9]\n",
            " [0 1 30 5]\n",
            " [0 1 20 9]]\n"
          ],
          "name": "stdout"
        }
      ]
    },
    {
      "cell_type": "code",
      "metadata": {
        "id": "efEo3NsaMqpu"
      },
      "source": [
        "cll = preprocessing.normalize(cl)"
      ],
      "execution_count": null,
      "outputs": []
    },
    {
      "cell_type": "code",
      "metadata": {
        "colab": {
          "base_uri": "https://localhost:8080/"
        },
        "id": "YGip6wEXMwvJ",
        "outputId": "3b0d926b-354e-4d58-df6e-f29d2bee5c22"
      },
      "source": [
        "print(cll)"
      ],
      "execution_count": null,
      "outputs": [
        {
          "output_type": "stream",
          "text": [
            "[[0.00000000e+00 1.94221607e-03 3.88443214e-02 ... 9.71108035e-05\n",
            "  0.00000000e+00 3.88443214e-02]\n",
            " [0.00000000e+00 6.71310432e-03 1.47688295e-01 ... 0.00000000e+00\n",
            "  0.00000000e+00 5.03482824e-02]\n",
            " [0.00000000e+00 3.45737279e-03 1.69411267e-01 ... 0.00000000e+00\n",
            "  0.00000000e+00 6.56900830e-02]\n",
            " ...\n",
            " [0.00000000e+00 4.38779331e-04 2.36940839e-02 ... 4.38779331e-06\n",
            "  0.00000000e+00 7.89802797e-03]\n",
            " [0.00000000e+00 3.38605825e-03 1.01581747e-01 ... 0.00000000e+00\n",
            "  0.00000000e+00 6.77211650e-02]\n",
            " [0.00000000e+00 3.24986914e-03 6.49973827e-02 ... 0.00000000e+00\n",
            "  0.00000000e+00 6.82472519e-02]]\n"
          ],
          "name": "stdout"
        }
      ]
    },
    {
      "cell_type": "code",
      "metadata": {
        "id": "TtmWjr-BAOB3"
      },
      "source": [
        "#X_std = StandardScaler().fit_transform(cll)\n",
        "kmeans = KMeans(n_clusters=5, max_iter=5).fit(cll)\n",
        "label = kmeans.predict(cll)\n",
        "centroids = kmeans.cluster_centers_"
      ],
      "execution_count": null,
      "outputs": []
    },
    {
      "cell_type": "code",
      "metadata": {
        "colab": {
          "base_uri": "https://localhost:8080/"
        },
        "id": "moXBBQyv_AEA",
        "outputId": "b73063e2-6025-4ba2-df87-f63ff7de971e"
      },
      "source": [
        "print(label[:1000])"
      ],
      "execution_count": null,
      "outputs": [
        {
          "output_type": "stream",
          "text": [
            "[2 1 1 0 0 1 1 1 1 1 1 1 0 2 1 1 0 3 0 0 1 1 0 4 1 0 1 0 0 0 3 1 0 1 3 0 3\n",
            " 1 0 1 1 1 2 4 0 1 1 0 2 1 0 1 1 0 3 3 3 1 1 3 2 1 1 0 1 2 1 1 1 1 0 1 3 3\n",
            " 1 3 1 0 0 1 0 1 1 3 0 1 0 1 1 4 0 0 3 1 1 2 0 0 4 1 0 0 3 0 3 0 0 0 0 3 3\n",
            " 2 3 0 0 4 1 3 0 0 1 1 1 3 1 1 3 2 3 0 1 1 2 0 1 1 1 0 2 1 0 1 1 0 0 0 1 0\n",
            " 2 1 1 0 1 1 1 3 2 1 3 1 0 3 3 2 1 4 1 0 2 0 1 0 2 1 1 1 3 1 1 1 3 2 1 2 1\n",
            " 1 1 1 2 0 4 0 1 1 0 0 2 0 1 0 0 1 0 2 2 2 1 0 0 1 1 2 1 0 1 1 0 0 0 2 0 1\n",
            " 2 1 3 3 0 1 2 0 2 0 1 1 3 1 1 1 1 0 0 3 1 1 1 0 1 3 1 0 3 0 0 4 1 2 0 0 1\n",
            " 0 1 2 0 1 0 0 0 2 3 1 0 1 3 3 0 0 1 1 0 0 0 1 3 0 1 3 1 1 0 4 1 1 1 0 0 0\n",
            " 0 3 1 1 2 1 1 2 0 3 3 0 1 2 1 0 1 1 0 2 3 1 3 1 2 1 1 1 2 1 0 0 3 1 1 1 3\n",
            " 0 1 0 2 0 1 1 0 1 3 0 1 1 1 3 1 1 1 0 1 0 1 0 1 0 1 2 2 0 1 3 0 3 2 0 1 1\n",
            " 0 0 0 1 0 1 3 0 3 1 3 1 3 1 1 0 1 3 0 2 0 1 1 1 1 1 4 1 3 3 0 1 2 3 3 0 0\n",
            " 3 1 3 0 1 0 0 1 3 3 1 1 1 0 1 1 1 1 0 2 3 0 1 2 2 1 0 3 0 0 2 0 0 1 0 1 1\n",
            " 2 0 2 1 1 0 3 3 1 1 1 0 1 0 1 1 4 0 1 2 0 1 2 1 3 2 1 1 1 0 1 2 0 1 3 0 1\n",
            " 1 1 0 1 0 0 1 1 4 1 3 3 1 0 1 3 3 0 0 0 0 1 0 3 1 0 3 3 1 2 2 0 0 0 1 1 1\n",
            " 0 0 1 0 1 0 3 0 1 4 1 1 1 1 1 4 1 2 1 2 3 0 1 1 3 0 0 0 0 1 3 1 2 3 0 1 3\n",
            " 2 1 1 1 1 3 1 2 0 1 1 0 2 1 0 3 1 1 1 0 2 3 1 0 3 0 0 1 3 0 2 3 0 0 1 0 4\n",
            " 1 1 2 1 0 1 3 1 1 0 1 3 0 4 1 2 3 1 0 1 3 2 0 1 1 0 2 2 0 1 1 0 1 1 1 1 3\n",
            " 1 4 1 4 0 1 2 0 0 1 0 1 0 0 1 4 1 1 1 1 0 1 0 3 3 3 0 0 2 4 1 2 1 1 0 0 1\n",
            " 1 1 0 3 0 1 2 1 2 3 3 2 3 1 3 3 0 0 4 3 1 1 1 0 1 0 1 1 0 1 1 0 0 0 0 3 4\n",
            " 1 2 1 1 2 1 1 1 3 1 1 2 1 3 2 1 1 2 3 3 2 1 1 0 3 0 0 3 0 1 1 2 2 0 1 1 0\n",
            " 2 1 1 1 1 0 0 2 2 0 1 1 3 1 1 2 1 1 1 3 3 1 2 1 0 1 1 0 2 1 1 1 0 0 4 1 4\n",
            " 2 1 0 1 3 0 2 2 4 3 2 1 2 1 0 1 1 1 1 1 3 1 1 0 2 2 3 2 2 1 1 1 0 1 3 1 0\n",
            " 2 1 0 2 0 1 0 0 2 1 1 0 1 0 0 3 2 0 1 3 1 3 1 0 1 3 4 0 1 0 1 0 1 1 0 1 2\n",
            " 3 1 1 0 1 1 0 2 1 1 2 0 1 1 2 3 0 3 0 1 1 0 1 3 1 1 1 1 0 0 1 1 1 1 0 3 1\n",
            " 0 2 2 3 2 1 1 2 2 3 1 1 1 3 1 1 3 1 0 1 0 1 2 1 1 1 3 1 1 1 0 1 3 0 0 1 0\n",
            " 1 3 1 1 1 1 1 0 0 1 2 2 0 0 3 1 1 2 2 0 0 1 1 1 1 0 1 3 0 2 2 2 2 1 1 2 3\n",
            " 2 1 0 1 1 1 2 3 1 3 3 2 0 2 4 0 2 0 1 3 0 0 1 0 1 3 3 1 0 1 4 1 1 0 0 1 1\n",
            " 0]\n"
          ],
          "name": "stdout"
        }
      ]
    },
    {
      "cell_type": "code",
      "metadata": {
        "colab": {
          "base_uri": "https://localhost:8080/"
        },
        "id": "lCcFBNbptYmw",
        "outputId": "0d7fe648-10a0-48b0-f1c4-1d3170193861"
      },
      "source": [
        "print(centroids)"
      ],
      "execution_count": null,
      "outputs": [
        {
          "output_type": "stream",
          "text": [
            "[[ 3.09571067e-03  9.06784027e-04  2.05226901e-02  7.47197240e-03\n",
            "   1.84299260e-01  9.23608065e-01 -6.77626358e-19 -1.12621501e-17\n",
            "   8.32191855e-08  2.38515317e-04  1.22681175e-05  7.01780982e-04\n",
            "   1.63071631e-05  7.26938365e-07  8.78863260e-08  1.15573243e-05\n",
            "   3.09029167e-06  2.44295490e-07  2.41243632e-06  0.00000000e+00\n",
            "   3.62325684e-09  1.77872958e-05  6.97553820e-03  9.19324425e-03\n",
            "   6.12779112e-06  6.76415769e-06  1.03129845e-05  1.09956117e-05\n",
            "   8.23046219e-04  1.91248707e-05  8.38065754e-05  9.54983865e-02\n",
            "   1.60049421e-01  7.22074441e-04  3.13609017e-05  6.91477514e-05\n",
            "   4.52853901e-05  3.64946855e-06  3.83047492e-06  2.00035557e-05\n",
            "   1.78153341e-05  1.70727089e-02]\n",
            " [ 5.02283520e-04  3.67590113e-03  1.36762933e-01  1.65495693e-02\n",
            "   1.51290964e-02  3.16504374e-03  1.57960370e-06  1.94894540e-04\n",
            "  -2.60859678e-20  2.26151919e-06  5.89698374e-08  5.38876676e-05\n",
            "   5.13834341e-07  2.65756587e-19  1.95677846e-20  7.62313896e-07\n",
            "   6.10076348e-08 -1.52307112e-19  6.79743940e-19  0.00000000e+00\n",
            "  -3.64166265e-22  6.10076348e-08  4.72509792e-01  3.40863304e-02\n",
            "   2.27696913e-03  2.26789686e-03  8.11555333e-04  8.15917813e-04\n",
            "   8.72031809e-04  4.24340374e-04  3.33549228e-05  8.03873704e-01\n",
            "   4.83994408e-02  2.25704030e-04  5.74676239e-04  2.54861857e-04\n",
            "   1.00891188e-04  2.27239383e-03  2.26188888e-03  7.57091650e-04\n",
            "   8.08385008e-04  6.64904504e-02]\n",
            " [ 2.00495643e-03  1.29950866e-03  4.00723157e-02  1.25477189e-02\n",
            "   9.04819659e-01  1.38565204e-01  2.00577402e-18  7.59923855e-06\n",
            "   5.18337053e-07  1.81434344e-05 -1.07192019e-18  7.11764634e-04\n",
            "   9.32693574e-07  2.85083490e-10  8.01422896e-08  1.93694836e-04\n",
            "   4.61616968e-06  4.56851806e-07  4.14354653e-06  0.00000000e+00\n",
            "  -1.86529228e-22 -2.20906193e-18  6.10730025e-02  6.14838548e-02\n",
            "   9.11308968e-06  6.96228089e-06  3.72647085e-06  3.78406343e-06\n",
            "   1.36162961e-03  4.64449419e-05  2.12860020e-04  1.34177491e-01\n",
            "   1.18204555e-01  9.10619259e-04  1.08663973e-04  6.37936379e-04\n",
            "   7.24574121e-05  2.02251902e-05  6.52022762e-06  1.98392404e-05\n",
            "   1.07938663e-05  2.53771960e-02]\n",
            " [ 2.61172301e-03  4.34247431e-03  1.08269561e-01  4.28027809e-02\n",
            "   1.45699501e-01  1.59152097e-01  4.48121871e-05  2.38778293e-05\n",
            "  -4.06840512e-20  1.37934704e-05 -4.67985703e-19  3.67961798e-04\n",
            "  -1.66696084e-18  1.28907827e-20 -1.21297765e-20  1.81603864e-18\n",
            "   4.82808780e-19 -5.38130619e-20 -4.60574165e-19  0.00000000e+00\n",
            "  -2.17548501e-22 -2.34797533e-18  1.23625547e-01  2.07777727e-01\n",
            "   2.72992257e-04  2.70541417e-04  9.78686928e-04  9.62122655e-04\n",
            "   5.67665511e-03  6.91279787e-05  2.70373267e-03  3.87194569e-01\n",
            "   6.63712260e-01  5.36344198e-03  1.37948398e-04  3.27873322e-03\n",
            "   1.46227365e-03  2.21243073e-04  1.59173529e-04  9.28421075e-04\n",
            "   8.85195469e-04  1.02238385e-01]\n",
            " [ 9.72967677e-01  6.47179773e-04  1.42317086e-02  2.91433786e-03\n",
            "   4.64136279e-02  6.02627060e-02 -4.99749439e-19  5.10930274e-18\n",
            "  -4.65868121e-21  1.76884470e-05  2.51524558e-07  9.88989437e-06\n",
            "   6.75820510e-07  4.54389852e-08  1.60241684e-07  3.37740120e-07\n",
            "   2.25660183e-06  1.03232140e-21  3.88186133e-07  0.00000000e+00\n",
            "  -2.77105505e-23  1.29026511e-06  7.41365670e-04  5.88755124e-04\n",
            "   1.59644228e-07  5.85469173e-18  5.56868678e-05  5.56230474e-05\n",
            "   3.13287565e-04  4.22696392e-05  6.27235679e-06  7.38232919e-02\n",
            "   4.60365815e-03  5.95301552e-05  1.86356672e-04  3.07654787e-04\n",
            "   5.83201674e-06  9.04457526e-07  7.30398631e-07  5.12450848e-05\n",
            "   5.15018139e-05  7.04620432e-03]]\n"
          ],
          "name": "stdout"
        }
      ]
    },
    {
      "cell_type": "code",
      "metadata": {
        "colab": {
          "base_uri": "https://localhost:8080/",
          "height": 264
        },
        "id": "-crObs7pxaaA",
        "outputId": "535f35b1-5674-463c-c34c-e4e2b0c84eb4"
      },
      "source": [
        "import matplotlib.pyplot as plt\n",
        " \n",
        "#filter rows of original data\n",
        "filtered_label0 = cll[label == 0]\n",
        "filtered_label1 = cll[label == 1]\n",
        "filtered_label2 = cll[label == 2]\n",
        "filtered_label3 = cll[label == 3]\n",
        "filtered_label4 = cll[label == 4]\n",
        " \n",
        "#plotting the results\n",
        "plt.scatter(filtered_label0[:,0] , filtered_label0[:,1], c='red')\n",
        "plt.scatter(filtered_label1[:,0] , filtered_label1[:,1], c='blue')\n",
        "plt.scatter(filtered_label2[:,0] , filtered_label2[:,1], c='green')\n",
        "plt.scatter(filtered_label3[:,0] , filtered_label3[:,1], c='yellow')\n",
        "plt.scatter(filtered_label4[:,0] , filtered_label4[:,1],c='black')\n",
        "plt.scatter(centroids[:,0] , centroids[:,1],c='white')\n",
        "plt.show()"
      ],
      "execution_count": null,
      "outputs": [
        {
          "output_type": "display_data",
          "data": {
            "image/png": "[encoded data removed]",
            "text/plain": [
              "<Figure size 432x288 with 1 Axes>"
            ]
          },
          "metadata": {
            "tags": [],
            "needs_background": "light"
          }
        }
      ]
    },
    {
      "cell_type": "code",
      "metadata": {
        "id": "Xb7HOtjPtiZu"
      },
      "source": [
        "#import matplotlib.pyplot as plt           \n",
        "#ig, ax = plt.subplots(figsize=(10,6))\n",
        "#plt.scatter(X_std[kmeans.labels_ ==0,0], X_std[kmeans.labels_ ==0,1], c='green' , label = 'cluster 1')\n",
        "#plt.scatter(X_std[kmeans.labels_ ==1,0], X_std[kmeans.labels_ ==1,1], c='blue' , label = 'cluster 2')\n",
        "#plt.scatter(X_std[kmeans.labels_ ==2,0], X_std[kmeans.labels_ ==2,1], c='black' , label = 'cluster 3')\n",
        "#plt.scatter(X_std[kmeans.labels_ ==3,0], X_std[kmeans.labels_ ==3,1], c='white' , label = 'cluster 4')\n",
        "#plt.scatter(X_std[kmeans.labels_ ==4,0], X_std[kmeans.labels_ ==4,1], c='yellow' , label = 'cluster 5')"
      ],
      "execution_count": null,
      "outputs": []
    },
    {
      "cell_type": "code",
      "metadata": {
        "colab": {
          "base_uri": "https://localhost:8080/"
        },
        "id": "zMdBI42ARFhD",
        "outputId": "61b5f7ad-33cc-4e84-cde9-c6baa79012fd"
      },
      "source": [
        "label = label_encoder.fit_transform(label)\n",
        "print(label)\n",
        "print(label.shape)"
      ],
      "execution_count": null,
      "outputs": [
        {
          "output_type": "stream",
          "text": [
            "[2 1 1 ... 2 1 1]\n",
            "(125973,)\n"
          ],
          "name": "stdout"
        }
      ]
    },
    {
      "cell_type": "code",
      "metadata": {
        "id": "SXm_-x2YRK2Z"
      },
      "source": [
        "label = to_categorical(label)"
      ],
      "execution_count": null,
      "outputs": []
    },
    {
      "cell_type": "code",
      "metadata": {
        "colab": {
          "base_uri": "https://localhost:8080/"
        },
        "id": "lkpylsGURRHP",
        "outputId": "6b2cd668-68b0-48bc-c539-cc8565cc0bca"
      },
      "source": [
        "print(label.shape)\n",
        "print(label)"
      ],
      "execution_count": null,
      "outputs": [
        {
          "output_type": "stream",
          "text": [
            "(125973, 5)\n",
            "[[0. 0. 1. 0. 0.]\n",
            " [0. 1. 0. 0. 0.]\n",
            " [0. 1. 0. 0. 0.]\n",
            " ...\n",
            " [0. 0. 1. 0. 0.]\n",
            " [0. 1. 0. 0. 0.]\n",
            " [0. 1. 0. 0. 0.]]\n"
          ],
          "name": "stdout"
        }
      ]
    },
    {
      "cell_type": "code",
      "metadata": {
        "id": "SCByaDpERgwB"
      },
      "source": [
        "x_train, x_test, y_train, y_test = train_test_split(cll, label, test_size=0.20)"
      ],
      "execution_count": null,
      "outputs": []
    },
    {
      "cell_type": "code",
      "metadata": {
        "colab": {
          "base_uri": "https://localhost:8080/"
        },
        "id": "VhbmCplWRl7s",
        "outputId": "30c4f8e6-9935-4d42-8474-1e4c777aa508"
      },
      "source": [
        "print(y_train)"
      ],
      "execution_count": null,
      "outputs": [
        {
          "output_type": "stream",
          "text": [
            "[[0. 0. 0. 1. 0.]\n",
            " [0. 0. 0. 1. 0.]\n",
            " [1. 0. 0. 0. 0.]\n",
            " ...\n",
            " [0. 1. 0. 0. 0.]\n",
            " [1. 0. 0. 0. 0.]\n",
            " [0. 0. 0. 0. 1.]]\n"
          ],
          "name": "stdout"
        }
      ]
    },
    {
      "cell_type": "code",
      "metadata": {
        "id": "6c-s28WKPsst"
      },
      "source": [
        "x_train=np.asarray(x_train).astype(np.float32)\n",
        "\n",
        "y_train=np.asarray(y_train).astype(np.float32)\n",
        "\n",
        "x_test=np.asarray(x_test).astype(np.float32)\n",
        "\n",
        "y_test=np.asarray(y_test).astype(np.float32)"
      ],
      "execution_count": null,
      "outputs": []
    },
    {
      "cell_type": "code",
      "metadata": {
        "colab": {
          "base_uri": "https://localhost:8080/"
        },
        "id": "45STgt2hQHnP",
        "outputId": "b32fdd4b-795e-4f72-ab9f-0c4149dafb60"
      },
      "source": [
        "model = Sequential()\n",
        "model.add(Dense(33, input_dim=42, activation='relu'))\n",
        "model.add(Dense(34, activation='relu'))\n",
        "model.add(Dense(35, activation='relu'))\n",
        "model.add(Dense(5,activation='softmax'))\n",
        "\n",
        "model.compile(Adam(lr=0.01), loss = \"categorical_crossentropy\", metrics = ['accuracy'])\n",
        "\n",
        "print(model.summary())"
      ],
      "execution_count": null,
      "outputs": [
        {
          "output_type": "stream",
          "text": [
            "Model: \"sequential_56\"\n",
            "_________________________________________________________________\n",
            "Layer (type)                 Output Shape              Param #   \n",
            "=================================================================\n",
            "dense_224 (Dense)            (None, 33)                1419      \n",
            "_________________________________________________________________\n",
            "dense_225 (Dense)            (None, 34)                1156      \n",
            "_________________________________________________________________\n",
            "dense_226 (Dense)            (None, 35)                1225      \n",
            "_________________________________________________________________\n",
            "dense_227 (Dense)            (None, 5)                 180       \n",
            "=================================================================\n",
            "Total params: 3,980\n",
            "Trainable params: 3,980\n",
            "Non-trainable params: 0\n",
            "_________________________________________________________________\n",
            "None\n"
          ],
          "name": "stdout"
        }
      ]
    },
    {
      "cell_type": "code",
      "metadata": {
        "colab": {
          "base_uri": "https://localhost:8080/"
        },
        "id": "DhtMHH5iQabE",
        "outputId": "f1a6e345-4508-40ad-a836-e2c9aab5edd8"
      },
      "source": [
        "checkpoint = ModelCheckpoint(\"best_model4.hdf5\", monitor='loss', verbose=1, save_best_only=True, mode='auto', period=1)\n",
        "earlystopping = EarlyStopping(monitor = 'val_loss', patience = 3, mode = 'auto')\n",
        "\n",
        "history = model.fit(x_train, y_train, validation_split= 0.20, epochs = 5, verbose = 1, batch_size= 64, callbacks=[checkpoint, earlystopping])"
      ],
      "execution_count": null,
      "outputs": [
        {
          "output_type": "stream",
          "text": [
            "WARNING:tensorflow:`period` argument is deprecated. Please use `save_freq` to specify the frequency in number of batches seen.\n",
            "Epoch 1/5\n",
            "1260/1260 [==============================] - 3s 2ms/step - loss: 0.0975 - accuracy: 0.9656 - val_loss: 0.0150 - val_accuracy: 0.9948\n",
            "\n",
            "Epoch 00001: loss improved from inf to 0.03834, saving model to best_model4.hdf5\n",
            "Epoch 2/5\n",
            "1260/1260 [==============================] - 2s 2ms/step - loss: 0.0228 - accuracy: 0.9916 - val_loss: 0.0125 - val_accuracy: 0.9950\n",
            "\n",
            "Epoch 00002: loss improved from 0.03834 to 0.02037, saving model to best_model4.hdf5\n",
            "Epoch 3/5\n",
            "1260/1260 [==============================] - 2s 2ms/step - loss: 0.0177 - accuracy: 0.9933 - val_loss: 0.0096 - val_accuracy: 0.9963\n",
            "\n",
            "Epoch 00003: loss improved from 0.02037 to 0.01599, saving model to best_model4.hdf5\n",
            "Epoch 4/5\n",
            "1260/1260 [==============================] - 2s 2ms/step - loss: 0.0140 - accuracy: 0.9949 - val_loss: 0.0171 - val_accuracy: 0.9938\n",
            "\n",
            "Epoch 00004: loss improved from 0.01599 to 0.01540, saving model to best_model4.hdf5\n",
            "Epoch 5/5\n",
            "1260/1260 [==============================] - 3s 2ms/step - loss: 0.0187 - accuracy: 0.9935 - val_loss: 0.0262 - val_accuracy: 0.9902\n",
            "\n",
            "Epoch 00005: loss did not improve from 0.01540\n"
          ],
          "name": "stdout"
        }
      ]
    },
    {
      "cell_type": "code",
      "metadata": {
        "colab": {
          "base_uri": "https://localhost:8080/"
        },
        "id": "jjMjDLfiXEpp",
        "outputId": "f7a421a4-13ae-4aa1-def3-e040fc76d97c"
      },
      "source": [
        "score = model.evaluate(x_test, y_test, verbose=0)\n",
        "print('Test loss:', score[0])\n",
        "print('Test accuracy:', score[1])"
      ],
      "execution_count": null,
      "outputs": [
        {
          "output_type": "stream",
          "text": [
            "Test loss: 0.025094158947467804\n",
            "Test accuracy: 0.99130779504776\n"
          ],
          "name": "stdout"
        }
      ]
    },
    {
      "cell_type": "code",
      "metadata": {
        "colab": {
          "base_uri": "https://localhost:8080/"
        },
        "id": "WdowJppsXIXV",
        "outputId": "6ebd928a-54de-4d63-fe0a-1536eca91156"
      },
      "source": [
        "pred = model.predict(x_test)\n",
        "print(pred)\n",
        "prediction = np.argmax(pred, axis = 1)\n",
        "label = np.argmax(y_test,axis = 1)"
      ],
      "execution_count": null,
      "outputs": [
        {
          "output_type": "stream",
          "text": [
            "[[6.0279276e-02 1.7082744e-04 5.8640065e-03 9.3364471e-01 4.1192739e-05]\n",
            " [5.0732599e-11 1.5776048e-19 1.0000000e+00 1.6491365e-15 1.0668090e-20]\n",
            " [9.1816852e-19 1.0000000e+00 6.4266246e-14 1.7843649e-17 1.6999469e-24]\n",
            " ...\n",
            " [2.7361579e-13 3.4422911e-23 1.0000000e+00 4.8009935e-19 6.2288753e-25]\n",
            " [9.9999964e-01 2.4571497e-07 6.9880784e-08 4.2726862e-09 2.6093150e-10]\n",
            " [4.4703799e-07 5.3541392e-08 1.1071547e-06 9.9999845e-01 2.8271507e-14]]\n"
          ],
          "name": "stdout"
        }
      ]
    },
    {
      "cell_type": "code",
      "metadata": {
        "colab": {
          "base_uri": "https://localhost:8080/"
        },
        "id": "fyKfZZcYXUHU",
        "outputId": "97da32d3-83b0-408e-ad9f-ccc352ad8477"
      },
      "source": [
        "print(label[:1000])\n",
        "print(prediction[:1000])"
      ],
      "execution_count": null,
      "outputs": [
        {
          "output_type": "stream",
          "text": [
            "[0 2 1 1 2 0 2 0 3 0 0 2 3 3 0 0 2 1 3 1 2 1 1 1 1 1 1 1 2 0 1 0 0 2 0 1 1\n",
            " 1 0 0 4 0 3 0 2 0 1 3 3 3 3 1 3 3 1 0 4 1 1 3 0 3 3 0 0 2 4 3 2 3 1 1 2 2\n",
            " 0 4 0 1 2 1 1 0 3 1 0 1 0 0 0 2 1 2 3 3 3 1 3 0 3 0 3 2 4 1 0 0 0 3 3 1 3\n",
            " 3 2 1 2 1 1 3 1 3 0 2 3 1 1 0 0 3 1 0 0 1 1 0 1 1 1 1 1 1 3 1 1 0 1 0 2 0\n",
            " 0 3 0 1 3 0 1 2 1 1 1 3 1 1 3 1 0 2 0 1 1 0 0 1 3 3 1 3 2 1 1 3 0 1 2 1 0\n",
            " 4 1 3 1 1 1 0 3 1 1 1 2 1 0 1 2 2 0 1 0 1 1 1 1 0 1 1 2 0 1 3 0 3 1 3 1 2\n",
            " 1 0 0 1 0 3 1 0 0 1 3 0 0 0 1 1 1 1 2 1 2 2 1 1 1 1 2 0 1 1 0 1 0 2 3 0 1\n",
            " 1 3 0 2 1 1 2 0 1 0 1 0 1 1 0 0 0 2 3 3 0 0 1 1 0 1 4 1 1 3 3 0 3 1 1 3 1\n",
            " 1 0 1 1 1 1 1 3 1 3 1 1 1 1 0 3 2 2 0 0 3 2 0 1 0 1 1 1 0 0 0 0 0 0 1 1 3\n",
            " 1 1 2 0 0 3 0 1 0 0 0 1 0 1 0 0 1 0 2 1 1 1 2 0 1 1 1 2 1 2 1 1 1 4 0 3 1\n",
            " 2 4 0 1 1 3 0 0 1 1 0 2 4 1 1 2 2 2 3 3 1 3 2 1 3 3 1 3 1 1 1 3 0 0 1 0 1\n",
            " 3 2 1 0 3 1 2 1 2 2 0 2 0 1 0 2 0 0 1 1 4 2 0 1 1 1 1 0 3 2 2 3 3 0 3 1 1\n",
            " 1 3 0 3 1 1 2 1 1 1 4 0 2 3 3 3 0 0 0 3 3 2 1 2 0 1 1 0 1 0 3 0 1 1 1 3 0\n",
            " 0 1 0 1 2 0 3 1 1 1 2 1 2 1 4 0 1 2 0 1 1 1 2 0 1 3 2 3 3 0 2 2 1 1 3 2 1\n",
            " 3 0 2 0 1 1 1 1 3 0 1 1 1 1 1 1 1 4 0 3 1 0 1 0 0 0 3 3 1 0 1 1 1 1 0 4 2\n",
            " 1 0 0 3 1 1 3 3 0 1 0 1 0 1 2 1 1 3 1 1 1 0 0 0 0 0 1 0 1 1 0 2 0 3 0 0 1\n",
            " 0 1 2 0 2 1 1 0 0 1 0 3 2 0 3 3 1 1 0 3 0 1 0 1 1 0 1 2 0 1 1 0 1 0 0 3 2\n",
            " 1 3 0 1 2 3 0 3 3 2 1 0 2 0 0 2 1 1 2 0 0 1 2 1 1 4 0 3 0 2 1 0 2 1 1 0 1\n",
            " 3 1 0 3 3 1 2 0 0 0 1 2 2 1 1 1 3 1 2 3 1 1 1 1 1 1 3 2 0 1 2 0 0 0 1 0 1\n",
            " 1 0 2 1 1 1 4 1 0 0 1 1 3 2 3 2 1 1 1 0 1 1 0 2 1 2 3 0 1 1 0 1 1 3 0 1 0\n",
            " 1 1 4 3 1 3 1 2 1 3 1 2 2 3 3 1 0 1 0 1 1 3 0 0 1 3 3 1 1 3 2 3 3 1 0 0 1\n",
            " 4 2 1 3 1 3 0 0 1 1 0 1 2 2 1 1 3 0 3 0 2 1 3 4 0 1 1 3 1 1 1 0 0 1 0 1 3\n",
            " 1 1 0 0 3 3 1 1 3 0 1 2 3 1 1 0 3 3 1 3 2 0 0 1 1 0 3 1 3 1 0 1 0 0 0 0 2\n",
            " 3 1 1 1 3 2 0 1 1 2 2 0 0 2 2 1 0 0 1 4 1 1 1 3 1 1 1 3 0 1 1 1 0 2 0 1 0\n",
            " 2 0 3 3 3 2 0 1 1 0 1 0 1 3 3 0 1 1 2 1 0 0 2 3 4 3 1 1 1 1 0 0 2 0 0 3 3\n",
            " 0 2 2 3 3 1 2 0 1 0 1 0 0 0 0 3 1 0 1 0 3 1 0 2 1 1 1 0 0 1 3 1 0 2 1 3 0\n",
            " 0 1 0 0 1 3 2 2 1 0 1 1 1 3 3 3 1 1 1 1 2 1 1 1 2 0 3 1 1 0 0 2 1 0 3 0 1\n",
            " 1]\n",
            "[3 2 1 1 2 0 2 0 3 0 0 2 3 3 0 0 2 1 3 1 2 1 1 1 1 1 1 1 2 0 1 0 0 2 0 1 1\n",
            " 1 0 0 4 0 3 0 2 0 1 3 3 3 3 1 3 3 1 0 4 1 1 3 0 3 3 0 0 2 4 3 2 3 1 1 2 2\n",
            " 0 4 0 1 2 1 1 0 3 1 0 1 0 0 0 2 1 2 3 3 3 1 3 0 3 0 3 2 4 1 0 0 0 3 3 1 3\n",
            " 3 1 1 2 1 1 3 1 3 0 2 3 1 1 0 0 3 1 0 0 1 1 0 1 1 1 1 1 1 3 1 1 0 1 0 2 3\n",
            " 0 3 0 1 3 0 1 2 1 1 1 3 1 1 3 1 0 2 0 1 1 0 0 1 3 3 1 3 2 1 1 3 0 1 2 1 0\n",
            " 4 1 3 1 1 1 0 3 1 1 1 2 1 0 1 2 2 0 1 0 1 1 1 1 0 1 1 2 0 1 3 0 3 1 3 1 2\n",
            " 1 0 0 1 0 3 1 0 0 1 3 0 0 0 1 1 1 1 2 1 2 2 1 1 1 1 2 0 1 1 0 1 0 2 3 0 1\n",
            " 1 3 0 2 1 1 2 0 1 0 1 0 1 1 0 0 0 2 3 3 0 0 1 1 0 1 4 1 1 3 3 0 3 1 1 3 1\n",
            " 1 0 1 1 1 1 1 3 1 3 1 1 1 1 0 3 2 2 0 0 3 2 0 1 0 1 1 1 0 0 0 0 0 0 1 1 3\n",
            " 1 1 2 0 0 3 0 1 0 0 0 1 0 1 0 0 1 0 2 1 1 1 2 0 1 1 1 2 1 2 1 1 1 4 0 3 1\n",
            " 2 4 0 1 1 3 0 0 1 1 0 2 4 1 1 2 2 2 3 3 1 3 2 1 3 3 1 3 1 1 1 3 0 0 1 0 1\n",
            " 3 2 1 0 3 1 2 1 2 2 0 2 0 1 0 2 0 0 1 1 4 2 0 1 1 1 1 0 3 2 2 3 3 0 3 1 1\n",
            " 1 3 0 3 1 1 2 1 1 1 4 0 2 3 3 3 0 0 0 3 3 2 1 2 0 1 1 0 1 0 3 0 1 1 1 3 0\n",
            " 0 1 0 1 2 0 3 1 1 1 2 1 2 1 4 0 1 2 0 1 1 1 2 0 1 3 2 3 3 0 2 2 1 1 3 2 1\n",
            " 3 0 2 0 1 1 1 1 3 3 1 1 1 1 1 1 1 4 0 3 1 0 1 0 0 0 3 3 1 0 1 1 1 1 0 4 2\n",
            " 1 0 0 3 1 1 3 3 0 1 0 1 0 1 2 1 1 3 1 1 1 0 0 0 0 0 1 0 1 1 0 2 0 3 0 0 1\n",
            " 0 1 2 0 2 1 1 0 0 1 0 3 2 0 3 3 1 1 0 3 0 1 0 1 1 0 1 2 0 1 1 0 1 0 0 3 2\n",
            " 1 3 0 1 2 3 0 3 3 2 1 0 2 0 0 2 1 3 2 0 0 1 2 1 1 4 0 3 0 2 1 3 2 1 1 0 1\n",
            " 3 1 0 3 3 1 2 0 0 0 1 2 2 1 1 1 3 1 2 3 1 1 1 1 1 1 3 2 0 1 2 0 3 0 1 0 1\n",
            " 1 0 2 1 1 1 4 1 0 0 1 1 3 2 3 2 1 1 1 0 1 1 0 2 1 2 3 0 1 1 0 1 1 3 0 1 0\n",
            " 1 1 4 3 1 3 1 2 1 3 1 2 2 3 3 1 0 1 0 1 1 3 0 0 1 3 3 1 1 3 2 3 3 1 0 0 1\n",
            " 4 2 1 3 1 3 0 0 1 1 0 1 2 2 1 1 3 0 3 0 2 1 3 4 0 1 1 3 1 1 1 0 0 1 0 1 3\n",
            " 1 1 0 0 3 3 1 1 3 0 1 2 3 1 1 0 3 3 1 3 2 0 0 1 1 0 3 1 3 1 0 1 0 0 0 0 2\n",
            " 3 1 1 1 3 2 0 1 1 2 2 0 0 2 2 1 0 0 1 4 1 1 1 3 1 1 1 3 0 1 1 1 0 2 0 1 0\n",
            " 2 0 3 3 3 2 0 1 1 0 1 0 1 3 3 0 1 1 2 1 0 0 2 3 4 3 1 1 1 1 0 0 2 0 0 3 3\n",
            " 0 2 2 3 3 1 2 0 1 0 1 0 0 0 0 3 1 0 1 0 3 1 3 2 1 1 1 0 0 1 3 1 0 2 1 3 0\n",
            " 0 1 0 0 1 3 2 2 1 0 1 1 1 3 3 3 1 1 1 1 2 1 1 1 2 0 3 1 1 0 0 2 1 0 3 0 1\n",
            " 1]\n"
          ],
          "name": "stdout"
        }
      ]
    },
    {
      "cell_type": "code",
      "metadata": {
        "colab": {
          "base_uri": "https://localhost:8080/"
        },
        "id": "4WHjQO6UXXmC",
        "outputId": "b75977c5-43ee-415a-df25-6298838368b8"
      },
      "source": [
        "model2 = Sequential()\n",
        "model2.add(Dense(31, input_dim=42, activation='sigmoid'))\n",
        "model2.add(Dense(36, activation='sigmoid'))\n",
        "model2.add(Dense(41, activation='relu'))\n",
        "model2.add(Dense(5,activation='softmax'))\n",
        "\n",
        "model2.compile(Adam(lr=0.01), loss = \"categorical_crossentropy\", metrics = ['accuracy'])\n",
        "\n",
        "print(model2.summary())"
      ],
      "execution_count": null,
      "outputs": [
        {
          "output_type": "stream",
          "text": [
            "Model: \"sequential_57\"\n",
            "_________________________________________________________________\n",
            "Layer (type)                 Output Shape              Param #   \n",
            "=================================================================\n",
            "dense_228 (Dense)            (None, 31)                1333      \n",
            "_________________________________________________________________\n",
            "dense_229 (Dense)            (None, 36)                1152      \n",
            "_________________________________________________________________\n",
            "dense_230 (Dense)            (None, 41)                1517      \n",
            "_________________________________________________________________\n",
            "dense_231 (Dense)            (None, 5)                 210       \n",
            "=================================================================\n",
            "Total params: 4,212\n",
            "Trainable params: 4,212\n",
            "Non-trainable params: 0\n",
            "_________________________________________________________________\n",
            "None\n"
          ],
          "name": "stdout"
        }
      ]
    },
    {
      "cell_type": "code",
      "metadata": {
        "colab": {
          "base_uri": "https://localhost:8080/"
        },
        "id": "1tcFI6V2t9Vd",
        "outputId": "95405f61-e2d5-42df-f99a-9ded76ff3ee7"
      },
      "source": [
        "checkpoint2 = ModelCheckpoint(\"best_model5.hdf5\", monitor='loss', verbose=1, save_best_only=True, mode='auto', period=1)\n",
        "earlystopping2 = EarlyStopping(monitor = 'val_loss', patience = 3, mode = 'auto')\n",
        "\n",
        "history2 = model2.fit(x_train, y_train, validation_split= 0.20, epochs = 10, verbose = 1, batch_size= 32, callbacks=[checkpoint2, earlystopping2])"
      ],
      "execution_count": null,
      "outputs": [
        {
          "output_type": "stream",
          "text": [
            "WARNING:tensorflow:`period` argument is deprecated. Please use `save_freq` to specify the frequency in number of batches seen.\n",
            "Epoch 1/10\n",
            "2520/2520 [==============================] - 5s 2ms/step - loss: 0.2155 - accuracy: 0.9143 - val_loss: 0.0205 - val_accuracy: 0.9899\n",
            "\n",
            "Epoch 00001: loss improved from inf to 0.07114, saving model to best_model5.hdf5\n",
            "Epoch 2/10\n",
            "2520/2520 [==============================] - 5s 2ms/step - loss: 0.0219 - accuracy: 0.9917 - val_loss: 0.0125 - val_accuracy: 0.9953\n",
            "\n",
            "Epoch 00002: loss improved from 0.07114 to 0.02004, saving model to best_model5.hdf5\n",
            "Epoch 3/10\n",
            "2520/2520 [==============================] - 5s 2ms/step - loss: 0.0168 - accuracy: 0.9935 - val_loss: 0.0123 - val_accuracy: 0.9950\n",
            "\n",
            "Epoch 00003: loss improved from 0.02004 to 0.01861, saving model to best_model5.hdf5\n",
            "Epoch 4/10\n",
            "2520/2520 [==============================] - 5s 2ms/step - loss: 0.0148 - accuracy: 0.9941 - val_loss: 0.0124 - val_accuracy: 0.9953\n",
            "\n",
            "Epoch 00004: loss improved from 0.01861 to 0.01582, saving model to best_model5.hdf5\n",
            "Epoch 5/10\n",
            "2520/2520 [==============================] - 5s 2ms/step - loss: 0.0127 - accuracy: 0.9952 - val_loss: 0.0110 - val_accuracy: 0.9955\n",
            "\n",
            "Epoch 00005: loss improved from 0.01582 to 0.01374, saving model to best_model5.hdf5\n",
            "Epoch 6/10\n",
            "2520/2520 [==============================] - 5s 2ms/step - loss: 0.0137 - accuracy: 0.9947 - val_loss: 0.0177 - val_accuracy: 0.9931\n",
            "\n",
            "Epoch 00006: loss improved from 0.01374 to 0.01368, saving model to best_model5.hdf5\n",
            "Epoch 7/10\n",
            "2520/2520 [==============================] - 5s 2ms/step - loss: 0.0116 - accuracy: 0.9952 - val_loss: 0.0110 - val_accuracy: 0.9951\n",
            "\n",
            "Epoch 00007: loss improved from 0.01368 to 0.01234, saving model to best_model5.hdf5\n",
            "Epoch 8/10\n",
            "2520/2520 [==============================] - 5s 2ms/step - loss: 0.0110 - accuracy: 0.9960 - val_loss: 0.0082 - val_accuracy: 0.9968\n",
            "\n",
            "Epoch 00008: loss improved from 0.01234 to 0.01166, saving model to best_model5.hdf5\n",
            "Epoch 9/10\n",
            "2520/2520 [==============================] - 5s 2ms/step - loss: 0.0105 - accuracy: 0.9959 - val_loss: 0.0108 - val_accuracy: 0.9960\n",
            "\n",
            "Epoch 00009: loss improved from 0.01166 to 0.01112, saving model to best_model5.hdf5\n",
            "Epoch 10/10\n",
            "2520/2520 [==============================] - 5s 2ms/step - loss: 0.0101 - accuracy: 0.9959 - val_loss: 0.0138 - val_accuracy: 0.9946\n",
            "\n",
            "Epoch 00010: loss improved from 0.01112 to 0.01069, saving model to best_model5.hdf5\n"
          ],
          "name": "stdout"
        }
      ]
    },
    {
      "cell_type": "code",
      "metadata": {
        "colab": {
          "base_uri": "https://localhost:8080/"
        },
        "id": "JpOiNUDeutIM",
        "outputId": "7fa70720-e4fd-46be-e752-47ed966d152f"
      },
      "source": [
        "score2 = model2.evaluate(x_test, y_test, verbose=0)\n",
        "print('Test loss:', score2[0])\n",
        "print('Test accuracy:', score2[1])"
      ],
      "execution_count": null,
      "outputs": [
        {
          "output_type": "stream",
          "text": [
            "Test loss: 0.013071217574179173\n",
            "Test accuracy: 0.9950783848762512\n"
          ],
          "name": "stdout"
        }
      ]
    },
    {
      "cell_type": "code",
      "metadata": {
        "colab": {
          "base_uri": "https://localhost:8080/"
        },
        "id": "CzlnMhmowdcb",
        "outputId": "fad64149-1204-457c-cdf7-c83feead77cf"
      },
      "source": [
        "pred2 = model2.predict(x_test)\n",
        "print(pred2)\n",
        "prediction2 = np.argmax(pred2, axis = 1)\n",
        "label2 = np.argmax(y_test,axis = 1)"
      ],
      "execution_count": null,
      "outputs": [
        {
          "output_type": "stream",
          "text": [
            "[[9.7255152e-01 2.2865829e-04 4.9767835e-04 2.6721694e-02 4.4022795e-07]\n",
            " [3.7092260e-08 2.7779903e-09 1.0000000e+00 1.1233241e-09 2.4303178e-14]\n",
            " [2.8484395e-08 9.9999952e-01 3.5185223e-11 4.3125016e-07 1.6048246e-15]\n",
            " ...\n",
            " [9.1311545e-09 9.9860598e-10 1.0000000e+00 1.8879023e-10 2.0875769e-15]\n",
            " [1.0000000e+00 5.0136169e-08 6.1074452e-09 2.3848905e-09 1.8007909e-12]\n",
            " [4.0679254e-08 1.5066612e-09 2.0151195e-10 1.0000000e+00 1.4798121e-21]]\n"
          ],
          "name": "stdout"
        }
      ]
    },
    {
      "cell_type": "code",
      "metadata": {
        "colab": {
          "base_uri": "https://localhost:8080/"
        },
        "id": "zdS3sLF6wx_N",
        "outputId": "bd74cff8-6ad0-486b-d1c7-a76d8d7a1255"
      },
      "source": [
        "print(label2[:1000])\n",
        "print(prediction2[:1000])"
      ],
      "execution_count": null,
      "outputs": [
        {
          "output_type": "stream",
          "text": [
            "[0 2 1 1 2 0 2 0 3 0 0 2 3 3 0 0 2 1 3 1 2 1 1 1 1 1 1 1 2 0 1 0 0 2 0 1 1\n",
            " 1 0 0 4 0 3 0 2 0 1 3 3 3 3 1 3 3 1 0 4 1 1 3 0 3 3 0 0 2 4 3 2 3 1 1 2 2\n",
            " 0 4 0 1 2 1 1 0 3 1 0 1 0 0 0 2 1 2 3 3 3 1 3 0 3 0 3 2 4 1 0 0 0 3 3 1 3\n",
            " 3 2 1 2 1 1 3 1 3 0 2 3 1 1 0 0 3 1 0 0 1 1 0 1 1 1 1 1 1 3 1 1 0 1 0 2 0\n",
            " 0 3 0 1 3 0 1 2 1 1 1 3 1 1 3 1 0 2 0 1 1 0 0 1 3 3 1 3 2 1 1 3 0 1 2 1 0\n",
            " 4 1 3 1 1 1 0 3 1 1 1 2 1 0 1 2 2 0 1 0 1 1 1 1 0 1 1 2 0 1 3 0 3 1 3 1 2\n",
            " 1 0 0 1 0 3 1 0 0 1 3 0 0 0 1 1 1 1 2 1 2 2 1 1 1 1 2 0 1 1 0 1 0 2 3 0 1\n",
            " 1 3 0 2 1 1 2 0 1 0 1 0 1 1 0 0 0 2 3 3 0 0 1 1 0 1 4 1 1 3 3 0 3 1 1 3 1\n",
            " 1 0 1 1 1 1 1 3 1 3 1 1 1 1 0 3 2 2 0 0 3 2 0 1 0 1 1 1 0 0 0 0 0 0 1 1 3\n",
            " 1 1 2 0 0 3 0 1 0 0 0 1 0 1 0 0 1 0 2 1 1 1 2 0 1 1 1 2 1 2 1 1 1 4 0 3 1\n",
            " 2 4 0 1 1 3 0 0 1 1 0 2 4 1 1 2 2 2 3 3 1 3 2 1 3 3 1 3 1 1 1 3 0 0 1 0 1\n",
            " 3 2 1 0 3 1 2 1 2 2 0 2 0 1 0 2 0 0 1 1 4 2 0 1 1 1 1 0 3 2 2 3 3 0 3 1 1\n",
            " 1 3 0 3 1 1 2 1 1 1 4 0 2 3 3 3 0 0 0 3 3 2 1 2 0 1 1 0 1 0 3 0 1 1 1 3 0\n",
            " 0 1 0 1 2 0 3 1 1 1 2 1 2 1 4 0 1 2 0 1 1 1 2 0 1 3 2 3 3 0 2 2 1 1 3 2 1\n",
            " 3 0 2 0 1 1 1 1 3 0 1 1 1 1 1 1 1 4 0 3 1 0 1 0 0 0 3 3 1 0 1 1 1 1 0 4 2\n",
            " 1 0 0 3 1 1 3 3 0 1 0 1 0 1 2 1 1 3 1 1 1 0 0 0 0 0 1 0 1 1 0 2 0 3 0 0 1\n",
            " 0 1 2 0 2 1 1 0 0 1 0 3 2 0 3 3 1 1 0 3 0 1 0 1 1 0 1 2 0 1 1 0 1 0 0 3 2\n",
            " 1 3 0 1 2 3 0 3 3 2 1 0 2 0 0 2 1 1 2 0 0 1 2 1 1 4 0 3 0 2 1 0 2 1 1 0 1\n",
            " 3 1 0 3 3 1 2 0 0 0 1 2 2 1 1 1 3 1 2 3 1 1 1 1 1 1 3 2 0 1 2 0 0 0 1 0 1\n",
            " 1 0 2 1 1 1 4 1 0 0 1 1 3 2 3 2 1 1 1 0 1 1 0 2 1 2 3 0 1 1 0 1 1 3 0 1 0\n",
            " 1 1 4 3 1 3 1 2 1 3 1 2 2 3 3 1 0 1 0 1 1 3 0 0 1 3 3 1 1 3 2 3 3 1 0 0 1\n",
            " 4 2 1 3 1 3 0 0 1 1 0 1 2 2 1 1 3 0 3 0 2 1 3 4 0 1 1 3 1 1 1 0 0 1 0 1 3\n",
            " 1 1 0 0 3 3 1 1 3 0 1 2 3 1 1 0 3 3 1 3 2 0 0 1 1 0 3 1 3 1 0 1 0 0 0 0 2\n",
            " 3 1 1 1 3 2 0 1 1 2 2 0 0 2 2 1 0 0 1 4 1 1 1 3 1 1 1 3 0 1 1 1 0 2 0 1 0\n",
            " 2 0 3 3 3 2 0 1 1 0 1 0 1 3 3 0 1 1 2 1 0 0 2 3 4 3 1 1 1 1 0 0 2 0 0 3 3\n",
            " 0 2 2 3 3 1 2 0 1 0 1 0 0 0 0 3 1 0 1 0 3 1 0 2 1 1 1 0 0 1 3 1 0 2 1 3 0\n",
            " 0 1 0 0 1 3 2 2 1 0 1 1 1 3 3 3 1 1 1 1 2 1 1 1 2 0 3 1 1 0 0 2 1 0 3 0 1\n",
            " 1]\n",
            "[0 2 1 1 2 0 2 0 3 0 0 2 3 3 0 0 2 1 3 1 2 1 1 1 1 1 1 1 2 0 1 0 0 2 0 1 1\n",
            " 1 0 0 4 0 3 0 2 0 1 3 3 3 3 1 3 3 1 0 4 1 1 3 0 3 3 0 0 2 4 3 2 3 1 1 2 2\n",
            " 0 4 0 1 2 1 1 0 3 1 0 1 0 0 0 2 1 2 3 3 3 1 3 0 3 0 3 2 4 1 0 0 0 3 3 1 3\n",
            " 3 1 1 2 1 1 3 1 3 0 2 3 1 1 0 0 3 1 0 0 1 1 0 1 1 1 1 1 1 3 1 1 0 1 0 2 3\n",
            " 0 3 0 1 3 0 1 2 1 1 1 3 1 1 3 1 0 2 2 1 1 2 0 1 3 3 1 3 2 1 1 3 0 1 2 1 0\n",
            " 4 1 3 1 1 1 0 3 1 1 1 2 1 0 1 2 2 0 1 0 1 1 1 1 0 1 1 2 0 1 3 0 3 1 3 1 2\n",
            " 1 0 0 1 0 3 1 0 0 1 3 2 0 0 1 1 1 1 2 1 2 2 1 1 1 1 2 0 1 1 0 1 0 2 3 0 1\n",
            " 1 3 0 2 1 1 2 0 1 0 1 0 1 1 0 0 0 2 3 3 0 0 1 1 0 1 4 1 1 3 3 0 3 1 1 3 1\n",
            " 1 0 1 1 1 1 1 3 1 3 1 1 1 1 0 3 2 2 0 0 3 2 0 1 0 1 1 1 0 0 0 0 0 0 1 1 3\n",
            " 1 1 2 0 0 3 0 1 0 0 0 1 0 1 0 0 1 0 2 1 1 1 2 0 1 1 1 2 1 2 1 1 1 4 2 3 1\n",
            " 2 4 0 1 1 3 0 0 1 1 0 2 4 1 1 2 2 2 3 3 1 3 2 1 3 3 1 3 1 1 1 3 0 0 1 0 1\n",
            " 3 2 1 0 3 1 2 1 2 2 0 2 0 1 0 2 0 0 1 1 4 2 0 1 1 1 1 0 3 2 2 3 3 0 3 1 1\n",
            " 1 3 0 3 1 1 2 1 1 1 4 0 2 3 3 3 0 0 0 3 3 2 1 2 0 1 1 0 1 0 3 0 1 1 1 3 0\n",
            " 0 1 0 1 2 0 3 1 1 1 2 1 2 1 4 0 1 2 0 1 1 1 2 0 1 3 2 3 3 0 2 2 1 1 3 2 1\n",
            " 3 0 2 2 1 1 1 1 3 0 1 1 1 1 1 1 1 4 0 3 1 0 1 0 0 0 3 3 1 0 1 1 1 1 0 4 2\n",
            " 1 0 0 3 1 1 3 3 0 1 0 1 0 1 2 1 1 3 1 1 1 0 0 0 0 0 1 0 1 1 0 2 0 3 0 0 1\n",
            " 0 1 2 0 2 1 1 0 0 1 0 3 2 0 3 3 1 1 0 3 0 1 0 1 1 0 1 2 0 1 1 0 1 0 0 3 2\n",
            " 1 3 0 1 2 3 0 3 3 2 1 0 2 0 0 2 1 3 2 0 0 1 2 1 1 4 0 3 0 2 1 0 2 1 1 0 1\n",
            " 3 1 0 3 3 1 2 0 0 0 1 2 2 1 1 1 3 1 2 3 1 1 1 1 1 1 3 2 0 1 2 0 0 0 1 0 1\n",
            " 1 0 2 1 1 1 4 1 0 0 1 1 3 2 3 2 1 1 1 0 1 1 0 2 1 2 3 0 1 1 0 1 1 3 0 1 0\n",
            " 1 1 4 3 1 3 1 2 1 3 1 2 2 3 3 1 0 1 0 1 1 3 0 0 1 3 3 1 1 3 2 3 3 1 0 0 1\n",
            " 4 2 1 3 1 3 0 0 1 1 0 1 2 2 1 1 3 0 3 0 2 1 3 4 0 1 1 3 1 1 1 0 0 1 0 1 3\n",
            " 1 1 0 0 2 3 1 1 3 0 1 2 3 1 1 0 3 3 1 3 2 0 0 1 1 0 3 1 3 1 0 1 0 0 0 0 2\n",
            " 3 1 1 1 3 2 0 1 1 2 2 0 0 2 2 1 0 0 1 4 1 1 1 3 1 1 1 3 0 1 1 1 0 2 0 1 0\n",
            " 2 0 3 3 3 2 0 1 1 0 1 0 1 3 3 0 1 1 2 1 0 0 2 3 4 3 1 1 1 1 0 0 2 0 0 3 3\n",
            " 0 2 2 3 3 1 2 0 1 0 1 0 0 0 0 3 1 0 1 0 3 1 3 2 1 1 1 0 0 1 3 1 0 2 1 3 0\n",
            " 0 1 0 0 1 3 2 2 1 0 1 1 1 3 3 3 1 1 1 1 2 1 1 1 2 0 3 1 1 0 0 2 1 0 3 0 1\n",
            " 1]\n"
          ],
          "name": "stdout"
        }
      ]
    },
    {
      "cell_type": "code",
      "metadata": {
        "colab": {
          "base_uri": "https://localhost:8080/"
        },
        "id": "0JxCg4_4_HiZ",
        "outputId": "fe2580f0-cf24-429f-e53f-cfe558d1b8cc"
      },
      "source": [
        "model3 = Sequential()\n",
        "model3.add(Dense(20, input_dim=42, activation='relu'))\n",
        "model3.add(LeakyReLU(alpha=0.05))\n",
        "model3.add(Dense(30, activation='relu'))\n",
        "model3.add(LeakyReLU(alpha=0.05))\n",
        "model3.add(Dense(40, activation='relu'))\n",
        "model3.add(Dense(5,activation='softmax'))\n",
        "\n",
        "model3.compile(Adam(lr=0.01), loss = \"categorical_crossentropy\", metrics = ['accuracy'])\n",
        "\n",
        "print(model3.summary())"
      ],
      "execution_count": null,
      "outputs": [
        {
          "output_type": "stream",
          "text": [
            "Model: \"sequential_58\"\n",
            "_________________________________________________________________\n",
            "Layer (type)                 Output Shape              Param #   \n",
            "=================================================================\n",
            "dense_232 (Dense)            (None, 20)                860       \n",
            "_________________________________________________________________\n",
            "leaky_re_lu_28 (LeakyReLU)   (None, 20)                0         \n",
            "_________________________________________________________________\n",
            "dense_233 (Dense)            (None, 30)                630       \n",
            "_________________________________________________________________\n",
            "leaky_re_lu_29 (LeakyReLU)   (None, 30)                0         \n",
            "_________________________________________________________________\n",
            "dense_234 (Dense)            (None, 40)                1240      \n",
            "_________________________________________________________________\n",
            "dense_235 (Dense)            (None, 5)                 205       \n",
            "=================================================================\n",
            "Total params: 2,935\n",
            "Trainable params: 2,935\n",
            "Non-trainable params: 0\n",
            "_________________________________________________________________\n",
            "None\n"
          ],
          "name": "stdout"
        }
      ]
    },
    {
      "cell_type": "code",
      "metadata": {
        "colab": {
          "base_uri": "https://localhost:8080/"
        },
        "id": "ZThY6c2q_M8q",
        "outputId": "c9f9637f-8dd8-4ef0-e3f6-b2fd62e486fb"
      },
      "source": [
        "checkpoint3 = ModelCheckpoint(\"best_model6.hdf5\", monitor='loss', verbose=1, save_best_only=True, mode='auto', period=1)\n",
        "earlystopping3 = EarlyStopping(monitor = 'val_loss', patience = 3, mode = 'auto')\n",
        "\n",
        "history3 = model3.fit(x_train, y_train, validation_split= 0.20, epochs = 20, verbose = 1, batch_size= 32, callbacks=[checkpoint3, earlystopping3])"
      ],
      "execution_count": null,
      "outputs": [
        {
          "output_type": "stream",
          "text": [
            "WARNING:tensorflow:`period` argument is deprecated. Please use `save_freq` to specify the frequency in number of batches seen.\n",
            "Epoch 1/20\n",
            "2520/2520 [==============================] - 5s 2ms/step - loss: 0.0873 - accuracy: 0.9689 - val_loss: 0.0223 - val_accuracy: 0.9914\n",
            "\n",
            "Epoch 00001: loss improved from inf to 0.03883, saving model to best_model6.hdf5\n",
            "Epoch 2/20\n",
            "2520/2520 [==============================] - 5s 2ms/step - loss: 0.0232 - accuracy: 0.9916 - val_loss: 0.0187 - val_accuracy: 0.9950\n",
            "\n",
            "Epoch 00002: loss improved from 0.03883 to 0.02117, saving model to best_model6.hdf5\n",
            "Epoch 3/20\n",
            "2520/2520 [==============================] - 5s 2ms/step - loss: 0.0202 - accuracy: 0.9928 - val_loss: 0.0231 - val_accuracy: 0.9917\n",
            "\n",
            "Epoch 00003: loss improved from 0.02117 to 0.01951, saving model to best_model6.hdf5\n",
            "Epoch 4/20\n",
            "2520/2520 [==============================] - 5s 2ms/step - loss: 0.0170 - accuracy: 0.9937 - val_loss: 0.0131 - val_accuracy: 0.9938\n",
            "\n",
            "Epoch 00004: loss improved from 0.01951 to 0.01700, saving model to best_model6.hdf5\n",
            "Epoch 5/20\n",
            "2520/2520 [==============================] - 5s 2ms/step - loss: 0.0169 - accuracy: 0.9938 - val_loss: 0.0172 - val_accuracy: 0.9935\n",
            "\n",
            "Epoch 00005: loss improved from 0.01700 to 0.01632, saving model to best_model6.hdf5\n",
            "Epoch 6/20\n",
            "2520/2520 [==============================] - 5s 2ms/step - loss: 0.0160 - accuracy: 0.9943 - val_loss: 0.0146 - val_accuracy: 0.9946\n",
            "\n",
            "Epoch 00006: loss improved from 0.01632 to 0.01564, saving model to best_model6.hdf5\n",
            "Epoch 7/20\n",
            "2520/2520 [==============================] - 5s 2ms/step - loss: 0.0154 - accuracy: 0.9945 - val_loss: 0.0141 - val_accuracy: 0.9935\n",
            "\n",
            "Epoch 00007: loss improved from 0.01564 to 0.01544, saving model to best_model6.hdf5\n"
          ],
          "name": "stdout"
        }
      ]
    },
    {
      "cell_type": "code",
      "metadata": {
        "colab": {
          "base_uri": "https://localhost:8080/"
        },
        "id": "gL7kEwPM_RU_",
        "outputId": "26b33c26-2ebb-4181-9126-46831bd67c7c"
      },
      "source": [
        "score3 = model3.evaluate(x_test, y_test, verbose=0)\n",
        "print('Test loss:', score3[0])\n",
        "print('Test accuracy:', score3[1])"
      ],
      "execution_count": null,
      "outputs": [
        {
          "output_type": "stream",
          "text": [
            "Test loss: 0.013535095378756523\n",
            "Test accuracy: 0.9937289357185364\n"
          ],
          "name": "stdout"
        }
      ]
    },
    {
      "cell_type": "code",
      "metadata": {
        "colab": {
          "base_uri": "https://localhost:8080/"
        },
        "id": "Qf8Sqf6EBYnT",
        "outputId": "ab41c210-6e86-452f-bb16-158128ddf713"
      },
      "source": [
        "pred3 = model3.predict(x_test)\n",
        "print(pred3)\n",
        "prediction3 = np.argmax(pred3, axis = 1)\n",
        "label3 = np.argmax(y_test,axis = 1)"
      ],
      "execution_count": null,
      "outputs": [
        {
          "output_type": "stream",
          "text": [
            "[[8.5224915e-01 2.7415942e-04 3.4416134e-03 1.4331499e-01 7.2006759e-04]\n",
            " [6.7575331e-19 4.7167023e-14 1.0000000e+00 1.0888216e-12 5.4108588e-23]\n",
            " [1.5933051e-27 1.0000000e+00 4.0855893e-17 1.3950072e-18 0.0000000e+00]\n",
            " ...\n",
            " [6.6469903e-32 5.2174629e-24 1.0000000e+00 8.5339059e-22 0.0000000e+00]\n",
            " [1.0000000e+00 3.7220457e-16 3.3255245e-12 1.0024518e-08 6.9224886e-17]\n",
            " [2.7841597e-08 1.9525394e-06 3.1016287e-07 9.9999774e-01 5.9069714e-13]]\n"
          ],
          "name": "stdout"
        }
      ]
    },
    {
      "cell_type": "code",
      "metadata": {
        "colab": {
          "base_uri": "https://localhost:8080/"
        },
        "id": "0LXPjAdIGy3w",
        "outputId": "0a461bdd-dbd3-43b8-be00-70ec7465cad3"
      },
      "source": [
        "print(label3[:1000])\n",
        "print(prediction3[:1000])"
      ],
      "execution_count": null,
      "outputs": [
        {
          "output_type": "stream",
          "text": [
            "[0 2 1 1 2 0 2 0 3 0 0 2 3 3 0 0 2 1 3 1 2 1 1 1 1 1 1 1 2 0 1 0 0 2 0 1 1\n",
            " 1 0 0 4 0 3 0 2 0 1 3 3 3 3 1 3 3 1 0 4 1 1 3 0 3 3 0 0 2 4 3 2 3 1 1 2 2\n",
            " 0 4 0 1 2 1 1 0 3 1 0 1 0 0 0 2 1 2 3 3 3 1 3 0 3 0 3 2 4 1 0 0 0 3 3 1 3\n",
            " 3 2 1 2 1 1 3 1 3 0 2 3 1 1 0 0 3 1 0 0 1 1 0 1 1 1 1 1 1 3 1 1 0 1 0 2 0\n",
            " 0 3 0 1 3 0 1 2 1 1 1 3 1 1 3 1 0 2 0 1 1 0 0 1 3 3 1 3 2 1 1 3 0 1 2 1 0\n",
            " 4 1 3 1 1 1 0 3 1 1 1 2 1 0 1 2 2 0 1 0 1 1 1 1 0 1 1 2 0 1 3 0 3 1 3 1 2\n",
            " 1 0 0 1 0 3 1 0 0 1 3 0 0 0 1 1 1 1 2 1 2 2 1 1 1 1 2 0 1 1 0 1 0 2 3 0 1\n",
            " 1 3 0 2 1 1 2 0 1 0 1 0 1 1 0 0 0 2 3 3 0 0 1 1 0 1 4 1 1 3 3 0 3 1 1 3 1\n",
            " 1 0 1 1 1 1 1 3 1 3 1 1 1 1 0 3 2 2 0 0 3 2 0 1 0 1 1 1 0 0 0 0 0 0 1 1 3\n",
            " 1 1 2 0 0 3 0 1 0 0 0 1 0 1 0 0 1 0 2 1 1 1 2 0 1 1 1 2 1 2 1 1 1 4 0 3 1\n",
            " 2 4 0 1 1 3 0 0 1 1 0 2 4 1 1 2 2 2 3 3 1 3 2 1 3 3 1 3 1 1 1 3 0 0 1 0 1\n",
            " 3 2 1 0 3 1 2 1 2 2 0 2 0 1 0 2 0 0 1 1 4 2 0 1 1 1 1 0 3 2 2 3 3 0 3 1 1\n",
            " 1 3 0 3 1 1 2 1 1 1 4 0 2 3 3 3 0 0 0 3 3 2 1 2 0 1 1 0 1 0 3 0 1 1 1 3 0\n",
            " 0 1 0 1 2 0 3 1 1 1 2 1 2 1 4 0 1 2 0 1 1 1 2 0 1 3 2 3 3 0 2 2 1 1 3 2 1\n",
            " 3 0 2 0 1 1 1 1 3 0 1 1 1 1 1 1 1 4 0 3 1 0 1 0 0 0 3 3 1 0 1 1 1 1 0 4 2\n",
            " 1 0 0 3 1 1 3 3 0 1 0 1 0 1 2 1 1 3 1 1 1 0 0 0 0 0 1 0 1 1 0 2 0 3 0 0 1\n",
            " 0 1 2 0 2 1 1 0 0 1 0 3 2 0 3 3 1 1 0 3 0 1 0 1 1 0 1 2 0 1 1 0 1 0 0 3 2\n",
            " 1 3 0 1 2 3 0 3 3 2 1 0 2 0 0 2 1 1 2 0 0 1 2 1 1 4 0 3 0 2 1 0 2 1 1 0 1\n",
            " 3 1 0 3 3 1 2 0 0 0 1 2 2 1 1 1 3 1 2 3 1 1 1 1 1 1 3 2 0 1 2 0 0 0 1 0 1\n",
            " 1 0 2 1 1 1 4 1 0 0 1 1 3 2 3 2 1 1 1 0 1 1 0 2 1 2 3 0 1 1 0 1 1 3 0 1 0\n",
            " 1 1 4 3 1 3 1 2 1 3 1 2 2 3 3 1 0 1 0 1 1 3 0 0 1 3 3 1 1 3 2 3 3 1 0 0 1\n",
            " 4 2 1 3 1 3 0 0 1 1 0 1 2 2 1 1 3 0 3 0 2 1 3 4 0 1 1 3 1 1 1 0 0 1 0 1 3\n",
            " 1 1 0 0 3 3 1 1 3 0 1 2 3 1 1 0 3 3 1 3 2 0 0 1 1 0 3 1 3 1 0 1 0 0 0 0 2\n",
            " 3 1 1 1 3 2 0 1 1 2 2 0 0 2 2 1 0 0 1 4 1 1 1 3 1 1 1 3 0 1 1 1 0 2 0 1 0\n",
            " 2 0 3 3 3 2 0 1 1 0 1 0 1 3 3 0 1 1 2 1 0 0 2 3 4 3 1 1 1 1 0 0 2 0 0 3 3\n",
            " 0 2 2 3 3 1 2 0 1 0 1 0 0 0 0 3 1 0 1 0 3 1 0 2 1 1 1 0 0 1 3 1 0 2 1 3 0\n",
            " 0 1 0 0 1 3 2 2 1 0 1 1 1 3 3 3 1 1 1 1 2 1 1 1 2 0 3 1 1 0 0 2 1 0 3 0 1\n",
            " 1]\n",
            "[0 2 1 1 2 0 2 0 3 0 0 2 3 3 0 0 2 1 3 1 2 1 1 1 1 1 1 1 2 0 1 0 0 2 0 1 1\n",
            " 1 0 0 4 0 3 0 2 0 1 3 3 3 3 1 3 3 1 0 4 1 1 3 0 3 3 0 0 2 4 3 2 3 1 1 2 2\n",
            " 0 4 0 1 2 1 1 0 3 1 0 1 0 0 0 2 1 2 3 3 3 1 3 0 3 0 3 2 4 1 0 0 0 3 3 1 3\n",
            " 3 1 1 2 1 1 3 1 3 0 2 3 1 1 0 0 3 1 0 0 1 1 0 1 1 1 1 1 1 3 1 1 0 1 0 2 3\n",
            " 0 3 0 1 3 0 1 2 1 1 1 3 1 1 3 1 0 2 0 1 1 0 0 1 3 3 1 3 2 1 1 3 0 1 2 1 0\n",
            " 4 1 3 1 1 1 0 3 1 1 1 2 1 0 1 2 2 0 1 0 1 1 1 1 0 1 1 2 0 1 3 0 3 1 3 1 2\n",
            " 1 0 0 1 0 3 1 0 0 1 3 0 0 0 1 1 1 1 2 1 2 2 1 1 1 1 2 0 1 1 0 1 0 2 3 0 1\n",
            " 1 3 0 2 1 1 0 0 1 0 1 0 1 1 0 0 0 2 3 3 0 0 1 1 0 1 4 1 1 3 3 0 3 1 1 3 1\n",
            " 1 0 1 1 1 1 1 3 1 3 1 1 1 1 0 3 2 2 0 0 3 2 0 1 0 1 1 1 0 0 0 0 0 0 1 1 3\n",
            " 1 1 2 0 0 3 0 1 0 0 0 1 0 1 0 0 1 0 2 1 1 1 2 0 1 1 1 2 1 2 1 1 1 4 0 3 1\n",
            " 2 4 0 1 1 3 0 0 1 1 0 2 4 1 1 2 3 2 3 3 1 3 2 1 3 3 1 3 1 1 1 3 0 0 1 0 1\n",
            " 3 2 1 0 3 1 2 1 2 2 0 2 0 1 0 2 0 0 1 1 4 2 0 1 1 1 1 0 3 3 2 3 3 0 3 1 1\n",
            " 1 3 0 3 1 1 2 1 1 1 4 0 2 3 3 3 0 0 0 3 3 2 1 2 0 1 1 0 1 0 3 0 1 1 1 3 0\n",
            " 0 1 0 1 0 0 3 1 1 1 2 1 2 1 4 0 1 2 0 1 1 1 2 0 1 3 2 3 3 0 2 2 1 1 3 2 1\n",
            " 3 0 2 0 1 1 1 1 3 0 1 1 1 1 1 1 1 4 0 3 1 0 1 0 0 0 3 3 1 0 1 1 1 1 0 4 2\n",
            " 1 0 0 3 1 1 3 3 0 1 0 1 0 1 2 1 1 3 1 1 1 0 0 0 0 0 1 0 1 1 0 2 0 3 0 0 1\n",
            " 0 1 2 0 2 1 1 0 0 1 0 3 2 0 3 3 1 1 0 3 0 1 0 1 1 0 1 2 0 1 1 0 1 0 0 3 2\n",
            " 1 3 0 1 2 3 0 3 3 2 1 0 2 0 0 2 1 3 2 0 0 1 2 1 1 4 0 3 0 2 1 0 2 1 1 0 1\n",
            " 3 1 0 3 3 1 2 0 0 0 1 2 2 1 1 1 3 1 2 3 1 1 1 1 1 1 3 2 0 1 2 0 0 0 1 0 1\n",
            " 1 0 2 1 1 1 4 1 0 0 1 1 3 2 3 2 1 1 1 0 1 1 0 2 1 2 3 0 1 1 0 1 1 3 0 1 0\n",
            " 1 1 4 3 1 3 1 2 1 3 1 2 2 3 3 1 0 1 0 1 1 3 0 0 1 3 3 1 1 3 2 3 3 1 0 0 1\n",
            " 4 2 1 3 1 3 0 0 1 1 0 1 2 2 1 1 3 0 3 0 2 1 3 4 0 1 1 3 1 1 1 0 0 1 0 1 3\n",
            " 1 1 0 0 3 3 1 1 3 0 1 2 3 1 1 0 3 3 1 3 2 0 0 1 1 0 3 1 3 1 0 1 0 0 0 0 2\n",
            " 3 1 1 1 3 2 0 1 1 2 2 0 0 2 2 1 0 0 1 4 1 1 1 3 1 1 1 3 0 1 1 1 0 2 0 1 0\n",
            " 2 0 3 3 3 2 0 1 1 0 1 0 1 3 3 0 1 1 2 1 0 0 2 3 4 3 1 1 1 1 0 0 2 0 0 3 3\n",
            " 0 2 2 3 3 1 2 0 1 0 1 0 0 0 0 3 1 0 1 0 3 1 3 2 1 1 1 0 0 1 3 1 0 2 1 3 0\n",
            " 0 1 0 0 1 3 2 2 1 0 1 1 1 3 3 3 1 1 1 1 2 1 1 1 2 0 3 1 1 0 0 2 1 0 3 0 1\n",
            " 1]\n"
          ],
          "name": "stdout"
        }
      ]
    },
    {
      "cell_type": "code",
      "metadata": {
        "colab": {
          "base_uri": "https://localhost:8080/"
        },
        "id": "O5HtkgHe0om_",
        "outputId": "4f2da7f0-42fb-4877-ecff-1b30d31b155a"
      },
      "source": [
        "print(pred[0])\n",
        "print(pred2[0])\n",
        "print(pred3[0])"
      ],
      "execution_count": null,
      "outputs": [
        {
          "output_type": "stream",
          "text": [
            "[6.0279276e-02 1.7082744e-04 5.8640065e-03 9.3364471e-01 4.1192739e-05]\n",
            "[9.7255152e-01 2.2865829e-04 4.9767835e-04 2.6721694e-02 4.4022795e-07]\n",
            "[8.5224915e-01 2.7415942e-04 3.4416134e-03 1.4331499e-01 7.2006759e-04]\n"
          ],
          "name": "stdout"
        }
      ]
    },
    {
      "cell_type": "code",
      "metadata": {
        "colab": {
          "base_uri": "https://localhost:8080/"
        },
        "id": "4tnRDVtx9MKg",
        "outputId": "4d30da23-6980-44e8-ae28-6250bdb294e2"
      },
      "source": [
        "print(y_test.shape)\n",
        "result = [0] * y_test.shape[0]\n",
        "for i in range(y_test.shape[0]):\n",
        "  sum = 0\n",
        "  sum = pred[i] + pred2[i] + pred3[i] \n",
        "  #print(sum)\n",
        "  sum = np.array(sum)\n",
        "  result[i] = np.argmax(sum)\n",
        "  #print(result)\n",
        "\n",
        "print(result)\n",
        "data_t =np.argmax(y_test,axis = 1)\n",
        "print(data_t)"
      ],
      "execution_count": null,
      "outputs": [
        {
          "output_type": "stream",
          "text": [
            "(25195, 5)\n",
            "[0, 2, 1, 1, 2, 0, 2, 0, 3, 0, 0, 2, 3, 3, 0, 0, 2, 1, 3, 1, 2, 1, 1, 1, 1, 1, 1, 1, 2, 0, 1, 0, 0, 2, 0, 1, 1, 1, 0, 0, 4, 0, 3, 0, 2, 0, 1, 3, 3, 3, 3, 1, 3, 3, 1, 0, 4, 1, 1, 3, 0, 3, 3, 0, 0, 2, 4, 3, 2, 3, 1, 1, 2, 2, 0, 4, 0, 1, 2, 1, 1, 0, 3, 1, 0, 1, 0, 0, 0, 2, 1, 2, 3, 3, 3, 1, 3, 0, 3, 0, 3, 2, 4, 1, 0, 0, 0, 3, 3, 1, 3, 3, 1, 1, 2, 1, 1, 3, 1, 3, 0, 2, 3, 1, 1, 0, 0, 3, 1, 0, 0, 1, 1, 0, 1, 1, 1, 1, 1, 1, 3, 1, 1, 0, 1, 0, 2, 3, 0, 3, 0, 1, 3, 0, 1, 2, 1, 1, 1, 3, 1, 1, 3, 1, 0, 2, 0, 1, 1, 0, 0, 1, 3, 3, 1, 3, 2, 1, 1, 3, 0, 1, 2, 1, 0, 4, 1, 3, 1, 1, 1, 0, 3, 1, 1, 1, 2, 1, 0, 1, 2, 2, 0, 1, 0, 1, 1, 1, 1, 0, 1, 1, 2, 0, 1, 3, 0, 3, 1, 3, 1, 2, 1, 0, 0, 1, 0, 3, 1, 0, 0, 1, 3, 0, 0, 0, 1, 1, 1, 1, 2, 1, 2, 2, 1, 1, 1, 1, 2, 0, 1, 1, 0, 1, 0, 2, 3, 0, 1, 1, 3, 0, 2, 1, 1, 2, 0, 1, 0, 1, 0, 1, 1, 0, 0, 0, 2, 3, 3, 0, 0, 1, 1, 0, 1, 4, 1, 1, 3, 3, 0, 3, 1, 1, 3, 1, 1, 0, 1, 1, 1, 1, 1, 3, 1, 3, 1, 1, 1, 1, 0, 3, 2, 2, 0, 0, 3, 2, 0, 1, 0, 1, 1, 1, 0, 0, 0, 0, 0, 0, 1, 1, 3, 1, 1, 2, 0, 0, 3, 0, 1, 0, 0, 0, 1, 0, 1, 0, 0, 1, 0, 2, 1, 1, 1, 2, 0, 1, 1, 1, 2, 1, 2, 1, 1, 1, 4, 0, 3, 1, 2, 4, 0, 1, 1, 3, 0, 0, 1, 1, 0, 2, 4, 1, 1, 2, 2, 2, 3, 3, 1, 3, 2, 1, 3, 3, 1, 3, 1, 1, 1, 3, 0, 0, 1, 0, 1, 3, 2, 1, 0, 3, 1, 2, 1, 2, 2, 0, 2, 0, 1, 0, 2, 0, 0, 1, 1, 4, 2, 0, 1, 1, 1, 1, 0, 3, 2, 2, 3, 3, 0, 3, 1, 1, 1, 3, 0, 3, 1, 1, 2, 1, 1, 1, 4, 0, 2, 3, 3, 3, 0, 0, 0, 3, 3, 2, 1, 2, 0, 1, 1, 0, 1, 0, 3, 0, 1, 1, 1, 3, 0, 0, 1, 0, 1, 2, 0, 3, 1, 1, 1, 2, 1, 2, 1, 4, 0, 1, 2, 0, 1, 1, 1, 2, 0, 1, 3, 2, 3, 3, 0, 2, 2, 1, 1, 3, 2, 1, 3, 0, 2, 0, 1, 1, 1, 1, 3, 0, 1, 1, 1, 1, 1, 1, 1, 4, 0, 3, 1, 0, 1, 0, 0, 0, 3, 3, 1, 0, 1, 1, 1, 1, 0, 4, 2, 1, 0, 0, 3, 1, 1, 3, 3, 0, 1, 0, 1, 0, 1, 2, 1, 1, 3, 1, 1, 1, 0, 0, 0, 0, 0, 1, 0, 1, 1, 0, 2, 0, 3, 0, 0, 1, 0, 1, 2, 0, 2, 1, 1, 0, 0, 1, 0, 3, 2, 0, 3, 3, 1, 1, 0, 3, 0, 1, 0, 1, 1, 0, 1, 2, 0, 1, 1, 0, 1, 0, 0, 3, 2, 1, 3, 0, 1, 2, 3, 0, 3, 3, 2, 1, 0, 2, 0, 0, 2, 1, 3, 2, 0, 0, 1, 2, 1, 1, 4, 0, 3, 0, 2, 1, 0, 2, 1, 1, 0, 1, 3, 1, 0, 3, 3, 1, 2, 0, 0, 0, 1, 2, 2, 1, 1, 1, 3, 1, 2, 3, 1, 1, 1, 1, 1, 1, 3, 2, 0, 1, 2, 0, 0, 0, 1, 0, 1, 1, 0, 2, 1, 1, 1, 4, 1, 0, 0, 1, 1, 3, 2, 3, 2, 1, 1, 1, 0, 1, 1, 0, 2, 1, 2, 3, 0, 1, 1, 0, 1, 1, 3, 0, 1, 0, 1, 1, 4, 3, 1, 3, 1, 2, 1, 3, 1, 2, 2, 3, 3, 1, 0, 1, 0, 1, 1, 3, 0, 0, 1, 3, 3, 1, 1, 3, 2, 3, 3, 1, 0, 0, 1, 4, 2, 1, 3, 1, 3, 0, 0, 1, 1, 0, 1, 2, 2, 1, 1, 3, 0, 3, 0, 2, 1, 3, 4, 0, 1, 1, 3, 1, 1, 1, 0, 0, 1, 0, 1, 3, 1, 1, 0, 0, 3, 3, 1, 1, 3, 0, 1, 2, 3, 1, 1, 0, 3, 3, 1, 3, 2, 0, 0, 1, 1, 0, 3, 1, 3, 1, 0, 1, 0, 0, 0, 0, 2, 3, 1, 1, 1, 3, 2, 0, 1, 1, 2, 2, 0, 0, 2, 2, 1, 0, 0, 1, 4, 1, 1, 1, 3, 1, 1, 1, 3, 0, 1, 1, 1, 0, 2, 0, 1, 0, 2, 0, 3, 3, 3, 2, 0, 1, 1, 0, 1, 0, 1, 3, 3, 0, 1, 1, 2, 1, 0, 0, 2, 3, 4, 3, 1, 1, 1, 1, 0, 0, 2, 0, 0, 3, 3, 0, 2, 2, 3, 3, 1, 2, 0, 1, 0, 1, 0, 0, 0, 0, 3, 1, 0, 1, 0, 3, 1, 3, 2, 1, 1, 1, 0, 0, 1, 3, 1, 0, 2, 1, 3, 0, 0, 1, 0, 0, 1, 3, 2, 2, 1, 0, 1, 1, 1, 3, 3, 3, 1, 1, 1, 1, 2, 1, 1, 1, 2, 0, 3, 1, 1, 0, 0, 2, 1, 0, 3, 0, 1, 1, 1, 0, 3, 1, 0, 2, 1, 3, 0, 2, 1, 0, 1, 1, 2, 1, 3, 2, 0, 1, 0, 1, 0, 0, 1, 0, 0, 3, 1, 1, 1, 1, 0, 1, 2, 0, 3, 0, 3, 0, 1, 0, 2, 1, 1, 3, 2, 2, 3, 0, 0, 1, 0, 1, 0, 3, 0, 1, 1, 0, 0, 0, 0, 1, 1, 3, 1, 3, 1, 2, 2, 0, 1, 1, 3, 0, 3, 1, 0, 0, 2, 3, 3, 2, 0, 1, 1, 1, 0, 2, 3, 0, 3, 3, 2, 1, 3, 2, 1, 3, 1, 3, 1, 4, 1, 1, 1, 2, 1, 2, 2, 3, 3, 3, 0, 1, 4, 3, 1, 0, 3, 2, 0, 0, 4, 2, 1, 3, 2, 1, 1, 1, 1, 1, 0, 1, 1, 1, 1, 3, 0, 3, 3, 0, 2, 1, 2, 1, 1, 1, 2, 3, 3, 1, 1, 0, 3, 1, 0, 0, 1, 1, 1, 4, 1, 0, 1, 3, 1, 3, 0, 1, 1, 0, 1, 1, 1, 2, 1, 2, 0, 0, 4, 3, 0, 0, 0, 2, 2, 1, 1, 3, 0, 1, 4, 2, 0, 2, 1, 1, 2, 0, 0, 0, 1, 2, 2, 1, 1, 1, 0, 1, 3, 1, 0, 2, 1, 0, 2, 0, 0, 1, 1, 1, 1, 2, 3, 3, 3, 0, 4, 0, 1, 3, 0, 2, 3, 1, 0, 3, 2, 0, 1, 0, 2, 2, 3, 1, 2, 2, 1, 2, 1, 2, 2, 0, 3, 3, 0, 1, 3, 1, 1, 1, 3, 1, 1, 3, 1, 3, 1, 1, 1, 1, 1, 0, 2, 3, 2, 0, 3, 0, 1, 1, 1, 2, 0, 3, 1, 0, 0, 1, 1, 2, 1, 1, 0, 1, 3, 1, 0, 1, 2, 2, 0, 2, 3, 1, 1, 1, 0, 0, 1, 3, 0, 2, 2, 1, 1, 1, 0, 0, 0, 0, 0, 1, 1, 1, 3, 1, 3, 1, 1, 3, 1, 3, 1, 1, 1, 1, 0, 1, 1, 2, 3, 0, 1, 3, 0, 3, 1, 0, 1, 2, 2, 1, 0, 1, 1, 3, 1, 1, 1, 2, 1, 3, 3, 1, 1, 1, 1, 1, 0, 3, 1, 0, 3, 1, 0, 1, 1, 0, 2, 1, 0, 1, 0, 3, 0, 3, 1, 0, 2, 2, 0, 0, 1, 0, 1, 3, 3, 3, 1, 0, 2, 2, 3, 1, 0, 0, 1, 3, 0, 1, 3, 2, 1, 0, 1, 0, 1, 2, 2, 2, 1, 1, 1, 2, 0, 1, 1, 0, 0, 4, 3, 3, 2, 1, 3, 1, 0, 1, 1, 1, 3, 3, 0, 1, 1, 3, 2, 1, 3, 0, 1, 1, 2, 3, 1, 3, 0, 0, 3, 0, 0, 0, 1, 0, 1, 1, 0, 2, 3, 1, 2, 3, 2, 2, 1, 2, 1, 0, 3, 0, 1, 1, 1, 0, 2, 3, 1, 0, 1, 3, 0, 2, 0, 0, 1, 0, 1, 1, 1, 0, 2, 1, 3, 0, 1, 0, 0, 3, 3, 2, 0, 3, 0, 0, 0, 3, 3, 2, 2, 2, 3, 2, 1, 2, 1, 1, 2, 0, 0, 3, 1, 0, 1, 0, 0, 1, 1, 1, 1, 1, 0, 3, 0, 3, 0, 0, 0, 3, 0, 1, 1, 0, 1, 3, 1, 2, 1, 0, 1, 1, 1, 3, 0, 3, 0, 0, 0, 4, 1, 1, 2, 3, 0, 1, 0, 3, 0, 1, 3, 0, 1, 2, 1, 2, 0, 3, 1, 0, 0, 3, 2, 1, 1, 0, 0, 1, 2, 1, 0, 1, 0, 1, 1, 1, 1, 1, 0, 3, 1, 3, 1, 1, 1, 3, 1, 1, 1, 0, 3, 0, 2, 1, 2, 1, 0, 0, 0, 3, 1, 0, 3, 2, 1, 3, 0, 2, 0, 2, 0, 1, 4, 2, 1, 3, 0, 1, 0, 3, 0, 3, 2, 0, 0, 0, 0, 3, 2, 3, 1, 2, 1, 1, 2, 1, 2, 1, 2, 1, 0, 2, 1, 3, 3, 2, 1, 2, 3, 1, 0, 2, 2, 0, 3, 1, 1, 1, 2, 2, 1, 3, 1, 2, 3, 2, 1, 1, 1, 1, 0, 1, 0, 0, 0, 1, 1, 0, 0, 1, 1, 0, 3, 3, 3, 0, 0, 4, 1, 2, 1, 1, 3, 1, 1, 1, 2, 0, 3, 1, 0, 1, 0, 1, 1, 1, 1, 1, 1, 1, 0, 2, 1, 3, 1, 0, 3, 1, 2, 0, 4, 0, 1, 3, 0, 0, 0, 1, 3, 1, 3, 3, 1, 3, 0, 0, 2, 1, 3, 2, 1, 1, 1, 0, 2, 0, 0, 0, 1, 2, 1, 0, 2, 3, 1, 1, 0, 2, 1, 1, 0, 3, 1, 0, 0, 0, 3, 1, 1, 2, 1, 1, 1, 2, 1, 0, 1, 1, 0, 2, 2, 1, 3, 3, 1, 1, 1, 0, 2, 2, 0, 1, 1, 2, 0, 0, 0, 1, 1, 1, 2, 1, 2, 0, 1, 1, 1, 1, 0, 2, 1, 1, 1, 3, 0, 0, 1, 1, 1, 1, 0, 2, 3, 2, 3, 1, 3, 1, 0, 1, 2, 1, 1, 1, 0, 1, 0, 3, 3, 0, 3, 4, 1, 1, 0, 3, 2, 3, 1, 1, 1, 0, 1, 0, 0, 0, 1, 2, 1, 0, 3, 3, 0, 3, 1, 0, 1, 2, 0, 0, 1, 3, 3, 3, 0, 2, 0, 0, 1, 2, 1, 0, 0, 1, 1, 1, 0, 2, 0, 2, 0, 0, 2, 1, 0, 2, 1, 3, 1, 1, 2, 3, 3, 1, 1, 1, 0, 0, 3, 1, 3, 1, 1, 1, 0, 1, 1, 3, 3, 1, 1, 1, 1, 1, 1, 0, 4, 1, 0, 0, 0, 0, 3, 2, 1, 1, 1, 3, 2, 1, 1, 2, 1, 0, 0, 1, 1, 0, 1, 0, 2, 2, 3, 0, 2, 3, 1, 1, 0, 0, 0, 2, 1, 1, 2, 0, 1, 2, 2, 3, 1, 0, 0, 0, 1, 0, 1, 1, 1, 0, 0, 2, 1, 1, 0, 0, 1, 0, 0, 1, 1, 1, 3, 0, 1, 3, 1, 2, 2, 1, 3, 1, 1, 1, 0, 1, 2, 3, 0, 1, 3, 0, 3, 1, 1, 0, 1, 3, 3, 3, 1, 1, 1, 1, 1, 1, 0, 3, 1, 1, 0, 3, 2, 3, 1, 0, 4, 1, 2, 3, 0, 1, 1, 3, 1, 1, 1, 3, 1, 1, 0, 1, 3, 2, 1, 0, 2, 2, 1, 1, 0, 1, 1, 1, 3, 1, 2, 0, 2, 3, 4, 1, 2, 1, 1, 3, 3, 0, 0, 0, 1, 2, 1, 0, 3, 0, 1, 0, 2, 1, 0, 0, 1, 0, 1, 1, 3, 1, 3, 0, 0, 0, 3, 1, 1, 3, 1, 2, 1, 4, 2, 3, 0, 1, 0, 2, 2, 2, 2, 1, 1, 1, 3, 1, 1, 2, 1, 0, 1, 1, 0, 0, 3, 1, 2, 3, 2, 0, 1, 0, 1, 0, 3, 3, 2, 2, 3, 3, 1, 1, 0, 2, 1, 1, 1, 1, 2, 1, 1, 0, 0, 1, 0, 0, 0, 1, 4, 1, 0, 3, 0, 1, 2, 1, 2, 1, 0, 1, 0, 1, 1, 0, 0, 0, 1, 1, 1, 2, 1, 2, 3, 0, 2, 2, 2, 2, 1, 1, 1, 0, 4, 1, 0, 0, 2, 0, 1, 1, 1, 2, 3, 1, 3, 1, 1, 3, 3, 1, 2, 0, 1, 0, 0, 0, 2, 0, 1, 0, 1, 1, 3, 3, 1, 1, 1, 1, 1, 0, 0, 0, 2, 0, 3, 2, 1, 0, 0, 0, 1, 3, 1, 0, 3, 1, 0, 1, 1, 2, 1, 0, 1, 1, 2, 1, 3, 1, 2, 1, 3, 0, 0, 0, 0, 2, 3, 0, 0, 2, 3, 0, 1, 3, 3, 0, 3, 1, 1, 1, 3, 1, 0, 2, 3, 0, 0, 0, 0, 1, 1, 0, 3, 0, 0, 0, 3, 1, 3, 1, 1, 2, 1, 4, 0, 0, 1, 3, 2, 1, 3, 2, 0, 3, 1, 2, 0, 0, 1, 0, 0, 0, 1, 1, 2, 0, 0, 3, 1, 0, 0, 1, 1, 0, 0, 0, 0, 0, 2, 0, 3, 1, 2, 0, 0, 0, 3, 0, 3, 2, 1, 0, 4, 3, 1, 3, 1, 1, 1, 2, 1, 3, 1, 0, 2, 3, 0, 2, 0, 1, 2, 1, 1, 1, 1, 3, 3, 2, 1, 0, 3, 3, 0, 0, 2, 2, 2, 3, 0, 2, 1, 3, 1, 1, 1, 0, 0, 0, 2, 0, 0, 1, 0, 1, 0, 1, 1, 0, 1, 3, 2, 1, 1, 0, 1, 3, 0, 0, 3, 3, 3, 2, 1, 2, 0, 1, 1, 1, 0, 1, 1, 1, 3, 1, 0, 0, 1, 2, 1, 1, 1, 2, 1, 0, 0, 3, 2, 0, 3, 3, 0, 1, 0, 1, 3, 0, 1, 1, 1, 1, 3, 1, 0, 1, 2, 0, 1, 0, 0, 1, 1, 3, 0, 1, 1, 1, 2, 3, 3, 1, 2, 1, 4, 1, 1, 1, 1, 0, 1, 3, 3, 3, 1, 1, 0, 1, 1, 0, 0, 1, 1, 0, 2, 3, 3, 1, 1, 3, 0, 0, 1, 0, 0, 1, 1, 1, 1, 3, 2, 0, 3, 2, 1, 3, 1, 2, 0, 1, 3, 2, 1, 2, 3, 1, 4, 1, 1, 1, 1, 2, 1, 0, 3, 1, 1, 0, 3, 1, 1, 3, 0, 1, 1, 0, 1, 3, 1, 1, 2, 0, 2, 0, 3, 1, 1, 0, 1, 1, 1, 0, 1, 2, 0, 1, 2, 1, 2, 0, 3, 1, 0, 2, 2, 2, 1, 0, 2, 0, 3, 1, 3, 1, 3, 3, 1, 1, 4, 3, 1, 3, 1, 2, 1, 4, 2, 1, 1, 0, 1, 0, 0, 1, 3, 0, 0, 1, 1, 1, 0, 2, 0, 2, 0, 1, 0, 1, 1, 2, 1, 1, 3, 0, 1, 0, 1, 3, 2, 3, 1, 0, 0, 1, 1, 1, 2, 0, 0, 1, 1, 0, 2, 2, 2, 3, 1, 2, 1, 1, 1, 3, 3, 0, 1, 3, 1, 0, 2, 3, 1, 1, 0, 0, 0, 0, 0, 0, 2, 1, 0, 1, 1, 1, 2, 3, 0, 2, 1, 2, 0, 0, 1, 1, 1, 1, 3, 3, 3, 1, 1, 3, 0, 1, 1, 0, 1, 0, 0, 0, 3, 0, 2, 1, 1, 3, 1, 0, 0, 0, 0, 1, 1, 1, 1, 1, 3, 0, 1, 1, 0, 0, 3, 3, 2, 1, 1, 1, 1, 4, 0, 1, 4, 1, 2, 1, 0, 3, 1, 4, 3, 0, 0, 1, 1, 1, 1, 1, 1, 0, 1, 1, 0, 0, 0, 1, 3, 0, 3, 3, 1, 3, 0, 3, 2, 1, 2, 1, 0, 0, 2, 1, 1, 1, 2, 1, 3, 1, 3, 3, 1, 1, 3, 0, 1, 3, 2, 1, 1, 0, 0, 1, 0, 0, 3, 1, 3, 3, 1, 2, 2, 1, 1, 0, 2, 3, 4, 3, 1, 1, 2, 3, 0, 2, 0, 3, 3, 1, 0, 0, 3, 1, 2, 2, 2, 1, 1, 3, 4, 2, 2, 1, 3, 3, 3, 1, 1, 1, 4, 1, 3, 1, 0, 0, 4, 3, 3, 0, 1, 2, 2, 1, 1, 1, 1, 2, 1, 1, 1, 4, 0, 0, 0, 1, 2, 1, 1, 3, 1, 0, 1, 0, 0, 0, 1, 0, 3, 2, 2, 0, 1, 0, 3, 3, 3, 2, 1, 1, 2, 3, 1, 0, 0, 0, 2, 0, 3, 3, 0, 0, 1, 0, 4, 1, 1, 1, 3, 2, 1, 3, 2, 1, 1, 0, 1, 0, 1, 1, 2, 1, 0, 0, 0, 1, 0, 0, 3, 1, 1, 1, 1, 1, 1, 0, 0, 1, 1, 1, 0, 3, 1, 3, 3, 0, 1, 1, 1, 3, 0, 2, 3, 0, 2, 2, 1, 0, 1, 1, 1, 0, 0, 3, 1, 0, 0, 0, 3, 3, 1, 3, 0, 2, 1, 4, 3, 1, 1, 0, 3, 2, 3, 3, 0, 0, 1, 1, 0, 4, 2, 3, 1, 0, 0, 1, 3, 0, 0, 2, 2, 0, 0, 0, 1, 3, 2, 1, 1, 4, 0, 1, 1, 0, 1, 1, 3, 1, 1, 1, 1, 0, 1, 1, 0, 1, 2, 0, 0, 1, 0, 3, 1, 0, 1, 1, 4, 1, 0, 0, 3, 0, 3, 1, 1, 0, 3, 1, 1, 3, 0, 2, 1, 1, 3, 2, 1, 1, 0, 0, 1, 4, 1, 1, 1, 0, 3, 3, 0, 3, 2, 2, 1, 1, 3, 1, 4, 1, 1, 0, 0, 1, 0, 1, 1, 0, 2, 1, 1, 2, 0, 0, 2, 1, 1, 1, 1, 2, 4, 2, 1, 0, 1, 1, 4, 3, 1, 1, 1, 0, 1, 0, 0, 0, 0, 0, 1, 1, 0, 3, 1, 2, 1, 3, 0, 3, 0, 2, 0, 1, 2, 4, 3, 3, 3, 1, 3, 1, 1, 4, 0, 1, 1, 1, 0, 0, 4, 1, 0, 1, 3, 3, 1, 4, 0, 0, 0, 0, 0, 1, 2, 0, 0, 0, 0, 4, 1, 2, 3, 0, 3, 0, 1, 3, 3, 0, 0, 1, 2, 3, 1, 1, 3, 0, 0, 3, 0, 0, 3, 2, 2, 2, 0, 2, 3, 0, 0, 0, 1, 0, 3, 0, 1, 2, 0, 0, 1, 0, 1, 0, 1, 1, 1, 0, 1, 1, 4, 2, 3, 1, 1, 1, 0, 0, 3, 1, 3, 1, 3, 2, 4, 2, 1, 3, 0, 0, 1, 1, 2, 3, 3, 2, 1, 0, 0, 1, 0, 1, 3, 1, 1, 3, 1, 0, 1, 2, 3, 1, 1, 0, 2, 1, 4, 1, 1, 1, 1, 2, 1, 2, 1, 1, 1, 0, 0, 0, 2, 2, 3, 1, 1, 1, 1, 0, 2, 2, 4, 1, 4, 0, 0, 2, 3, 2, 1, 0, 1, 0, 1, 2, 2, 1, 3, 3, 3, 0, 0, 1, 3, 1, 0, 2, 1, 1, 2, 0, 1, 1, 1, 1, 3, 0, 1, 1, 1, 0, 3, 2, 3, 0, 1, 0, 0, 0, 1, 2, 0, 2, 0, 0, 0, 1, 2, 1, 1, 0, 1, 1, 0, 1, 0, 1, 0, 3, 0, 1, 0, 1, 0, 1, 1, 2, 0, 1, 1, 1, 3, 0, 2, 1, 1, 1, 1, 3, 2, 1, 1, 1, 1, 1, 0, 0, 1, 1, 1, 4, 1, 2, 0, 0, 0, 0, 3, 0, 2, 0, 3, 3, 0, 1, 0, 1, 1, 1, 3, 0, 0, 2, 1, 0, 1, 0, 3, 1, 2, 0, 1, 0, 0, 1, 0, 3, 3, 0, 2, 0, 1, 1, 1, 4, 3, 1, 0, 2, 0, 1, 1, 0, 0, 0, 1, 2, 0, 1, 0, 1, 0, 2, 1, 2, 1, 1, 2, 1, 3, 3, 1, 1, 2, 1, 0, 2, 0, 1, 0, 1, 2, 4, 2, 0, 0, 1, 0, 3, 3, 3, 3, 0, 0, 2, 0, 1, 2, 0, 2, 2, 0, 1, 3, 1, 0, 3, 1, 3, 3, 0, 0, 3, 0, 1, 0, 1, 1, 0, 3, 1, 3, 1, 1, 3, 1, 0, 0, 1, 2, 3, 2, 0, 1, 0, 0, 3, 3, 1, 1, 0, 0, 1, 1, 1, 0, 1, 3, 3, 3, 0, 0, 1, 1, 1, 1, 1, 2, 0, 1, 4, 1, 1, 1, 4, 2, 3, 3, 3, 1, 1, 3, 0, 1, 2, 1, 1, 0, 1, 0, 1, 3, 3, 0, 1, 0, 1, 3, 1, 1, 0, 2, 1, 3, 2, 1, 2, 1, 1, 2, 1, 1, 2, 0, 0, 4, 1, 1, 3, 0, 2, 2, 1, 0, 4, 1, 1, 1, 3, 0, 1, 1, 3, 2, 1, 1, 0, 3, 3, 1, 1, 2, 0, 2, 4, 0, 2, 3, 4, 1, 0, 1, 2, 0, 3, 0, 1, 1, 1, 1, 0, 0, 1, 1, 1, 2, 0, 1, 1, 1, 2, 2, 1, 3, 1, 1, 1, 1, 3, 0, 1, 1, 3, 2, 0, 2, 4, 0, 0, 0, 2, 1, 1, 3, 2, 1, 0, 1, 2, 3, 3, 0, 0, 0, 3, 1, 1, 0, 2, 0, 1, 1, 0, 0, 1, 1, 0, 2, 1, 1, 1, 1, 1, 3, 1, 2, 0, 3, 1, 1, 3, 1, 1, 1, 1, 1, 1, 1, 0, 1, 3, 0, 3, 1, 2, 0, 1, 3, 0, 1, 1, 1, 1, 1, 2, 1, 1, 0, 1, 0, 0, 0, 2, 0, 3, 1, 1, 1, 3, 0, 1, 1, 2, 1, 0, 1, 0, 1, 1, 0, 3, 1, 0, 1, 1, 0, 2, 1, 1, 2, 0, 1, 1, 1, 1, 0, 3, 1, 0, 1, 1, 3, 3, 0, 2, 3, 0, 1, 1, 1, 3, 1, 0, 1, 0, 0, 0, 2, 1, 1, 1, 1, 0, 4, 0, 3, 1, 3, 3, 1, 2, 1, 1, 0, 3, 1, 2, 2, 1, 1, 0, 1, 0, 0, 1, 0, 1, 1, 2, 0, 1, 0, 2, 3, 3, 1, 0, 0, 1, 2, 0, 0, 1, 0, 1, 1, 0, 1, 4, 1, 1, 4, 2, 3, 3, 1, 2, 1, 3, 3, 1, 1, 0, 3, 0, 4, 3, 0, 0, 2, 1, 3, 1, 1, 2, 1, 0, 1, 0, 0, 0, 0, 1, 1, 3, 3, 1, 1, 0, 1, 2, 0, 0, 1, 0, 0, 0, 2, 1, 2, 2, 1, 1, 0, 1, 0, 1, 1, 2, 0, 1, 2, 1, 1, 1, 1, 0, 2, 0, 2, 1, 0, 0, 1, 2, 1, 1, 0, 2, 0, 0, 1, 3, 0, 0, 1, 1, 2, 3, 3, 1, 0, 1, 3, 0, 3, 2, 2, 0, 1, 0, 1, 3, 3, 0, 1, 1, 2, 1, 0, 2, 0, 1, 1, 2, 0, 1, 0, 0, 1, 0, 2, 1, 0, 0, 1, 0, 0, 1, 2, 1, 2, 1, 1, 3, 3, 1, 1, 1, 0, 0, 1, 3, 3, 1, 0, 3, 0, 3, 2, 1, 3, 3, 0, 0, 1, 1, 3, 2, 3, 3, 3, 1, 4, 3, 0, 1, 0, 1, 3, 1, 0, 1, 3, 2, 1, 0, 0, 1, 0, 3, 0, 0, 0, 1, 0, 2, 0, 1, 2, 4, 0, 0, 3, 1, 2, 1, 1, 1, 1, 1, 4, 1, 1, 1, 3, 1, 0, 3, 0, 1, 3, 1, 3, 0, 2, 3, 0, 0, 1, 1, 3, 1, 1, 1, 0, 1, 1, 1, 0, 3, 1, 1, 0, 1, 0, 1, 1, 4, 1, 1, 2, 0, 2, 0, 1, 1, 0, 1, 0, 4, 0, 1, 1, 0, 3, 1, 0, 3, 2, 1, 1, 1, 1, 0, 1, 1, 0, 3, 0, 1, 3, 1, 1, 1, 2, 1, 1, 1, 2, 1, 3, 0, 0, 2, 3, 2, 0, 1, 1, 1, 3, 1, 3, 0, 1, 3, 0, 0, 1, 1, 0, 2, 3, 3, 2, 1, 3, 0, 1, 4, 3, 1, 1, 2, 0, 2, 1, 3, 4, 3, 2, 0, 1, 1, 1, 1, 3, 3, 0, 0, 0, 2, 0, 0, 3, 1, 1, 1, 3, 0, 3, 2, 1, 2, 2, 1, 0, 3, 0, 0, 3, 0, 0, 3, 2, 0, 1, 1, 1, 0, 2, 0, 1, 2, 1, 1, 2, 3, 0, 2, 1, 0, 2, 1, 1, 1, 0, 1, 1, 1, 1, 3, 0, 3, 1, 0, 3, 1, 1, 1, 0, 1, 1, 1, 1, 0, 3, 1, 3, 1, 3, 1, 1, 1, 3, 1, 2, 3, 2, 3, 3, 3, 1, 0, 1, 1, 0, 0, 2, 1, 0, 3, 0, 3, 0, 1, 1, 1, 2, 2, 1, 1, 2, 1, 0, 0, 0, 2, 1, 0, 0, 1, 0, 1, 1, 0, 1, 3, 2, 1, 0, 2, 0, 1, 0, 1, 1, 3, 0, 0, 2, 0, 1, 1, 1, 1, 2, 1, 1, 0, 1, 1, 2, 2, 2, 1, 1, 0, 1, 0, 0, 0, 3, 1, 1, 2, 3, 0, 0, 3, 0, 1, 1, 0, 1, 1, 1, 2, 0, 1, 0, 2, 3, 3, 1, 1, 2, 4, 1, 2, 1, 2, 2, 1, 3, 3, 1, 2, 3, 0, 1, 3, 1, 0, 3, 3, 1, 2, 0, 3, 1, 0, 1, 1, 3, 3, 2, 0, 1, 1, 1, 1, 1, 3, 1, 2, 1, 1, 1, 1, 3, 0, 1, 2, 1, 0, 3, 3, 2, 0, 0, 1, 2, 1, 0, 1, 0, 0, 3, 1, 0, 1, 0, 0, 2, 1, 2, 0, 1, 1, 1, 3, 2, 0, 1, 0, 3, 3, 0, 1, 1, 1, 1, 0, 0, 0, 1, 0, 3, 3, 0, 1, 0, 0, 1, 4, 0, 0, 1, 3, 2, 0, 1, 3, 0, 2, 1, 1, 3, 3, 1, 2, 2, 3, 0, 0, 1, 3, 1, 2, 3, 1, 0, 0, 2, 1, 0, 2, 0, 3, 1, 1, 0, 0, 4, 1, 2, 1, 1, 0, 4, 3, 1, 1, 2, 4, 0, 1, 1, 3, 2, 0, 2, 1, 2, 1, 1, 1, 1, 0, 0, 3, 1, 2, 0, 0, 2, 3, 1, 1, 1, 1, 3, 1, 2, 3, 0, 1, 2, 2, 0, 0, 3, 0, 3, 2, 1, 0, 0, 0, 3, 0, 0, 3, 2, 1, 1, 3, 3, 2, 0, 0, 1, 0, 2, 4, 1, 2, 2, 3, 3, 3, 3, 0, 3, 1, 2, 1, 2, 1, 1, 1, 0, 3, 3, 1, 2, 0, 1, 2, 1, 4, 3, 1, 3, 1, 1, 0, 0, 0, 0, 0, 1, 4, 1, 0, 2, 1, 2, 1, 3, 3, 1, 1, 0, 3, 0, 3, 3, 0, 0, 1, 1, 3, 3, 3, 1, 1, 2, 1, 3, 1, 1, 1, 2, 0, 3, 0, 0, 1, 3, 0, 0, 1, 3, 1, 1, 1, 3, 2, 1, 1, 1, 1, 1, 0, 1, 3, 1, 0, 1, 2, 1, 1, 2, 3, 2, 1, 1, 0, 1, 3, 3, 0, 3, 0, 1, 0, 3, 3, 3, 1, 1, 2, 3, 2, 1, 0, 2, 3, 0, 1, 3, 1, 1, 0, 0, 3, 1, 0, 2, 1, 1, 1, 3, 1, 1, 3, 4, 3, 2, 1, 0, 0, 2, 1, 0, 0, 0, 1, 0, 0, 3, 0, 1, 2, 1, 3, 1, 3, 0, 3, 0, 2, 2, 1, 1, 1, 3, 1, 0, 1, 2, 0, 0, 0, 0, 3, 3, 3, 1, 0, 3, 1, 2, 1, 2, 2, 1, 0, 3, 1, 1, 1, 0, 3, 2, 0, 1, 0, 2, 3, 1, 1, 1, 1, 3, 0, 3, 3, 2, 1, 2, 0, 1, 0, 2, 0, 3, 0, 1, 0, 1, 1, 1, 1, 1, 1, 0, 3, 0, 0, 0, 1, 3, 3, 0, 1, 1, 2, 0, 1, 2, 1, 1, 1, 0, 2, 1, 1, 0, 0, 1, 0, 0, 0, 2, 0, 1, 3, 1, 0, 0, 0, 0, 1, 0, 1, 1, 1, 1, 0, 4, 2, 3, 3, 3, 0, 0, 1, 1, 2, 0, 0, 0, 0, 0, 1, 2, 0, 4, 1, 0, 3, 2, 2, 1, 1, 4, 1, 2, 0, 0, 1, 0, 0, 0, 1, 1, 1, 0, 2, 1, 1, 1, 1, 2, 2, 3, 0, 1, 0, 1, 1, 1, 2, 0, 1, 2, 1, 1, 1, 0, 1, 1, 2, 3, 3, 0, 0, 2, 1, 2, 1, 3, 2, 0, 1, 3, 2, 0, 0, 3, 0, 1, 1, 1, 1, 3, 1, 0, 0, 1, 1, 2, 2, 1, 0, 3, 1, 0, 4, 0, 0, 0, 2, 0, 1, 2, 0, 4, 3, 3, 0, 2, 2, 1, 1, 2, 0, 3, 0, 2, 2, 0, 1, 2, 1, 0, 1, 3, 1, 3, 2, 1, 1, 2, 3, 1, 0, 1, 2, 3, 1, 3, 3, 3, 3, 0, 0, 1, 2, 1, 1, 3, 1, 1, 3, 1, 3, 0, 1, 1, 1, 1, 3, 1, 1, 2, 1, 0, 1, 0, 2, 3, 3, 0, 0, 1, 0, 1, 3, 1, 1, 0, 1, 0, 0, 0, 1, 0, 1, 1, 1, 2, 1, 1, 2, 0, 1, 1, 1, 2, 0, 1, 2, 1, 2, 1, 1, 2, 0, 1, 1, 1, 1, 2, 3, 0, 1, 2, 2, 1, 2, 0, 0, 0, 1, 2, 0, 1, 0, 1, 2, 1, 3, 2, 0, 3, 0, 0, 2, 2, 1, 3, 1, 0, 1, 1, 0, 0, 3, 1, 2, 0, 0, 3, 3, 1, 1, 3, 2, 0, 4, 3, 1, 1, 1, 2, 2, 1, 1, 1, 0, 1, 3, 4, 0, 0, 1, 2, 0, 3, 2, 1, 2, 0, 0, 0, 0, 2, 1, 1, 2, 4, 0, 2, 0, 2, 3, 4, 3, 0, 1, 2, 0, 1, 0, 0, 1, 0, 0, 1, 1, 2, 1, 1, 1, 1, 0, 1, 1, 2, 1, 0, 1, 2, 1, 1, 1, 2, 3, 1, 0, 0, 2, 0, 1, 1, 4, 1, 0, 1, 2, 0, 1, 1, 1, 1, 1, 0, 1, 2, 0, 1, 3, 3, 2, 1, 1, 1, 0, 3, 0, 0, 1, 2, 2, 0, 2, 1, 1, 1, 1, 4, 2, 2, 1, 1, 1, 2, 1, 1, 1, 3, 3, 1, 2, 0, 2, 3, 2, 1, 3, 4, 1, 2, 1, 2, 1, 3, 0, 0, 0, 0, 2, 0, 0, 3, 0, 1, 3, 1, 4, 1, 3, 2, 0, 1, 0, 1, 4, 3, 1, 1, 2, 0, 3, 1, 2, 2, 0, 2, 1, 0, 1, 0, 1, 0, 2, 1, 1, 1, 0, 0, 1, 1, 0, 1, 0, 3, 2, 3, 0, 1, 1, 1, 1, 1, 0, 2, 0, 0, 2, 1, 2, 4, 0, 1, 1, 3, 0, 0, 0, 2, 1, 1, 1, 1, 0, 1, 2, 2, 1, 2, 1, 0, 0, 1, 0, 1, 0, 3, 1, 1, 0, 3, 2, 1, 2, 1, 1, 3, 3, 0, 1, 3, 4, 0, 1, 3, 2, 0, 1, 1, 1, 1, 2, 0, 3, 2, 1, 1, 3, 4, 1, 0, 1, 1, 2, 0, 1, 1, 1, 0, 2, 2, 0, 1, 3, 2, 1, 1, 0, 3, 0, 3, 1, 0, 0, 2, 1, 2, 1, 2, 0, 1, 1, 3, 1, 0, 3, 1, 2, 4, 1, 1, 0, 2, 0, 0, 3, 0, 2, 0, 1, 0, 1, 1, 3, 3, 2, 1, 3, 1, 0, 1, 0, 1, 0, 1, 1, 1, 3, 0, 2, 2, 0, 1, 1, 1, 2, 1, 3, 3, 1, 1, 0, 1, 2, 2, 3, 1, 0, 0, 0, 1, 1, 3, 4, 3, 1, 0, 0, 3, 1, 1, 2, 1, 1, 1, 3, 1, 0, 3, 0, 3, 2, 2, 2, 0, 1, 0, 1, 3, 2, 1, 0, 2, 1, 4, 3, 0, 3, 0, 2, 1, 1, 1, 1, 1, 1, 1, 1, 1, 1, 0, 1, 3, 3, 3, 0, 1, 3, 0, 1, 1, 0, 3, 4, 2, 0, 0, 1, 1, 1, 0, 0, 1, 1, 3, 0, 2, 4, 0, 2, 1, 1, 2, 1, 2, 0, 0, 4, 0, 0, 1, 1, 1, 1, 1, 0, 1, 1, 1, 1, 3, 2, 0, 2, 1, 2, 1, 2, 0, 0, 3, 0, 2, 1, 1, 1, 2, 1, 0, 1, 3, 1, 0, 3, 0, 0, 1, 0, 1, 1, 0, 1, 1, 1, 0, 1, 0, 0, 2, 3, 1, 0, 1, 1, 3, 3, 1, 3, 1, 2, 1, 1, 2, 3, 0, 2, 0, 0, 0, 3, 3, 1, 1, 1, 0, 1, 2, 3, 1, 0, 1, 0, 0, 1, 1, 1, 1, 0, 1, 2, 1, 0, 3, 0, 2, 0, 1, 0, 0, 0, 1, 1, 1, 0, 3, 1, 2, 2, 3, 0, 1, 0, 4, 3, 0, 0, 1, 1, 3, 0, 0, 3, 2, 3, 1, 3, 0, 0, 1, 0, 1, 1, 1, 1, 2, 0, 1, 1, 3, 2, 1, 1, 3, 3, 0, 1, 0, 0, 1, 3, 1, 1, 0, 3, 3, 0, 1, 2, 0, 1, 0, 0, 1, 0, 2, 1, 0, 0, 2, 1, 1, 2, 0, 2, 1, 2, 0, 2, 1, 0, 1, 0, 0, 1, 0, 1, 1, 1, 0, 3, 0, 2, 1, 1, 2, 0, 2, 2, 1, 2, 1, 1, 1, 1, 1, 0, 0, 1, 3, 1, 3, 0, 3, 0, 1, 2, 0, 1, 1, 3, 2, 3, 1, 1, 1, 1, 1, 1, 1, 2, 2, 1, 1, 2, 1, 1, 2, 0, 3, 0, 1, 2, 1, 1, 3, 0, 1, 0, 1, 1, 1, 1, 1, 2, 0, 1, 0, 1, 1, 4, 0, 0, 1, 3, 0, 1, 1, 3, 0, 0, 0, 0, 1, 0, 1, 1, 2, 3, 1, 0, 1, 0, 0, 1, 1, 1, 1, 3, 1, 0, 0, 3, 1, 1, 0, 1, 0, 1, 3, 0, 1, 1, 1, 0, 3, 3, 2, 4, 0, 0, 1, 1, 2, 0, 0, 0, 0, 4, 2, 1, 0, 3, 0, 1, 1, 1, 1, 3, 1, 3, 3, 1, 0, 2, 1, 1, 2, 0, 1, 0, 0, 3, 0, 3, 1, 1, 1, 4, 0, 1, 3, 1, 1, 3, 1, 3, 1, 1, 2, 1, 1, 1, 2, 3, 1, 0, 1, 0, 1, 1, 0, 0, 1, 3, 0, 3, 1, 0, 2, 3, 3, 1, 1, 1, 0, 1, 1, 1, 0, 3, 1, 0, 1, 1, 0, 3, 2, 0, 2, 3, 1, 1, 0, 0, 0, 1, 0, 1, 1, 1, 0, 2, 3, 2, 2, 1, 0, 0, 3, 1, 1, 1, 2, 0, 1, 0, 4, 0, 1, 0, 3, 3, 1, 1, 0, 1, 1, 1, 2, 1, 3, 1, 2, 2, 2, 0, 1, 2, 2, 0, 2, 1, 3, 0, 3, 0, 0, 1, 0, 3, 2, 1, 3, 0, 0, 2, 1, 1, 0, 1, 0, 1, 1, 1, 1, 0, 1, 1, 0, 3, 0, 3, 1, 3, 0, 3, 0, 2, 3, 1, 2, 0, 2, 0, 1, 1, 1, 2, 2, 0, 2, 3, 1, 2, 3, 3, 3, 1, 0, 1, 2, 1, 0, 3, 2, 3, 0, 1, 0, 1, 1, 0, 2, 2, 0, 3, 1, 2, 0, 1, 2, 1, 1, 1, 0, 1, 1, 3, 3, 3, 1, 3, 2, 1, 2, 2, 2, 0, 0, 0, 3, 2, 1, 0, 0, 2, 1, 1, 0, 2, 3, 1, 0, 3, 0, 1, 1, 0, 0, 0, 2, 1, 2, 0, 1, 1, 0, 0, 2, 1, 1, 2, 2, 1, 2, 1, 0, 2, 1, 1, 1, 3, 1, 1, 3, 1, 0, 3, 0, 3, 1, 0, 1, 1, 0, 0, 0, 2, 1, 0, 1, 0, 0, 1, 1, 0, 3, 1, 2, 1, 2, 2, 0, 1, 1, 3, 1, 0, 3, 0, 2, 0, 2, 0, 0, 3, 1, 1, 1, 2, 1, 0, 3, 1, 0, 1, 0, 0, 0, 1, 1, 0, 1, 0, 0, 1, 0, 1, 2, 3, 0, 1, 3, 2, 0, 2, 1, 2, 1, 3, 1, 0, 0, 1, 4, 0, 2, 3, 1, 3, 2, 2, 0, 0, 3, 1, 1, 1, 3, 3, 2, 1, 1, 1, 1, 0, 1, 0, 1, 3, 2, 3, 1, 2, 0, 3, 1, 0, 0, 2, 1, 0, 1, 3, 3, 1, 0, 1, 3, 1, 2, 4, 0, 0, 1, 2, 1, 1, 0, 1, 3, 0, 1, 1, 0, 0, 1, 3, 1, 0, 0, 0, 1, 3, 3, 1, 0, 0, 0, 1, 3, 3, 1, 2, 3, 1, 1, 1, 3, 1, 3, 1, 1, 3, 0, 1, 0, 2, 0, 1, 2, 2, 1, 1, 2, 0, 0, 1, 0, 0, 2, 3, 0, 0, 2, 0, 1, 1, 2, 1, 1, 0, 1, 1, 1, 1, 4, 0, 1, 3, 1, 1, 1, 3, 1, 0, 0, 1, 0, 1, 3, 0, 1, 0, 4, 0, 2, 2, 0, 0, 2, 1, 0, 4, 1, 1, 1, 2, 1, 1, 0, 3, 1, 1, 0, 1, 2, 1, 0, 1, 3, 0, 3, 2, 1, 1, 3, 1, 0, 0, 1, 1, 0, 3, 0, 0, 1, 1, 1, 0, 1, 0, 0, 1, 1, 1, 3, 0, 1, 1, 1, 1, 1, 1, 1, 1, 0, 0, 3, 1, 0, 2, 0, 1, 2, 2, 1, 1, 1, 3, 3, 0, 0, 0, 1, 3, 2, 0, 1, 2, 1, 0, 3, 2, 1, 3, 1, 3, 1, 0, 1, 2, 3, 2, 0, 4, 1, 2, 1, 2, 1, 1, 1, 3, 0, 4, 3, 1, 3, 3, 1, 1, 1, 2, 1, 1, 3, 1, 3, 4, 1, 1, 0, 1, 1, 0, 0, 1, 1, 3, 0, 0, 1, 3, 1, 3, 1, 1, 1, 1, 2, 1, 0, 0, 0, 0, 1, 1, 1, 2, 0, 1, 2, 0, 3, 1, 0, 1, 0, 0, 4, 2, 0, 0, 2, 0, 0, 3, 0, 3, 0, 0, 1, 1, 2, 0, 0, 3, 0, 2, 2, 1, 1, 1, 2, 1, 0, 1, 0, 3, 3, 0, 0, 0, 1, 3, 0, 2, 0, 3, 0, 0, 1, 1, 3, 4, 2, 0, 1, 1, 0, 0, 0, 0, 0, 1, 1, 1, 2, 1, 3, 1, 0, 3, 3, 1, 1, 1, 3, 3, 0, 0, 0, 1, 1, 1, 0, 0, 1, 1, 2, 2, 1, 0, 0, 0, 0, 0, 1, 1, 0, 0, 2, 1, 1, 4, 2, 1, 1, 1, 0, 2, 1, 0, 1, 0, 3, 1, 3, 0, 1, 0, 1, 1, 1, 0, 1, 1, 1, 0, 1, 0, 2, 2, 1, 3, 1, 1, 0, 2, 1, 3, 2, 0, 3, 2, 0, 0, 3, 2, 1, 1, 3, 1, 4, 0, 1, 3, 1, 0, 1, 0, 1, 3, 0, 2, 0, 3, 2, 0, 1, 1, 1, 3, 2, 4, 3, 1, 1, 3, 1, 1, 0, 4, 3, 0, 1, 0, 3, 1, 0, 1, 3, 1, 3, 3, 1, 3, 3, 0, 0, 3, 0, 0, 2, 3, 3, 2, 0, 0, 0, 1, 2, 3, 1, 3, 1, 1, 1, 1, 0, 1, 0, 4, 1, 1, 0, 0, 1, 3, 2, 1, 3, 0, 1, 0, 3, 1, 1, 3, 0, 1, 3, 3, 1, 0, 3, 1, 1, 2, 1, 2, 2, 1, 0, 1, 1, 4, 0, 2, 4, 3, 0, 1, 1, 0, 0, 1, 1, 2, 1, 1, 2, 3, 1, 0, 0, 1, 1, 3, 2, 1, 0, 1, 3, 3, 1, 2, 3, 1, 1, 0, 1, 1, 0, 1, 1, 1, 0, 1, 3, 1, 2, 3, 1, 1, 0, 1, 2, 0, 2, 3, 1, 2, 0, 1, 3, 1, 1, 1, 0, 2, 1, 1, 0, 1, 0, 3, 1, 1, 1, 0, 0, 1, 1, 1, 2, 3, 3, 0, 1, 0, 1, 0, 1, 3, 0, 0, 1, 1, 0, 1, 2, 1, 3, 2, 0, 0, 1, 1, 2, 1, 1, 1, 0, 1, 4, 0, 0, 3, 1, 2, 0, 0, 0, 2, 0, 1, 1, 0, 2, 2, 1, 4, 1, 1, 3, 1, 2, 2, 0, 4, 3, 0, 1, 1, 1, 2, 0, 1, 1, 2, 0, 1, 1, 1, 2, 0, 1, 1, 1, 3, 3, 3, 3, 1, 1, 1, 4, 0, 0, 1, 0, 1, 0, 1, 1, 1, 2, 1, 3, 2, 0, 1, 1, 1, 1, 1, 1, 1, 0, 1, 0, 1, 1, 1, 0, 1, 3, 1, 1, 0, 2, 1, 0, 0, 0, 1, 3, 1, 2, 1, 2, 2, 2, 1, 0, 1, 0, 1, 0, 1, 1, 0, 0, 1, 1, 3, 1, 0, 1, 1, 1, 3, 0, 0, 1, 0, 0, 0, 0, 1, 2, 0, 4, 3, 1, 3, 1, 3, 1, 0, 1, 0, 0, 0, 0, 2, 0, 0, 2, 2, 0, 0, 0, 1, 0, 1, 0, 1, 1, 0, 1, 3, 1, 0, 3, 1, 0, 0, 1, 0, 1, 0, 0, 1, 2, 1, 1, 0, 2, 1, 0, 0, 1, 1, 1, 1, 1, 1, 2, 2, 1, 1, 3, 0, 2, 3, 0, 3, 0, 0, 2, 1, 1, 3, 3, 0, 0, 3, 1, 0, 0, 1, 0, 1, 1, 2, 3, 1, 2, 1, 2, 3, 1, 3, 3, 1, 1, 0, 0, 2, 1, 3, 1, 1, 1, 3, 1, 0, 4, 3, 2, 3, 0, 3, 0, 3, 1, 3, 3, 0, 3, 0, 1, 4, 3, 0, 0, 2, 1, 1, 3, 1, 0, 3, 3, 1, 3, 0, 0, 1, 0, 2, 0, 1, 1, 1, 0, 3, 1, 0, 1, 3, 1, 3, 1, 4, 0, 2, 2, 1, 3, 0, 0, 0, 0, 0, 2, 0, 3, 1, 1, 0, 1, 2, 3, 1, 0, 1, 1, 1, 1, 1, 1, 2, 1, 0, 0, 1, 1, 1, 1, 3, 3, 3, 2, 1, 0, 1, 1, 1, 1, 3, 1, 0, 1, 0, 0, 1, 0, 1, 2, 0, 1, 0, 0, 1, 2, 1, 0, 0, 1, 1, 2, 1, 0, 0, 1, 0, 3, 0, 3, 2, 1, 3, 1, 0, 3, 1, 1, 0, 3, 1, 0, 0, 1, 1, 3, 3, 2, 0, 3, 1, 0, 0, 1, 1, 1, 1, 0, 0, 0, 0, 0, 1, 2, 0, 1, 0, 1, 0, 3, 1, 1, 3, 0, 3, 4, 1, 1, 1, 2, 0, 2, 1, 0, 3, 3, 0, 0, 3, 4, 1, 1, 0, 0, 1, 1, 3, 3, 2, 0, 3, 2, 2, 1, 3, 4, 3, 1, 3, 1, 0, 0, 1, 1, 2, 1, 1, 1, 1, 1, 2, 0, 0, 3, 1, 1, 1, 0, 0, 1, 3, 1, 1, 0, 2, 2, 0, 3, 1, 0, 2, 1, 3, 1, 3, 1, 1, 3, 1, 2, 0, 1, 4, 2, 2, 1, 0, 0, 3, 0, 0, 3, 1, 1, 1, 0, 0, 3, 1, 0, 1, 1, 3, 3, 1, 4, 1, 3, 0, 1, 1, 1, 1, 0, 3, 1, 1, 2, 0, 1, 3, 0, 1, 1, 3, 3, 0, 3, 1, 2, 1, 3, 0, 0, 1, 1, 1, 1, 1, 2, 2, 1, 0, 0, 1, 1, 4, 2, 2, 3, 0, 3, 0, 1, 2, 3, 1, 3, 1, 1, 1, 3, 3, 0, 1, 1, 3, 2, 3, 3, 0, 4, 0, 2, 2, 3, 2, 0, 1, 1, 2, 0, 3, 1, 2, 0, 3, 3, 3, 1, 1, 0, 1, 0, 0, 0, 0, 1, 2, 1, 0, 1, 3, 1, 1, 0, 2, 1, 1, 1, 0, 0, 3, 1, 4, 0, 1, 1, 3, 0, 1, 0, 1, 3, 1, 2, 2, 1, 4, 0, 0, 3, 1, 3, 0, 1, 1, 0, 1, 0, 1, 3, 2, 2, 4, 0, 0, 0, 2, 1, 3, 3, 2, 1, 1, 2, 1, 0, 0, 3, 2, 0, 3, 1, 0, 1, 3, 2, 2, 1, 0, 1, 3, 3, 1, 0, 3, 1, 0, 3, 0, 1, 1, 1, 1, 0, 1, 0, 3, 1, 1, 3, 1, 3, 3, 4, 0, 1, 0, 2, 3, 0, 0, 1, 0, 4, 1, 1, 1, 0, 1, 0, 1, 0, 2, 3, 0, 0, 3, 1, 1, 1, 1, 3, 0, 1, 1, 3, 2, 0, 3, 1, 1, 1, 1, 1, 0, 3, 2, 1, 3, 1, 4, 1, 2, 2, 1, 3, 3, 1, 1, 3, 0, 0, 1, 0, 0, 1, 1, 3, 0, 0, 1, 2, 1, 1, 1, 1, 3, 1, 0, 1, 1, 3, 1, 0, 2, 4, 0, 0, 1, 1, 1, 1, 3, 1, 1, 2, 0, 1, 3, 0, 1, 3, 1, 0, 0, 0, 3, 1, 1, 3, 1, 3, 0, 1, 2, 1, 3, 1, 0, 1, 1, 2, 3, 2, 3, 1, 1, 1, 2, 0, 1, 0, 3, 3, 0, 2, 0, 3, 1, 0, 0, 2, 3, 2, 0, 3, 1, 3, 3, 3, 1, 0, 1, 2, 2, 3, 1, 2, 3, 2, 2, 1, 1, 1, 1, 3, 2, 2, 2, 0, 1, 0, 3, 1, 4, 1, 0, 0, 0, 0, 1, 2, 2, 4, 1, 2, 0, 2, 0, 0, 0, 0, 1, 3, 0, 1, 0, 1, 0, 1, 3, 0, 4, 2, 1, 0, 1, 2, 0, 0, 1, 2, 0, 1, 1, 3, 1, 0, 0, 2, 1, 1, 0, 2, 3, 1, 1, 0, 1, 0, 1, 0, 2, 0, 0, 1, 3, 3, 0, 0, 1, 2, 1, 2, 2, 0, 0, 1, 1, 2, 0, 0, 1, 3, 1, 1, 2, 0, 3, 3, 0, 2, 1, 1, 3, 3, 1, 1, 1, 1, 1, 1, 2, 2, 0, 0, 0, 0, 2, 1, 3, 2, 0, 2, 3, 0, 0, 1, 3, 0, 1, 1, 0, 4, 0, 0, 1, 2, 0, 0, 0, 3, 1, 1, 1, 1, 1, 0, 1, 1, 1, 1, 4, 1, 3, 0, 1, 0, 1, 1, 1, 1, 0, 1, 1, 4, 1, 1, 2, 0, 1, 1, 3, 2, 1, 3, 0, 3, 3, 2, 3, 1, 1, 2, 1, 1, 1, 0, 3, 1, 0, 1, 2, 2, 3, 0, 0, 3, 2, 1, 1, 0, 4, 1, 0, 1, 1, 1, 1, 2, 3, 1, 1, 1, 1, 0, 4, 0, 3, 4, 0, 1, 0, 0, 1, 3, 0, 3, 1, 1, 0, 1, 2, 3, 3, 1, 1, 1, 0, 1, 0, 3, 1, 0, 0, 2, 1, 1, 1, 1, 4, 0, 1, 1, 2, 2, 2, 1, 1, 2, 0, 0, 2, 0, 1, 0, 3, 0, 1, 0, 4, 1, 3, 1, 1, 2, 3, 0, 3, 2, 0, 1, 0, 2, 1, 1, 0, 1, 1, 1, 2, 2, 2, 0, 1, 3, 3, 0, 2, 3, 3, 3, 3, 2, 0, 1, 0, 3, 0, 1, 0, 2, 1, 0, 1, 0, 0, 2, 3, 4, 1, 1, 0, 3, 0, 1, 1, 0, 1, 1, 2, 3, 2, 1, 0, 2, 3, 0, 2, 0, 3, 1, 0, 3, 1, 1, 4, 1, 1, 3, 1, 1, 0, 0, 1, 0, 3, 3, 0, 0, 1, 2, 0, 0, 1, 1, 3, 0, 0, 1, 1, 1, 0, 1, 1, 3, 1, 0, 1, 0, 3, 0, 0, 0, 3, 3, 3, 1, 0, 0, 2, 0, 3, 2, 2, 3, 3, 1, 0, 1, 3, 1, 1, 0, 0, 0, 1, 3, 1, 0, 2, 1, 0, 2, 3, 2, 1, 4, 0, 0, 1, 2, 3, 0, 0, 1, 1, 2, 3, 1, 0, 1, 1, 0, 3, 0, 0, 3, 3, 2, 2, 1, 3, 1, 1, 3, 0, 2, 1, 1, 1, 1, 0, 0, 0, 1, 0, 0, 1, 3, 2, 3, 3, 0, 0, 3, 0, 1, 1, 3, 1, 2, 4, 0, 0, 2, 0, 1, 1, 1, 0, 0, 3, 3, 0, 0, 1, 1, 1, 0, 2, 1, 1, 1, 1, 0, 2, 0, 1, 3, 3, 0, 0, 1, 1, 1, 2, 0, 3, 1, 2, 0, 3, 1, 2, 0, 3, 0, 1, 2, 3, 0, 3, 1, 2, 3, 0, 0, 0, 1, 1, 3, 1, 4, 2, 0, 0, 1, 1, 0, 3, 1, 1, 2, 3, 1, 3, 1, 1, 2, 1, 3, 1, 0, 2, 3, 0, 1, 3, 0, 0, 2, 1, 0, 1, 2, 1, 0, 1, 1, 1, 1, 1, 1, 1, 4, 0, 1, 0, 3, 3, 0, 0, 0, 3, 3, 3, 3, 1, 0, 0, 0, 2, 1, 0, 3, 0, 1, 1, 2, 2, 1, 0, 0, 3, 3, 0, 2, 2, 3, 0, 1, 3, 2, 3, 0, 3, 1, 0, 3, 0, 2, 2, 2, 3, 0, 1, 2, 3, 1, 0, 2, 2, 0, 4, 1, 3, 1, 1, 0, 0, 2, 1, 0, 0, 1, 0, 0, 0, 3, 3, 0, 1, 2, 1, 0, 1, 1, 1, 0, 1, 3, 1, 0, 1, 0, 0, 3, 0, 1, 0, 3, 3, 1, 0, 1, 0, 1, 1, 1, 3, 1, 1, 1, 1, 3, 0, 1, 1, 1, 0, 4, 0, 0, 2, 1, 0, 1, 1, 0, 3, 1, 1, 3, 3, 3, 0, 3, 1, 1, 2, 1, 1, 4, 3, 2, 1, 0, 2, 1, 2, 2, 0, 1, 0, 1, 1, 1, 1, 3, 3, 1, 1, 3, 4, 1, 1, 1, 3, 3, 1, 3, 0, 0, 1, 1, 2, 2, 2, 1, 3, 2, 4, 0, 0, 1, 1, 1, 0, 1, 0, 0, 2, 0, 1, 1, 0, 0, 1, 1, 1, 0, 3, 1, 0, 1, 2, 1, 1, 1, 0, 0, 1, 0, 2, 0, 1, 0, 0, 0, 3, 0, 3, 1, 4, 0, 2, 0, 0, 1, 1, 3, 3, 0, 2, 3, 0, 2, 1, 0, 3, 1, 2, 3, 1, 0, 0, 3, 1, 3, 1, 0, 0, 1, 2, 2, 2, 1, 0, 0, 1, 1, 1, 0, 1, 3, 3, 1, 1, 1, 2, 3, 3, 1, 3, 1, 2, 1, 0, 1, 1, 3, 2, 1, 1, 3, 2, 1, 1, 4, 3, 0, 0, 4, 1, 0, 0, 3, 3, 0, 1, 1, 3, 3, 1, 2, 1, 1, 2, 1, 0, 1, 0, 0, 2, 0, 1, 1, 2, 1, 3, 1, 1, 1, 0, 3, 0, 1, 1, 2, 4, 3, 1, 3, 0, 1, 4, 3, 1, 1, 1, 2, 0, 1, 1, 1, 0, 0, 0, 0, 0, 1, 3, 1, 0, 1, 1, 3, 1, 0, 3, 1, 0, 3, 0, 2, 2, 2, 1, 0, 0, 3, 1, 1, 1, 3, 3, 0, 0, 4, 1, 3, 0, 4, 1, 0, 4, 3, 0, 1, 3, 0, 0, 1, 1, 2, 4, 3, 2, 1, 0, 0, 2, 3, 3, 0, 2, 2, 1, 1, 0, 3, 0, 4, 0, 1, 2, 0, 3, 0, 0, 3, 1, 1, 1, 3, 2, 1, 1, 1, 0, 1, 1, 1, 0, 1, 1, 2, 3, 1, 2, 0, 0, 0, 1, 2, 0, 1, 1, 2, 1, 2, 1, 3, 2, 0, 1, 1, 2, 1, 1, 2, 2, 0, 1, 1, 4, 3, 2, 3, 3, 0, 1, 0, 3, 2, 1, 1, 3, 1, 1, 1, 0, 2, 0, 0, 2, 0, 3, 0, 2, 2, 1, 1, 1, 1, 3, 1, 1, 4, 3, 3, 1, 1, 2, 1, 2, 0, 2, 1, 0, 1, 0, 2, 0, 3, 2, 1, 1, 0, 1, 1, 0, 3, 0, 0, 3, 1, 0, 2, 0, 3, 0, 1, 1, 1, 0, 4, 1, 3, 0, 0, 0, 2, 1, 0, 3, 1, 1, 0, 0, 1, 4, 1, 1, 1, 0, 1, 2, 3, 2, 1, 2, 0, 1, 1, 1, 0, 3, 1, 2, 4, 0, 3, 1, 2, 1, 1, 4, 3, 1, 0, 1, 3, 3, 0, 1, 4, 0, 3, 2, 1, 3, 4, 1, 3, 2, 4, 0, 2, 0, 1, 0, 2, 1, 1, 1, 1, 3, 0, 1, 1, 0, 1, 3, 4, 0, 0, 1, 2, 2, 3, 1, 1, 1, 1, 1, 1, 0, 1, 3, 1, 1, 3, 3, 1, 0, 1, 2, 0, 1, 2, 0, 1, 0, 1, 0, 0, 2, 2, 0, 0, 4, 0, 1, 0, 3, 1, 1, 1, 2, 1, 1, 2, 1, 2, 0, 1, 0, 0, 1, 1, 1, 1, 1, 0, 1, 0, 1, 1, 0, 1, 1, 1, 1, 3, 0, 1, 3, 1, 1, 0, 1, 1, 0, 0, 0, 3, 1, 0, 1, 3, 1, 2, 1, 3, 2, 3, 1, 1, 0, 0, 1, 1, 1, 2, 0, 1, 3, 1, 2, 1, 1, 0, 1, 2, 1, 1, 3, 0, 1, 0, 0, 0, 0, 1, 2, 0, 1, 2, 1, 0, 1, 1, 1, 0, 1, 1, 1, 1, 1, 3, 0, 1, 1, 3, 1, 1, 2, 1, 1, 3, 1, 2, 1, 3, 2, 1, 0, 3, 0, 0, 1, 0, 0, 1, 1, 3, 3, 1, 1, 2, 3, 0, 1, 1, 2, 0, 1, 1, 1, 0, 1, 0, 0, 1, 2, 1, 1, 2, 0, 1, 2, 1, 3, 1, 2, 0, 1, 1, 2, 1, 1, 1, 0, 4, 3, 1, 1, 1, 1, 1, 0, 1, 1, 0, 0, 1, 2, 1, 1, 1, 0, 1, 0, 1, 3, 4, 0, 0, 0, 2, 2, 0, 1, 1, 1, 3, 2, 0, 1, 0, 1, 0, 1, 3, 3, 1, 0, 0, 0, 1, 1, 1, 1, 3, 1, 4, 1, 2, 0, 1, 1, 3, 1, 0, 1, 0, 3, 1, 0, 1, 3, 3, 1, 0, 2, 1, 3, 2, 3, 1, 1, 1, 1, 0, 3, 0, 3, 1, 0, 1, 0, 0, 2, 1, 2, 1, 2, 2, 1, 1, 0, 0, 0, 1, 3, 1, 0, 2, 1, 1, 2, 1, 1, 2, 0, 2, 0, 1, 0, 1, 0, 0, 3, 1, 2, 0, 3, 3, 2, 2, 3, 1, 1, 1, 2, 0, 3, 0, 1, 0, 0, 0, 3, 3, 3, 0, 0, 0, 3, 0, 0, 1, 1, 3, 1, 1, 3, 0, 0, 1, 1, 1, 1, 3, 1, 1, 0, 0, 1, 1, 1, 4, 2, 1, 1, 0, 1, 0, 3, 1, 1, 1, 0, 3, 1, 1, 0, 1, 1, 3, 1, 1, 0, 0, 0, 0, 3, 0, 2, 2, 0, 2, 1, 2, 0, 1, 1, 0, 0, 1, 1, 0, 1, 3, 2, 1, 1, 0, 0, 0, 0, 1, 3, 2, 2, 0, 0, 0, 0, 1, 1, 3, 0, 3, 2, 0, 2, 1, 2, 0, 0, 1, 1, 0, 1, 3, 3, 1, 2, 0, 3, 1, 0, 0, 1, 3, 1, 1, 2, 1, 1, 2, 4, 3, 1, 0, 1, 0, 2, 1, 3, 3, 2, 1, 3, 1, 3, 0, 1, 1, 3, 3, 1, 2, 1, 1, 1, 1, 1, 1, 1, 0, 1, 4, 1, 1, 1, 1, 1, 1, 1, 4, 3, 2, 0, 2, 1, 1, 1, 0, 2, 1, 2, 2, 3, 1, 1, 0, 0, 1, 1, 0, 1, 3, 3, 0, 2, 3, 1, 2, 0, 0, 3, 2, 1, 1, 3, 1, 1, 3, 1, 3, 0, 1, 0, 1, 1, 0, 1, 2, 2, 1, 2, 3, 1, 3, 0, 2, 0, 3, 1, 0, 2, 1, 3, 2, 1, 1, 1, 0, 4, 0, 0, 1, 0, 0, 1, 1, 1, 0, 1, 1, 2, 1, 0, 1, 1, 2, 2, 1, 1, 0, 3, 2, 0, 1, 0, 1, 3, 0, 0, 1, 3, 1, 0, 0, 0, 1, 1, 1, 3, 3, 1, 0, 1, 1, 2, 1, 3, 3, 0, 0, 1, 2, 0, 3, 0, 2, 0, 0, 3, 2, 1, 1, 0, 1, 3, 0, 1, 1, 0, 1, 1, 1, 2, 1, 1, 3, 1, 0, 4, 0, 1, 0, 0, 3, 1, 2, 2, 1, 0, 1, 2, 1, 1, 0, 1, 0, 1, 0, 3, 0, 2, 0, 1, 3, 2, 0, 1, 2, 3, 0, 1, 1, 0, 2, 0, 0, 3, 1, 1, 1, 1, 1, 2, 1, 3, 0, 2, 0, 0, 2, 1, 1, 0, 3, 1, 1, 1, 3, 1, 3, 4, 2, 0, 3, 1, 1, 3, 1, 1, 1, 2, 0, 1, 3, 3, 0, 3, 0, 1, 1, 1, 3, 1, 1, 1, 0, 1, 0, 0, 3, 1, 0, 1, 3, 3, 1, 1, 1, 0, 1, 0, 0, 2, 1, 1, 3, 2, 0, 1, 1, 0, 0, 1, 1, 1, 0, 0, 1, 3, 1, 0, 1, 2, 0, 2, 1, 4, 1, 3, 0, 1, 3, 1, 2, 0, 3, 4, 1, 2, 0, 2, 0, 1, 2, 2, 1, 3, 1, 0, 1, 1, 2, 0, 0, 0, 2, 1, 2, 2, 1, 1, 0, 0, 1, 3, 1, 1, 1, 1, 3, 1, 0, 2, 1, 2, 1, 1, 3, 1, 0, 0, 1, 1, 3, 1, 2, 1, 0, 1, 2, 2, 0, 1, 0, 1, 0, 3, 3, 0, 1, 0, 3, 0, 1, 3, 2, 0, 3, 1, 2, 1, 1, 2, 3, 2, 0, 1, 3, 4, 3, 0, 2, 1, 2, 1, 0, 2, 0, 3, 1, 0, 3, 1, 0, 3, 0, 1, 3, 3, 0, 0, 0, 1, 1, 3, 3, 0, 2, 0, 1, 1, 0, 0, 0, 0, 2, 3, 2, 1, 0, 1, 0, 1, 1, 0, 0, 3, 3, 2, 0, 0, 0, 1, 4, 0, 0, 2, 1, 2, 0, 3, 1, 1, 3, 3, 1, 0, 1, 0, 3, 0, 1, 0, 1, 3, 1, 0, 1, 0, 0, 1, 0, 4, 1, 1, 2, 1, 2, 3, 1, 2, 3, 1, 2, 1, 3, 0, 3, 0, 0, 0, 2, 1, 0, 0, 3, 1, 1, 0, 1, 1, 3, 1, 1, 1, 1, 0, 1, 1, 1, 2, 1, 0, 3, 1, 1, 0, 1, 2, 3, 4, 3, 1, 1, 0, 2, 4, 2, 1, 1, 0, 1, 4, 3, 2, 0, 3, 2, 0, 3, 2, 1, 1, 3, 3, 0, 3, 1, 0, 1, 0, 0, 1, 2, 2, 1, 0, 1, 2, 1, 1, 2, 1, 1, 1, 3, 2, 1, 0, 3, 1, 2, 0, 1, 0, 4, 0, 3, 2, 2, 2, 2, 2, 2, 1, 2, 2, 1, 3, 3, 1, 3, 0, 0, 1, 0, 1, 1, 2, 3, 0, 1, 2, 0, 0, 1, 3, 2, 0, 1, 1, 0, 1, 3, 4, 1, 1, 3, 1, 0, 1, 0, 2, 0, 1, 3, 1, 0, 3, 2, 3, 1, 3, 0, 1, 1, 1, 0, 3, 2, 3, 3, 0, 0, 2, 0, 0, 0, 0, 1, 0, 1, 1, 3, 0, 0, 2, 0, 1, 2, 0, 0, 0, 4, 0, 2, 3, 1, 1, 1, 2, 0, 0, 3, 0, 2, 1, 3, 0, 1, 3, 1, 0, 0, 1, 2, 0, 0, 3, 0, 2, 2, 3, 0, 1, 1, 1, 1, 0, 3, 4, 1, 0, 1, 1, 1, 4, 1, 0, 1, 3, 2, 1, 1, 0, 3, 0, 1, 1, 3, 2, 1, 4, 3, 1, 1, 3, 1, 3, 0, 0, 2, 0, 4, 3, 1, 2, 2, 1, 2, 3, 1, 1, 1, 2, 1, 0, 0, 2, 0, 0, 0, 0, 0, 1, 0, 3, 1, 0, 0, 0, 1, 2, 1, 1, 1, 3, 1, 0, 2, 0, 3, 0, 0, 0, 3, 1, 1, 1, 0, 1, 3, 3, 1, 1, 1, 1, 0, 3, 1, 1, 3, 1, 1, 3, 0, 4, 0, 0, 1, 0, 2, 1, 0, 3, 1, 1, 1, 2, 0, 0, 3, 1, 0, 1, 1, 1, 0, 2, 0, 1, 1, 1, 1, 4, 2, 1, 2, 3, 1, 3, 0, 1, 0, 0, 1, 0, 1, 2, 1, 1, 1, 1, 3, 0, 1, 1, 1, 0, 1, 1, 1, 1, 2, 1, 0, 0, 1, 0, 4, 1, 1, 1, 1, 1, 0, 0, 0, 1, 1, 0, 1, 0, 1, 1, 0, 2, 0, 1, 1, 1, 1, 1, 1, 0, 1, 3, 1, 4, 0, 1, 1, 3, 0, 1, 2, 1, 2, 1, 0, 1, 3, 0, 1, 0, 1, 1, 3, 2, 4, 1, 1, 2, 0, 0, 1, 0, 1, 1, 0, 1, 3, 0, 2, 3, 3, 1, 1, 2, 1, 3, 1, 0, 2, 4, 1, 1, 0, 0, 0, 1, 3, 0, 1, 3, 2, 3, 1, 3, 3, 1, 2, 1, 2, 3, 1, 0, 0, 1, 0, 0, 0, 1, 3, 0, 0, 1, 1, 0, 1, 1, 3, 3, 0, 1, 2, 0, 1, 0, 1, 0, 0, 1, 3, 1, 0, 2, 0, 1, 3, 1, 1, 0, 3, 0, 1, 0, 3, 2, 2, 3, 3, 1, 0, 3, 0, 3, 1, 0, 2, 0, 0, 3, 0, 1, 0, 1, 1, 0, 3, 3, 1, 1, 3, 2, 1, 3, 0, 1, 1, 0, 1, 2, 0, 0, 1, 0, 1, 0, 2, 3, 1, 1, 1, 1, 4, 1, 0, 0, 0, 2, 0, 1, 2, 3, 2, 1, 1, 1, 1, 2, 1, 1, 3, 1, 0, 1, 1, 2, 0, 2, 0, 1, 2, 1, 0, 0, 0, 0, 3, 0, 2, 3, 3, 3, 1, 0, 1, 0, 2, 0, 3, 1, 3, 1, 4, 1, 1, 1, 2, 1, 1, 1, 1, 0, 2, 2, 2, 0, 1, 0, 1, 2, 0, 0, 3, 1, 0, 1, 2, 0, 3, 0, 1, 1, 3, 3, 0, 1, 0, 0, 2, 1, 2, 2, 0, 1, 2, 0, 3, 1, 2, 3, 0, 3, 0, 0, 1, 1, 1, 1, 0, 2, 1, 0, 1, 1, 0, 2, 1, 1, 0, 0, 0, 1, 3, 1, 1, 1, 1, 1, 0, 1, 3, 1, 0, 1, 0, 0, 1, 1, 3, 4, 0, 0, 0, 1, 0, 2, 2, 2, 2, 2, 1, 3, 1, 1, 1, 0, 0, 1, 0, 2, 3, 0, 0, 1, 1, 1, 1, 0, 1, 0, 0, 1, 2, 1, 0, 1, 1, 1, 1, 0, 0, 2, 1, 0, 3, 3, 2, 0, 1, 1, 0, 1, 1, 2, 3, 0, 0, 3, 1, 1, 1, 1, 1, 1, 0, 1, 0, 0, 1, 1, 3, 1, 1, 1, 0, 0, 1, 1, 1, 1, 0, 3, 0, 1, 1, 0, 1, 0, 3, 4, 1, 0, 3, 3, 0, 2, 0, 2, 2, 3, 0, 0, 2, 1, 1, 1, 3, 0, 2, 1, 1, 1, 3, 1, 1, 1, 2, 1, 1, 1, 2, 1, 2, 2, 1, 1, 2, 1, 1, 3, 1, 3, 0, 3, 3, 2, 1, 3, 0, 0, 1, 3, 3, 1, 2, 0, 1, 3, 3, 1, 1, 0, 2, 2, 1, 0, 3, 2, 1, 1, 1, 1, 2, 1, 0, 0, 3, 2, 0, 3, 1, 1, 3, 2, 3, 3, 3, 3, 3, 0, 1, 1, 4, 1, 3, 0, 1, 0, 0, 1, 1, 2, 1, 1, 1, 1, 1, 3, 3, 1, 3, 2, 0, 2, 4, 0, 1, 1, 0, 1, 0, 0, 0, 2, 1, 2, 1, 0, 1, 0, 0, 1, 1, 0, 0, 0, 2, 1, 0, 3, 0, 0, 0, 3, 2, 0, 0, 1, 1, 0, 0, 1, 3, 0, 1, 3, 0, 1, 1, 0, 1, 2, 2, 2, 3, 1, 1, 1, 0, 0, 2, 1, 3, 1, 1, 3, 2, 0, 0, 0, 2, 0, 0, 1, 0, 1, 2, 1, 0, 1, 2, 1, 1, 1, 1, 1, 4, 0, 1, 1, 1, 0, 2, 0, 1, 0, 3, 1, 3, 3, 1, 1, 0, 2, 0, 1, 0, 3, 1, 4, 0, 1, 1, 1, 2, 1, 1, 2, 2, 3, 1, 1, 2, 3, 0, 2, 2, 1, 1, 3, 0, 0, 1, 3, 1, 0, 1, 0, 1, 2, 0, 2, 3, 3, 1, 3, 1, 1, 3, 3, 1, 1, 0, 1, 3, 3, 1, 1, 4, 0, 1, 2, 1, 1, 1, 1, 0, 0, 1, 2, 3, 0, 2, 2, 4, 0, 1, 0, 1, 1, 1, 3, 0, 2, 0, 1, 1, 1, 0, 3, 0, 3, 0, 0, 1, 3, 2, 0, 1, 1, 1, 0, 3, 0, 0, 3, 4, 0, 1, 3, 1, 3, 3, 3, 2, 0, 0, 1, 1, 3, 2, 1, 0, 0, 0, 2, 1, 2, 1, 1, 2, 0, 4, 1, 0, 1, 0, 1, 1, 0, 0, 2, 2, 1, 0, 2, 0, 1, 0, 0, 1, 1, 0, 0, 3, 3, 2, 1, 0, 1, 3, 0, 0, 2, 1, 3, 2, 0, 1, 1, 1, 0, 0, 0, 1, 1, 0, 0, 1, 0, 0, 3, 1, 2, 1, 1, 3, 0, 2, 0, 3, 2, 0, 0, 3, 0, 2, 1, 4, 0, 1, 1, 2, 0, 1, 1, 3, 1, 0, 1, 1, 1, 3, 1, 0, 4, 0, 2, 1, 1, 1, 1, 0, 3, 1, 3, 0, 3, 3, 0, 0, 0, 0, 2, 1, 1, 0, 1, 0, 1, 1, 1, 1, 1, 0, 1, 0, 0, 1, 4, 2, 1, 4, 1, 1, 4, 0, 0, 2, 1, 1, 1, 2, 3, 0, 1, 0, 1, 2, 2, 1, 1, 0, 0, 1, 1, 0, 2, 1, 0, 1, 1, 3, 1, 0, 3, 3, 1, 2, 0, 3, 3, 1, 1, 2, 0, 3, 2, 0, 1, 2, 1, 1, 1, 0, 1, 1, 3, 1, 1, 1, 4, 2, 0, 1, 1, 3, 0, 3, 1, 0, 0, 0, 3, 0, 0, 1, 2, 2, 1, 1, 0, 3, 1, 3, 2, 1, 1, 3, 0, 0, 1, 0, 1, 3, 0, 2, 1, 0, 2, 0, 0, 2, 3, 1, 1, 1, 3, 0, 1, 1, 3, 0, 0, 3, 1, 1, 1, 3, 2, 0, 1, 0, 1, 1, 0, 3, 3, 1, 1, 2, 1, 0, 0, 0, 3, 1, 3, 4, 2, 1, 1, 1, 2, 0, 1, 0, 0, 0, 0, 1, 1, 0, 0, 2, 3, 1, 0, 1, 0, 3, 0, 0, 3, 1, 2, 3, 0, 2, 1, 3, 0, 1, 2, 2, 1, 1, 0, 2, 0, 1, 3, 1, 1, 0, 2, 3, 3, 2, 1, 4, 0, 0, 0, 2, 3, 0, 0, 1, 1, 3, 2, 2, 2, 1, 0, 1, 3, 3, 0, 1, 1, 1, 0, 1, 1, 1, 1, 1, 1, 2, 1, 3, 1, 0, 2, 3, 1, 3, 1, 0, 0, 1, 1, 3, 1, 0, 0, 0, 3, 4, 3, 1, 1, 0, 1, 1, 2, 2, 1, 1, 1, 1, 0, 2, 0, 3, 2, 2, 1, 0, 1, 1, 1, 0, 1, 2, 2, 0, 1, 0, 1, 1, 4, 3, 1, 1, 2, 1, 0, 0, 1, 1, 1, 1, 1, 0, 3, 1, 0, 0, 0, 0, 3, 1, 1, 3, 1, 3, 1, 1, 2, 2, 1, 2, 0, 1, 0, 2, 3, 1, 1, 1, 1, 3, 2, 1, 0, 4, 1, 0, 2, 0, 0, 1, 0, 3, 2, 1, 1, 1, 0, 1, 3, 2, 3, 0, 1, 0, 1, 1, 1, 1, 3, 2, 0, 1, 1, 1, 0, 0, 1, 1, 1, 2, 0, 0, 1, 0, 1, 0, 0, 2, 4, 1, 3, 1, 1, 3, 1, 1, 0, 1, 2, 1, 0, 3, 1, 1, 1, 1, 1, 2, 1, 0, 1, 1, 3, 2, 1, 2, 0, 2, 1, 0, 3, 0, 0, 1, 0, 1, 1, 0, 0, 0, 1, 1, 1, 1, 0, 3, 1, 1, 1, 1, 1, 1, 1, 1, 1, 1, 3, 0, 1, 0, 1, 2, 1, 0, 3, 2, 0, 1, 1, 1, 1, 0, 4, 0, 2, 1, 0, 3, 1, 3, 0, 1, 0, 1, 0, 3, 2, 1, 1, 0, 0, 1, 4, 3, 0, 1, 1, 1, 0, 0, 3, 0, 1, 0, 2, 0, 1, 1, 0, 0, 1, 1, 3, 1, 0, 1, 1, 3, 1, 0, 0, 1, 1, 0, 0, 1, 3, 1, 3, 0, 2, 1, 0, 2, 1, 1, 0, 0, 0, 0, 3, 0, 1, 0, 1, 3, 1, 0, 3, 0, 2, 0, 1, 1, 0, 1, 0, 0, 1, 3, 0, 1, 1, 0, 2, 0, 0, 2, 1, 1, 1, 2, 1, 3, 0, 1, 0, 0, 0, 1, 1, 1, 1, 1, 2, 2, 2, 3, 2, 1, 3, 0, 2, 3, 2, 0, 1, 0, 1, 0, 2, 0, 1, 2, 1, 2, 0, 1, 0, 3, 2, 1, 0, 3, 3, 1, 0, 3, 4, 1, 3, 1, 0, 1, 1, 0, 1, 1, 1, 1, 1, 0, 3, 0, 0, 2, 1, 1, 3, 1, 2, 3, 1, 0, 1, 1, 3, 0, 3, 1, 1, 1, 3, 1, 1, 2, 0, 3, 1, 1, 0, 2, 1, 2, 1, 2, 1, 3, 1, 3, 1, 0, 1, 0, 1, 2, 3, 0, 3, 3, 1, 3, 4, 1, 2, 3, 0, 0, 0, 0, 0, 1, 4, 1, 0, 0, 1, 4, 1, 1, 0, 0, 1, 3, 3, 2, 1, 1, 0, 1, 3, 3, 4, 0, 1, 1, 1, 3, 3, 1, 3, 0, 1, 0, 0, 0, 0, 1, 1, 0, 0, 3, 0, 1, 0, 3, 1, 1, 1, 2, 1, 3, 0, 1, 1, 0, 1, 0, 1, 1, 2, 3, 2, 2, 1, 1, 2, 3, 1, 0, 3, 0, 3, 0, 1, 1, 2, 2, 2, 1, 1, 1, 1, 0, 1, 0, 2, 0, 3, 3, 3, 0, 2, 0, 1, 3, 4, 1, 0, 3, 1, 3, 3, 3, 2, 0, 0, 3, 1, 0, 3, 1, 0, 0, 1, 1, 0, 1, 1, 1, 1, 1, 2, 1, 1, 1, 2, 4, 2, 1, 1, 0, 1, 2, 3, 1, 0, 1, 1, 1, 1, 0, 1, 0, 0, 3, 0, 0, 2, 1, 1, 3, 1, 2, 0, 0, 0, 1, 1, 3, 4, 2, 1, 1, 1, 1, 1, 3, 1, 0, 0, 0, 0, 0, 2, 1, 2, 0, 3, 0, 2, 0, 1, 3, 2, 0, 2, 0, 1, 1, 0, 1, 1, 0, 0, 0, 0, 1, 3, 2, 1, 0, 1, 0, 2, 0, 1, 0, 3, 2, 1, 1, 0, 2, 2, 1, 1, 3, 1, 0, 1, 3, 0, 1, 1, 3, 1, 1, 4, 1, 0, 1, 1, 1, 1, 3, 0, 1, 0, 0, 0, 4, 1, 0, 4, 2, 1, 1, 0, 0, 4, 3, 0, 1, 1, 2, 2, 1, 3, 3, 1, 0, 3, 0, 0, 0, 1, 0, 1, 1, 1, 0, 1, 0, 3, 0, 1, 0, 3, 0, 0, 2, 1, 0, 0, 2, 3, 2, 1, 1, 1, 0, 1, 3, 0, 3, 1, 3, 1, 0, 2, 1, 1, 0, 1, 1, 2, 3, 4, 3, 1, 1, 1, 1, 0, 0, 3, 1, 1, 4, 0, 1, 0, 1, 1, 1, 0, 0, 1, 1, 2, 1, 0, 1, 2, 1, 0, 3, 1, 1, 1, 3, 0, 0, 2, 0, 1, 0, 0, 0, 3, 2, 0, 1, 0, 1, 1, 1, 0, 1, 1, 2, 1, 1, 1, 0, 0, 3, 2, 0, 1, 1, 1, 1, 1, 1, 1, 0, 1, 3, 2, 0, 3, 1, 0, 1, 3, 1, 3, 1, 0, 1, 1, 3, 1, 0, 1, 1, 0, 0, 1, 3, 2, 3, 2, 0, 3, 0, 1, 0, 1, 1, 1, 0, 2, 2, 1, 1, 1, 1, 1, 2, 3, 1, 1, 0, 1, 0, 1, 3, 0, 0, 1, 3, 1, 1, 0, 1, 3, 2, 1, 3, 0, 0, 0, 2, 0, 1, 0, 0, 1, 1, 0, 3, 2, 1, 3, 3, 1, 0, 0, 0, 1, 3, 3, 3, 3, 3, 3, 0, 3, 3, 0, 1, 1, 1, 0, 1, 2, 0, 2, 1, 1, 1, 1, 0, 3, 0, 1, 0, 0, 1, 3, 1, 3, 1, 2, 3, 0, 0, 1, 0, 0, 1, 2, 0, 1, 1, 1, 3, 1, 0, 1, 1, 0, 1, 1, 1, 2, 0, 0, 1, 3, 1, 1, 1, 3, 0, 3, 1, 3, 1, 1, 2, 2, 1, 2, 0, 1, 1, 1, 1, 1, 3, 4, 2, 2, 1, 1, 1, 2, 1, 1, 1, 1, 2, 0, 0, 1, 0, 3, 3, 0, 3, 3, 0, 3, 2, 0, 0, 1, 0, 0, 1, 2, 1, 0, 2, 2, 0, 1, 3, 1, 0, 0, 1, 1, 1, 1, 2, 2, 1, 3, 2, 0, 4, 1, 1, 1, 1, 1, 1, 1, 2, 0, 2, 0, 0, 1, 0, 1, 0, 1, 0, 3, 3, 1, 0, 1, 0, 1, 1, 3, 0, 2, 1, 3, 2, 0, 3, 0, 3, 1, 1, 0, 1, 0, 3, 1, 0, 1, 1, 1, 1, 0, 1, 0, 0, 1, 3, 3, 0, 1, 0, 1, 2, 1, 1, 1, 0, 1, 0, 0, 0, 1, 0, 0, 2, 3, 0, 0, 1, 0, 2, 3, 2, 2, 1, 4, 1, 1, 1, 4, 1, 1, 1, 1, 1, 0, 4, 1, 0, 1, 1, 0, 0, 0, 0, 1, 2, 2, 4, 1, 3, 2, 3, 1, 2, 2, 0, 1, 2, 0, 3, 0, 3, 0, 3, 0, 3, 1, 1, 2, 1, 1, 3, 3, 3, 3, 1, 0, 2, 1, 0, 0, 0, 3, 1, 1, 0, 2, 0, 1, 1, 3, 1, 2, 3, 1, 1, 0, 3, 3, 3, 0, 2, 2, 1, 1, 3, 0, 2, 1, 0, 0, 1, 2, 0, 1, 0, 1, 1, 1, 0, 1, 1, 3, 3, 1, 1, 2, 1, 3, 1, 0, 3, 0, 2, 0, 0, 1, 1, 2, 2, 1, 1, 0, 0, 1, 1, 0, 2, 1, 2, 0, 0, 3, 3, 3, 2, 1, 3, 1, 4, 3, 0, 1, 3, 1, 3, 3, 1, 2, 1, 2, 0, 3, 3, 0, 3, 3, 1, 0, 1, 2, 1, 2, 0, 1, 3, 1, 0, 1, 0, 0, 1, 0, 0, 2, 1, 3, 0, 3, 1, 1, 0, 3, 0, 1, 4, 1, 3, 1, 0, 3, 1, 0, 0, 0, 1, 1, 1, 2, 2, 1, 1, 0, 0, 1, 1, 1, 3, 0, 1, 2, 1, 1, 1, 0, 1, 1, 2, 1, 2, 0, 3, 1, 3, 0, 1, 0, 1, 0, 2, 0, 3, 3, 0, 3, 0, 2, 0, 0, 1, 1, 0, 1, 3, 3, 0, 1, 0, 3, 1, 3, 1, 0, 1, 3, 3, 0, 2, 0, 0, 0, 3, 0, 0, 2, 1, 0, 1, 1, 3, 2, 3, 2, 3, 3, 1, 1, 2, 0, 1, 1, 2, 2, 0, 1, 1, 3, 3, 2, 0, 1, 0, 1, 1, 0, 1, 0, 0, 1, 0, 1, 1, 2, 3, 1, 1, 0, 0, 0, 1, 2, 2, 0, 0, 0, 3, 1, 0, 0, 0, 2, 3, 3, 2, 3, 3, 0, 2, 3, 0, 1, 1, 3, 0, 3, 1, 1, 1, 2, 3, 3, 2, 0, 0, 1, 0, 2, 1, 0, 3, 3, 0, 0, 1, 1, 1, 1, 2, 1, 0, 0, 0, 0, 1, 1, 1, 1, 1, 1, 1, 1, 0, 2, 1, 1, 2, 2, 0, 0, 1, 1, 0, 0, 3, 0, 0, 1, 0, 0, 0, 4, 2, 1, 1, 1, 1, 0, 3, 1, 0, 1, 1, 0, 0, 3, 1, 0, 1, 0, 2, 1, 1, 1, 0, 3, 1, 2, 1, 0, 1, 4, 1, 1, 0, 0, 3, 0, 3, 1, 1, 1, 1, 1, 1, 4, 1, 3, 3, 1, 1, 3, 1, 0, 0, 1, 1, 4, 3, 1, 1, 0, 1, 3, 1, 1, 0, 1, 1, 2, 0, 2, 1, 1, 3, 1, 3, 1, 0, 2, 0, 2, 0, 2, 0, 3, 3, 0, 3, 3, 4, 3, 1, 3, 0, 3, 2, 3, 3, 0, 1, 2, 0, 2, 0, 0, 0, 0, 1, 2, 3, 1, 1, 0, 2, 2, 0, 0, 3, 1, 1, 0, 1, 0, 3, 1, 3, 1, 2, 1, 0, 1, 2, 0, 0, 2, 4, 1, 3, 2, 0, 1, 0, 2, 1, 1, 1, 3, 0, 0, 1, 1, 3, 1, 1, 1, 0, 0, 0, 4, 3, 0, 1, 1, 1, 2, 3, 0, 3, 0, 2, 1, 1, 1, 0, 0, 3, 3, 0, 0, 0, 0, 1, 2, 1, 0, 0, 3, 1, 3, 0, 0, 0, 1, 2, 2, 2, 2, 1, 0, 2, 3, 0, 2, 0, 1, 3, 2, 1, 1, 1, 0, 1, 1, 3, 3, 4, 1, 0, 1, 2, 3, 1, 0, 1, 0, 0, 3, 1, 1, 0, 1, 3, 0, 1, 3, 3, 0, 0, 1, 3, 1, 1, 1, 0, 1, 3, 0, 1, 2, 3, 3, 2, 1, 3, 3, 1, 0, 1, 3, 4, 2, 0, 0, 0, 1, 1, 0, 0, 0, 1, 1, 2, 1, 0, 0, 3, 0, 0, 3, 3, 2, 0, 2, 3, 1, 3, 1, 2, 1, 0, 0, 1, 3, 1, 4, 4, 1, 1, 0, 2, 1, 1, 1, 1, 1, 1, 1, 0, 0, 0, 2, 0, 0, 3, 3, 1, 1, 3, 1, 1, 0, 1, 0, 1, 1, 3, 0, 3, 1, 1, 1, 0, 1, 0, 1, 1, 0, 0, 3, 4, 1, 0, 3, 0, 3, 0, 1, 1, 3, 1, 4, 0, 1, 1, 2, 1, 2, 0, 3, 0, 3, 1, 0, 0, 0, 0, 1, 2, 1, 1, 0, 0, 3, 1, 1, 2, 0, 1, 1, 1, 3, 0, 1, 1, 1, 2, 0, 1, 3, 2, 1, 1, 3, 1, 2, 1, 1, 1, 1, 1, 0, 0, 0, 1, 4, 1, 1, 0, 3, 3, 1, 3, 0, 1, 0, 0, 2, 1, 0, 0, 2, 1, 3, 0, 1, 2, 1, 3, 3, 2, 3, 2, 1, 3, 0, 0, 0, 3, 1, 1, 1, 2, 3, 0, 1, 0, 1, 1, 3, 2, 2, 1, 2, 1, 3, 3, 3, 2, 0, 0, 3, 0, 3, 1, 1, 1, 3, 2, 3, 2, 0, 0, 3, 0, 1, 0, 1, 2, 0, 3, 0, 2, 0, 1, 2, 2, 1, 1, 1, 0, 1, 1, 0, 3, 1, 3, 1, 1, 0, 0, 0, 2, 1, 1, 1, 4, 1, 2, 2, 3, 1, 1, 2, 1, 1, 0, 3, 3, 3, 3, 1, 0, 2, 3, 0, 1, 1, 1, 0, 2, 3, 1, 3, 0, 2, 1, 1, 0, 2, 0, 2, 1, 0, 2, 1, 2, 1, 1, 1, 1, 1, 1, 0, 1, 2, 0, 0, 0, 1, 0, 0, 0, 3, 1, 2, 1, 1, 0, 0, 1, 1, 1, 0, 0, 0, 0, 1, 3, 0, 2, 1, 0, 1, 0, 0, 0, 1, 3, 1, 1, 0, 0, 1, 3, 0, 0, 0, 3, 0, 2, 1, 1, 3, 1, 0, 0, 1, 1, 1, 3, 0, 0, 0, 1, 3, 0, 0, 1, 0, 1, 0, 1, 3, 1, 1, 0, 1, 1, 0, 0, 4, 1, 1, 0, 0, 1, 2, 1, 0, 2, 0, 2, 0, 1, 1, 0, 1, 4, 1, 0, 1, 1, 1, 1, 1, 0, 0, 0, 0, 1, 1, 1, 0, 1, 1, 1, 3, 0, 2, 1, 1, 1, 0, 1, 2, 2, 0, 2, 1, 3, 0, 1, 0, 2, 3, 1, 0, 1, 1, 2, 0, 3, 3, 2, 1, 1, 1, 1, 3, 1, 1, 0, 3, 0, 2, 3, 1, 2, 1, 0, 2, 0, 0, 3, 1, 0, 1, 1, 2, 1, 2, 1, 3, 3, 0, 1, 3, 1, 3, 0, 0, 1, 2, 1, 0, 1, 1, 1, 0, 2, 3, 1, 1, 1, 1, 0, 0, 1, 0, 0, 2, 1, 0, 2, 1, 0, 1, 4, 1, 0, 0, 2, 1, 1, 3, 2, 1, 3, 0, 0, 1, 3, 1, 0, 1, 2, 0, 1, 1, 0, 0, 1, 0, 2, 1, 1, 1, 1, 4, 1, 2, 1, 1, 0, 2, 3, 1, 0, 2, 2, 3, 1, 0, 0, 1, 1, 0, 4, 1, 1, 0, 3, 3, 3, 1, 0, 0, 1, 2, 0, 1, 0, 1, 1, 4, 0, 0, 1, 2, 2, 1, 1, 0, 2, 1, 3, 0, 0, 2, 0, 0, 2, 1, 0, 0, 1, 3, 2, 1, 1, 0, 1, 0, 1, 0, 1, 1, 0, 2, 1, 1, 0, 2, 3, 3, 0, 2, 1, 1, 0, 1, 0, 0, 2, 4, 3, 1, 1, 0, 1, 2, 4, 1, 1, 2, 0, 1, 1, 4, 4, 4, 1, 3, 1, 0, 2, 0, 2, 0, 0, 0, 1, 1, 0, 1, 1, 3, 0, 3, 0, 1, 0, 1, 2, 1, 2, 2, 1, 0, 1, 1, 3, 2, 3, 1, 3, 1, 0, 1, 1, 0, 0, 0, 2, 3, 1, 1, 3, 1, 0, 2, 3, 0, 3, 1, 3, 2, 2, 2, 2, 2, 1, 1, 0, 0, 3, 2, 3, 0, 0, 1, 0, 0, 1, 1, 0, 2, 3, 0, 1, 1, 0, 1, 1, 0, 1, 0, 0, 3, 0, 0, 3, 0, 2, 2, 3, 1, 1, 3, 0, 2, 1, 2, 2, 2, 1, 0, 0, 0, 1, 1, 1, 0, 2, 1, 1, 3, 2, 3, 3, 0, 1, 1, 1, 1, 3, 1, 2, 2, 3, 1, 3, 0, 0, 1, 3, 1, 1, 1, 2, 1, 1, 1, 0, 0, 1, 2, 1, 1, 2, 0, 0, 1, 0, 3, 0, 2, 1, 1, 1, 1, 2, 1, 0, 1, 0, 3, 2, 2, 1, 1, 0, 3, 1, 3, 1, 3, 0, 0, 2, 1, 0, 1, 1, 0, 1, 3, 1, 4, 0, 1, 0, 0, 1, 1, 2, 1, 0, 3, 1, 0, 1, 1, 1, 1, 2, 0, 2, 2, 0, 4, 1, 0, 1, 1, 1, 3, 1, 1, 2, 1, 1, 1, 3, 2, 2, 1, 0, 0, 2, 1, 0, 0, 1, 2, 1, 1, 3, 0, 3, 0, 1, 0, 0, 0, 2, 1, 2, 2, 1, 1, 4, 1, 0, 3, 3, 1, 1, 1, 0, 3, 0, 0, 0, 1, 3, 0, 1, 1, 3, 3, 1, 3, 1, 1, 1, 1, 0, 2, 2, 0, 1, 0, 3, 4, 1, 0, 1, 1, 1, 1, 0, 2, 3, 0, 0, 1, 0, 1, 1, 1, 1, 3, 2, 0, 1, 2, 1, 3, 1, 1, 3, 2, 0, 2, 1, 3, 0, 1, 0, 3, 0, 0, 2, 1, 0, 1, 1, 0, 1, 2, 1, 0, 2, 0, 0, 4, 0, 0, 4, 0, 0, 0, 2, 1, 1, 1, 3, 1, 3, 1, 0, 0, 3, 0, 3, 0, 3, 1, 3, 2, 0, 1, 0, 3, 3, 1, 3, 0, 3, 1, 0, 1, 0, 1, 2, 2, 1, 1, 3, 0, 3, 0, 2, 1, 1, 1, 2, 3, 1, 0, 1, 0, 1, 1, 0, 0, 0, 1, 3, 1, 1, 1, 3, 1, 2, 1, 0, 1, 1, 0, 4, 3, 0, 3, 3, 0, 2, 1, 1, 2, 0, 3, 1, 3, 1, 0, 2, 0, 1, 3, 1, 1, 0, 0, 3, 3, 1, 3, 0, 3, 1, 1, 1, 0, 2, 0, 4, 0, 1, 1, 3, 1, 0, 2, 2, 1, 0, 0, 3, 3, 0, 2, 3, 0, 1, 3, 1, 0, 1, 0, 0, 1, 3, 0, 0, 1, 3, 0, 1, 2, 1, 2, 1, 0, 0, 1, 2, 3, 3, 0, 1, 0, 1, 0, 2, 1, 0, 1, 1, 1, 2, 1, 3, 1, 0, 2, 3, 1, 0, 0, 0, 3, 2, 1, 0, 0, 1, 1, 0, 1, 2, 0, 1, 1, 2, 0, 3, 1, 1, 1, 0, 1, 0, 1, 0, 3, 3, 4, 3, 3, 1, 1, 1, 1, 1, 0, 1, 3, 1, 4, 2, 1, 0, 2, 1, 1, 0, 0, 1, 0, 1, 0, 3, 0, 0, 1, 3, 4, 0, 1, 1, 0, 1, 0, 2, 1, 1, 1, 0, 3, 2, 1, 1, 1, 2, 1, 3, 2, 1, 1, 1, 1, 1, 1, 1, 3, 1, 0, 0, 1, 1, 0, 0, 1, 0, 3, 1, 3, 3, 1, 3, 1, 2, 2, 1, 0, 2, 3, 2, 2, 2, 0, 1, 0, 1, 3, 1, 0, 0, 1, 0, 2, 0, 2, 0, 1, 1, 0, 2, 3, 3, 1, 1, 3, 0, 3, 1, 2, 1, 0, 1, 1, 4, 0, 2, 0, 1, 1, 1, 0, 3, 1, 2, 1, 1, 1, 0, 0, 2, 1, 3, 1, 1, 1, 1, 0, 3, 1, 2, 0, 0, 2, 1, 2, 2, 3, 1, 1, 3, 3, 3, 3, 0, 1, 0, 1, 2, 1, 3, 1, 1, 1, 1, 2, 1, 2, 3, 3, 0, 1, 2, 0, 1, 1, 1, 4, 2, 1, 0, 1, 0, 1, 1, 2, 0, 3, 1, 1, 1, 0, 4, 3, 0, 2, 2, 1, 0, 1, 1, 1, 1, 1, 1, 3, 0, 1, 0, 2, 1, 2, 4, 1, 1, 1, 3, 0, 3, 0, 3, 3, 0, 1, 3, 3, 1, 1, 1, 1, 4, 2, 1, 1, 1, 3, 1, 1, 1, 2, 1, 1, 1, 2, 3, 0, 1, 3, 3, 0, 1, 1, 3, 0, 1, 2, 1, 0, 0, 1, 0, 3, 0, 1, 0, 1, 0, 0, 2, 0, 1, 0, 0, 1, 0, 1, 1, 3, 2, 0, 0, 3, 1, 0, 2, 1, 1, 1, 1, 1, 1, 0, 1, 3, 1, 0, 0, 1, 0, 3, 0, 1, 1, 0, 2, 1, 0, 2, 0, 1, 0, 3, 0, 0, 0, 0, 2, 2, 1, 1, 0, 0, 0, 3, 1, 0, 0, 1, 2, 2, 1, 2, 0, 3, 2, 1, 3, 3, 4, 2, 1, 1, 1, 1, 1, 1, 2, 1, 2, 2, 1, 1, 1, 2, 1, 1, 0, 3, 0, 0, 3, 1, 1, 1, 3, 1, 2, 1, 0, 1, 0, 0, 1, 3, 1, 0, 2, 0, 0, 3, 1, 0, 1, 1, 3, 0, 0, 2, 1, 0, 3, 3, 1, 1, 0, 3, 2, 1, 1, 1, 1, 2, 1, 2, 1, 1, 1, 1, 1, 0, 1, 1, 1, 0, 2, 0, 1, 2, 0, 3, 3, 0, 1, 3, 1, 3, 2, 0, 2, 3, 0, 0, 0, 1, 0, 1, 3, 3, 1, 0, 1, 2, 3, 0, 3, 0, 0, 0, 1, 0, 1, 0, 0, 3, 0, 4, 0, 1, 3, 1, 3, 0, 2, 2, 1, 0, 0, 0, 2, 2, 3, 3, 1, 0, 2, 0, 0, 0, 0, 0, 1, 2, 0, 1, 1, 0, 1, 1, 0, 0, 1, 1, 0, 2, 1, 1, 1, 0, 1, 2, 1, 0, 0, 3, 1, 0, 3, 1, 0, 1, 1, 1, 1, 3, 2, 4, 1, 1, 2, 1, 1, 1, 1, 3, 2, 2, 2, 2, 0, 0, 3, 2, 1, 0, 1, 2, 1, 1, 4, 4, 1, 3, 2, 3, 3, 1, 1, 3, 3, 1, 0, 1, 0, 3, 1, 1, 3, 2, 0, 2, 1, 1, 1, 1, 0, 2, 1, 3, 1, 0, 3, 0, 2, 1, 3, 0, 0, 3, 1, 0, 2, 1, 3, 1, 0, 1, 4, 1, 1, 3, 3, 3, 1, 1, 1, 1, 1, 3, 1, 3, 0, 1, 2, 4, 1, 1, 2, 1, 2, 1, 3, 1, 1, 1, 0, 1, 1, 3, 1, 1, 2, 3, 2, 3, 1, 1, 2, 0, 1, 0, 1, 0, 3, 1, 2, 0, 0, 4, 0, 3, 1, 2, 0, 1, 1, 3, 1, 3, 0, 0, 0, 2, 2, 3, 0, 0, 1, 1, 1, 3, 0, 1, 0, 0, 1, 1, 1, 1, 0, 1, 2, 1, 3, 1, 0, 0, 1, 0, 3, 0, 0, 0, 0, 3, 1, 0, 0, 3, 1, 1, 3, 3, 3, 1, 2, 3, 1, 1, 2, 0, 1, 1, 0, 1, 1, 2, 1, 0, 3, 0, 1, 0, 1, 0, 1, 0, 1, 3, 3, 1, 0, 1, 1, 1, 2, 1, 1, 2, 1, 1, 1, 3, 2, 1, 1, 3, 0, 1, 1, 0, 0, 1, 2, 0, 3, 1, 1, 1, 3, 0, 3, 2, 1, 1, 1, 0, 0, 2, 2, 0, 3, 3, 3, 1, 1, 2, 2, 3, 4, 3, 2, 0, 1, 0, 3, 0, 1, 3, 1, 1, 0, 0, 2, 1, 1, 1, 0, 0, 3, 1, 1, 4, 0, 3, 1, 0, 1, 0, 0, 0, 0, 2, 2, 3, 1, 1, 3, 1, 2, 3, 0, 1, 3, 2, 1, 0, 3, 0, 1, 2, 3, 2, 2, 0, 1, 0, 0, 0, 3, 3, 1, 0, 0, 1, 1, 2, 0, 0, 2, 0, 1, 1, 0, 0, 2, 1, 0, 3, 4, 1, 0, 1, 3, 0, 3, 0, 1, 3, 1, 0, 2, 0, 0, 1, 1, 3, 1, 1, 3, 1, 0, 1, 1, 1, 1, 0, 0, 1, 0, 1, 2, 0, 3, 0, 1, 2, 0, 1, 0, 0, 0, 0, 1, 1, 3, 1, 1, 0, 0, 3, 1, 0, 1, 1, 1, 1, 3, 1, 1, 1, 3, 3, 4, 0, 0, 1, 3, 2, 0, 0, 0, 1, 1, 1, 1, 0, 0, 0, 1, 0, 3, 0, 3, 3, 3, 3, 2, 3, 1, 1, 3, 2, 2, 3, 1, 0, 1, 3, 1, 1, 0, 1, 1, 0, 0, 4, 1, 1, 3, 0, 1, 3, 1, 1, 1, 1, 1, 1, 1, 1, 1, 1, 2, 1, 1, 1, 1, 0, 3, 1, 1, 4, 0, 1, 1, 1, 3, 3, 2, 3, 2, 1, 0, 1, 0, 1, 1, 0, 3, 2, 0, 2, 2, 1, 1, 1, 1, 1, 0, 1, 0, 0, 0, 1, 2, 1, 3, 1, 3, 1, 1, 2, 3, 0, 3, 1, 0, 0, 1, 2, 3, 1, 1, 3, 0, 2, 1, 1, 0, 1, 3, 2, 1, 2, 2, 1, 1, 1, 3, 2, 2, 3, 0, 1, 0, 3, 0, 1, 1, 0, 3, 2, 2, 0, 2, 1, 1, 1, 2, 4, 1, 1, 2, 0, 3, 1, 1, 1, 0, 0, 0, 2, 1, 3, 3, 2, 4, 1, 2, 1, 0, 0, 0, 1, 1, 0, 0, 1, 0, 1, 1, 3, 1, 1, 3, 1, 3, 0, 1, 0, 1, 0, 2, 0, 1, 1, 1, 0, 1, 0, 1, 1, 0, 0, 2, 1, 1, 1, 0, 0, 0, 0, 2, 1, 1, 1, 2, 3, 1, 1, 0, 1, 1, 1, 4, 0, 3, 2, 1, 0, 0, 3, 2, 0, 1, 2, 1, 1, 4, 1, 1, 2, 0, 2, 4, 1, 4, 2, 3, 1, 2, 1, 0, 1, 3, 3, 0, 0, 2, 0, 4, 0, 0, 4, 3, 3, 0, 1, 1, 1, 1, 0, 1, 1, 0, 1, 1, 1, 3, 0, 3, 0, 3, 0, 1, 3, 1, 0, 1, 2, 1, 0, 0, 1, 3, 1, 3, 2, 0, 1, 2, 0, 3, 4, 2, 2, 1, 0, 1, 1, 2, 3, 1, 3, 1, 2, 1, 2, 3, 1, 0, 0, 0, 1, 2, 1, 4, 3, 1, 0, 1, 1, 3, 1, 1, 0, 1, 1, 2, 1, 2, 0, 3, 1, 4, 0, 0, 1, 3, 1, 0, 1, 1, 0, 0, 3, 1, 1, 0, 0, 2, 0, 1, 1, 0, 0, 3, 2, 2, 0, 3, 4, 0, 1, 0, 1, 0, 0, 2, 1, 0, 1, 3, 1, 1, 0, 1, 0, 0, 2, 3, 2, 2, 3, 1, 2, 1, 1, 1, 2, 1, 1, 1, 1, 1, 2, 0, 3, 1, 1, 1, 2, 0, 1, 0, 4, 0, 2, 2, 1, 1, 4, 1, 1, 1, 0, 0, 2, 3, 3, 1, 3, 1, 0, 4, 0, 1, 2, 1, 3, 1, 0, 3, 0, 1, 2, 1, 0, 1, 1, 2, 3, 2, 2, 0, 0, 2, 1, 2, 1, 1, 3, 3, 0, 0, 2, 1, 1, 1, 1, 2, 1, 1, 1, 1, 1, 2, 0, 1, 1, 3, 0, 2, 2, 2, 0, 1, 0, 0, 2, 3, 2, 1, 2, 2, 1, 1, 1, 1, 2, 2, 1, 0, 0, 1, 1, 1, 3, 0, 0, 1, 3, 2, 0, 0, 1, 1, 1, 1, 1, 1, 1, 1, 2, 2, 0, 0, 1, 0, 2, 1, 1, 1, 2, 1, 1, 1, 0, 1, 1, 2, 4, 1, 0, 1, 1, 2, 3, 1, 3, 0, 0, 3, 2, 1, 1, 1, 0, 2, 2, 0, 0, 1, 1, 1, 0, 1, 3, 1, 0, 3, 3, 2, 0, 1, 1, 0, 2, 2, 1, 2, 0, 1, 1, 0, 1, 3, 1, 0, 1, 2, 0, 1, 1, 1, 1, 0, 3, 1, 0, 2, 1, 1, 4, 1, 4, 0, 0, 1, 1, 3, 1, 0, 3, 1, 1, 1, 0, 1, 0, 0, 0, 2, 2, 2, 0, 3, 1, 1, 0, 2, 0, 2, 1, 2, 0, 3, 1, 1, 2, 0, 3, 0, 2, 0, 1, 3, 3, 1, 1, 1, 0, 3, 3, 0, 2, 2, 1, 3, 0, 3, 0, 1, 1, 1, 3, 0, 1, 0, 3, 1, 0, 1, 1, 1, 1, 2, 4, 2, 3, 1, 1, 3, 2, 1, 0, 2, 2, 1, 1, 1, 1, 0, 1, 1, 0, 1, 2, 1, 2, 1, 1, 0, 0, 1, 0, 1, 0, 1, 0, 2, 3, 0, 0, 0, 1, 1, 1, 1, 0, 1, 1, 3, 1, 1, 3, 1, 1, 1, 0, 1, 1, 1, 0, 0, 1, 1, 3, 3, 1, 0, 0, 1, 0, 0, 2, 1, 2, 2, 3, 1, 1, 3, 2, 2, 0, 3, 0, 1, 0, 2, 1, 1, 2, 1, 0, 2, 1, 0, 0, 2, 0, 0, 0, 0, 1, 4, 3, 0, 0, 3, 1, 1, 0, 0, 4, 1, 0, 1, 1, 0, 0, 3, 0, 0, 1, 0, 0, 1, 0, 1, 0, 1, 1, 1, 0, 0, 0, 1, 2, 1, 3, 0, 0, 2, 0, 0, 0, 0, 0, 0, 0, 1, 1, 1, 1, 2, 1, 0, 1, 0, 1, 1, 0, 3, 2, 0, 1, 0, 0, 1, 0, 2, 2, 0, 2, 1, 0, 3, 1, 1, 1, 3, 0, 1, 3, 4, 1, 3, 1, 3, 2, 0, 0, 2, 0, 1, 2, 1, 1, 3, 0, 2, 0, 3, 0, 0, 3, 2, 3, 0, 1, 3, 2, 1, 1, 0, 1, 2, 1, 3, 1, 0, 1, 1, 0, 2, 1, 3, 3, 0, 0, 2, 3, 0, 0, 0, 2, 0, 1, 0, 0, 2, 1, 3, 1, 1, 1, 0, 1, 3, 3, 0, 1, 1, 2, 0, 0, 1, 3, 1, 0, 3, 2, 1, 0, 1, 1, 1, 0, 0, 0, 3, 1, 1, 3, 3, 1, 1, 3, 2, 3, 1, 1, 2, 0, 1, 3, 1, 2, 0, 0, 1, 4, 4, 0, 4, 0, 2, 1, 1, 0, 0, 1, 0, 2, 4, 1, 3, 1, 3, 1, 0, 3, 0, 3, 3, 0, 0, 4, 1, 2, 1, 1, 3, 4, 0, 0, 0, 0, 0, 2, 1, 1, 2, 2, 2, 1, 1, 1, 1, 3, 3, 1, 3, 0, 1, 2, 0, 1, 1, 0, 1, 1, 3, 3, 2, 2, 1, 3, 3, 3, 2, 0, 0, 2, 0, 3, 0, 2, 0, 1, 2, 3, 2, 1, 0, 3, 2, 1, 2, 1, 1, 1, 1, 1, 0, 1, 3, 0, 3, 1, 2, 1, 1, 1, 1, 1, 0, 3, 0, 0, 1, 1, 1, 1, 1, 0, 1, 0, 1, 1, 3, 1, 3, 1, 1, 1, 2, 1, 1, 3, 1, 2, 0, 0, 2, 0, 0, 0, 1, 0, 0, 1, 0, 3, 1, 0, 0, 1, 1, 0, 3, 1, 0, 3, 0, 3, 0, 1, 0, 3, 1, 2, 1, 1, 2, 1, 3, 2, 1, 0, 1, 3, 1, 0, 4, 0, 1, 2, 1, 0, 1, 1, 0, 0, 0, 3, 2, 3, 1, 2, 1, 3, 3, 0, 1, 3, 0, 1, 1, 3, 0, 4, 1, 2, 1, 3, 0, 1, 1, 0, 0, 3, 0, 0, 3, 2, 3, 1, 1, 3, 0, 0, 1, 3, 3, 0, 0, 0, 1, 1, 1, 1, 1, 1, 1, 0, 0, 2, 2, 3, 1, 1, 2, 1, 3, 0, 3, 1, 3, 1, 1, 0, 1, 0, 0, 3, 1, 1, 0, 4, 3, 1, 1, 3, 3, 1, 1, 0, 1, 0, 0, 1, 3, 4, 0, 0, 0, 1, 1, 2, 0, 0, 1, 3, 1, 0, 1, 0, 1, 1, 2, 3, 1, 3, 1, 1, 1, 1, 3, 1, 0, 0, 1, 0, 1, 0, 0, 1, 2, 2, 3, 3, 0, 4, 3, 4, 2, 1, 0, 2, 1, 2, 0, 3, 2, 0, 1, 1, 0, 2, 3, 2, 1, 1, 3, 1, 3, 1, 1, 1, 1, 1, 2, 0, 0, 0, 1, 0, 3, 0, 2, 0, 1, 3, 0, 3, 0, 2, 1, 1, 0, 3, 1, 2, 3, 3, 0, 1, 3, 3, 1, 0, 0, 1, 0, 2, 0, 3, 2, 0, 0, 1, 3, 2, 1, 1, 1, 0, 0, 2, 1, 1, 3, 2, 0, 0, 1, 3, 0, 1, 3, 0, 1, 1, 3, 2, 0, 1, 0, 0, 1, 0, 1, 1, 1, 0, 1, 3, 4, 1, 1, 2, 1, 0, 1, 2, 4, 0, 1, 0, 1, 1, 3, 1, 1, 1, 1, 1, 1, 1, 1, 1, 4, 3, 1, 3, 3, 3, 0, 0, 0, 1, 1, 1, 2, 1, 0, 3, 2, 1, 0, 0, 0, 1, 0, 2, 2, 1, 0, 2, 1, 3, 1, 3, 0, 0, 0, 0, 2, 4, 2, 1, 2, 0, 1, 0, 1, 1, 1, 0, 1, 1, 1, 0, 0, 1, 3, 3, 1, 3, 1, 0, 0, 1, 2, 1, 0, 0, 2, 0, 1, 2, 1, 2, 3, 1, 0, 0, 1, 1, 1, 1, 1, 3, 1, 3, 1, 3, 1, 1, 0, 2, 0, 3, 2, 1, 2, 0, 1, 1, 1, 0, 3, 1, 0, 1, 1, 1, 0, 2, 1, 1, 0, 0, 3, 3, 3, 1, 1, 0, 0, 1, 1, 0, 2, 1, 1, 1, 1, 1, 3, 1, 1, 1, 0, 0, 0, 4, 1, 3, 1, 0, 2, 1, 2, 1, 0, 2, 3, 1, 0, 1, 0, 1, 0, 1, 1, 0, 3, 1, 1, 2, 0, 1, 1, 2, 2, 0, 0, 3, 1, 0, 2, 1, 1, 1, 3, 1, 2, 3, 0, 1, 1, 1, 2, 0, 1, 1, 3, 0, 2, 3, 0, 0, 1, 1, 1, 2, 3, 2, 4, 1, 3, 0, 1, 2, 0, 1, 0, 0, 0, 1, 0, 1, 1, 3, 3, 2, 1, 1, 0, 1, 1, 1, 0, 0, 0, 3, 2, 1, 1, 1, 1, 0, 4, 0, 2, 1, 2, 0, 3, 4, 2, 1, 1, 0, 1, 0, 1, 1, 0, 0, 0, 1, 0, 1, 1, 1, 1, 1, 2, 1, 0, 1, 1, 0, 0, 1, 0, 0, 3, 4, 1, 3, 2, 0, 1, 4, 2, 3, 1, 1, 1, 2, 1, 1, 2, 2, 3, 2, 0, 2, 1, 3, 0, 1, 3, 2, 1, 0, 1, 1, 0, 1, 1, 3, 3, 2, 1, 0, 0, 0, 1, 2, 1, 0, 1, 0, 1, 0, 0, 0, 0, 1, 0, 1, 2, 2, 1, 0, 3, 1, 0, 1, 1, 2, 1, 2, 1, 2, 1, 3, 0, 1, 3, 1, 3, 1, 0, 3, 1, 1, 0, 0, 1, 1, 1, 0, 2, 1, 1, 1, 4, 0, 3, 1, 4, 3, 1, 1, 0, 1, 1, 0, 2, 2, 3, 3, 2, 3, 2, 1, 2, 2, 0, 0, 1, 1, 1, 3, 1, 0, 0, 1, 1, 0, 0, 1, 0, 0, 1, 0, 3, 3, 1, 1, 4, 1, 1, 1, 1, 1, 2, 1, 3, 3, 0, 2, 1, 1, 1, 0, 2, 1, 1, 2, 2, 1, 2, 1, 3, 4, 1, 3, 2, 1, 2, 1, 0, 3, 1, 0, 1, 4, 0, 3, 0, 2, 2, 0, 2, 0, 1, 0, 0, 3, 1, 1, 1, 0, 0, 0, 1, 1, 2, 1, 3, 2, 1, 0, 0, 0, 0, 1, 1, 1, 2, 3, 2, 2, 2, 1, 1, 0, 1, 2, 1, 0, 1, 0, 0, 2, 0, 3, 1, 0, 3, 1, 3, 3, 1, 3, 1, 3, 1, 1, 1, 1, 1, 1, 1, 0, 3, 1, 0, 1, 1, 1, 1, 0, 1, 0, 0, 1, 3, 2, 4, 4, 0, 2, 1, 1, 3, 1, 1, 0, 0, 0, 2, 0, 1, 0, 1, 1, 1, 3, 0, 1, 3, 1, 0, 3, 2, 4, 3, 2, 0, 0, 0, 1, 0, 1, 1, 1, 3, 1, 1, 2, 3, 3, 0, 3, 0, 2, 0, 0, 1, 1, 0, 2, 3, 1, 1, 2, 1, 0, 0, 2, 2, 1, 0, 1, 1, 0, 1, 1, 0, 0, 0, 1, 2, 0, 3, 0, 1, 0, 1, 0, 0, 1, 1, 1, 1, 4, 0, 1, 1, 1, 1, 1, 2, 0, 1, 4, 3, 0, 1, 4, 1, 1, 0, 0, 1, 0, 0, 2, 1, 1, 0, 1, 0, 1, 1, 0, 2, 3, 3, 1, 3, 0, 0, 1, 0, 1, 1, 0, 2, 1, 1, 0, 0, 1, 0, 2, 1, 1, 2, 0, 0, 3, 3, 0, 2, 1, 0, 0, 0, 4, 1, 0, 2, 0, 0, 0, 0, 1, 3, 1, 2, 1, 3, 1, 2, 1, 2, 3, 0, 1, 0, 0, 0, 2, 3, 1, 0, 0, 1, 0, 1, 2, 1, 1, 1, 2, 0, 0, 1, 0, 3, 1, 2, 0, 1, 2, 3, 1, 1, 1, 1, 0, 2, 3, 0, 1, 1, 1, 3, 1, 2, 2, 1, 0, 0, 1, 1, 3, 1, 2, 1, 2, 3, 0, 0, 1, 1, 0, 1, 1, 1, 0, 1, 0, 0, 1, 0, 3, 3, 2, 0, 1, 1, 2, 2, 1, 1, 1, 2, 0, 0, 1, 1, 1, 2, 0, 1, 0, 1, 0, 0, 1, 1, 3, 1, 0, 2, 4, 1, 1, 3, 1, 1, 2, 0, 0, 1, 1, 0, 0, 0, 3, 0, 0, 2, 1, 1, 1, 0, 1, 1, 0, 2, 1, 0, 4, 3, 1, 0, 0, 0, 0, 4, 3, 1, 2, 1, 0, 2, 0, 1, 1, 1, 0, 1, 3, 0, 1, 1, 0, 1, 1, 0, 4, 1, 1, 4, 1, 0, 1, 0, 3, 1, 1, 1, 0, 2, 0, 2, 1, 2, 1, 1, 3, 1, 3, 4, 3, 2, 1, 2, 1, 1, 2, 1, 0, 1, 0, 3, 1, 1, 0, 0, 4, 0, 3, 0, 0, 0, 0, 3, 3, 2, 3, 0, 1, 2, 1, 1, 3, 1, 0, 2, 2, 1, 1, 3, 1, 1, 2, 3, 2, 1, 0, 0, 1, 2, 1, 0, 1, 0, 3, 0, 0, 2, 3, 1, 1, 1, 3, 1, 2, 3, 0, 2, 0, 0, 2, 1, 1, 1, 1, 1, 0, 4, 0, 2, 1, 3, 3, 3, 1, 1, 3, 2, 0, 2, 2, 2, 3, 1, 1, 0, 2, 0, 1, 0, 1, 1, 1, 1, 1, 1, 0, 0, 3, 0, 0, 3, 0, 0, 1, 1, 2, 0, 0, 1, 0, 2, 2, 0, 1, 1, 0, 3, 3, 2, 0, 3, 0, 2, 1, 1, 1, 2, 1, 0, 1, 1, 0, 1, 3, 4, 1, 3, 0, 3, 1, 1, 0, 1, 0, 4, 3, 3, 2, 2, 0, 1, 3, 2, 1, 2, 1, 1, 2, 3, 2, 3, 1, 1, 3, 1, 3, 2, 2, 1, 2, 1, 1, 0, 0, 0, 3, 0, 3, 1, 1, 2, 0, 1, 0, 0, 0, 1, 2, 0, 0, 2, 1, 0, 1, 0, 3, 2, 1, 0, 2, 0, 2, 1, 1, 2, 1, 2, 2, 0, 1, 1, 0, 1, 1, 0, 0, 0, 2, 2, 3, 1, 1, 0, 1, 3, 1, 3, 2, 0, 3, 4, 3, 0, 1, 0, 3, 1, 4, 0, 1, 0, 3, 3, 2, 3, 3, 1, 1, 1, 1, 0, 0, 1, 2, 1, 0, 0, 1, 1, 0, 3, 0, 1, 1, 0, 1, 1, 1, 3, 0, 1, 0, 1, 1, 3, 2, 2, 1, 1, 1, 0, 2, 0, 1, 1, 2, 1, 1, 0, 0, 2, 1, 0, 3, 1, 1, 1, 4, 1, 0, 2, 0, 1, 0, 1, 1, 1, 3, 1, 2, 1, 1, 0, 1, 0, 0, 0, 1, 1, 1, 1, 1, 0, 3, 2, 1, 0, 0, 3, 0, 1, 1, 0, 3, 1, 0, 0, 1, 0, 1, 2, 1, 0, 1, 0, 0, 0, 2, 3, 1, 2, 1, 0, 3, 0, 0, 1, 1, 0, 1, 0, 1, 3, 1, 2, 0, 0, 3, 1, 3, 2, 1, 0, 0, 0, 0, 0, 1, 0, 3, 3, 0, 2, 0, 0, 2, 0, 1, 1, 1, 0, 2, 0, 0, 3, 2, 0, 0, 1, 1, 0, 1, 0, 0, 1, 0, 3, 1, 0, 3, 3, 2, 2, 0, 2, 2, 0, 1, 1, 3, 3, 1, 1, 1, 1, 0, 1, 0, 0, 0, 0, 2, 1, 1, 2, 1, 2, 0, 3, 1, 2, 0, 0, 0, 1, 3, 1, 1, 1, 0, 1, 1, 2, 0, 1, 3, 0, 1, 0, 0, 0, 1, 2, 1, 1, 2, 1, 2, 1, 3, 3, 2, 1, 1, 1, 2, 3, 3, 3, 0, 1, 1, 3, 0, 0, 1, 1, 1, 0, 1, 0, 2, 2, 1, 1, 3, 1, 2, 0, 1, 3, 1, 2, 0, 1, 0, 2, 1, 2, 1, 0, 1, 0, 3, 1, 0, 0, 0, 1, 1, 0, 1, 3, 1, 1, 1, 4, 3, 1, 1, 3, 1, 0, 0, 0, 3, 3, 3, 1, 0, 0, 1, 0, 0, 0, 3, 1, 1, 0, 1, 3, 1, 0, 1, 0, 0, 1, 3, 0, 1, 1, 3, 0, 1, 0, 1, 1, 1, 1, 0, 2, 0, 2, 3, 0, 3, 0, 0, 4, 0, 1, 1, 1, 3, 1, 1, 1, 2, 0, 1, 3, 0, 2, 3, 3, 2, 1, 3, 0, 3, 1, 0, 1, 2, 1, 2, 0, 0, 1, 1, 0, 0, 3, 3, 0, 2, 1, 3, 3, 1, 2, 3, 1, 3, 0, 0, 0, 1, 1, 1, 1, 3, 0, 3, 1, 1, 0, 2, 1, 0, 3, 1, 1, 1, 0, 0, 0, 1, 2, 0, 1, 1, 0, 1, 2, 1, 2, 1, 1, 1, 0, 1, 1, 3, 2, 2, 1, 1, 3, 2, 3, 1, 0, 4, 1, 1, 4, 0, 1, 1, 1, 1, 2, 3, 0, 0, 3, 1, 1, 3, 3, 0, 0, 2, 1, 0, 1, 0, 0, 0, 0, 1, 3, 1, 1, 3, 2, 1, 1, 0, 2, 3, 1, 1, 1, 1, 2, 0, 1, 1, 0, 1, 1, 3, 1, 1, 0, 1, 1, 2, 1, 0, 1, 2, 2, 0, 1, 3, 2, 0, 1, 3, 1, 1, 2, 3, 1, 0, 0, 3, 3, 0, 1, 0, 0, 0, 1, 1, 2, 0, 3, 1, 1, 3, 0, 1, 1, 1, 0, 0, 1, 0, 2, 1, 1, 1, 1, 2, 1, 1, 0, 1, 0, 1, 1, 0, 3, 0, 3, 0, 0, 2, 0, 2, 2, 1, 1, 1, 1, 1, 1, 1, 3, 2, 0, 1, 3, 0, 1, 3, 1, 1, 1, 1, 1, 1, 3, 2, 1, 0, 0, 1, 0, 3, 4, 2, 0, 0, 1, 0, 2, 2, 0, 1, 0, 3, 0, 0, 2, 1, 1, 1, 1, 2, 3, 3, 0, 4, 2, 1, 2, 2, 1, 0, 3, 3, 2, 3, 0, 0, 3, 3, 1, 1, 1, 1, 1, 2, 1, 1, 1, 0, 1, 1, 3, 1, 3, 0, 3, 1, 3, 0, 1, 2, 3, 1, 1, 0, 2, 2, 0, 3, 0, 1, 3, 0, 1, 1, 1, 2, 0, 2, 1, 3, 1, 2, 1, 1, 0, 2, 3, 1, 0, 1, 0, 0, 2, 2, 0, 1, 1, 1, 0, 2, 0, 4, 0, 3, 0, 0, 3, 2, 1, 1, 0, 0, 0, 2, 1, 1, 0, 1, 4, 0, 3, 3, 1, 1, 2, 0, 0, 0, 3, 0, 1, 0, 1, 1, 2, 1, 3, 1, 1, 1, 0, 1, 1, 3, 1, 2, 2, 3, 0, 0, 1, 3, 3, 0, 0, 3, 0, 0, 0, 0, 1, 2, 1, 3, 2, 1, 3, 3, 0, 2, 0, 3, 0, 3, 0, 3, 1, 1, 1, 1, 0, 1, 1, 1, 1, 0, 0, 0, 2, 0, 1, 1, 1, 1, 2, 0, 2, 3, 0, 1, 1, 2, 1, 1, 2, 1, 2, 0, 4, 0, 0, 3, 0, 3, 1, 3, 1, 2, 1, 0, 0, 3, 0, 1, 1, 1, 1, 1, 1, 1, 3, 1, 1, 0, 0, 0, 1, 3, 1, 0, 1, 1, 1, 0, 3, 0, 0, 1, 2, 3, 3, 1, 1, 1, 1, 3, 0, 2, 0, 1, 2, 1, 1, 2, 3, 0, 1, 3, 0, 0, 3, 0, 1, 2, 2, 0, 1, 0, 4, 3, 1, 1, 1, 1, 0, 1, 1, 3, 1, 2, 2, 1, 3, 1, 1, 0, 1, 3, 1, 0, 3, 2, 1, 1, 3, 1, 3, 1, 0, 0, 3, 1, 1, 3, 0, 1, 1, 2, 1, 2, 1, 1, 0, 0, 1, 1, 3, 1, 3, 1, 2, 1, 0, 0, 1, 4, 1, 1, 0, 3, 2, 0, 1, 0, 2, 2, 2, 1, 1, 3, 3, 0, 1, 3, 4, 1, 1, 2, 2, 1, 0, 3, 0, 0, 0, 1, 1, 1, 1, 1, 1, 0, 3, 1, 3, 2, 3, 2, 1, 1, 1, 1, 1, 3, 2, 1, 1, 2, 0, 0, 3, 1, 1, 0, 1, 3, 0, 1, 2, 1, 1, 0, 3, 0, 1, 0, 0, 0, 1, 0, 3, 0, 3, 3, 1, 0, 0, 0, 1, 3, 1, 0, 1, 4, 1, 2, 1, 1, 3, 1, 1, 2, 0, 1, 1, 0, 0, 1, 1, 1, 0, 0, 1, 3, 2, 1, 3, 0, 1, 1, 1, 1, 1, 0, 1, 3, 1, 3, 1, 0, 1, 0, 1, 1, 3, 1, 0, 0, 3, 0, 1, 1, 0, 1, 3, 1, 1, 1, 0, 3, 1, 0, 1, 0, 0, 1, 1, 0, 3, 1, 2, 3, 1, 1, 1, 3, 0, 1, 0, 1, 0, 1, 1, 1, 1, 0, 1, 0, 0, 1, 1, 2, 4, 4, 1, 0, 0, 2, 0, 1, 0, 3, 1, 1, 2, 3, 0, 1, 1, 0, 0, 0, 1, 2, 4, 1, 1, 1, 3, 1, 2, 1, 1, 3, 1, 0, 1, 3, 3, 0, 3, 3, 3, 3, 2, 1, 1, 4, 2, 3, 2, 2, 1, 1, 2, 4, 0, 3, 1, 3, 1, 0, 3, 0, 0, 3, 4, 1, 0, 2, 1, 1, 3, 2, 0, 0, 4, 2, 0, 2, 0, 1, 0, 0, 3, 1, 1, 0, 1, 1, 3, 3, 2, 1, 0, 1, 1, 0, 2, 1, 2, 0, 1, 1, 2, 0, 0, 1, 2, 3, 1, 1, 0, 1, 2, 2, 1, 1, 2, 1, 1, 1, 2, 1, 0, 3, 1, 3, 1, 3, 1, 0, 3, 3, 1, 1, 0, 1, 3, 2, 1, 1, 3, 0, 3, 0, 1, 1, 0, 0, 0, 1, 1, 3, 3, 3, 1, 0, 3, 0, 3, 1, 1, 2, 1, 3, 3, 2, 0, 1, 2, 0, 2, 3, 1, 3, 3, 0, 3, 1, 1, 1, 4, 3, 0, 0, 1, 1, 3, 2, 1, 2, 0, 1, 3, 1, 2, 0, 3, 2, 0, 3, 0, 1, 3, 0, 1, 0, 0, 2, 1, 3, 2, 2, 0, 0, 3, 2, 1, 1, 0, 0, 0, 1, 1, 0, 0, 3, 1, 2, 3, 2, 1, 1, 3, 2, 1, 2, 2, 1, 1, 1, 0, 0, 0, 3, 4, 1, 0, 0, 2, 1, 1, 0, 0, 3, 1, 0, 1, 0, 3, 1, 0, 1, 3, 3, 3, 1, 2, 2, 0, 3, 1, 1, 1, 1, 0, 1, 1, 1, 1, 3, 1, 1, 3, 1, 1, 0, 1, 3, 0, 0, 1, 3, 3, 1, 1, 2, 1, 1, 1, 0, 3, 1, 1, 3, 3, 1, 1, 1, 3, 3, 1, 2, 1, 3, 1, 1, 1, 1, 1, 1, 2, 0, 0, 1, 1, 2, 0, 1, 0, 3, 1, 3, 2, 1, 3, 0, 1, 2, 0, 0, 1, 1, 0, 1, 0, 1, 1, 0, 0, 3, 0, 2, 3, 0, 1, 1, 1, 3, 3, 2, 0, 1, 1, 0, 1, 1, 1, 1, 0, 2, 1, 1, 3, 0, 1, 1, 1, 1, 0, 1, 1, 3, 2, 1, 0, 0, 1, 0, 1, 1, 3, 1, 3, 0, 0, 0, 0, 0, 2, 1, 1, 0, 3, 1, 0, 1, 0, 0, 1, 0, 0, 1, 3, 1, 1, 0, 2, 0, 0, 0, 0, 1, 3, 3, 0, 2, 0, 0, 2, 0, 1, 0, 1, 0, 0, 2, 2, 4, 3, 1, 1, 1, 0, 0, 3, 1, 0, 1, 1, 2, 0, 3, 0, 3, 0, 0, 1, 0, 1, 1, 1, 3, 3, 1, 1, 3, 1, 0, 1, 3, 1, 4, 2, 3, 0, 1, 0, 2, 1, 1, 0, 3, 3, 0, 1, 3, 2, 1, 1, 0, 2, 3, 3, 1, 3, 1, 0, 1, 1, 0, 1, 1, 1, 2, 0, 0, 0, 1, 1, 3, 1, 3, 1, 0, 0, 1, 4, 1, 2, 2, 1, 1, 0, 2, 0, 3, 1, 3, 2, 0, 1, 3, 3, 4, 1, 4, 1, 1, 3, 2, 3, 0, 0, 1, 1, 1, 2, 1, 0, 1, 2, 3, 1, 0, 2, 3, 1, 0, 3, 3, 1, 1, 3, 1, 0, 1, 0, 3, 1, 3, 3, 2, 3, 0, 1, 2, 0, 3, 1, 1, 1, 1, 2, 1, 2, 3, 0, 0, 3, 3, 2, 1, 3, 1, 3, 3, 0, 2, 0, 2, 0, 0, 3, 1, 2, 1, 1, 3, 2, 2, 2, 0, 3, 1, 1, 1, 1, 1, 0, 1, 0, 1, 1, 0, 2, 0, 0, 2, 4, 1, 0, 1, 0, 1, 2, 1, 1, 0, 0, 0, 1, 0, 0, 3, 0, 0, 1, 0, 2, 3, 0, 1, 3, 1, 1, 0, 1, 1, 1, 1, 1, 1, 0, 2, 3, 0, 0, 0, 0, 1, 1, 1, 3, 3, 1, 1, 3, 1, 3, 0, 1, 1, 4, 2, 3, 3, 2, 0, 3, 0, 1, 0, 1, 0, 0, 1, 1, 1, 1, 0, 1, 3, 0, 0, 1, 1, 1, 2, 3, 3, 1, 1, 3, 0, 3, 3, 1, 3, 0, 0, 1, 2, 3, 1, 0, 1, 1, 0, 0, 0, 3, 0, 1, 4, 2, 1, 0, 1, 1, 0, 2, 3, 3, 3, 1, 1, 0, 3, 0, 1, 1, 1, 3, 1, 1, 1, 0, 1, 1, 0, 1, 0, 0, 1, 1, 3, 2, 1, 1, 1, 1, 0, 1, 1, 1, 1, 0, 2, 0, 4, 1, 0, 1, 2, 1, 0, 2, 1, 0, 1, 1, 3, 2, 0, 0, 0, 1, 1, 4, 0, 2, 1, 3, 1, 0, 0, 2, 0, 1, 1, 1, 1, 1, 1, 0, 2, 0, 4, 3, 1, 0, 0, 0, 2, 1, 1, 2, 1, 1, 0, 0, 1, 0, 2, 1, 0, 0, 0, 0, 3, 3, 0, 2, 1, 2, 1, 1, 2, 1, 0, 1, 0, 0, 1, 0, 1, 2, 4, 3, 2, 1, 1, 1, 1, 0, 1, 1, 3, 0, 3, 2, 1, 3, 1, 3, 2, 1, 1, 4, 3, 3, 3, 4, 1, 2, 1, 1, 1, 1, 0, 1, 2, 1, 2, 2, 4, 1, 0, 0, 1, 0, 3, 1, 2, 0, 0, 1, 3, 1, 2, 3, 0, 1, 1, 3, 1, 3, 1, 1, 1, 0, 1, 0, 3, 0, 4, 0, 3, 0, 3, 1, 3, 0, 3, 0, 3, 2, 3, 0, 1, 1, 1, 0, 1, 3, 2, 1, 1, 1, 1, 3, 1, 0, 1, 0, 0, 0, 0, 0, 1, 0, 1, 0, 3, 2, 2, 3, 0, 0, 2, 0, 2, 1, 1, 1, 1, 3, 0, 1, 3, 0, 0, 3, 0, 1, 3, 1, 2, 0, 2, 1, 1, 1, 0, 0, 3, 0, 2, 2, 0, 1, 1, 0, 0, 1, 0, 0, 3, 1, 0, 2, 1, 0, 0, 3, 3, 1, 1, 2, 0, 0, 3, 0, 1, 1, 2, 3, 1, 0, 0, 0, 1, 2, 1, 4, 2, 3, 1, 3, 2, 1, 0, 0, 0, 1, 0, 3, 1, 0, 2, 1, 1, 3, 2, 0, 0, 0, 1, 1, 1, 2, 1, 1, 0, 1, 2, 4, 1, 3, 0, 3, 1, 0, 3, 1, 3, 0, 1, 3, 0, 3, 1, 1, 1, 1, 1, 1, 1, 0, 1, 3, 1, 0, 0, 1, 3, 1, 0, 1, 3, 1, 0, 3, 2, 1, 1, 1, 1, 3, 0, 4, 1, 1, 3, 1, 1, 0, 1, 2, 0, 1, 3, 3, 0, 0, 1, 1, 1, 3, 1, 0, 1, 0, 3, 0, 1, 2, 1, 1, 1, 0, 1, 1, 0, 1, 0, 1, 0, 1, 2, 3, 3, 0, 3, 3, 1, 4, 0, 0, 2, 0, 1, 0, 0, 1, 2, 0, 2, 0, 2, 1, 1, 2, 2, 1, 2, 0, 1, 1, 1, 1, 1, 0, 0, 1, 1, 1, 2, 2, 1, 0, 2, 2, 1, 1, 1, 3, 2, 1, 2, 2, 1, 0, 2, 0, 1, 0, 0, 3, 1, 2, 3, 3, 0, 4, 2, 3, 1, 2, 4, 0, 2, 1, 0, 0, 3, 0, 1, 1, 0, 1, 2, 1, 0, 3, 1, 1, 1, 2, 1, 3, 1, 1, 1, 2, 2, 3, 2, 2, 3, 0, 3, 0, 0, 1, 4, 1, 1, 0, 0, 1, 1, 1, 1, 1, 0, 1, 1, 1, 0, 0, 2, 0, 3, 1, 1, 0, 0, 2, 0, 0, 4, 0, 1, 4, 0, 1, 1, 2, 1, 1, 0, 1, 0, 1, 1, 2, 3, 0, 1, 1, 4, 3, 1, 2, 1, 1, 0, 1, 1, 1, 0, 1, 1, 3, 1, 1, 0, 3, 2, 3, 1, 1, 0, 0, 3, 0, 1, 0, 1, 1, 1, 1, 2, 1, 1, 3, 3, 1, 3, 0, 0, 1, 1, 1, 0, 4, 1, 0, 3, 2, 0, 0, 0, 0, 1, 3, 0, 0, 1, 1, 1, 3, 3, 1, 1, 1, 1, 1, 1, 3, 3, 1, 2, 2, 1, 1, 0, 1, 0, 0, 2, 1, 1, 2, 2, 0, 0, 1, 1, 1, 3, 3, 2, 2, 0, 1, 0, 2, 0, 1, 3, 1, 0, 1, 0, 2, 3, 3, 0, 2, 0, 3, 4, 0, 0, 0, 0, 2, 1, 1, 0, 1, 1, 3, 1, 0, 2, 1, 3, 1, 0, 0, 2, 1, 1, 3, 2, 1, 1, 0, 1, 1, 0, 2, 4, 1, 2, 1, 1, 0, 0, 1, 0, 1, 2, 1, 0, 1, 1, 2, 2, 3, 1, 1, 1, 1, 3, 3, 1, 0, 3, 1, 2, 0, 2, 1, 1, 0, 2, 3, 2, 0, 0, 2, 1, 1, 0, 0, 0, 3, 0, 1, 1, 2, 1, 1, 3, 1, 2, 1, 0, 1, 3, 0, 2, 1, 1, 3, 0, 1, 3, 2, 3, 0, 1, 2, 4, 2, 2, 3, 1, 1, 3, 3, 0, 1, 0, 1, 1, 1, 2, 1, 1, 1, 1, 3, 1, 1, 1, 0, 1, 1, 1, 3, 3, 1, 1, 1, 1, 3, 1, 2, 0, 2, 2, 0, 0, 2, 0, 3, 3, 3, 1, 2, 0, 3, 1, 1, 0, 1, 3, 1, 1, 1, 3, 0, 0, 1, 0, 2, 1, 3, 0, 3, 0, 2, 2, 1, 1, 1, 2, 2, 0, 1, 4, 0, 2, 0, 3, 1, 0, 2, 0, 0, 0, 3, 2, 1, 0, 2, 3, 4, 1, 1, 3, 0, 1, 3, 0, 2, 0, 1, 2, 1, 0, 0, 3, 2, 1, 1, 1, 0, 3, 1, 1, 0, 2, 0, 1, 1, 1, 1, 0, 0, 1, 1, 3, 0, 2, 0, 2, 1, 1, 3, 3, 0, 0, 3, 0, 2, 2, 2, 1, 1, 1, 1, 1, 0, 1, 1, 0, 0, 1, 3, 1, 0, 1, 2, 3, 0, 0, 0, 0, 1, 1, 1, 1, 1, 0, 1, 1, 0, 1, 1, 1, 1, 0, 1, 2, 2, 1, 3, 1, 0, 0, 1, 0, 1, 1, 2, 1, 1, 1, 0, 1, 1, 0, 1, 1, 3, 0, 2, 2, 3, 1, 1, 0, 3, 3, 1, 1, 1, 2, 0, 4, 1, 1, 0, 4, 1, 0, 3, 0, 3, 3, 4, 3, 0, 0, 1, 1, 1, 1, 3, 0, 0, 1, 3, 2, 2, 0, 0, 0, 1, 3, 0, 3, 1, 3, 1, 1, 0, 1, 1, 0, 1, 1, 3, 2, 0, 3, 1, 0, 1, 1, 1, 1, 0, 0, 0, 1, 0, 0, 1, 1, 1, 2, 3, 1, 1, 1, 3, 1, 1, 2, 3, 1, 3, 0, 4, 1, 1, 1, 0, 1, 0, 2, 1, 1, 3, 1, 0, 0, 1, 1, 0, 1, 1, 3, 2, 2, 1, 1, 1, 0, 1, 0, 3, 2, 1, 1, 0, 0, 1, 1, 3, 1, 4, 3, 2, 0, 1, 1, 1, 0, 0, 2, 0, 2, 3, 0, 1, 3, 1, 0, 0, 3, 2, 0, 0, 1, 1, 3, 1, 1, 4, 4, 1, 1, 3, 1, 1, 1, 1, 1, 0, 1, 2, 3, 1, 0, 0, 1, 3, 1, 0, 0, 3, 0, 0, 1, 1, 1, 1, 1, 1, 4, 3, 1, 1, 1, 0, 2, 0, 1, 2, 0, 1, 3, 3, 1, 1, 1, 3, 0, 0, 1, 1, 0, 0, 1, 2, 0, 1, 0, 1, 1, 1, 1, 1, 0, 0, 2, 1, 1, 1, 1, 2, 0, 1, 1, 2, 1, 1, 1, 1, 1, 1, 0, 2, 0, 1, 0, 1, 1, 0, 0, 2, 0, 0, 2, 2, 0, 1, 0, 3, 1, 0, 1, 0, 3, 0, 1, 1, 0, 3, 0, 3, 3, 1, 0, 1, 1, 1, 1, 3, 1, 3, 2, 1, 0, 2, 3, 1, 3, 0, 2, 0, 2, 1, 0, 0, 0, 0, 1, 0, 1, 1, 0, 0, 3, 3, 1, 0, 1, 2, 0, 1, 4, 4, 0, 2, 3, 2, 1, 1, 2, 2, 2, 0, 1, 0, 2, 0, 3, 1, 3, 1, 1, 0, 3, 1, 3, 1, 2, 1, 1, 1, 0, 0, 3, 3, 3, 3, 1, 1, 1, 1, 1, 1, 0, 0, 0, 1, 1, 0, 1, 1, 2, 1, 0, 1, 3, 0, 1, 1, 0, 0, 1, 2, 1, 1, 3, 2, 0, 3, 1, 3, 1, 4, 1, 0, 1, 0, 0, 1, 0, 2, 1, 1, 3, 0, 2, 1, 2, 3, 1, 1, 0, 1, 1, 0, 3, 2, 1, 3, 3, 0, 0, 1, 1, 0, 3, 1, 2, 1, 1, 2, 1, 1, 3, 0, 3, 0, 0, 0, 1, 2, 3, 0, 1, 1, 3, 0, 1, 1, 1, 1, 0, 1, 0, 3, 0, 1, 2, 1, 1, 2, 0, 1, 3, 2, 0, 1, 3, 1, 1, 4, 1, 3, 2, 3, 4, 0, 1, 1, 0, 1, 0, 3, 2, 2, 3, 0, 1, 3, 3, 3, 0, 1, 2, 0, 0, 0, 0, 2, 2, 1, 0, 3, 1, 0, 3, 0, 1, 0, 1, 0, 2, 1, 2, 0, 0, 2, 2, 1, 3, 3, 4, 1, 2, 3, 3, 0, 0, 1, 4, 0, 1, 0, 1, 0, 1, 0, 0, 0, 2, 1, 1, 0, 1, 0, 1, 2, 0, 1, 0, 2, 2, 1, 1, 0, 1, 0, 3, 4, 1, 3, 3, 3, 1, 2, 2, 2, 2, 0, 1, 0, 1, 3, 1, 0, 1, 1, 2, 1, 3, 0, 3, 3, 3, 3, 0, 1, 1, 1, 0, 0, 3, 1, 1, 0, 1, 3, 1, 1, 3, 1, 0, 0, 1, 1, 0, 1, 1, 0, 1, 2, 1, 1, 2, 0, 1, 1, 0, 3, 1, 1, 0, 2, 1, 3, 1, 1, 0, 4, 1, 1, 1, 0, 0, 0, 1, 0, 1, 0, 1, 0, 2, 2, 1, 1, 1, 1, 0, 0, 3, 0, 1, 2, 1, 0, 0, 1, 1, 3, 3, 1, 1, 0, 3, 3, 3, 2, 3, 1, 1, 0, 0, 0, 1, 1, 4, 2, 1, 2, 1, 1, 1, 0, 0, 0, 0, 0, 1, 2, 1, 0, 2, 3, 1, 0, 1, 1, 3, 3, 1, 1, 0, 1, 3, 2, 1, 2, 2, 0, 3, 2, 0, 1, 1, 3, 3, 1, 2, 1, 1, 3, 3, 1, 3, 1, 0, 1, 1, 3, 0, 1, 1, 0, 4, 2, 0, 3, 1, 0, 2, 3, 1, 1, 0, 2, 2, 3, 1, 0, 0, 2, 0, 1, 1, 1, 3, 0, 1, 4, 4, 1, 0, 1, 1, 1, 3, 1, 1, 0, 1, 3, 1, 1, 0, 2, 0, 1, 2, 3, 1, 2, 1, 1, 0, 2, 1, 2, 1, 1, 1, 1, 3, 2, 0, 3, 1, 2, 0, 0, 0, 1, 1, 0, 1, 3, 1, 2, 3, 0, 3, 1, 1, 1, 1, 0, 1, 2, 2, 0, 1, 0, 1, 1, 2, 2, 1, 0, 2, 1, 2, 0, 1, 1, 1, 3, 2, 3, 1, 1, 0, 1, 0, 0, 1, 1, 1, 3, 1, 0, 0, 3, 1, 2, 1, 0, 1, 4, 0, 1, 1, 0, 1, 1, 1, 3, 3, 2, 0, 0, 0, 0, 0, 0, 0, 0, 1, 1, 2, 0, 2, 2, 4, 1, 0, 0, 1, 1, 0, 2, 2, 1, 1, 0, 3, 2, 0, 1, 2, 1, 1, 1, 1, 1, 1, 0, 1, 2, 1, 2, 1, 1, 2, 1, 0, 1, 2, 1, 1, 3, 3, 0, 1, 3, 2, 1, 1, 1, 1, 1, 0, 3, 2, 3, 0, 2, 1, 0, 1, 1, 1, 1, 1, 1, 0, 1, 1, 0, 3, 2, 1, 1, 0, 1, 3, 1, 1, 1, 2, 2, 2, 2, 0, 1, 3, 0, 1, 0, 2, 0, 0, 1, 1, 1, 4, 1, 1, 1, 3, 1, 0, 3, 2, 0, 1, 0, 3, 3, 0, 1, 0, 1, 0, 1, 0, 1, 1, 3, 3, 2, 1, 3, 0, 4, 0, 2, 0, 0, 0, 1, 3, 3, 0, 1, 1, 3, 1, 0, 0, 1, 0, 2, 0, 3, 0, 1, 1, 2, 1, 3, 1, 0, 0, 1, 1, 0, 0, 2, 1, 3, 3, 1, 3, 3, 1, 1, 2, 0, 0, 1, 0, 4, 2, 0, 0, 2, 0, 3, 1, 1, 2, 2, 2, 1, 3, 0, 2, 3, 0, 3, 2, 0, 1, 3, 1, 1, 1, 0, 1, 3, 1, 0, 0, 3, 0, 0, 0, 1, 3, 3, 0, 3, 3, 0, 2, 1, 2, 3, 1, 3, 1, 1, 0, 0, 0, 1, 0, 3, 1, 0, 0, 3, 4, 2, 1, 0, 1, 2, 1, 1, 2, 1, 3, 2, 1, 1, 1, 1, 2, 0, 1, 0, 1, 1, 3, 1, 1, 0, 0, 2, 1, 2, 3, 0, 3, 2, 1, 0, 1, 3, 1, 1, 1, 0, 1, 0, 1, 1, 2, 1, 3, 1, 0, 0, 1, 0, 0, 0, 1, 2, 3, 0, 1, 1, 1, 0, 0, 1, 4, 2, 3, 0, 3, 3, 1, 1, 3, 2, 1, 2, 1, 1, 1, 3, 2, 3, 3, 0, 1, 3, 1, 1, 0, 0, 1, 1, 3, 2, 1, 1, 1, 1, 3, 1, 0, 3, 3, 0, 1, 0, 0, 0, 2, 1, 1, 1, 1, 1, 2, 1, 1, 1, 2, 3, 0, 2, 0, 0, 3, 0, 2, 1, 0, 3, 0, 1, 4, 2, 1, 1, 3, 3, 2, 1, 0, 0, 1, 2, 1, 1, 1, 1, 3, 1, 0, 3, 2, 3, 1, 1, 1, 1, 2, 3, 1, 4, 3, 3, 2, 2, 3, 3, 2, 1, 1, 1, 3, 1, 1, 1, 0, 3, 0, 1, 1, 0, 1, 2, 1, 1, 3, 3, 1, 1, 3, 1, 0, 4, 0, 2, 1, 1, 1, 0, 2, 1, 3, 1, 2, 0, 1, 3, 0, 3, 0, 1, 1, 0, 1, 0, 0, 2, 0, 1, 1, 1, 1, 2, 3, 1, 2, 2, 2, 1, 0, 2, 1, 1, 0, 0, 1, 0, 0, 1, 1, 1, 3, 4, 1, 3, 1, 1, 1, 2, 0, 0, 1, 1, 1, 0, 1, 1, 1, 0, 3, 3, 1, 1, 3, 2, 1, 2, 1, 2, 0, 3, 1, 1, 0, 1, 0, 3, 3, 1, 2, 1, 1, 3, 2, 2, 0, 1, 1, 2, 1, 0, 0, 3, 3, 1, 3, 0, 1, 2, 1, 1, 2, 0, 3, 1, 1, 0, 1, 2, 0, 2, 1, 1, 2, 2, 1, 0, 3, 0, 2, 0, 1, 4, 1, 0, 0, 1, 0, 3, 0, 0, 1, 1, 3, 2, 0, 0, 1, 3, 0, 1, 0, 2, 1, 1, 3, 0, 4, 1, 2, 2, 0, 0, 2, 0, 1, 3, 1, 1, 0, 2, 0, 0, 1, 1, 3, 2, 0, 0, 1, 1, 0, 3, 1, 0, 2, 1, 1, 1, 1, 1, 1, 2, 0, 1, 3, 0, 2, 0, 1, 1, 1, 2, 0, 0, 3, 1, 0, 1, 0, 3, 1, 2, 3, 1, 1, 1, 1, 1, 1, 2, 2, 0, 0, 1, 1, 2, 0, 0, 2, 2, 1, 1, 1, 1, 1, 1, 1, 1, 3, 1, 0, 1, 3, 2, 1, 1, 2, 1, 3, 1, 1, 1, 1, 1, 3, 1, 1, 1, 3, 1, 1, 1, 0, 1, 0, 1, 1, 1, 2, 1, 3, 2, 1, 2, 0, 3, 1, 1, 0, 0, 2, 1, 1, 2, 2, 1, 3, 3, 1, 3, 2, 2, 0, 3, 1, 1, 1, 0, 3, 0, 1, 1, 2, 2, 2, 1, 0, 0, 3, 1, 0, 1, 1, 1, 1, 0, 3, 0, 3, 3, 4, 0, 0, 3, 1, 1, 2, 1, 0, 1, 0, 3, 1, 0, 1, 1, 1, 2, 1, 0, 2, 3, 1, 1, 0, 0, 0, 4, 0, 2, 1, 3, 1, 1, 1, 1, 0, 3, 1, 0, 4, 1, 0, 0, 1, 2, 0, 3, 1, 2, 1, 3, 1, 1, 0, 4, 1, 3, 1, 1, 1, 2, 3, 1, 3, 3, 0, 0, 2, 1, 1, 1, 1, 3, 0, 2, 0, 0, 3, 1, 2, 4, 1, 1, 1, 3, 1, 0, 0, 3, 0, 1, 1, 3, 0, 1, 2, 1, 1, 3, 3, 0, 1, 1, 1, 3, 1, 4, 1, 3, 1, 0, 0, 2, 0, 1, 1, 1, 1, 1, 1, 0, 0, 1, 1, 3, 1, 0, 1, 0, 1, 1, 0, 1, 1, 2, 0, 1, 0, 2, 4, 3, 1, 1, 3, 0, 2, 3, 1, 1, 1, 1, 0, 1, 3, 0, 1, 3, 1, 1, 3, 4, 3, 2, 1, 0, 3, 2, 3, 0, 0, 1, 1, 1, 2, 1, 3, 2, 2, 2, 2, 3, 1, 0, 1, 1, 1, 0, 1, 3, 3, 1, 1, 0, 0, 1, 1, 2, 1, 1, 1, 2, 1, 1, 3, 1, 3, 3, 0, 3, 0, 2, 0, 2, 1, 1, 3, 3, 2, 1, 3, 0, 1, 0, 1, 0, 1, 3, 4, 0, 2, 0, 2, 1, 3, 1, 3, 1, 1, 3, 1, 3, 0, 0, 3, 1, 3, 2, 2, 3, 1, 1, 1, 0, 3, 0, 1, 1, 4, 0, 0, 0, 1, 2, 1, 1, 3, 2, 4, 2, 1, 2, 1, 0, 1, 3, 0, 0, 3, 1, 2, 1, 1, 1, 0, 1, 0, 1, 3, 1, 2, 0, 2, 3, 0, 0, 1, 2, 3, 1, 0, 1, 1, 2, 3, 0, 3, 0, 3, 1, 0, 1, 3, 0, 1, 3, 2, 2, 1, 2, 4, 1, 1, 4, 0, 3, 1, 0, 3, 4, 1, 0, 0, 3, 1, 3, 1, 1, 1, 1, 0, 1, 2, 4, 1, 1, 0, 3, 3, 0, 1, 2, 2, 1, 1, 1, 3, 2, 1, 0, 2, 1, 3, 0, 1, 1, 1, 1, 1, 3, 1, 0, 2, 0, 0, 0, 2, 1, 1, 1, 0, 3, 1, 2, 2, 2, 3, 1, 2, 1, 2, 1, 0, 2, 1, 3, 0, 4, 1, 3, 1, 3, 1, 3, 0, 0, 3, 1, 1, 1, 2, 3, 2, 1, 3, 1, 0, 3, 2, 1, 2, 3, 3, 3, 2, 1, 0, 1, 1, 1, 0, 1, 2, 1, 3, 0, 1, 1, 0, 1, 1, 1, 0, 2, 3, 0, 1, 1, 3, 0, 1, 2, 2, 1, 0, 0, 3, 0, 1, 0, 0, 2, 3, 1, 1, 0, 1, 3, 1, 4, 2, 0, 1, 4, 1, 0, 1, 1, 1, 3, 3, 1, 2, 2, 2, 0, 3, 3, 3, 3, 0, 1, 0, 1, 0, 0, 0, 3, 0, 1, 2, 1, 1, 1, 0, 0, 3, 3, 0, 1, 1, 1, 1, 1, 0, 1, 1, 1, 0, 1, 0, 3, 0, 1, 1, 1, 3, 2, 3, 1, 3, 1, 0, 1, 3, 4, 1, 0, 0, 1, 4, 2, 0, 0, 0, 0, 1, 1, 1, 1, 0, 0, 2, 3, 1, 0, 1, 2, 1, 0, 1, 3, 3, 1, 1, 0, 1, 3, 0, 0, 0, 1, 0, 2, 1, 2, 2, 1, 2, 0, 1, 0, 3, 1, 0, 0, 3, 1, 0, 0, 1, 0, 0, 1, 3, 2, 0, 3, 3, 2, 0, 0, 0, 3, 1, 3, 1, 2, 0, 1, 3, 3, 3, 0, 3, 1, 1, 3, 1, 1, 2, 0, 1, 2, 0, 3, 0, 1, 2, 3, 0, 0, 3, 3, 1, 1, 1, 2, 0, 2, 1, 0, 1, 2, 0, 1, 1, 2, 0, 0, 2, 0, 0, 4, 0, 0, 0, 2, 0, 1, 2, 1, 0, 0, 1, 1, 3, 2, 2, 1, 3, 1, 1, 2, 1, 0, 3, 3, 1, 0, 3, 0, 1, 1, 0, 1, 1, 0, 0, 2, 1, 2, 3, 1, 1, 1, 1, 2, 1, 1, 2, 2, 0, 2, 2, 1, 0, 1, 0, 3, 1, 3, 1, 0, 1, 3, 1, 2, 1, 0, 0, 0, 2, 0, 1, 1, 0, 0, 3, 4, 1, 4, 0, 1, 3, 0, 1, 0, 1, 0, 1, 3, 0, 1, 1, 2, 1, 0, 1, 1, 1, 3, 1, 1, 1, 3, 3, 1, 0, 3, 1, 1, 0, 1, 3, 1, 0, 2, 2, 1, 0, 1, 3, 1, 1, 4, 0, 3, 2, 1, 2, 2, 3, 1, 1, 3, 1, 3, 0, 0, 2, 0, 0, 1, 1, 2, 1, 1, 0, 1, 0, 2, 1, 1, 1, 3, 1, 0, 1, 0, 1, 0, 0, 3, 1, 1, 3, 1, 1, 1, 3, 0, 2, 2, 3, 1, 3, 3, 0, 0, 0, 2, 1, 3, 0, 4, 0, 1, 1, 1, 1, 1, 3, 3, 1, 3, 3, 0, 0, 1, 0, 1, 4, 1, 0, 0, 3, 3, 1, 3, 1, 0, 2, 1, 3, 1, 1, 0, 0, 0, 0, 1, 0, 0, 1, 3, 0, 1, 3, 3, 1, 1, 0, 0, 0, 0, 2, 3, 0, 0, 2, 0, 2, 1, 1, 3, 1, 1, 0, 0, 1, 2, 1, 3, 1, 3, 0, 1, 1, 1, 0, 1, 1, 1, 0, 3, 1, 0, 2, 3, 1, 1, 3, 2, 1, 1, 1, 1, 1, 1, 0, 1, 3, 1, 3, 2, 3, 0, 0, 4, 1, 1, 1, 0, 1, 3, 1, 1, 1, 3, 0, 1, 0, 1, 1, 0, 0, 3, 1, 3, 1, 1, 1, 1, 2, 0, 0, 0, 1, 2, 3, 4, 3, 3, 3, 2, 1, 1, 1, 0, 2, 1, 1, 1, 1, 3, 0, 1, 0, 0, 1, 1, 1, 1, 2, 0, 1, 1, 0, 1, 0, 1, 1, 0, 2, 0, 0, 1, 2, 2, 2, 0, 1, 3, 1, 0, 1, 4, 2, 2, 2, 2, 1, 1, 3, 3, 3, 2, 3, 3, 0, 1, 2, 1, 1, 2, 0, 2, 2, 1, 0, 1, 1, 0, 1, 0, 1, 0, 3, 0, 2, 3, 3, 0, 2, 1, 1, 1, 3, 2, 1, 2, 1, 0, 3, 2, 2, 1, 1, 1, 2, 2, 0, 1, 0, 1, 1, 1, 3, 1, 1, 1, 1, 1, 0, 4, 2, 4, 1, 1, 0, 0, 0, 0, 2, 0, 3, 1, 2, 2, 1, 0, 3, 2, 1, 2, 1, 0, 0, 3, 0, 1, 4, 3, 3, 1, 1, 2, 3, 1, 0, 3, 1, 2, 1, 0, 1, 4, 3, 2, 3, 0, 1, 1, 1, 3, 1, 1, 3, 0, 1, 0, 2, 3, 3, 0, 2, 0, 0, 1, 1, 0, 3, 0, 2, 3, 1, 0, 3, 2, 1, 1, 1, 1, 1, 0, 0, 0, 0, 2, 0, 0, 3, 1, 3, 1, 3, 1, 3, 1, 3, 3, 0, 2, 1, 2, 2, 0, 3, 4, 3, 1, 1, 2, 3, 1, 1, 2, 3, 3, 0, 1, 0, 0, 1, 1, 1, 1, 0, 2, 0, 3, 0, 1, 0, 1, 4, 3, 0, 1, 0, 1, 1, 0, 3, 0, 1, 2, 2, 1, 1, 1, 0, 1, 3, 0, 2, 1, 3, 2, 1, 1, 0, 3, 3, 2, 1, 2, 1, 2, 3, 0, 1, 2, 0, 1, 1, 3, 3, 0, 0, 0, 1, 1, 1, 1, 1, 1, 0, 0, 3, 1, 1, 0, 2, 0, 0, 0, 1, 4, 2, 3, 0, 1, 0, 3, 1, 1, 1, 1, 3, 0, 0, 0, 1, 1, 2, 1, 0, 1, 1, 1, 3, 0, 1, 0, 0, 1, 1, 2, 2, 0, 1, 0, 3, 1, 1, 3, 1, 0, 2, 1, 0, 1, 0, 0, 1, 2, 1, 1, 3, 0, 1, 0, 1, 1, 1, 1, 1, 1, 0, 0, 2, 0, 2, 1, 1, 1, 1, 1, 3, 1, 1, 0, 3, 3, 1, 0, 3, 2, 0, 0, 1, 0, 0, 0, 2, 1, 3, 2, 1, 0, 3, 0, 2, 3, 0, 0, 0, 0, 3, 0, 1, 0, 1, 0, 0, 0, 3, 1, 1, 1, 3, 1, 3, 1, 0, 1, 2, 1, 1, 3, 1, 2, 2, 2, 0, 0, 1, 0, 0, 2, 1, 0, 2, 1, 2, 1, 2, 2, 2, 0, 1, 1, 1, 0, 3, 2, 2, 0, 0, 2, 1, 0, 1, 4, 3, 1, 1, 1, 1, 3, 3, 0, 2, 1, 3, 2, 1, 1, 2, 2, 2, 0, 0, 0, 3, 3, 0, 0, 1, 1, 1, 1, 3, 0, 1, 2, 1, 2, 0, 0, 0, 0, 0, 3, 0, 2, 1, 3, 1, 0, 3, 0, 1, 3, 1, 1, 1, 0, 1, 4, 1, 0, 0, 0, 1, 0, 0, 1, 1, 1, 1, 0, 1, 0, 2, 2, 1, 1, 0, 1, 1, 0, 1, 0, 2, 1, 1, 2, 0, 1, 1, 1, 1, 2, 0, 1, 1, 2, 0, 3, 1, 3, 1, 2, 1, 1, 1, 1, 3, 0, 2, 3, 2, 3, 0, 1, 3, 0, 0, 3, 1, 1, 3, 0, 1, 2, 3, 1, 1, 1, 3, 0, 0, 1, 1, 2, 1, 1, 0, 2, 2, 2, 1, 3, 2, 1, 2, 1, 4, 1, 2, 1, 1, 3, 0, 1, 1, 1, 3, 3, 3, 2, 1, 1, 0, 0, 1, 2, 1, 3, 1, 2, 0, 4, 1, 1, 1, 2, 1, 1, 3, 1, 1, 1, 1, 3, 4, 1, 0, 1, 0, 1, 3, 1, 3, 0, 3, 1, 0, 1, 0, 1, 1, 3, 2, 1, 0, 0, 2, 1, 3, 0, 1, 1, 3, 1, 2, 3, 0, 3, 1, 0, 1, 1, 1, 1, 1, 1, 0, 3, 3, 3, 1, 0, 0, 3, 1, 1, 1, 0, 1, 3, 1, 0, 1, 3, 1, 3, 1, 4, 0, 1, 3, 3, 1, 0, 0, 1, 1, 0, 0, 0, 0, 2, 3, 0, 2, 1, 1, 1, 1, 0, 2, 0, 0, 1, 0, 0, 1, 1, 2, 1, 3, 0, 0, 3, 1, 3, 1, 3, 1, 1, 3, 0, 1, 1, 3, 0, 1, 0, 3, 1, 2, 1, 1, 1, 1, 3, 0, 0, 1, 1, 3, 3, 1, 0, 1, 0, 0, 0, 1, 0, 0, 1, 2, 0, 1, 1, 0, 1, 3, 1, 1, 2, 1, 0, 0, 2, 1, 3, 0, 4, 1, 1, 1, 2, 1, 0, 0, 3, 3, 2, 1, 3, 0, 1, 0, 2, 0, 1, 0, 1, 1, 0, 1, 3, 1, 1, 1, 1, 1, 0, 3, 0, 0, 3, 1, 0, 0, 0, 1, 1, 1, 0, 2, 0, 0, 1, 3, 1, 1, 0, 3, 0, 2, 1, 0, 1, 0, 3, 1, 1, 3, 0, 4, 0, 0, 3, 0, 1, 4, 0, 1, 4, 1, 0, 1, 2, 0, 0, 3, 4, 1, 0, 1, 3, 2, 0, 1, 0, 0, 1, 3, 1, 1, 1, 2, 0, 0, 1, 0, 1, 0, 3, 0, 1, 2, 1, 0, 3, 1, 1, 2, 1, 1, 0, 2, 2, 1, 1, 1, 0, 1, 1, 0, 0, 0, 0, 0, 0, 2, 2, 0, 0, 1, 0, 1, 0, 0, 0, 2, 0, 3, 1, 0, 3, 1, 1, 1, 1, 2, 3, 1, 1, 0, 2, 3, 0, 1, 2, 2, 0, 1, 2, 3, 2, 3, 3, 0, 0, 0, 1, 4, 1, 1, 1, 1, 3, 1, 4, 2, 2, 1, 1, 2, 3, 1, 1, 1, 3, 2, 0, 3, 2, 0, 0, 0, 3, 2, 0, 3, 0, 2, 3, 0, 1, 0, 1, 1, 2, 2, 2, 0, 1, 1, 1, 1, 2, 1, 2, 3, 0, 1, 1, 0, 0, 0, 1, 3, 0, 1, 3, 2, 1, 3, 3, 0, 3, 3, 2, 1, 1, 1, 3, 1, 3, 0, 1, 1, 0, 0, 3, 2, 1, 1, 3, 1, 1, 0, 0, 1, 1, 1, 1, 0, 0, 0, 3, 1, 0, 3, 0, 0, 1, 1, 0, 1, 1, 1, 1, 2, 3, 0, 2, 2, 0, 3, 2, 0, 2, 4, 3, 0, 0, 1, 1, 1, 0, 1, 0, 1, 0, 0, 1, 3, 1, 0, 0, 0, 2, 1, 1, 0, 1, 2, 1, 3, 3, 1, 1, 0, 1, 2, 1, 0, 1, 1, 1, 2, 3, 0, 1, 0, 1, 1, 2, 3, 0, 0, 0, 1, 1, 1, 0, 3, 0, 1, 1, 1, 1, 2, 2, 0, 1, 0, 0, 1, 0, 0, 1, 1, 3, 1, 1, 2, 3, 1, 3, 1, 0, 3, 3, 0, 4, 2, 0, 0, 0, 3, 1, 1, 1, 3, 3, 1, 3, 0, 0, 1, 3, 0, 1, 1, 0, 3, 1, 3, 0, 1, 2, 1, 0, 1, 1, 3, 1, 0, 1, 0, 0, 0, 2, 1, 0, 3, 1, 0, 1, 0, 3, 2, 0, 2, 3, 1, 0, 1, 1, 1, 1, 0, 3, 1, 0, 1, 0, 1, 1, 0, 0, 3, 1, 0, 0, 0, 0, 3, 1, 2, 1, 1, 1, 1, 1, 1, 1, 1, 1, 1, 0, 1, 0, 0, 1, 0, 1, 1, 2, 1, 4, 1, 1, 1, 1, 3, 0, 2, 3, 2, 3, 1, 1, 0, 2, 3, 1, 1, 0, 0, 3, 3, 3, 0, 0, 1, 0, 0, 0, 2, 3, 0, 3, 1, 0, 3, 2, 0, 1, 2, 1, 2, 0, 3, 1, 1, 1, 0, 1, 1, 4, 1, 0, 2, 1, 3, 3, 1, 3, 3, 1, 0, 3, 3, 4, 2, 1, 0, 0, 2, 4, 1, 3, 1, 1, 0, 2, 0, 1, 1, 0, 3, 2, 0, 4, 1, 2, 3, 1, 1, 3, 2, 1, 0, 1, 2, 3, 1, 0, 0, 4, 0, 0, 2, 2, 1, 3, 1, 1, 1, 0, 0, 0, 1, 1, 0, 1, 0, 1, 1, 0, 0, 2, 0, 1, 4, 3, 2, 2, 0, 2, 3, 1, 1, 3, 2, 3, 1, 1, 2, 2, 1, 0, 3, 3, 1, 1, 0, 3, 0, 1, 1, 1, 0, 3, 1, 1, 3, 1, 0, 2, 0, 2, 3, 3, 1, 1, 3, 1, 1, 1, 0, 0, 3, 0, 1, 3, 3, 3, 1, 1, 1, 3, 2, 1, 2, 0, 0, 0, 3, 0, 1, 1, 1, 2, 2, 0, 4, 3, 0, 0, 3, 2, 0, 0, 0, 0, 3, 0, 1, 2, 2, 2, 3, 1, 3, 1, 1, 3, 0, 3, 3, 0, 1, 1, 1, 2, 0, 0, 0, 2, 0, 0, 0, 1, 2, 0, 3, 1, 1, 1, 2, 3, 3, 1, 3, 1, 1, 1, 0, 2, 2, 4, 1, 0, 1, 2, 1, 0, 1, 0, 2, 0, 1, 3, 3, 0, 0, 1, 0, 3, 1, 1, 1, 3, 1, 0, 0, 0, 0, 0, 0, 1, 0, 1, 2, 0, 2, 0, 0, 1, 1, 0, 1, 1, 2, 3, 3, 1, 4, 1, 3, 2, 0, 1, 1, 0, 3, 1, 1, 1, 3, 3, 1, 0, 0, 3, 1, 0, 0, 3, 1, 0, 1, 3, 2, 1, 0, 0, 1, 1, 0, 0, 2, 1, 2, 1, 1, 1, 0, 0, 0, 1, 1, 0, 0, 3, 1, 0, 0, 0, 1, 0, 3, 1, 2, 3, 0, 1, 1, 0, 0, 1, 1, 3, 1, 1, 3, 1, 1, 0, 0, 1, 0, 0, 1, 1, 1, 0, 0, 0, 3, 3, 1, 1, 1, 3, 0, 2, 1, 3, 3, 0, 2, 0, 0, 3, 0, 0, 2, 2, 4, 2, 1, 2, 0, 1, 0, 2, 1, 3, 1, 0, 0, 1, 0, 2, 2, 1, 2, 3, 2, 0, 0, 1, 1, 1, 0, 0, 1, 1, 0, 0, 1, 1, 3, 1, 3, 0, 2, 3, 0, 4, 4, 3, 1, 0, 1, 1, 1, 0, 1, 1, 3, 3, 3, 3, 1, 2, 1, 3, 2, 1, 1, 1, 1, 0, 2, 1, 0, 1, 3, 1, 1, 2, 1, 0, 1, 1, 3, 0, 0, 2, 3, 1, 0, 0, 1, 3, 1, 2, 2, 1, 3, 2, 0, 3, 1, 4, 2, 1, 1, 0, 1, 1, 2, 1, 1, 2, 1, 1, 0, 1, 0, 1, 0, 1, 2, 1, 1, 3, 2, 1, 0, 3, 3, 3, 0, 1, 1, 1, 3, 2, 2, 1, 2, 0, 1, 2, 0, 2, 1, 1, 1, 2, 0, 3, 1, 1, 0, 3, 2, 0, 2, 1, 0, 0, 2, 1, 3, 0, 1, 3, 1, 2, 0, 0, 3, 0, 1, 1, 0, 1, 1, 2, 0, 1, 2, 1, 0, 0, 1, 1, 1, 2, 4, 1, 2, 0, 0, 0, 1, 3, 1, 3, 0, 1, 3, 0, 2, 1, 4, 1, 1, 2, 2, 1, 1, 0, 2, 2, 2, 1, 0, 0, 1, 3, 1, 0, 1, 0, 1, 1, 2, 0, 0, 1, 0, 0, 3, 0, 1, 1, 3, 1, 3, 1, 1, 0, 1, 0, 1, 2, 0, 0, 3, 3, 3, 2, 1, 1, 3, 3, 1, 0, 0, 0, 0, 3, 2, 0, 1, 0, 1, 1, 1, 1, 1, 1, 0, 0, 0, 1, 1, 1, 2, 1, 2, 2, 0, 1, 1, 0, 1, 2, 1, 1, 3, 1, 0, 3, 3, 2, 1, 0, 0, 3, 1, 1, 3, 2, 0, 1, 3, 0, 1, 0, 3, 1, 3, 1, 1, 1, 3, 0, 1, 0, 1, 1, 1, 0, 1, 0, 1, 1, 3, 1, 1, 1, 1, 1, 1, 2, 1, 1, 0, 3, 3, 2, 3, 1, 2, 1, 0, 1, 3, 2, 2, 3, 1, 1, 3, 1, 2, 3, 2, 2, 0, 3]\n",
            "[0 2 1 ... 2 0 3]\n"
          ],
          "name": "stdout"
        }
      ]
    },
    {
      "cell_type": "code",
      "metadata": {
        "colab": {
          "base_uri": "https://localhost:8080/"
        },
        "id": "iT2OpcVpCovE",
        "outputId": "93354861-57b5-4553-a59e-8767d3406157"
      },
      "source": [
        "similar = 0\n",
        "for i in range(y_test.shape[0]):\n",
        "  if (result[i] == data_t[i]):\n",
        "    similar += 1\n",
        "\n",
        "accuracy = similar/test_y.shape[0]\n",
        "print(accuracy)"
      ],
      "execution_count": null,
      "outputs": [
        {
          "output_type": "stream",
          "text": [
            "0.9949990077396309\n"
          ],
          "name": "stdout"
        }
      ]
    },
    {
      "cell_type": "code",
      "metadata": {
        "colab": {
          "base_uri": "https://localhost:8080/",
          "height": 295
        },
        "id": "XQ8ANMJJY_ES",
        "outputId": "1d96d0ee-e638-4280-9e49-f0ab660f4912"
      },
      "source": [
        "plt.plot(['ANN1', 'ANN2', 'ANN3', 'EL'], [score[1], score2[1], score3[1], accuracy])\n",
        "#plt.plot([1, 2, 3, 3, 5])\n",
        "plt.title('Model accuracy')\n",
        "plt.ylabel('Accuracy')\n",
        "plt.xlabel('Model type')\n",
        "#plt.legend(['Model Type', 'Accuracy'], loc='upper left')\n",
        "plt.show()"
      ],
      "execution_count": null,
      "outputs": [
        {
          "output_type": "display_data",
          "data": {
            "image/png": "[encoded data removed]",
            "text/plain": [
              "<Figure size 432x288 with 1 Axes>"
            ]
          },
          "metadata": {
            "tags": [],
            "needs_background": "light"
          }
        }
      ]
    }
  ]
}